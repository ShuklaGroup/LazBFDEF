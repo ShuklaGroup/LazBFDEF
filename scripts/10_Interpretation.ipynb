{
  "cells": [
    {
      "cell_type": "code",
      "execution_count": 1,
      "metadata": {
        "colab": {
          "base_uri": "https://localhost:8080/"
        },
        "id": "W-eB1D-nQRYP",
        "outputId": "ff0c1c0e-dd39-4489-8ca9-1932a6c828d1"
      },
      "outputs": [
        {
          "name": "stdout",
          "output_type": "stream",
          "text": [
            "Requirement already satisfied: filelock in /usr/local/lib/python3.10/dist-packages (from transformers[torch]) (3.14.0)\n",
            "Requirement already satisfied: huggingface-hub<1.0,>=0.23.0 in /usr/local/lib/python3.10/dist-packages (from transformers[torch]) (0.23.1)\n",
            "Requirement already satisfied: numpy>=1.17 in /usr/local/lib/python3.10/dist-packages (from transformers[torch]) (1.25.2)\n",
            "Requirement already satisfied: packaging>=20.0 in /usr/local/lib/python3.10/dist-packages (from transformers[torch]) (24.0)\n",
            "Requirement already satisfied: pyyaml>=5.1 in /usr/local/lib/python3.10/dist-packages (from transformers[torch]) (6.0.1)\n",
            "Requirement already satisfied: regex!=2019.12.17 in /usr/local/lib/python3.10/dist-packages (from transformers[torch]) (2023.12.25)\n",
            "Requirement already satisfied: requests in /usr/local/lib/python3.10/dist-packages (from transformers[torch]) (2.31.0)\n",
            "Requirement already satisfied: tokenizers<0.20,>=0.19 in /usr/local/lib/python3.10/dist-packages (from transformers[torch]) (0.19.1)\n",
            "Requirement already satisfied: safetensors>=0.4.1 in /usr/local/lib/python3.10/dist-packages (from transformers[torch]) (0.4.3)\n",
            "Requirement already satisfied: tqdm>=4.27 in /usr/local/lib/python3.10/dist-packages (from transformers[torch]) (4.66.4)\n",
            "Requirement already satisfied: torch in /usr/local/lib/python3.10/dist-packages (from transformers[torch]) (2.3.0+cu121)\n",
            "Collecting accelerate>=0.21.0 (from transformers[torch])\n",
            "  Downloading accelerate-0.30.1-py3-none-any.whl (302 kB)\n",
            "\u001b[2K     \u001b[90m━━━━━━━━━━━━━━━━━━━━━━━━━━━━━━━━━━━━━━━━\u001b[0m \u001b[32m302.6/302.6 kB\u001b[0m \u001b[31m7.5 MB/s\u001b[0m eta \u001b[36m0:00:00\u001b[0m\n",
            "\u001b[?25hRequirement already satisfied: pyarrow>=12.0.0 in /usr/local/lib/python3.10/dist-packages (from datasets) (14.0.2)\n",
            "Requirement already satisfied: pyarrow-hotfix in /usr/local/lib/python3.10/dist-packages (from datasets) (0.6)\n",
            "Collecting dill<0.3.9,>=0.3.0 (from datasets)\n",
            "  Downloading dill-0.3.8-py3-none-any.whl (116 kB)\n",
            "\u001b[2K     \u001b[90m━━━━━━━━━━━━━━━━━━━━━━━━━━━━━━━━━━━━━━━━\u001b[0m \u001b[32m116.3/116.3 kB\u001b[0m \u001b[31m12.9 MB/s\u001b[0m eta \u001b[36m0:00:00\u001b[0m\n",
            "\u001b[?25hRequirement already satisfied: pandas in /usr/local/lib/python3.10/dist-packages (from datasets) (2.0.3)\n",
            "Collecting xxhash (from datasets)\n",
            "  Downloading xxhash-3.4.1-cp310-cp310-manylinux_2_17_x86_64.manylinux2014_x86_64.whl (194 kB)\n",
            "\u001b[2K     \u001b[90m━━━━━━━━━━━━━━━━━━━━━━━━━━━━━━━━━━━━━━━━\u001b[0m \u001b[32m194.1/194.1 kB\u001b[0m \u001b[31m7.5 MB/s\u001b[0m eta \u001b[36m0:00:00\u001b[0m\n",
            "\u001b[?25hCollecting multiprocess (from datasets)\n",
            "  Downloading multiprocess-0.70.16-py310-none-any.whl (134 kB)\n",
            "\u001b[2K     \u001b[90m━━━━━━━━━━━━━━━━━━━━━━━━━━━━━━━━━━━━━━━━\u001b[0m \u001b[32m134.8/134.8 kB\u001b[0m \u001b[31m4.4 MB/s\u001b[0m eta \u001b[36m0:00:00\u001b[0m\n",
            "\u001b[?25hRequirement already satisfied: fsspec[http]<=2024.3.1,>=2023.1.0 in /usr/local/lib/python3.10/dist-packages (from datasets) (2023.6.0)\n",
            "Requirement already satisfied: aiohttp in /usr/local/lib/python3.10/dist-packages (from datasets) (3.9.5)\n",
            "Requirement already satisfied: psutil in /usr/local/lib/python3.10/dist-packages (from accelerate>=0.21.0->transformers[torch]) (5.9.5)\n",
            "Requirement already satisfied: aiosignal>=1.1.2 in /usr/local/lib/python3.10/dist-packages (from aiohttp->datasets) (1.3.1)\n",
            "Requirement already satisfied: attrs>=17.3.0 in /usr/local/lib/python3.10/dist-packages (from aiohttp->datasets) (23.2.0)\n",
            "Requirement already satisfied: frozenlist>=1.1.1 in /usr/local/lib/python3.10/dist-packages (from aiohttp->datasets) (1.4.1)\n",
            "Requirement already satisfied: multidict<7.0,>=4.5 in /usr/local/lib/python3.10/dist-packages (from aiohttp->datasets) (6.0.5)\n",
            "Requirement already satisfied: yarl<2.0,>=1.0 in /usr/local/lib/python3.10/dist-packages (from aiohttp->datasets) (1.9.4)\n",
            "Requirement already satisfied: async-timeout<5.0,>=4.0 in /usr/local/lib/python3.10/dist-packages (from aiohttp->datasets) (4.0.3)\n",
            "Requirement already satisfied: typing-extensions>=3.7.4.3 in /usr/local/lib/python3.10/dist-packages (from huggingface-hub<1.0,>=0.23.0->transformers[torch]) (4.11.0)\n",
            "Requirement already satisfied: charset-normalizer<4,>=2 in /usr/local/lib/python3.10/dist-packages (from requests->transformers[torch]) (3.3.2)\n",
            "Requirement already satisfied: idna<4,>=2.5 in /usr/local/lib/python3.10/dist-packages (from requests->transformers[torch]) (3.7)\n",
            "Requirement already satisfied: urllib3<3,>=1.21.1 in /usr/local/lib/python3.10/dist-packages (from requests->transformers[torch]) (2.0.7)\n",
            "Requirement already satisfied: certifi>=2017.4.17 in /usr/local/lib/python3.10/dist-packages (from requests->transformers[torch]) (2024.2.2)\n",
            "Requirement already satisfied: sympy in /usr/local/lib/python3.10/dist-packages (from torch->transformers[torch]) (1.12)\n",
            "Requirement already satisfied: networkx in /usr/local/lib/python3.10/dist-packages (from torch->transformers[torch]) (3.3)\n",
            "Requirement already satisfied: jinja2 in /usr/local/lib/python3.10/dist-packages (from torch->transformers[torch]) (3.1.4)\n",
            "Collecting nvidia-cuda-nvrtc-cu12==12.1.105 (from torch->transformers[torch])\n",
            "  Using cached nvidia_cuda_nvrtc_cu12-12.1.105-py3-none-manylinux1_x86_64.whl (23.7 MB)\n",
            "Collecting nvidia-cuda-runtime-cu12==12.1.105 (from torch->transformers[torch])\n",
            "  Using cached nvidia_cuda_runtime_cu12-12.1.105-py3-none-manylinux1_x86_64.whl (823 kB)\n",
            "Collecting nvidia-cuda-cupti-cu12==12.1.105 (from torch->transformers[torch])\n",
            "  Using cached nvidia_cuda_cupti_cu12-12.1.105-py3-none-manylinux1_x86_64.whl (14.1 MB)\n",
            "Collecting nvidia-cudnn-cu12==8.9.2.26 (from torch->transformers[torch])\n",
            "  Using cached nvidia_cudnn_cu12-8.9.2.26-py3-none-manylinux1_x86_64.whl (731.7 MB)\n",
            "Collecting nvidia-cublas-cu12==12.1.3.1 (from torch->transformers[torch])\n",
            "  Using cached nvidia_cublas_cu12-12.1.3.1-py3-none-manylinux1_x86_64.whl (410.6 MB)\n",
            "Collecting nvidia-cufft-cu12==11.0.2.54 (from torch->transformers[torch])\n",
            "  Using cached nvidia_cufft_cu12-11.0.2.54-py3-none-manylinux1_x86_64.whl (121.6 MB)\n",
            "Collecting nvidia-curand-cu12==10.3.2.106 (from torch->transformers[torch])\n",
            "  Using cached nvidia_curand_cu12-10.3.2.106-py3-none-manylinux1_x86_64.whl (56.5 MB)\n",
            "Collecting nvidia-cusolver-cu12==11.4.5.107 (from torch->transformers[torch])\n",
            "  Using cached nvidia_cusolver_cu12-11.4.5.107-py3-none-manylinux1_x86_64.whl (124.2 MB)\n",
            "Collecting nvidia-cusparse-cu12==12.1.0.106 (from torch->transformers[torch])\n",
            "  Using cached nvidia_cusparse_cu12-12.1.0.106-py3-none-manylinux1_x86_64.whl (196.0 MB)\n",
            "Collecting nvidia-nccl-cu12==2.20.5 (from torch->transformers[torch])\n",
            "  Using cached nvidia_nccl_cu12-2.20.5-py3-none-manylinux2014_x86_64.whl (176.2 MB)\n",
            "Collecting nvidia-nvtx-cu12==12.1.105 (from torch->transformers[torch])\n",
            "  Using cached nvidia_nvtx_cu12-12.1.105-py3-none-manylinux1_x86_64.whl (99 kB)\n",
            "Requirement already satisfied: triton==2.3.0 in /usr/local/lib/python3.10/dist-packages (from torch->transformers[torch]) (2.3.0)\n",
            "Collecting nvidia-nvjitlink-cu12 (from nvidia-cusolver-cu12==11.4.5.107->torch->transformers[torch])\n",
            "  Downloading nvidia_nvjitlink_cu12-12.5.40-py3-none-manylinux2014_x86_64.whl (21.3 MB)\n",
            "\u001b[2K     \u001b[90m━━━━━━━━━━━━━━━━━━━━━━━━━━━━━━━━━━━━━━━━\u001b[0m \u001b[32m21.3/21.3 MB\u001b[0m \u001b[31m29.2 MB/s\u001b[0m eta \u001b[36m0:00:00\u001b[0m\n",
            "\u001b[?25hRequirement already satisfied: python-dateutil>=2.8.2 in /usr/local/lib/python3.10/dist-packages (from pandas->datasets) (2.8.2)\n",
            "Requirement already satisfied: pytz>=2020.1 in /usr/local/lib/python3.10/dist-packages (from pandas->datasets) (2023.4)\n",
            "Requirement already satisfied: tzdata>=2022.1 in /usr/local/lib/python3.10/dist-packages (from pandas->datasets) (2024.1)\n",
            "Requirement already satisfied: six>=1.5 in /usr/local/lib/python3.10/dist-packages (from python-dateutil>=2.8.2->pandas->datasets) (1.16.0)\n",
            "Requirement already satisfied: MarkupSafe>=2.0 in /usr/local/lib/python3.10/dist-packages (from jinja2->torch->transformers[torch]) (2.1.5)\n",
            "Requirement already satisfied: mpmath>=0.19 in /usr/local/lib/python3.10/dist-packages (from sympy->torch->transformers[torch]) (1.3.0)\n",
            "Installing collected packages: xxhash, nvidia-nvtx-cu12, nvidia-nvjitlink-cu12, nvidia-nccl-cu12, nvidia-curand-cu12, nvidia-cufft-cu12, nvidia-cuda-runtime-cu12, nvidia-cuda-nvrtc-cu12, nvidia-cuda-cupti-cu12, nvidia-cublas-cu12, dill, nvidia-cusparse-cu12, nvidia-cudnn-cu12, multiprocess, nvidia-cusolver-cu12, datasets, evaluate, accelerate\n",
            "Successfully installed accelerate-0.30.1 datasets-2.19.1 dill-0.3.8 evaluate-0.4.2 multiprocess-0.70.16 nvidia-cublas-cu12-12.1.3.1 nvidia-cuda-cupti-cu12-12.1.105 nvidia-cuda-nvrtc-cu12-12.1.105 nvidia-cuda-runtime-cu12-12.1.105 nvidia-cudnn-cu12-8.9.2.26 nvidia-cufft-cu12-11.0.2.54 nvidia-curand-cu12-10.3.2.106 nvidia-cusolver-cu12-11.4.5.107 nvidia-cusparse-cu12-12.1.0.106 nvidia-nccl-cu12-2.20.5 nvidia-nvjitlink-cu12-12.5.40 nvidia-nvtx-cu12-12.1.105 xxhash-3.4.1\n"
          ]
        }
      ],
      "source": [
        "!pip install transformers[torch] datasets evaluate"
      ]
    },
    {
      "cell_type": "code",
      "execution_count": 2,
      "metadata": {
        "cellView": "form",
        "id": "TQMNx2ZGNLcK"
      },
      "outputs": [],
      "source": [
        "#@title Load sequences\n",
        "# Imports\n",
        "import torch\n",
        "import random\n",
        "from tqdm import tqdm\n",
        "import numpy as np\n",
        "import pandas as pd\n",
        "from sklearn.metrics import r2_score\n",
        "from sklearn.svm import SVR\n",
        "from sklearn.decomposition import PCA\n",
        "from sklearn.model_selection import train_test_split\n",
        "from sklearn.metrics import mean_squared_error\n",
        "from sklearn.model_selection import KFold\n",
        "from sklearn.utils import resample\n",
        "import matplotlib.pyplot as plt\n",
        "import matplotlib.lines as mlines\n",
        "from scipy.stats import spearmanr\n",
        "from sklearn.metrics import ndcg_score\n",
        "from sklearn.svm import SVR\n",
        "from sklearn.linear_model import Ridge\n",
        "from sklearn.pipeline import make_pipeline\n",
        "from sklearn.preprocessing import StandardScaler, RobustScaler, MinMaxScaler, normalize\n",
        "from sklearn.model_selection import KFold\n",
        "from sklearn.utils import resample\n",
        "import matplotlib.pyplot as plt\n",
        "import matplotlib.lines as mlines\n",
        "import matplotlib.ticker as ticker\n",
        "from scipy.stats import spearmanr\n",
        "from scipy.stats import pearsonr\n",
        "from sklearn.metrics import ndcg_score\n",
        "from sklearn.kernel_ridge import KernelRidge\n",
        "from sklearn.svm import SVR, SVC\n",
        "from sklearn.linear_model import Ridge\n",
        "from sklearn.metrics.pairwise import cosine_similarity\n",
        "from sklearn.pipeline import make_pipeline\n",
        "from sklearn.preprocessing import StandardScaler, MinMaxScaler\n",
        "from transformers import AutoModelForSequenceClassification, Trainer, TrainingArguments, AutoTokenizer, AutoModelForMaskedLM, DataCollatorForLanguageModeling\n",
        "from datasets import Dataset\n",
        "from datasets import load_metric\n",
        "from evaluate import load\n",
        "from datasets import load_metric\n",
        "from transformers import RobertaTokenizer, RobertaModel, RobertaConfig\n",
        "device = torch.device(\"cuda\" if torch.cuda.is_available() else \"cpu\")\n",
        "\n",
        "# Load sequences from csv\n",
        "df = pd.read_csv('./drive/MyDrive/Data/LazBF_sequences.csv')\n",
        "LazBF_sequences = df['sequences'].tolist()\n",
        "LazBF_labels = df['labels'].tolist()\n",
        "\n",
        "df = pd.read_csv('./drive/MyDrive/Data/LazBF_sample.csv')\n",
        "LazBF_sample = df['sequences'].tolist()\n",
        "LazBF_sample_labels = df['labels'].tolist()\n",
        "\n",
        "df = pd.read_csv('./drive/MyDrive/Data/LazDEF_sequences.csv')\n",
        "LazDEF_sequences = df['sequences'].tolist()\n",
        "LazDEF_labels = df['labels'].tolist()\n",
        "\n",
        "df = pd.read_csv('./drive/MyDrive/Data/LazDEF_sample.csv')\n",
        "LazDEF_sample = df['sequences'].tolist()\n",
        "LazDEF_sample_labels = df['labels'].tolist()\n",
        "\n",
        "df = pd.read_csv('./drive/MyDrive/Data/LazBCDEF_sequences.csv')\n",
        "LazBCDEF_sequences = df['sequences'].tolist()\n",
        "LazBCDEF_labels = df['labels'].tolist()\n",
        "\n",
        "df = pd.read_csv('./drive/MyDrive/Data/LazBCDEF_sample.csv')\n",
        "LazBCDEF_sample = df['sequences'].tolist()\n",
        "LazBCDEF_sample_labels = df['labels'].tolist()"
      ]
    },
    {
      "cell_type": "code",
      "execution_count": 3,
      "metadata": {
        "colab": {
          "base_uri": "https://localhost:8080/",
          "height": 301,
          "referenced_widgets": [
            "7cbfc8963e444a909afe4b8913173bf2",
            "911c80b43ad84e58a77bba7bbf53d282",
            "29ef638bfaaa45e0bf566fabcf0a2ae4",
            "7c9c7f2a95df45b982535d139b8ff801",
            "71f34036bd9745078c1e3e900526687e",
            "008a6de21b7b4b448a34135b0e96e542",
            "d7547bd943de4dd78b06455166621448",
            "bc297601717540218cd60dfdc8a21061",
            "ddc1b520f2bf41f4a86ecb5818241725",
            "fc467752f78a48cbae8481dec12b3e7f",
            "18add5ef22e04a6f8d1df031f60f0bd1",
            "a2ec7afd679e43ee84aa8b8446f65255",
            "1881d382d36946b8b6ce9c86c93e8c26",
            "f8232b35cfce4668a937e55e3a6ed8bc",
            "584f8bcf1f4c432fafa7ca49168350a4",
            "841cf70db8c648219f17313b192247bd",
            "c0591288d19a496e982b213d62b66862",
            "4084e60c6fa94bb69bb81bbcaa57dca9",
            "5bf51def5b7a4a5a87873de5380574eb",
            "f5478a2fb9d84a1b94f430a2b37dfe7c",
            "0278e0c257974f57bdf3db613a66983d",
            "22ba0b29c2d2493d981f9b62049cdbda",
            "70533dd3aaba4300ab1db2560d8ecfaa",
            "873fe5261fb34abe94dca1c2afcf37b3",
            "ecd80ddf504f48649a53e0e8c5f3c8a5",
            "d459eb4683324660b060db36cdd9bb45",
            "e0352a00c40248b781c0e6f212eded41",
            "ff54d3060f194d0a9b5f8b914b7eab59",
            "fbba5b146c3143e8aec808a37e8963d1",
            "851816d484834f5889fd8797ff304b86",
            "d75e7443c533492cb87c4e0b4fb4c282",
            "827c86f1db4c438dbea00fa513d68fa5",
            "d7c9c69cc1b0445a84946a04390f09bd",
            "384433dee3404aabacb279273410de69",
            "07bc8e6a48e54d339b24c335d9700092",
            "6a77dbfef50b43ccb7b98e37ce7c89e3",
            "11036cc50d0e4e80a0be2acc8497fc23",
            "dafe1f1b9daf43aeb964aed939bf9bc0",
            "9b999eeebd904e40b5fbc36aec26d02e",
            "538491c98dba4994b7821ad1e6a841f4",
            "969074dce6624f33aa15f22fe9a472d1",
            "f72128fce27d4af5a140408e2f6cef0a",
            "8684d9a4cd86484ba32bee316d1ed452",
            "5698d7c63b414216a3ee17f524665e3a",
            "8cce27c19ddf4fc69467663790f573ad",
            "09a808c1c3fc488daa7786d0d6dfb3e5",
            "02adbc5efbb143c9b30d98491ae7b2e0",
            "960138905d7043358428cf91f5b0b137",
            "9bd92add094c49dc9d9f2044c996ea6e",
            "590b7a3a620a48b2be2f09b2fc5eb349",
            "b08b09a294f64e14814828431f703169",
            "ed7386bd35634a01b3eacabee6dda194",
            "c274b569815d4bd3bf0c017f49f192ba",
            "12b5e6ad6a24430fb4137ced65e0b09c",
            "9118c6056013418b87e996d45729910e"
          ]
        },
        "id": "wL6kQlwmORWS",
        "outputId": "6d71886b-3695-43d4-8d80-2d8f08573e64"
      },
      "outputs": [
        {
          "name": "stderr",
          "output_type": "stream",
          "text": [
            "/usr/local/lib/python3.10/dist-packages/huggingface_hub/utils/_token.py:89: UserWarning: \n",
            "The secret `HF_TOKEN` does not exist in your Colab secrets.\n",
            "To authenticate with the Hugging Face Hub, create a token in your settings tab (https://huggingface.co/settings/tokens), set it as secret in your Google Colab and restart your session.\n",
            "You will be able to reuse this secret in all of your notebooks.\n",
            "Please note that authentication is recommended but still optional to access public models or datasets.\n",
            "  warnings.warn(\n"
          ]
        },
        {
          "data": {
            "application/vnd.jupyter.widget-view+json": {
              "model_id": "7cbfc8963e444a909afe4b8913173bf2",
              "version_major": 2,
              "version_minor": 0
            },
            "text/plain": [
              "config.json:   0%|          | 0.00/833 [00:00<?, ?B/s]"
            ]
          },
          "metadata": {},
          "output_type": "display_data"
        },
        {
          "data": {
            "application/vnd.jupyter.widget-view+json": {
              "model_id": "a2ec7afd679e43ee84aa8b8446f65255",
              "version_major": 2,
              "version_minor": 0
            },
            "text/plain": [
              "model.safetensors:   0%|          | 0.00/2.61G [00:00<?, ?B/s]"
            ]
          },
          "metadata": {},
          "output_type": "display_data"
        },
        {
          "data": {
            "application/vnd.jupyter.widget-view+json": {
              "model_id": "70533dd3aaba4300ab1db2560d8ecfaa",
              "version_major": 2,
              "version_minor": 0
            },
            "text/plain": [
              "tokenizer_config.json:   0%|          | 0.00/95.0 [00:00<?, ?B/s]"
            ]
          },
          "metadata": {},
          "output_type": "display_data"
        },
        {
          "data": {
            "application/vnd.jupyter.widget-view+json": {
              "model_id": "384433dee3404aabacb279273410de69",
              "version_major": 2,
              "version_minor": 0
            },
            "text/plain": [
              "vocab.txt:   0%|          | 0.00/93.0 [00:00<?, ?B/s]"
            ]
          },
          "metadata": {},
          "output_type": "display_data"
        },
        {
          "data": {
            "application/vnd.jupyter.widget-view+json": {
              "model_id": "8cce27c19ddf4fc69467663790f573ad",
              "version_major": 2,
              "version_minor": 0
            },
            "text/plain": [
              "special_tokens_map.json:   0%|          | 0.00/125 [00:00<?, ?B/s]"
            ]
          },
          "metadata": {},
          "output_type": "display_data"
        }
      ],
      "source": [
        "LazBF_ft = AutoModelForSequenceClassification.from_pretrained('jjoecclark/LazBF_ESM2_ft').to(device)\n",
        "# LazDEF_ft = AutoModelForSequenceClassification.from_pretrained('jjoecclark/LazDEF_ESM2_ft').to(device)\n",
        "# LazBCDEF_ft = AutoModelForSequenceClassification.from_pretrained('jjoecclark/LazBCDEF_ESM_ft').to(device)\n",
        "tokenizer = AutoTokenizer.from_pretrained(\"facebook/esm2_t33_650M_UR50D\")"
      ]
    },
    {
      "cell_type": "code",
      "execution_count": 4,
      "metadata": {
        "colab": {
          "base_uri": "https://localhost:8080/"
        },
        "id": "szAHbIlQROxR",
        "outputId": "94163081-f377-4ed6-cbc8-fa98f7dc064b"
      },
      "outputs": [
        {
          "data": {
            "text/plain": [
              "EsmForSequenceClassification(\n",
              "  (esm): EsmModel(\n",
              "    (embeddings): EsmEmbeddings(\n",
              "      (word_embeddings): Embedding(33, 1280, padding_idx=1)\n",
              "      (dropout): Dropout(p=0.0, inplace=False)\n",
              "      (position_embeddings): Embedding(1026, 1280, padding_idx=1)\n",
              "    )\n",
              "    (encoder): EsmEncoder(\n",
              "      (layer): ModuleList(\n",
              "        (0-32): 33 x EsmLayer(\n",
              "          (attention): EsmAttention(\n",
              "            (self): EsmSelfAttention(\n",
              "              (query): Linear(in_features=1280, out_features=1280, bias=True)\n",
              "              (key): Linear(in_features=1280, out_features=1280, bias=True)\n",
              "              (value): Linear(in_features=1280, out_features=1280, bias=True)\n",
              "              (dropout): Dropout(p=0.0, inplace=False)\n",
              "              (rotary_embeddings): RotaryEmbedding()\n",
              "            )\n",
              "            (output): EsmSelfOutput(\n",
              "              (dense): Linear(in_features=1280, out_features=1280, bias=True)\n",
              "              (dropout): Dropout(p=0.0, inplace=False)\n",
              "            )\n",
              "            (LayerNorm): LayerNorm((1280,), eps=1e-05, elementwise_affine=True)\n",
              "          )\n",
              "          (intermediate): EsmIntermediate(\n",
              "            (dense): Linear(in_features=1280, out_features=5120, bias=True)\n",
              "          )\n",
              "          (output): EsmOutput(\n",
              "            (dense): Linear(in_features=5120, out_features=1280, bias=True)\n",
              "            (dropout): Dropout(p=0.0, inplace=False)\n",
              "          )\n",
              "          (LayerNorm): LayerNorm((1280,), eps=1e-05, elementwise_affine=True)\n",
              "        )\n",
              "      )\n",
              "      (emb_layer_norm_after): LayerNorm((1280,), eps=1e-05, elementwise_affine=True)\n",
              "    )\n",
              "    (contact_head): EsmContactPredictionHead(\n",
              "      (regression): Linear(in_features=660, out_features=1, bias=True)\n",
              "      (activation): Sigmoid()\n",
              "    )\n",
              "  )\n",
              "  (classifier): EsmClassificationHead(\n",
              "    (dense): Linear(in_features=1280, out_features=1280, bias=True)\n",
              "    (dropout): Dropout(p=0.0, inplace=False)\n",
              "    (out_proj): Linear(in_features=1280, out_features=2, bias=True)\n",
              "  )\n",
              ")"
            ]
          },
          "execution_count": 4,
          "metadata": {},
          "output_type": "execute_result"
        }
      ],
      "source": [
        "LazBF_ft.eval()\n",
        "# LazDEF_ft.eval()\n",
        "# LazBCDEF_ft.eval()"
      ]
    },
    {
      "cell_type": "code",
      "execution_count": null,
      "metadata": {
        "id": "f5kyZnohO4L2"
      },
      "outputs": [],
      "source": [
        "#@title Trainers\n",
        "training_args = TrainingArguments(\n",
        "    output_dir=\"esm_finetuned\",\n",
        "    evaluation_strategy=\"epoch\",\n",
        "    save_strategy=\"epoch\",\n",
        "    learning_rate=2e-4,\n",
        "    per_device_train_batch_size=128,\n",
        "    per_device_eval_batch_size=128,\n",
        "    num_train_epochs=2,\n",
        "    weight_decay=0.01,\n",
        "    push_to_hub=False,\n",
        "    fp16=True,\n",
        "    load_best_model_at_end=True,\n",
        "    gradient_accumulation_steps=2,\n",
        ")\n",
        "\n",
        "metric = load_metric('accuracy')\n",
        "\n",
        "def compute_metrics(eval_pred):\n",
        "    predictions, labels = eval_pred\n",
        "    predictions = np.argmax(predictions, axis=1)\n",
        "    return metric.compute(predictions=predictions, references=labels)\n",
        "\n",
        "LazBF_trainer = Trainer(\n",
        "    model=LazBF_ft,\n",
        "    args=training_args,\n",
        "    compute_metrics=compute_metrics\n",
        ")\n",
        "\n",
        "LazDEF_trainer = Trainer(\n",
        "    model=LazDEF_ft,\n",
        "    args=training_args,\n",
        "    compute_metrics=compute_metrics\n",
        ")\n",
        "\n",
        "LazBCDEF_trainer = Trainer(\n",
        "    model=LazBCDEF_ft,\n",
        "    args=training_args,\n",
        "    compute_metrics=compute_metrics\n",
        ")"
      ]
    },
    {
      "cell_type": "code",
      "execution_count": 10,
      "metadata": {
        "id": "VoxAtO1mPBbE"
      },
      "outputs": [],
      "source": [
        "lbf = Dataset.from_dict(tokenizer(LazBF_sample))\n",
        "lbf = lbf.add_column(\"labels\", LazBF_sample_labels)\n",
        "\n",
        "ldef = Dataset.from_dict(tokenizer(LazDEF_sample))\n",
        "ldef = ldef.add_column(\"labels\", LazDEF_sample_labels)\n",
        "\n",
        "lbcdef = Dataset.from_dict(tokenizer(LazBCDEF_sample, padding='longest'))\n",
        "lbcdef = lbcdef.add_column(\"labels\", LazBCDEF_sample_labels)"
      ]
    },
    {
      "cell_type": "code",
      "execution_count": 11,
      "metadata": {
        "colab": {
          "base_uri": "https://localhost:8080/",
          "height": 124
        },
        "id": "d1mEmri0PJkM",
        "outputId": "22e0d4a8-72d3-4627-b847-2b0dd8ee698f"
      },
      "outputs": [
        {
          "data": {
            "text/html": [
              "\n",
              "    <div>\n",
              "      \n",
              "      <progress value='391' max='391' style='width:300px; height:20px; vertical-align: middle;'></progress>\n",
              "      [391/391 01:25]\n",
              "    </div>\n",
              "    "
            ],
            "text/plain": [
              "<IPython.core.display.HTML object>"
            ]
          },
          "metadata": {},
          "output_type": "display_data"
        },
        {
          "data": {
            "text/plain": [
              "{'eval_loss': 0.01695972867310047,\n",
              " 'eval_accuracy': 0.99414,\n",
              " 'eval_runtime': 87.4507,\n",
              " 'eval_samples_per_second': 571.751,\n",
              " 'eval_steps_per_second': 4.471}"
            ]
          },
          "execution_count": 11,
          "metadata": {},
          "output_type": "execute_result"
        }
      ],
      "source": [
        "LazBF_trainer.evaluate(lbf)"
      ]
    },
    {
      "cell_type": "code",
      "execution_count": 12,
      "metadata": {
        "colab": {
          "base_uri": "https://localhost:8080/",
          "height": 124
        },
        "id": "6DFXPIgmPKRx",
        "outputId": "438b8b3f-7fa2-48b3-83a4-11415e39351d"
      },
      "outputs": [
        {
          "data": {
            "text/html": [
              "\n",
              "    <div>\n",
              "      \n",
              "      <progress value='782' max='391' style='width:300px; height:20px; vertical-align: middle;'></progress>\n",
              "      [391/391 03:01]\n",
              "    </div>\n",
              "    "
            ],
            "text/plain": [
              "<IPython.core.display.HTML object>"
            ]
          },
          "metadata": {},
          "output_type": "display_data"
        },
        {
          "data": {
            "text/plain": [
              "{'eval_loss': 3.6631252765655518,\n",
              " 'eval_accuracy': 0.50878,\n",
              " 'eval_runtime': 95.6676,\n",
              " 'eval_samples_per_second': 522.643,\n",
              " 'eval_steps_per_second': 4.087}"
            ]
          },
          "execution_count": 12,
          "metadata": {},
          "output_type": "execute_result"
        }
      ],
      "source": [
        "LazBF_trainer.evaluate(ldef)"
      ]
    },
    {
      "cell_type": "code",
      "execution_count": 13,
      "metadata": {
        "colab": {
          "base_uri": "https://localhost:8080/",
          "height": 124
        },
        "id": "hK40kT_uPLa2",
        "outputId": "88973e28-3ddd-47be-eaf1-b5928adf529a"
      },
      "outputs": [
        {
          "data": {
            "text/html": [
              "\n",
              "    <div>\n",
              "      \n",
              "      <progress value='1173' max='391' style='width:300px; height:20px; vertical-align: middle;'></progress>\n",
              "      [391/391 04:27]\n",
              "    </div>\n",
              "    "
            ],
            "text/plain": [
              "<IPython.core.display.HTML object>"
            ]
          },
          "metadata": {},
          "output_type": "display_data"
        },
        {
          "data": {
            "text/plain": [
              "{'eval_loss': 3.431755542755127,\n",
              " 'eval_accuracy': 0.52228,\n",
              " 'eval_runtime': 85.9272,\n",
              " 'eval_samples_per_second': 581.888,\n",
              " 'eval_steps_per_second': 4.55}"
            ]
          },
          "execution_count": 13,
          "metadata": {},
          "output_type": "execute_result"
        }
      ],
      "source": [
        "LazBF_trainer.evaluate(lbcdef)"
      ]
    },
    {
      "cell_type": "code",
      "execution_count": 14,
      "metadata": {
        "colab": {
          "base_uri": "https://localhost:8080/",
          "height": 124
        },
        "id": "1TJdRyrbPLa3",
        "outputId": "c8efd1cc-a3ee-43de-c077-f2ae0a014c9e"
      },
      "outputs": [
        {
          "data": {
            "text/html": [
              "\n",
              "    <div>\n",
              "      \n",
              "      <progress value='391' max='391' style='width:300px; height:20px; vertical-align: middle;'></progress>\n",
              "      [391/391 01:26]\n",
              "    </div>\n",
              "    "
            ],
            "text/plain": [
              "<IPython.core.display.HTML object>"
            ]
          },
          "metadata": {},
          "output_type": "display_data"
        },
        {
          "data": {
            "text/plain": [
              "{'eval_loss': 0.7584709525108337,\n",
              " 'eval_accuracy': 0.74968,\n",
              " 'eval_runtime': 86.6692,\n",
              " 'eval_samples_per_second': 576.906,\n",
              " 'eval_steps_per_second': 4.511}"
            ]
          },
          "execution_count": 14,
          "metadata": {},
          "output_type": "execute_result"
        }
      ],
      "source": [
        "LazDEF_trainer.evaluate(lbf)"
      ]
    },
    {
      "cell_type": "code",
      "execution_count": 15,
      "metadata": {
        "colab": {
          "base_uri": "https://localhost:8080/",
          "height": 124
        },
        "id": "Q5DIm7zQPL5M",
        "outputId": "f32cb3cd-5dc1-4092-b3b9-68f2e23a89cf"
      },
      "outputs": [
        {
          "data": {
            "text/html": [
              "\n",
              "    <div>\n",
              "      \n",
              "      <progress value='782' max='391' style='width:300px; height:20px; vertical-align: middle;'></progress>\n",
              "      [391/391 03:03]\n",
              "    </div>\n",
              "    "
            ],
            "text/plain": [
              "<IPython.core.display.HTML object>"
            ]
          },
          "metadata": {},
          "output_type": "display_data"
        },
        {
          "data": {
            "text/plain": [
              "{'eval_loss': 0.02696620114147663,\n",
              " 'eval_accuracy': 0.99196,\n",
              " 'eval_runtime': 96.767,\n",
              " 'eval_samples_per_second': 516.705,\n",
              " 'eval_steps_per_second': 4.041}"
            ]
          },
          "execution_count": 15,
          "metadata": {},
          "output_type": "execute_result"
        }
      ],
      "source": [
        "LazDEF_trainer.evaluate(ldef)"
      ]
    },
    {
      "cell_type": "code",
      "execution_count": 16,
      "metadata": {
        "colab": {
          "base_uri": "https://localhost:8080/",
          "height": 124
        },
        "id": "ix6BVUTePL5N",
        "outputId": "405cf1f2-99aa-478a-9754-d5871e89e225"
      },
      "outputs": [
        {
          "data": {
            "text/html": [
              "\n",
              "    <div>\n",
              "      \n",
              "      <progress value='1173' max='391' style='width:300px; height:20px; vertical-align: middle;'></progress>\n",
              "      [391/391 04:29]\n",
              "    </div>\n",
              "    "
            ],
            "text/plain": [
              "<IPython.core.display.HTML object>"
            ]
          },
          "metadata": {},
          "output_type": "display_data"
        },
        {
          "data": {
            "text/plain": [
              "{'eval_loss': 1.4165822267532349,\n",
              " 'eval_accuracy': 0.64324,\n",
              " 'eval_runtime': 86.8597,\n",
              " 'eval_samples_per_second': 575.641,\n",
              " 'eval_steps_per_second': 4.502}"
            ]
          },
          "execution_count": 16,
          "metadata": {},
          "output_type": "execute_result"
        }
      ],
      "source": [
        "LazDEF_trainer.evaluate(lbcdef)"
      ]
    },
    {
      "cell_type": "code",
      "execution_count": 17,
      "metadata": {
        "colab": {
          "base_uri": "https://localhost:8080/",
          "height": 124
        },
        "id": "Bkg_HI2xPSKt",
        "outputId": "b0df4b24-97d9-4c8a-cfb3-a0a2621c145b"
      },
      "outputs": [
        {
          "data": {
            "text/html": [
              "\n",
              "    <div>\n",
              "      \n",
              "      <progress value='391' max='391' style='width:300px; height:20px; vertical-align: middle;'></progress>\n",
              "      [391/391 01:26]\n",
              "    </div>\n",
              "    "
            ],
            "text/plain": [
              "<IPython.core.display.HTML object>"
            ]
          },
          "metadata": {},
          "output_type": "display_data"
        },
        {
          "data": {
            "text/plain": [
              "{'eval_loss': 1.046639084815979,\n",
              " 'eval_accuracy': 0.62616,\n",
              " 'eval_runtime': 86.7373,\n",
              " 'eval_samples_per_second': 576.453,\n",
              " 'eval_steps_per_second': 4.508}"
            ]
          },
          "execution_count": 17,
          "metadata": {},
          "output_type": "execute_result"
        }
      ],
      "source": [
        "LazBCDEF_trainer.evaluate(lbf)"
      ]
    },
    {
      "cell_type": "code",
      "execution_count": 18,
      "metadata": {
        "colab": {
          "base_uri": "https://localhost:8080/",
          "height": 124
        },
        "id": "oAgjdCtQPSKt",
        "outputId": "9a8cad36-f658-49e9-8c56-9434c7d00884"
      },
      "outputs": [
        {
          "data": {
            "text/html": [
              "\n",
              "    <div>\n",
              "      \n",
              "      <progress value='782' max='391' style='width:300px; height:20px; vertical-align: middle;'></progress>\n",
              "      [391/391 03:03]\n",
              "    </div>\n",
              "    "
            ],
            "text/plain": [
              "<IPython.core.display.HTML object>"
            ]
          },
          "metadata": {},
          "output_type": "display_data"
        },
        {
          "data": {
            "text/plain": [
              "{'eval_loss': 1.351431131362915,\n",
              " 'eval_accuracy': 0.58872,\n",
              " 'eval_runtime': 97.0778,\n",
              " 'eval_samples_per_second': 515.051,\n",
              " 'eval_steps_per_second': 4.028}"
            ]
          },
          "execution_count": 18,
          "metadata": {},
          "output_type": "execute_result"
        }
      ],
      "source": [
        "LazBCDEF_trainer.evaluate(ldef)"
      ]
    },
    {
      "cell_type": "code",
      "execution_count": 19,
      "metadata": {
        "colab": {
          "base_uri": "https://localhost:8080/",
          "height": 124
        },
        "id": "qdOZI3nHPSKu",
        "outputId": "23001b56-b9b8-47b4-ebee-354aee6ec1be"
      },
      "outputs": [
        {
          "data": {
            "text/html": [
              "\n",
              "    <div>\n",
              "      \n",
              "      <progress value='1173' max='391' style='width:300px; height:20px; vertical-align: middle;'></progress>\n",
              "      [391/391 04:29]\n",
              "    </div>\n",
              "    "
            ],
            "text/plain": [
              "<IPython.core.display.HTML object>"
            ]
          },
          "metadata": {},
          "output_type": "display_data"
        },
        {
          "data": {
            "text/plain": [
              "{'eval_loss': 0.12052178382873535,\n",
              " 'eval_accuracy': 0.95762,\n",
              " 'eval_runtime': 86.6017,\n",
              " 'eval_samples_per_second': 577.356,\n",
              " 'eval_steps_per_second': 4.515}"
            ]
          },
          "execution_count": 19,
          "metadata": {},
          "output_type": "execute_result"
        }
      ],
      "source": [
        "LazBCDEF_trainer.evaluate(lbcdef)"
      ]
    },
    {
      "cell_type": "markdown",
      "metadata": {
        "id": "6_qXOYa4PWLA"
      },
      "source": [
        "---"
      ]
    },
    {
      "cell_type": "code",
      "execution_count": 5,
      "metadata": {
        "colab": {
          "base_uri": "https://localhost:8080/"
        },
        "id": "3TVdOWwbVK6D",
        "outputId": "e27c880f-bab2-4d27-96fa-f3403ff28443"
      },
      "outputs": [
        {
          "name": "stdout",
          "output_type": "stream",
          "text": [
            "Collecting captum\n",
            "  Downloading captum-0.7.0-py3-none-any.whl (1.3 MB)\n",
            "\u001b[2K     \u001b[90m━━━━━━━━━━━━━━━━━━━━━━━━━━━━━━━━━━━━━━━━\u001b[0m \u001b[32m1.3/1.3 MB\u001b[0m \u001b[31m13.1 MB/s\u001b[0m eta \u001b[36m0:00:00\u001b[0m\n",
            "\u001b[?25hRequirement already satisfied: matplotlib in /usr/local/lib/python3.10/dist-packages (from captum) (3.7.1)\n",
            "Requirement already satisfied: numpy in /usr/local/lib/python3.10/dist-packages (from captum) (1.25.2)\n",
            "Requirement already satisfied: torch>=1.6 in /usr/local/lib/python3.10/dist-packages (from captum) (2.3.0+cu121)\n",
            "Requirement already satisfied: tqdm in /usr/local/lib/python3.10/dist-packages (from captum) (4.66.4)\n",
            "Requirement already satisfied: filelock in /usr/local/lib/python3.10/dist-packages (from torch>=1.6->captum) (3.14.0)\n",
            "Requirement already satisfied: typing-extensions>=4.8.0 in /usr/local/lib/python3.10/dist-packages (from torch>=1.6->captum) (4.11.0)\n",
            "Requirement already satisfied: sympy in /usr/local/lib/python3.10/dist-packages (from torch>=1.6->captum) (1.12)\n",
            "Requirement already satisfied: networkx in /usr/local/lib/python3.10/dist-packages (from torch>=1.6->captum) (3.3)\n",
            "Requirement already satisfied: jinja2 in /usr/local/lib/python3.10/dist-packages (from torch>=1.6->captum) (3.1.4)\n",
            "Requirement already satisfied: fsspec in /usr/local/lib/python3.10/dist-packages (from torch>=1.6->captum) (2023.6.0)\n",
            "Requirement already satisfied: nvidia-cuda-nvrtc-cu12==12.1.105 in /usr/local/lib/python3.10/dist-packages (from torch>=1.6->captum) (12.1.105)\n",
            "Requirement already satisfied: nvidia-cuda-runtime-cu12==12.1.105 in /usr/local/lib/python3.10/dist-packages (from torch>=1.6->captum) (12.1.105)\n",
            "Requirement already satisfied: nvidia-cuda-cupti-cu12==12.1.105 in /usr/local/lib/python3.10/dist-packages (from torch>=1.6->captum) (12.1.105)\n",
            "Requirement already satisfied: nvidia-cudnn-cu12==8.9.2.26 in /usr/local/lib/python3.10/dist-packages (from torch>=1.6->captum) (8.9.2.26)\n",
            "Requirement already satisfied: nvidia-cublas-cu12==12.1.3.1 in /usr/local/lib/python3.10/dist-packages (from torch>=1.6->captum) (12.1.3.1)\n",
            "Requirement already satisfied: nvidia-cufft-cu12==11.0.2.54 in /usr/local/lib/python3.10/dist-packages (from torch>=1.6->captum) (11.0.2.54)\n",
            "Requirement already satisfied: nvidia-curand-cu12==10.3.2.106 in /usr/local/lib/python3.10/dist-packages (from torch>=1.6->captum) (10.3.2.106)\n",
            "Requirement already satisfied: nvidia-cusolver-cu12==11.4.5.107 in /usr/local/lib/python3.10/dist-packages (from torch>=1.6->captum) (11.4.5.107)\n",
            "Requirement already satisfied: nvidia-cusparse-cu12==12.1.0.106 in /usr/local/lib/python3.10/dist-packages (from torch>=1.6->captum) (12.1.0.106)\n",
            "Requirement already satisfied: nvidia-nccl-cu12==2.20.5 in /usr/local/lib/python3.10/dist-packages (from torch>=1.6->captum) (2.20.5)\n",
            "Requirement already satisfied: nvidia-nvtx-cu12==12.1.105 in /usr/local/lib/python3.10/dist-packages (from torch>=1.6->captum) (12.1.105)\n",
            "Requirement already satisfied: triton==2.3.0 in /usr/local/lib/python3.10/dist-packages (from torch>=1.6->captum) (2.3.0)\n",
            "Requirement already satisfied: nvidia-nvjitlink-cu12 in /usr/local/lib/python3.10/dist-packages (from nvidia-cusolver-cu12==11.4.5.107->torch>=1.6->captum) (12.5.40)\n",
            "Requirement already satisfied: contourpy>=1.0.1 in /usr/local/lib/python3.10/dist-packages (from matplotlib->captum) (1.2.1)\n",
            "Requirement already satisfied: cycler>=0.10 in /usr/local/lib/python3.10/dist-packages (from matplotlib->captum) (0.12.1)\n",
            "Requirement already satisfied: fonttools>=4.22.0 in /usr/local/lib/python3.10/dist-packages (from matplotlib->captum) (4.51.0)\n",
            "Requirement already satisfied: kiwisolver>=1.0.1 in /usr/local/lib/python3.10/dist-packages (from matplotlib->captum) (1.4.5)\n",
            "Requirement already satisfied: packaging>=20.0 in /usr/local/lib/python3.10/dist-packages (from matplotlib->captum) (24.0)\n",
            "Requirement already satisfied: pillow>=6.2.0 in /usr/local/lib/python3.10/dist-packages (from matplotlib->captum) (9.4.0)\n",
            "Requirement already satisfied: pyparsing>=2.3.1 in /usr/local/lib/python3.10/dist-packages (from matplotlib->captum) (3.1.2)\n",
            "Requirement already satisfied: python-dateutil>=2.7 in /usr/local/lib/python3.10/dist-packages (from matplotlib->captum) (2.8.2)\n",
            "Requirement already satisfied: six>=1.5 in /usr/local/lib/python3.10/dist-packages (from python-dateutil>=2.7->matplotlib->captum) (1.16.0)\n",
            "Requirement already satisfied: MarkupSafe>=2.0 in /usr/local/lib/python3.10/dist-packages (from jinja2->torch>=1.6->captum) (2.1.5)\n",
            "Requirement already satisfied: mpmath>=0.19 in /usr/local/lib/python3.10/dist-packages (from sympy->torch>=1.6->captum) (1.3.0)\n",
            "Installing collected packages: captum\n",
            "Successfully installed captum-0.7.0\n"
          ]
        }
      ],
      "source": [
        "!pip install captum"
      ]
    },
    {
      "cell_type": "code",
      "execution_count": 10,
      "metadata": {
        "id": "h8zn5BstPW7X"
      },
      "outputs": [],
      "source": [
        "#@title Scripts for interpretation\n",
        "import torch\n",
        "import numpy as np\n",
        "from torch import tensor\n",
        "import matplotlib.pyplot as plt\n",
        "import matplotlib.lines as mlines\n",
        "from transformers import AutoTokenizer, AutoModelForSequenceClassification\n",
        "from captum.attr import LayerIntegratedGradients, TokenReferenceBase, IntegratedGradients\n",
        "\n",
        "device = torch.device(\"cuda\" if torch.cuda.is_available() else \"cpu\")\n",
        "amino_acids = {'R': 0,'H': 1,'K': 2,'D': 3,'E': 4,'S': 5,'T': 6,'N': 7,'Q': 8,'C': 9,'G': 10,'P': 11,'A': 12,'V': 13,'I': 14,'L': 15,'M': 16,'F': 17,'Y': 18,'W': 19}\n",
        "sm = torch.nn.Softmax(dim=1)\n",
        "\n",
        "def forward_func(inputs: tensor, position = 0):\n",
        "  pred = model.forward(inputs)\n",
        "  return pred[position]\n",
        "\n",
        "def explain(text: str, label):\n",
        "  inputs = torch.tensor(tokenizer.encode(text, add_special_tokens=True), device=device).unsqueeze(0)\n",
        "  prediction = model.forward(inputs)[0]\n",
        "  baseline = torch.tensor([tokenizer.cls_token_id] + [tokenizer.pad_token_id] * (inputs.shape[1] - 2) + [tokenizer.eos_token_id], device = device).unsqueeze(0)\n",
        "  lig = LayerIntegratedGradients(forward_func, model.esm.embeddings) # The layer which we want to get the IG's is the mebedding layer.\n",
        "  attributes, delta = lig.attribute(inputs=inputs,\n",
        "                            baselines=baseline,\n",
        "                            target = label,\n",
        "                            return_convergence_delta = True)\n",
        "  attr_sum = attributes.sum(-1)\n",
        "  return attr_sum.cpu().numpy()[0][1:-1]\n",
        "\n",
        "# Saves all attention heads for each layer to image\n",
        "def full_attention(model, sequence):\n",
        "  input = tokenizer(sequence, return_tensors='pt').to(device)\n",
        "  output = model.forward(input.input_ids, output_attentions=True)\n",
        "  for layer, att in enumerate(output.attentions):\n",
        "    for i, head in enumerate(att[0]):\n",
        "      print(f'Layer {layer+1}, head {i+1}')\n",
        "      matr = head.cpu().detach().numpy()\n",
        "      plt.imshow(matr, interpolation='nearest')\n",
        "      x_ticks = np.arange(0, matr.shape[1])\n",
        "      x_tick_labels = [\"[BOS]\"] + list(sequence) + [\"[EOS]\"]\n",
        "      plt.xticks(x_ticks, x_tick_labels)\n",
        "      y_ticks = np.arange(0, matr.shape[1])\n",
        "      y_tick_labels = [\"[BOS]\"] + list(sequence) + [\"[EOS]\"]\n",
        "      plt.yticks(y_ticks, y_tick_labels)\n",
        "      plt.colorbar()\n",
        "      plt.savefig(f'Layer_{layer+1}_head_{i+1}.png', dpi=300, bbox_inches='tight', pad_inches=0)\n",
        "      plt.show()\n",
        "\n",
        "def per_layer_attention(model, sequence):\n",
        "  input = tokenizer(sequence, return_tensors='pt').to(device)\n",
        "  output = model.forward(input.input_ids, output_attentions=True)\n",
        "  for i, att in enumerate(output.attentions):\n",
        "    matrs = []\n",
        "    for head in att[0]:\n",
        "      matr = head.cpu().detach().numpy()\n",
        "      matrs.append(matr)\n",
        "    matrs = np.array(matrs)\n",
        "    plt.imshow(np.mean(matrs, axis=0), interpolation='nearest') #, vmin=0, vmax=0.3)\n",
        "    plt.colorbar()\n",
        "    x_ticks = np.arange(0, matr.shape[1])\n",
        "    x_tick_labels = [\"[BOS]\"] + list(sequence) + [\"[EOS]\"]\n",
        "\n",
        "    plt.xticks(x_ticks, x_tick_labels)\n",
        "    sizes = [10] + 13*[15] + [10]\n",
        "    for j, label in enumerate(plt.xticks()[1]):\n",
        "      label.set_fontsize(sizes[j])\n",
        "\n",
        "    y_ticks = np.arange(0, matr.shape[1])\n",
        "    y_tick_labels = [\"[BOS]\"] + list(sequence) + [\"[EOS]\"]\n",
        "    plt.yticks(y_ticks, y_tick_labels)\n",
        "    sizes = [10] + 13*[15] + [10]\n",
        "    for j, label in enumerate(plt.yticks()[1]):\n",
        "      label.set_fontsize(sizes[j])\n",
        "\n",
        "    plt.title(f'Average Attention for Layer {i+1}', fontsize=17)\n",
        "    #plt.text(-4, -0.9, 'a', fontsize=20) #, transform=ax.transAxes)\n",
        "    # plt.colorbar()\n",
        "\n",
        "    plt.savefig(f'./FVCHPSRWVGA_layer_{i+1}_alt.png', dpi=400, bbox_inches='tight', pad_inches=0)\n",
        "    plt.show()\n",
        "\n",
        "def oned_attention(model, sequence):\n",
        "  input = tokenizer(sequence, return_tensors='pt').to(device)\n",
        "  output = model.forward(input.input_ids, output_attentions=True)\n",
        "  for att in output.attentions:\n",
        "    matrs = []\n",
        "    for head in att[0]:\n",
        "      matrs.append(head.cpu().detach().numpy())\n",
        "    matrs = np.array(matrs)\n",
        "    matrs = np.mean(matrs, axis=0)\n",
        "    matrs = np.mean(matrs, axis=0)\n",
        "    print(matrs[:, np.newaxis].T)\n",
        "    plt.imshow(matrs[:, np.newaxis].T, interpolation='nearest')\n",
        "    x_ticks = np.arange(0, len(sequence)+2)\n",
        "    x_tick_labels = list(\" \"+sequence+\" \")\n",
        "    plt.xticks(x_ticks, x_tick_labels)\n",
        "    plt.show()"
      ]
    },
    {
      "cell_type": "code",
      "execution_count": null,
      "metadata": {
        "colab": {
          "base_uri": "https://localhost:8080/",
          "height": 1000
        },
        "id": "mqqbKfNCs9uR",
        "outputId": "c6c6bb0f-638b-463a-e259-7573f5bec4ae"
      },
      "outputs": [],
      "source": [
        "full_attention(LazBF_ft, 'FVCHPSRWVGA')"
      ]
    },
    {
      "cell_type": "code",
      "execution_count": null,
      "metadata": {
        "colab": {
          "base_uri": "https://localhost:8080/",
          "height": 1000
        },
        "id": "O86hKVK_uEtd",
        "outputId": "4fa5d2e6-d73c-4a31-a84c-f2c1da8d7341"
      },
      "outputs": [],
      "source": [
        "full_attention(LazBF_ft, 'VIGGRTCDGTRYY')"
      ]
    },
    {
      "cell_type": "code",
      "execution_count": null,
      "metadata": {
        "colab": {
          "base_uri": "https://localhost:8080/",
          "height": 1000
        },
        "id": "pqyM9uzpyEom",
        "outputId": "2f103d17-1366-434c-f83d-0f92fa7b36ea"
      },
      "outputs": [],
      "source": [
        "per_layer_attention(LazBF_ft, 'VIGGRTCDGTRYY')"
      ]
    },
    {
      "cell_type": "code",
      "execution_count": 26,
      "metadata": {
        "colab": {
          "base_uri": "https://localhost:8080/"
        },
        "id": "aFt0QaKOP0e5",
        "outputId": "9e165786-662e-43d6-97fb-845fbfe24f8b"
      },
      "outputs": [
        {
          "name": "stderr",
          "output_type": "stream",
          "text": [
            "100%|██████████| 5000/5000 [40:06<00:00,  2.08it/s]\n",
            "<ipython-input-26-4bf3dc6c27e0>:25: RuntimeWarning: invalid value encountered in divide\n",
            "  avg_position_contribBF = avg_position_contribBF / avg_position_contribBF_counter\n"
          ]
        }
      ],
      "source": [
        "# Empty lists for storing avg contributions\n",
        "avg_contribBF = np.zeros((20,))\n",
        "avg_positionBF = np.zeros((11,))\n",
        "avg_position_contribBF = np.zeros((20, 11))\n",
        "\n",
        "avg_position_contribBF_counter = np.zeros((20, 11))\n",
        "\n",
        "# Define model and aa_counter\n",
        "model = LazBF_ft\n",
        "aa_counts = np.zeros((20,))\n",
        "\n",
        "for peptide in tqdm(LazBF_sample[:5000]):\n",
        "  contributions = explain(peptide, 1)\n",
        "  for i, letter in enumerate(peptide):\n",
        "    # Add to position avg\n",
        "    avg_positionBF[i] += contributions[i]\n",
        "    # Add to pos x AA average\n",
        "    avg_position_contribBF[amino_acids[letter]][i] += contributions[i]\n",
        "    avg_position_contribBF_counter[amino_acids[letter]][i] += 1\n",
        "    # Add to aa average\n",
        "    avg_contribBF[amino_acids[letter]] += contributions[i]\n",
        "    # Count amino acid types\n",
        "    aa_counts[amino_acids[letter]] += 1\n",
        "\n",
        "avg_position_contribBF = avg_position_contribBF / avg_position_contribBF_counter\n",
        "avg_contribBF = avg_contribBF / aa_counts\n",
        "avg_positionBF = avg_positionBF / 5000\n",
        "\n",
        "np.save('./drive/MyDrive/avg_pos_contribBF', avg_positionBF)\n",
        "np.save('./drive/MyDrive/avg_aa_contribBF', avg_contribBF)\n",
        "np.save('./drive/MyDrive/avg_posxaa_contribBF', avg_position_contribBF)"
      ]
    },
    {
      "cell_type": "code",
      "execution_count": 1,
      "metadata": {
        "colab": {
          "base_uri": "https://localhost:8080/"
        },
        "id": "Sr09k8Vz0mJp",
        "outputId": "caab3f3b-cc16-48ad-a029-8b05622ee683"
      },
      "outputs": [
        {
          "name": "stdout",
          "output_type": "stream",
          "text": [
            "Archive:  /content/drive-download-20240524T225625Z-001.zip\n",
            "  inflating: avg_posxaa_contribDEF.npy  \n",
            "  inflating: avg_aa_contribDEF.npy   \n",
            "  inflating: avg_pos_contribBF.npy   \n",
            "  inflating: avg_pos_contribDEF.npy  \n",
            "  inflating: avg_posxaa_contribBF.npy  \n",
            "  inflating: avg_aa_contribBF.npy    \n"
          ]
        }
      ],
      "source": [
        "!unzip /content/drive-download-20240524T225625Z-001.zip"
      ]
    },
    {
      "cell_type": "code",
      "execution_count": 13,
      "metadata": {
        "id": "Iu6yu-2fd619"
      },
      "outputs": [],
      "source": [
        "import numpy as np\n",
        "avg_contribBF = np.load(\"/content/avg_aa_contribBF.npy\")\n",
        "avg_position_contribBF = np.load(\"/content/avg_pos_contribBF.npy\")\n",
        "avg_positionBF =  np.load(\"/content/avg_posxaa_contribBF.npy\")\n",
        "\n",
        "avg_contribDEF = np.load(\"/content/avg_aa_contribDEF.npy\")\n",
        "avg_position_contribDEF = np.load(\"/content/avg_pos_contribDEF.npy\")\n",
        "avg_positionDEF =  np.load(\"/content/avg_posxaa_contribDEF.npy\")"
      ]
    },
    {
      "cell_type": "code",
      "execution_count": 15,
      "metadata": {
        "id": "MdZNQKWV1Ca4"
      },
      "outputs": [],
      "source": [
        "avg_contribBF[5] = 0\n",
        "avg_contribDEF[5] = 0\n",
        "avg_position_contribBF[5] = 0\n",
        "avg_position_contribDEF[5] = 0\n",
        "# avg_positionDEF[]"
      ]
    },
    {
      "cell_type": "code",
      "execution_count": 16,
      "metadata": {
        "colab": {
          "base_uri": "https://localhost:8080/"
        },
        "id": "nvWNLnpwOZWp",
        "outputId": "8b7dad35-b28c-4f4f-a2ae-0d9c7a49553b"
      },
      "outputs": [
        {
          "data": {
            "text/plain": [
              "SignificanceResult(statistic=0.5636363636363637, pvalue=0.07095173447637536)"
            ]
          },
          "execution_count": 16,
          "metadata": {},
          "output_type": "execute_result"
        }
      ],
      "source": [
        "from scipy.stats import spearmanr\n",
        "spearmanr(avg_position_contribDEF, avg_position_contribBF)"
      ]
    },
    {
      "cell_type": "code",
      "execution_count": null,
      "metadata": {
        "id": "EmLC0paj1gtt"
      },
      "outputs": [],
      "source": [
        "avg_positionDEF"
      ]
    },
    {
      "cell_type": "code",
      "execution_count": 25,
      "metadata": {
        "colab": {
          "base_uri": "https://localhost:8080/",
          "height": 165
        },
        "id": "M2nIVQJW1-ud",
        "outputId": "a46c3318-711b-40bf-8b3c-700930b976d9"
      },
      "outputs": [
        {
          "data": {
            "image/png": "[encoded data removed]",
            "text/plain": [
              "<Figure size 640x480 with 2 Axes>"
            ]
          },
          "metadata": {},
          "output_type": "display_data"
        }
      ],
      "source": [
        "import matplotlib.pyplot as plt\n",
        "plt.imshow(np.array([avg_contribBF]), cmap='viridis', vmin=-0.5, vmax=0.7)\n",
        "y_labels = list(\"RHKDESTNQCGPAVILMFYW\")  # Example labels\n",
        "plt.yticks([])\n",
        "plt.xticks(ticks=np.arange(len(y_labels)), labels=y_labels)\n",
        "plt.colorbar(orientation='horizontal')\n",
        "plt.savefig('LazBF_AA_contrib.png', dpi=400, bbox_inches='tight', pad_inches=0)"
      ]
    },
    {
      "cell_type": "code",
      "execution_count": 26,
      "metadata": {
        "colab": {
          "base_uri": "https://localhost:8080/",
          "height": 165
        },
        "id": "MysyTafG2Ffb",
        "outputId": "0814be51-1864-4744-9798-5d4a7a619076"
      },
      "outputs": [
        {
          "data": {
            "image/png": "[encoded data removed]",
            "text/plain": [
              "<Figure size 640x480 with 2 Axes>"
            ]
          },
          "metadata": {},
          "output_type": "display_data"
        }
      ],
      "source": [
        "plt.imshow(np.array([avg_contribDEF]), cmap='viridis', vmin=-1, vmax=0.5)\n",
        "y_labels = list(\"RHKDESTNQCGPAVILMFYW\")  # Example labels\n",
        "plt.yticks([])\n",
        "plt.xticks(ticks=np.arange(len(y_labels)), labels=y_labels)\n",
        "plt.colorbar(orientation='horizontal')\n",
        "plt.savefig('LazDEF_AA_contrib.png', dpi=400, bbox_inches='tight', pad_inches=0)"
      ]
    },
    {
      "cell_type": "code",
      "execution_count": 28,
      "metadata": {
        "colab": {
          "base_uri": "https://localhost:8080/",
          "height": 186
        },
        "id": "7QkPFt94o_Ep",
        "outputId": "6110f518-e70b-4801-eb7a-a2bc2b23d267"
      },
      "outputs": [
        {
          "data": {
            "image/png": "[encoded data removed]",
            "text/plain": [
              "<Figure size 640x480 with 2 Axes>"
            ]
          },
          "metadata": {},
          "output_type": "display_data"
        }
      ],
      "source": [
        "plt.imshow(np.array([avg_position_contribBF]), cmap='viridis', vmin=0.2, vmax=0.6)\n",
        "y_labels = [1, 2, 3, 4, 5, 6, 7, 8, 9, 10, 11]  # Example labels\n",
        "plt.yticks([])\n",
        "plt.xticks(ticks=np.arange(len(y_labels)), labels=y_labels)\n",
        "plt.colorbar(orientation='horizontal')\n",
        "plt.savefig('LazBF_pos_contrib.png', dpi=400, bbox_inches='tight', pad_inches=0)"
      ]
    },
    {
      "cell_type": "code",
      "execution_count": 29,
      "metadata": {
        "colab": {
          "base_uri": "https://localhost:8080/",
          "height": 186
        },
        "id": "75-ISwqu1Obe",
        "outputId": "f0a5a835-9ea8-43a9-c9ab-021aa472df04"
      },
      "outputs": [
        {
          "data": {
            "image/png": "[encoded data removed]",
            "text/plain": [
              "<Figure size 640x480 with 2 Axes>"
            ]
          },
          "metadata": {},
          "output_type": "display_data"
        }
      ],
      "source": [
        "plt.imshow(np.array([avg_position_contribDEF]), cmap='viridis', vmin=-0.2, vmax=0.2)\n",
        "y_labels = [1, 2, 3, 4, 5, 6, 7, 8, 9, 10, 11]  # Example labels\n",
        "plt.yticks([])\n",
        "plt.xticks(ticks=np.arange(len(y_labels)), labels=y_labels)\n",
        "plt.colorbar(orientation='horizontal')\n",
        "plt.savefig('LazDEF_pos_contrib.png', dpi=400, bbox_inches='tight', pad_inches=0)"
      ]
    },
    {
      "cell_type": "code",
      "execution_count": null,
      "metadata": {
        "id": "cP5QgZDWQFvZ"
      },
      "outputs": [],
      "source": [
        "# Empty lists for storing avg contributions\n",
        "avg_contribDEF = np.zeros((20,))\n",
        "avg_positionDEF = np.zeros((11,))\n",
        "avg_position_contribDEF = np.zeros((20, 11))\n",
        "avg_position_contribDEF_count = np.zeros((20, 11))\n",
        "\n",
        "# Define model and aa_counter\n",
        "model = LazDEF_ft\n",
        "aa_counts = np.zeros((20,))\n",
        "\n",
        "for peptide in tqdm(LazBF_sample[:5000]):\n",
        "  contributions = explain(peptide, 1)\n",
        "  for i, letter in enumerate(peptide):\n",
        "    # Add to position avg\n",
        "    avg_positionDEF[i] += contributions[i]\n",
        "    # Add to pos x AA average\n",
        "    avg_position_contribDEF[amino_acids[letter]][i] += contributions[i]\n",
        "    avg_position_contribDEF_count[amino_acids[letter]][i] += 1\n",
        "    # Add to aa average\n",
        "    avg_contribDEF[amino_acids[letter]] += contributions[i]\n",
        "    # Count amino acid types\n",
        "    aa_counts[amino_acids[letter]] += 1\n",
        "\n",
        "avg_position_contribDEF = avg_position_contribDEF / avg_position_contribDEF_count\n",
        "avg_contribDEF = avg_contribDEF / aa_counts\n",
        "avg_positionDEF = avg_positionDEF / 5000\n",
        "\n",
        "np.save('./drive/MyDrive/avg_pos_contribDEF', avg_positionBF)\n",
        "np.save('./drive/MyDrive/avg_aa_contribDEF', avg_contribBF)\n",
        "np.save('./drive/MyDrive/avg_posxaa_contribDEF', avg_position_contribBF)"
      ]
    },
    {
      "cell_type": "markdown",
      "metadata": {
        "id": "TE0aumdYyVWt"
      },
      "source": [
        "---"
      ]
    },
    {
      "cell_type": "code",
      "execution_count": 5,
      "metadata": {
        "colab": {
          "base_uri": "https://localhost:8080/"
        },
        "id": "UYnxCIq7yWFr",
        "outputId": "a0673ff2-775a-41b9-e906-e239faad8a9c"
      },
      "outputs": [
        {
          "name": "stdout",
          "output_type": "stream",
          "text": [
            "3200000\n"
          ]
        }
      ],
      "source": [
        "#@title TbtA predictions\n",
        "from itertools import product\n",
        "\n",
        "mutable_positions = [3, 5, 7, 8, 15]\n",
        "amino_acids = \"ACDEFGHIKLMNPQRSTVWY\"\n",
        "wt = \"SCNCFCYICCSCSSA\"\n",
        "mutants = []\n",
        "\n",
        "for positions in product(amino_acids, repeat=len(mutable_positions)):\n",
        "    mutant = list(wt)\n",
        "    for i, pos in enumerate(mutable_positions):\n",
        "        mutant[pos - 1] = positions[i]\n",
        "    mutants.append(\"\".join(mutant))\n",
        "print(len(mutants))"
      ]
    },
    {
      "cell_type": "code",
      "execution_count": 9,
      "metadata": {
        "colab": {
          "base_uri": "https://localhost:8080/"
        },
        "id": "iUG9tC5QykHt",
        "outputId": "6ad6645e-36b3-4060-dbdb-c17fb1f59730"
      },
      "outputs": [
        {
          "data": {
            "text/plain": [
              "array([[0.9662062 , 0.03379381]], dtype=float32)"
            ]
          },
          "execution_count": 9,
          "metadata": {},
          "output_type": "execute_result"
        }
      ],
      "source": [
        "from scipy.special import softmax\n",
        "lp = 'SCNCFCYICCSCSSA'\n",
        "softmax(LazBF_ft(tokenizer(lp, return_tensors='pt').input_ids.to('cuda')).logits.detach().cpu())"
      ]
    },
    {
      "cell_type": "code",
      "execution_count": null,
      "metadata": {
        "cellView": "form",
        "id": "6OSwW4oVym9w"
      },
      "outputs": [],
      "source": [
        "#@title Trainers\n",
        "from transformers import TrainingArguments, Trainer\n",
        "training_args = TrainingArguments(\n",
        "    output_dir=\"esm_finetuned\",\n",
        "    evaluation_strategy=\"epoch\",\n",
        "    save_strategy=\"epoch\",\n",
        "    learning_rate=2e-4,\n",
        "    per_device_train_batch_size=256,\n",
        "    per_device_eval_batch_size=1024,\n",
        "    num_train_epochs=2,\n",
        "    weight_decay=0.01,\n",
        "    push_to_hub=False,\n",
        "    #fp16=True,\n",
        "    load_best_model_at_end=True,\n",
        "    gradient_accumulation_steps=2,\n",
        ")\n",
        "\n",
        "from datasets import load_metric\n",
        "metric = load_metric('accuracy')\n",
        "\n",
        "def compute_metrics(eval_pred):\n",
        "    predictions, labels = eval_pred\n",
        "    predictions = np.argmax(predictions, axis=1)\n",
        "    return metric.compute(predictions=predictions, references=labels)\n",
        "\n",
        "LazBF_trainer = Trainer(\n",
        "    model=LazBF_ft,\n",
        "    args=training_args,\n",
        "    #train_dataset=train,\n",
        "    #eval_dataset=test,\n",
        "    compute_metrics=compute_metrics\n",
        ")\n",
        "\n",
        "LazDEF_trainer = Trainer(\n",
        "    model=LazDEF_ft,\n",
        "    args=training_args,\n",
        "    #train_dataset=train,\n",
        "    #eval_dataset=test,\n",
        "    compute_metrics=compute_metrics\n",
        ")\n",
        "\n",
        "LazBCDEF_trainer = Trainer(\n",
        "    model=LazBCDEF_ft,\n",
        "    args=training_args,\n",
        "    #train_dataset=train,\n",
        "    #eval_dataset=test,\n",
        "    compute_metrics=compute_metrics\n",
        ")"
      ]
    },
    {
      "cell_type": "code",
      "execution_count": null,
      "metadata": {
        "id": "p4n5JVjmywDr"
      },
      "outputs": [],
      "source": [
        "import torch.nn.functional as F\n",
        "from scipy.special import softmax\n",
        "from datasets import Dataset\n",
        "\n",
        "# tbta = Dataset.from_dict(tokenizer(mutants, padding='longest'))\n",
        "# tbta = tbta.add_column(\"labels\", [0]*len(mutants))\n",
        "bfpred = softmax(LazBF_trainer.predict(tbta)[0], axis=1)\n",
        "defpred = softmax(LazDEF_trainer.predict(tbta)[0], axis=1)\n",
        "bcdefpred = softmax(LazBCDEF_trainer.predict(tbta)[0], axis=1)"
      ]
    },
    {
      "cell_type": "code",
      "execution_count": null,
      "metadata": {
        "id": "tP8638myy1kQ"
      },
      "outputs": [],
      "source": [
        "import pandas as pd\n",
        "df = pd.DataFrame({'Sequence': mutants, 'LazBFprob0': bfpred[:, 0], 'LazBFprob1': bfpred[:, 1], 'LazDEFprob0': defpred[:, 0], 'LazDEFprob1': defpred[:, 1], 'LazBCDEFprob0': bcdefpred[:, 0], 'LazBCDEFprob1': bcdefpred[:, 1]})\n",
        "df.to_csv('./drive/MyDrive/tbta_predictions_650M.csv', index=False)"
      ]
    }
  ],
  "metadata": {
    "colab": {
      "provenance": []
    },
    "kernelspec": {
      "display_name": "Python 3",
      "name": "python3"
    },
    "language_info": {
      "name": "python"
    },
    "widgets": {
      "application/vnd.jupyter.widget-state+json": {
        "008a6de21b7b4b448a34135b0e96e542": {
          "model_module": "@jupyter-widgets/base",
          "model_module_version": "1.2.0",
          "model_name": "LayoutModel",
          "state": {
            "_model_module": "@jupyter-widgets/base",
            "_model_module_version": "1.2.0",
            "_model_name": "LayoutModel",
            "_view_count": null,
            "_view_module": "@jupyter-widgets/base",
            "_view_module_version": "1.2.0",
            "_view_name": "LayoutView",
            "align_content": null,
            "align_items": null,
            "align_self": null,
            "border": null,
            "bottom": null,
            "display": null,
            "flex": null,
            "flex_flow": null,
            "grid_area": null,
            "grid_auto_columns": null,
            "grid_auto_flow": null,
            "grid_auto_rows": null,
            "grid_column": null,
            "grid_gap": null,
            "grid_row": null,
            "grid_template_areas": null,
            "grid_template_columns": null,
            "grid_template_rows": null,
            "height": null,
            "justify_content": null,
            "justify_items": null,
            "left": null,
            "margin": null,
            "max_height": null,
            "max_width": null,
            "min_height": null,
            "min_width": null,
            "object_fit": null,
            "object_position": null,
            "order": null,
            "overflow": null,
            "overflow_x": null,
            "overflow_y": null,
            "padding": null,
            "right": null,
            "top": null,
            "visibility": null,
            "width": null
          }
        },
        "0278e0c257974f57bdf3db613a66983d": {
          "model_module": "@jupyter-widgets/base",
          "model_module_version": "1.2.0",
          "model_name": "LayoutModel",
          "state": {
            "_model_module": "@jupyter-widgets/base",
            "_model_module_version": "1.2.0",
            "_model_name": "LayoutModel",
            "_view_count": null,
            "_view_module": "@jupyter-widgets/base",
            "_view_module_version": "1.2.0",
            "_view_name": "LayoutView",
            "align_content": null,
            "align_items": null,
            "align_self": null,
            "border": null,
            "bottom": null,
            "display": null,
            "flex": null,
            "flex_flow": null,
            "grid_area": null,
            "grid_auto_columns": null,
            "grid_auto_flow": null,
            "grid_auto_rows": null,
            "grid_column": null,
            "grid_gap": null,
            "grid_row": null,
            "grid_template_areas": null,
            "grid_template_columns": null,
            "grid_template_rows": null,
            "height": null,
            "justify_content": null,
            "justify_items": null,
            "left": null,
            "margin": null,
            "max_height": null,
            "max_width": null,
            "min_height": null,
            "min_width": null,
            "object_fit": null,
            "object_position": null,
            "order": null,
            "overflow": null,
            "overflow_x": null,
            "overflow_y": null,
            "padding": null,
            "right": null,
            "top": null,
            "visibility": null,
            "width": null
          }
        },
        "02adbc5efbb143c9b30d98491ae7b2e0": {
          "model_module": "@jupyter-widgets/controls",
          "model_module_version": "1.5.0",
          "model_name": "FloatProgressModel",
          "state": {
            "_dom_classes": [],
            "_model_module": "@jupyter-widgets/controls",
            "_model_module_version": "1.5.0",
            "_model_name": "FloatProgressModel",
            "_view_count": null,
            "_view_module": "@jupyter-widgets/controls",
            "_view_module_version": "1.5.0",
            "_view_name": "ProgressView",
            "bar_style": "success",
            "description": "",
            "description_tooltip": null,
            "layout": "IPY_MODEL_ed7386bd35634a01b3eacabee6dda194",
            "max": 125,
            "min": 0,
            "orientation": "horizontal",
            "style": "IPY_MODEL_c274b569815d4bd3bf0c017f49f192ba",
            "value": 125
          }
        },
        "07bc8e6a48e54d339b24c335d9700092": {
          "model_module": "@jupyter-widgets/controls",
          "model_module_version": "1.5.0",
          "model_name": "HTMLModel",
          "state": {
            "_dom_classes": [],
            "_model_module": "@jupyter-widgets/controls",
            "_model_module_version": "1.5.0",
            "_model_name": "HTMLModel",
            "_view_count": null,
            "_view_module": "@jupyter-widgets/controls",
            "_view_module_version": "1.5.0",
            "_view_name": "HTMLView",
            "description": "",
            "description_tooltip": null,
            "layout": "IPY_MODEL_9b999eeebd904e40b5fbc36aec26d02e",
            "placeholder": "​",
            "style": "IPY_MODEL_538491c98dba4994b7821ad1e6a841f4",
            "value": "vocab.txt: 100%"
          }
        },
        "09a808c1c3fc488daa7786d0d6dfb3e5": {
          "model_module": "@jupyter-widgets/controls",
          "model_module_version": "1.5.0",
          "model_name": "HTMLModel",
          "state": {
            "_dom_classes": [],
            "_model_module": "@jupyter-widgets/controls",
            "_model_module_version": "1.5.0",
            "_model_name": "HTMLModel",
            "_view_count": null,
            "_view_module": "@jupyter-widgets/controls",
            "_view_module_version": "1.5.0",
            "_view_name": "HTMLView",
            "description": "",
            "description_tooltip": null,
            "layout": "IPY_MODEL_590b7a3a620a48b2be2f09b2fc5eb349",
            "placeholder": "​",
            "style": "IPY_MODEL_b08b09a294f64e14814828431f703169",
            "value": "special_tokens_map.json: 100%"
          }
        },
        "11036cc50d0e4e80a0be2acc8497fc23": {
          "model_module": "@jupyter-widgets/controls",
          "model_module_version": "1.5.0",
          "model_name": "HTMLModel",
          "state": {
            "_dom_classes": [],
            "_model_module": "@jupyter-widgets/controls",
            "_model_module_version": "1.5.0",
            "_model_name": "HTMLModel",
            "_view_count": null,
            "_view_module": "@jupyter-widgets/controls",
            "_view_module_version": "1.5.0",
            "_view_name": "HTMLView",
            "description": "",
            "description_tooltip": null,
            "layout": "IPY_MODEL_8684d9a4cd86484ba32bee316d1ed452",
            "placeholder": "​",
            "style": "IPY_MODEL_5698d7c63b414216a3ee17f524665e3a",
            "value": " 93.0/93.0 [00:00&lt;00:00, 4.72kB/s]"
          }
        },
        "12b5e6ad6a24430fb4137ced65e0b09c": {
          "model_module": "@jupyter-widgets/base",
          "model_module_version": "1.2.0",
          "model_name": "LayoutModel",
          "state": {
            "_model_module": "@jupyter-widgets/base",
            "_model_module_version": "1.2.0",
            "_model_name": "LayoutModel",
            "_view_count": null,
            "_view_module": "@jupyter-widgets/base",
            "_view_module_version": "1.2.0",
            "_view_name": "LayoutView",
            "align_content": null,
            "align_items": null,
            "align_self": null,
            "border": null,
            "bottom": null,
            "display": null,
            "flex": null,
            "flex_flow": null,
            "grid_area": null,
            "grid_auto_columns": null,
            "grid_auto_flow": null,
            "grid_auto_rows": null,
            "grid_column": null,
            "grid_gap": null,
            "grid_row": null,
            "grid_template_areas": null,
            "grid_template_columns": null,
            "grid_template_rows": null,
            "height": null,
            "justify_content": null,
            "justify_items": null,
            "left": null,
            "margin": null,
            "max_height": null,
            "max_width": null,
            "min_height": null,
            "min_width": null,
            "object_fit": null,
            "object_position": null,
            "order": null,
            "overflow": null,
            "overflow_x": null,
            "overflow_y": null,
            "padding": null,
            "right": null,
            "top": null,
            "visibility": null,
            "width": null
          }
        },
        "1881d382d36946b8b6ce9c86c93e8c26": {
          "model_module": "@jupyter-widgets/controls",
          "model_module_version": "1.5.0",
          "model_name": "HTMLModel",
          "state": {
            "_dom_classes": [],
            "_model_module": "@jupyter-widgets/controls",
            "_model_module_version": "1.5.0",
            "_model_name": "HTMLModel",
            "_view_count": null,
            "_view_module": "@jupyter-widgets/controls",
            "_view_module_version": "1.5.0",
            "_view_name": "HTMLView",
            "description": "",
            "description_tooltip": null,
            "layout": "IPY_MODEL_c0591288d19a496e982b213d62b66862",
            "placeholder": "​",
            "style": "IPY_MODEL_4084e60c6fa94bb69bb81bbcaa57dca9",
            "value": "model.safetensors: 100%"
          }
        },
        "18add5ef22e04a6f8d1df031f60f0bd1": {
          "model_module": "@jupyter-widgets/controls",
          "model_module_version": "1.5.0",
          "model_name": "DescriptionStyleModel",
          "state": {
            "_model_module": "@jupyter-widgets/controls",
            "_model_module_version": "1.5.0",
            "_model_name": "DescriptionStyleModel",
            "_view_count": null,
            "_view_module": "@jupyter-widgets/base",
            "_view_module_version": "1.2.0",
            "_view_name": "StyleView",
            "description_width": ""
          }
        },
        "22ba0b29c2d2493d981f9b62049cdbda": {
          "model_module": "@jupyter-widgets/controls",
          "model_module_version": "1.5.0",
          "model_name": "DescriptionStyleModel",
          "state": {
            "_model_module": "@jupyter-widgets/controls",
            "_model_module_version": "1.5.0",
            "_model_name": "DescriptionStyleModel",
            "_view_count": null,
            "_view_module": "@jupyter-widgets/base",
            "_view_module_version": "1.2.0",
            "_view_name": "StyleView",
            "description_width": ""
          }
        },
        "29ef638bfaaa45e0bf566fabcf0a2ae4": {
          "model_module": "@jupyter-widgets/controls",
          "model_module_version": "1.5.0",
          "model_name": "FloatProgressModel",
          "state": {
            "_dom_classes": [],
            "_model_module": "@jupyter-widgets/controls",
            "_model_module_version": "1.5.0",
            "_model_name": "FloatProgressModel",
            "_view_count": null,
            "_view_module": "@jupyter-widgets/controls",
            "_view_module_version": "1.5.0",
            "_view_name": "ProgressView",
            "bar_style": "success",
            "description": "",
            "description_tooltip": null,
            "layout": "IPY_MODEL_bc297601717540218cd60dfdc8a21061",
            "max": 833,
            "min": 0,
            "orientation": "horizontal",
            "style": "IPY_MODEL_ddc1b520f2bf41f4a86ecb5818241725",
            "value": 833
          }
        },
        "384433dee3404aabacb279273410de69": {
          "model_module": "@jupyter-widgets/controls",
          "model_module_version": "1.5.0",
          "model_name": "HBoxModel",
          "state": {
            "_dom_classes": [],
            "_model_module": "@jupyter-widgets/controls",
            "_model_module_version": "1.5.0",
            "_model_name": "HBoxModel",
            "_view_count": null,
            "_view_module": "@jupyter-widgets/controls",
            "_view_module_version": "1.5.0",
            "_view_name": "HBoxView",
            "box_style": "",
            "children": [
              "IPY_MODEL_07bc8e6a48e54d339b24c335d9700092",
              "IPY_MODEL_6a77dbfef50b43ccb7b98e37ce7c89e3",
              "IPY_MODEL_11036cc50d0e4e80a0be2acc8497fc23"
            ],
            "layout": "IPY_MODEL_dafe1f1b9daf43aeb964aed939bf9bc0"
          }
        },
        "4084e60c6fa94bb69bb81bbcaa57dca9": {
          "model_module": "@jupyter-widgets/controls",
          "model_module_version": "1.5.0",
          "model_name": "DescriptionStyleModel",
          "state": {
            "_model_module": "@jupyter-widgets/controls",
            "_model_module_version": "1.5.0",
            "_model_name": "DescriptionStyleModel",
            "_view_count": null,
            "_view_module": "@jupyter-widgets/base",
            "_view_module_version": "1.2.0",
            "_view_name": "StyleView",
            "description_width": ""
          }
        },
        "538491c98dba4994b7821ad1e6a841f4": {
          "model_module": "@jupyter-widgets/controls",
          "model_module_version": "1.5.0",
          "model_name": "DescriptionStyleModel",
          "state": {
            "_model_module": "@jupyter-widgets/controls",
            "_model_module_version": "1.5.0",
            "_model_name": "DescriptionStyleModel",
            "_view_count": null,
            "_view_module": "@jupyter-widgets/base",
            "_view_module_version": "1.2.0",
            "_view_name": "StyleView",
            "description_width": ""
          }
        },
        "5698d7c63b414216a3ee17f524665e3a": {
          "model_module": "@jupyter-widgets/controls",
          "model_module_version": "1.5.0",
          "model_name": "DescriptionStyleModel",
          "state": {
            "_model_module": "@jupyter-widgets/controls",
            "_model_module_version": "1.5.0",
            "_model_name": "DescriptionStyleModel",
            "_view_count": null,
            "_view_module": "@jupyter-widgets/base",
            "_view_module_version": "1.2.0",
            "_view_name": "StyleView",
            "description_width": ""
          }
        },
        "584f8bcf1f4c432fafa7ca49168350a4": {
          "model_module": "@jupyter-widgets/controls",
          "model_module_version": "1.5.0",
          "model_name": "HTMLModel",
          "state": {
            "_dom_classes": [],
            "_model_module": "@jupyter-widgets/controls",
            "_model_module_version": "1.5.0",
            "_model_name": "HTMLModel",
            "_view_count": null,
            "_view_module": "@jupyter-widgets/controls",
            "_view_module_version": "1.5.0",
            "_view_name": "HTMLView",
            "description": "",
            "description_tooltip": null,
            "layout": "IPY_MODEL_0278e0c257974f57bdf3db613a66983d",
            "placeholder": "​",
            "style": "IPY_MODEL_22ba0b29c2d2493d981f9b62049cdbda",
            "value": " 2.61G/2.61G [00:43&lt;00:00, 60.1MB/s]"
          }
        },
        "590b7a3a620a48b2be2f09b2fc5eb349": {
          "model_module": "@jupyter-widgets/base",
          "model_module_version": "1.2.0",
          "model_name": "LayoutModel",
          "state": {
            "_model_module": "@jupyter-widgets/base",
            "_model_module_version": "1.2.0",
            "_model_name": "LayoutModel",
            "_view_count": null,
            "_view_module": "@jupyter-widgets/base",
            "_view_module_version": "1.2.0",
            "_view_name": "LayoutView",
            "align_content": null,
            "align_items": null,
            "align_self": null,
            "border": null,
            "bottom": null,
            "display": null,
            "flex": null,
            "flex_flow": null,
            "grid_area": null,
            "grid_auto_columns": null,
            "grid_auto_flow": null,
            "grid_auto_rows": null,
            "grid_column": null,
            "grid_gap": null,
            "grid_row": null,
            "grid_template_areas": null,
            "grid_template_columns": null,
            "grid_template_rows": null,
            "height": null,
            "justify_content": null,
            "justify_items": null,
            "left": null,
            "margin": null,
            "max_height": null,
            "max_width": null,
            "min_height": null,
            "min_width": null,
            "object_fit": null,
            "object_position": null,
            "order": null,
            "overflow": null,
            "overflow_x": null,
            "overflow_y": null,
            "padding": null,
            "right": null,
            "top": null,
            "visibility": null,
            "width": null
          }
        },
        "5bf51def5b7a4a5a87873de5380574eb": {
          "model_module": "@jupyter-widgets/base",
          "model_module_version": "1.2.0",
          "model_name": "LayoutModel",
          "state": {
            "_model_module": "@jupyter-widgets/base",
            "_model_module_version": "1.2.0",
            "_model_name": "LayoutModel",
            "_view_count": null,
            "_view_module": "@jupyter-widgets/base",
            "_view_module_version": "1.2.0",
            "_view_name": "LayoutView",
            "align_content": null,
            "align_items": null,
            "align_self": null,
            "border": null,
            "bottom": null,
            "display": null,
            "flex": null,
            "flex_flow": null,
            "grid_area": null,
            "grid_auto_columns": null,
            "grid_auto_flow": null,
            "grid_auto_rows": null,
            "grid_column": null,
            "grid_gap": null,
            "grid_row": null,
            "grid_template_areas": null,
            "grid_template_columns": null,
            "grid_template_rows": null,
            "height": null,
            "justify_content": null,
            "justify_items": null,
            "left": null,
            "margin": null,
            "max_height": null,
            "max_width": null,
            "min_height": null,
            "min_width": null,
            "object_fit": null,
            "object_position": null,
            "order": null,
            "overflow": null,
            "overflow_x": null,
            "overflow_y": null,
            "padding": null,
            "right": null,
            "top": null,
            "visibility": null,
            "width": null
          }
        },
        "6a77dbfef50b43ccb7b98e37ce7c89e3": {
          "model_module": "@jupyter-widgets/controls",
          "model_module_version": "1.5.0",
          "model_name": "FloatProgressModel",
          "state": {
            "_dom_classes": [],
            "_model_module": "@jupyter-widgets/controls",
            "_model_module_version": "1.5.0",
            "_model_name": "FloatProgressModel",
            "_view_count": null,
            "_view_module": "@jupyter-widgets/controls",
            "_view_module_version": "1.5.0",
            "_view_name": "ProgressView",
            "bar_style": "success",
            "description": "",
            "description_tooltip": null,
            "layout": "IPY_MODEL_969074dce6624f33aa15f22fe9a472d1",
            "max": 93,
            "min": 0,
            "orientation": "horizontal",
            "style": "IPY_MODEL_f72128fce27d4af5a140408e2f6cef0a",
            "value": 93
          }
        },
        "70533dd3aaba4300ab1db2560d8ecfaa": {
          "model_module": "@jupyter-widgets/controls",
          "model_module_version": "1.5.0",
          "model_name": "HBoxModel",
          "state": {
            "_dom_classes": [],
            "_model_module": "@jupyter-widgets/controls",
            "_model_module_version": "1.5.0",
            "_model_name": "HBoxModel",
            "_view_count": null,
            "_view_module": "@jupyter-widgets/controls",
            "_view_module_version": "1.5.0",
            "_view_name": "HBoxView",
            "box_style": "",
            "children": [
              "IPY_MODEL_873fe5261fb34abe94dca1c2afcf37b3",
              "IPY_MODEL_ecd80ddf504f48649a53e0e8c5f3c8a5",
              "IPY_MODEL_d459eb4683324660b060db36cdd9bb45"
            ],
            "layout": "IPY_MODEL_e0352a00c40248b781c0e6f212eded41"
          }
        },
        "71f34036bd9745078c1e3e900526687e": {
          "model_module": "@jupyter-widgets/base",
          "model_module_version": "1.2.0",
          "model_name": "LayoutModel",
          "state": {
            "_model_module": "@jupyter-widgets/base",
            "_model_module_version": "1.2.0",
            "_model_name": "LayoutModel",
            "_view_count": null,
            "_view_module": "@jupyter-widgets/base",
            "_view_module_version": "1.2.0",
            "_view_name": "LayoutView",
            "align_content": null,
            "align_items": null,
            "align_self": null,
            "border": null,
            "bottom": null,
            "display": null,
            "flex": null,
            "flex_flow": null,
            "grid_area": null,
            "grid_auto_columns": null,
            "grid_auto_flow": null,
            "grid_auto_rows": null,
            "grid_column": null,
            "grid_gap": null,
            "grid_row": null,
            "grid_template_areas": null,
            "grid_template_columns": null,
            "grid_template_rows": null,
            "height": null,
            "justify_content": null,
            "justify_items": null,
            "left": null,
            "margin": null,
            "max_height": null,
            "max_width": null,
            "min_height": null,
            "min_width": null,
            "object_fit": null,
            "object_position": null,
            "order": null,
            "overflow": null,
            "overflow_x": null,
            "overflow_y": null,
            "padding": null,
            "right": null,
            "top": null,
            "visibility": null,
            "width": null
          }
        },
        "7c9c7f2a95df45b982535d139b8ff801": {
          "model_module": "@jupyter-widgets/controls",
          "model_module_version": "1.5.0",
          "model_name": "HTMLModel",
          "state": {
            "_dom_classes": [],
            "_model_module": "@jupyter-widgets/controls",
            "_model_module_version": "1.5.0",
            "_model_name": "HTMLModel",
            "_view_count": null,
            "_view_module": "@jupyter-widgets/controls",
            "_view_module_version": "1.5.0",
            "_view_name": "HTMLView",
            "description": "",
            "description_tooltip": null,
            "layout": "IPY_MODEL_fc467752f78a48cbae8481dec12b3e7f",
            "placeholder": "​",
            "style": "IPY_MODEL_18add5ef22e04a6f8d1df031f60f0bd1",
            "value": " 833/833 [00:00&lt;00:00, 32.0kB/s]"
          }
        },
        "7cbfc8963e444a909afe4b8913173bf2": {
          "model_module": "@jupyter-widgets/controls",
          "model_module_version": "1.5.0",
          "model_name": "HBoxModel",
          "state": {
            "_dom_classes": [],
            "_model_module": "@jupyter-widgets/controls",
            "_model_module_version": "1.5.0",
            "_model_name": "HBoxModel",
            "_view_count": null,
            "_view_module": "@jupyter-widgets/controls",
            "_view_module_version": "1.5.0",
            "_view_name": "HBoxView",
            "box_style": "",
            "children": [
              "IPY_MODEL_911c80b43ad84e58a77bba7bbf53d282",
              "IPY_MODEL_29ef638bfaaa45e0bf566fabcf0a2ae4",
              "IPY_MODEL_7c9c7f2a95df45b982535d139b8ff801"
            ],
            "layout": "IPY_MODEL_71f34036bd9745078c1e3e900526687e"
          }
        },
        "827c86f1db4c438dbea00fa513d68fa5": {
          "model_module": "@jupyter-widgets/base",
          "model_module_version": "1.2.0",
          "model_name": "LayoutModel",
          "state": {
            "_model_module": "@jupyter-widgets/base",
            "_model_module_version": "1.2.0",
            "_model_name": "LayoutModel",
            "_view_count": null,
            "_view_module": "@jupyter-widgets/base",
            "_view_module_version": "1.2.0",
            "_view_name": "LayoutView",
            "align_content": null,
            "align_items": null,
            "align_self": null,
            "border": null,
            "bottom": null,
            "display": null,
            "flex": null,
            "flex_flow": null,
            "grid_area": null,
            "grid_auto_columns": null,
            "grid_auto_flow": null,
            "grid_auto_rows": null,
            "grid_column": null,
            "grid_gap": null,
            "grid_row": null,
            "grid_template_areas": null,
            "grid_template_columns": null,
            "grid_template_rows": null,
            "height": null,
            "justify_content": null,
            "justify_items": null,
            "left": null,
            "margin": null,
            "max_height": null,
            "max_width": null,
            "min_height": null,
            "min_width": null,
            "object_fit": null,
            "object_position": null,
            "order": null,
            "overflow": null,
            "overflow_x": null,
            "overflow_y": null,
            "padding": null,
            "right": null,
            "top": null,
            "visibility": null,
            "width": null
          }
        },
        "841cf70db8c648219f17313b192247bd": {
          "model_module": "@jupyter-widgets/base",
          "model_module_version": "1.2.0",
          "model_name": "LayoutModel",
          "state": {
            "_model_module": "@jupyter-widgets/base",
            "_model_module_version": "1.2.0",
            "_model_name": "LayoutModel",
            "_view_count": null,
            "_view_module": "@jupyter-widgets/base",
            "_view_module_version": "1.2.0",
            "_view_name": "LayoutView",
            "align_content": null,
            "align_items": null,
            "align_self": null,
            "border": null,
            "bottom": null,
            "display": null,
            "flex": null,
            "flex_flow": null,
            "grid_area": null,
            "grid_auto_columns": null,
            "grid_auto_flow": null,
            "grid_auto_rows": null,
            "grid_column": null,
            "grid_gap": null,
            "grid_row": null,
            "grid_template_areas": null,
            "grid_template_columns": null,
            "grid_template_rows": null,
            "height": null,
            "justify_content": null,
            "justify_items": null,
            "left": null,
            "margin": null,
            "max_height": null,
            "max_width": null,
            "min_height": null,
            "min_width": null,
            "object_fit": null,
            "object_position": null,
            "order": null,
            "overflow": null,
            "overflow_x": null,
            "overflow_y": null,
            "padding": null,
            "right": null,
            "top": null,
            "visibility": null,
            "width": null
          }
        },
        "851816d484834f5889fd8797ff304b86": {
          "model_module": "@jupyter-widgets/base",
          "model_module_version": "1.2.0",
          "model_name": "LayoutModel",
          "state": {
            "_model_module": "@jupyter-widgets/base",
            "_model_module_version": "1.2.0",
            "_model_name": "LayoutModel",
            "_view_count": null,
            "_view_module": "@jupyter-widgets/base",
            "_view_module_version": "1.2.0",
            "_view_name": "LayoutView",
            "align_content": null,
            "align_items": null,
            "align_self": null,
            "border": null,
            "bottom": null,
            "display": null,
            "flex": null,
            "flex_flow": null,
            "grid_area": null,
            "grid_auto_columns": null,
            "grid_auto_flow": null,
            "grid_auto_rows": null,
            "grid_column": null,
            "grid_gap": null,
            "grid_row": null,
            "grid_template_areas": null,
            "grid_template_columns": null,
            "grid_template_rows": null,
            "height": null,
            "justify_content": null,
            "justify_items": null,
            "left": null,
            "margin": null,
            "max_height": null,
            "max_width": null,
            "min_height": null,
            "min_width": null,
            "object_fit": null,
            "object_position": null,
            "order": null,
            "overflow": null,
            "overflow_x": null,
            "overflow_y": null,
            "padding": null,
            "right": null,
            "top": null,
            "visibility": null,
            "width": null
          }
        },
        "8684d9a4cd86484ba32bee316d1ed452": {
          "model_module": "@jupyter-widgets/base",
          "model_module_version": "1.2.0",
          "model_name": "LayoutModel",
          "state": {
            "_model_module": "@jupyter-widgets/base",
            "_model_module_version": "1.2.0",
            "_model_name": "LayoutModel",
            "_view_count": null,
            "_view_module": "@jupyter-widgets/base",
            "_view_module_version": "1.2.0",
            "_view_name": "LayoutView",
            "align_content": null,
            "align_items": null,
            "align_self": null,
            "border": null,
            "bottom": null,
            "display": null,
            "flex": null,
            "flex_flow": null,
            "grid_area": null,
            "grid_auto_columns": null,
            "grid_auto_flow": null,
            "grid_auto_rows": null,
            "grid_column": null,
            "grid_gap": null,
            "grid_row": null,
            "grid_template_areas": null,
            "grid_template_columns": null,
            "grid_template_rows": null,
            "height": null,
            "justify_content": null,
            "justify_items": null,
            "left": null,
            "margin": null,
            "max_height": null,
            "max_width": null,
            "min_height": null,
            "min_width": null,
            "object_fit": null,
            "object_position": null,
            "order": null,
            "overflow": null,
            "overflow_x": null,
            "overflow_y": null,
            "padding": null,
            "right": null,
            "top": null,
            "visibility": null,
            "width": null
          }
        },
        "873fe5261fb34abe94dca1c2afcf37b3": {
          "model_module": "@jupyter-widgets/controls",
          "model_module_version": "1.5.0",
          "model_name": "HTMLModel",
          "state": {
            "_dom_classes": [],
            "_model_module": "@jupyter-widgets/controls",
            "_model_module_version": "1.5.0",
            "_model_name": "HTMLModel",
            "_view_count": null,
            "_view_module": "@jupyter-widgets/controls",
            "_view_module_version": "1.5.0",
            "_view_name": "HTMLView",
            "description": "",
            "description_tooltip": null,
            "layout": "IPY_MODEL_ff54d3060f194d0a9b5f8b914b7eab59",
            "placeholder": "​",
            "style": "IPY_MODEL_fbba5b146c3143e8aec808a37e8963d1",
            "value": "tokenizer_config.json: 100%"
          }
        },
        "8cce27c19ddf4fc69467663790f573ad": {
          "model_module": "@jupyter-widgets/controls",
          "model_module_version": "1.5.0",
          "model_name": "HBoxModel",
          "state": {
            "_dom_classes": [],
            "_model_module": "@jupyter-widgets/controls",
            "_model_module_version": "1.5.0",
            "_model_name": "HBoxModel",
            "_view_count": null,
            "_view_module": "@jupyter-widgets/controls",
            "_view_module_version": "1.5.0",
            "_view_name": "HBoxView",
            "box_style": "",
            "children": [
              "IPY_MODEL_09a808c1c3fc488daa7786d0d6dfb3e5",
              "IPY_MODEL_02adbc5efbb143c9b30d98491ae7b2e0",
              "IPY_MODEL_960138905d7043358428cf91f5b0b137"
            ],
            "layout": "IPY_MODEL_9bd92add094c49dc9d9f2044c996ea6e"
          }
        },
        "9118c6056013418b87e996d45729910e": {
          "model_module": "@jupyter-widgets/controls",
          "model_module_version": "1.5.0",
          "model_name": "DescriptionStyleModel",
          "state": {
            "_model_module": "@jupyter-widgets/controls",
            "_model_module_version": "1.5.0",
            "_model_name": "DescriptionStyleModel",
            "_view_count": null,
            "_view_module": "@jupyter-widgets/base",
            "_view_module_version": "1.2.0",
            "_view_name": "StyleView",
            "description_width": ""
          }
        },
        "911c80b43ad84e58a77bba7bbf53d282": {
          "model_module": "@jupyter-widgets/controls",
          "model_module_version": "1.5.0",
          "model_name": "HTMLModel",
          "state": {
            "_dom_classes": [],
            "_model_module": "@jupyter-widgets/controls",
            "_model_module_version": "1.5.0",
            "_model_name": "HTMLModel",
            "_view_count": null,
            "_view_module": "@jupyter-widgets/controls",
            "_view_module_version": "1.5.0",
            "_view_name": "HTMLView",
            "description": "",
            "description_tooltip": null,
            "layout": "IPY_MODEL_008a6de21b7b4b448a34135b0e96e542",
            "placeholder": "​",
            "style": "IPY_MODEL_d7547bd943de4dd78b06455166621448",
            "value": "config.json: 100%"
          }
        },
        "960138905d7043358428cf91f5b0b137": {
          "model_module": "@jupyter-widgets/controls",
          "model_module_version": "1.5.0",
          "model_name": "HTMLModel",
          "state": {
            "_dom_classes": [],
            "_model_module": "@jupyter-widgets/controls",
            "_model_module_version": "1.5.0",
            "_model_name": "HTMLModel",
            "_view_count": null,
            "_view_module": "@jupyter-widgets/controls",
            "_view_module_version": "1.5.0",
            "_view_name": "HTMLView",
            "description": "",
            "description_tooltip": null,
            "layout": "IPY_MODEL_12b5e6ad6a24430fb4137ced65e0b09c",
            "placeholder": "​",
            "style": "IPY_MODEL_9118c6056013418b87e996d45729910e",
            "value": " 125/125 [00:00&lt;00:00, 6.34kB/s]"
          }
        },
        "969074dce6624f33aa15f22fe9a472d1": {
          "model_module": "@jupyter-widgets/base",
          "model_module_version": "1.2.0",
          "model_name": "LayoutModel",
          "state": {
            "_model_module": "@jupyter-widgets/base",
            "_model_module_version": "1.2.0",
            "_model_name": "LayoutModel",
            "_view_count": null,
            "_view_module": "@jupyter-widgets/base",
            "_view_module_version": "1.2.0",
            "_view_name": "LayoutView",
            "align_content": null,
            "align_items": null,
            "align_self": null,
            "border": null,
            "bottom": null,
            "display": null,
            "flex": null,
            "flex_flow": null,
            "grid_area": null,
            "grid_auto_columns": null,
            "grid_auto_flow": null,
            "grid_auto_rows": null,
            "grid_column": null,
            "grid_gap": null,
            "grid_row": null,
            "grid_template_areas": null,
            "grid_template_columns": null,
            "grid_template_rows": null,
            "height": null,
            "justify_content": null,
            "justify_items": null,
            "left": null,
            "margin": null,
            "max_height": null,
            "max_width": null,
            "min_height": null,
            "min_width": null,
            "object_fit": null,
            "object_position": null,
            "order": null,
            "overflow": null,
            "overflow_x": null,
            "overflow_y": null,
            "padding": null,
            "right": null,
            "top": null,
            "visibility": null,
            "width": null
          }
        },
        "9b999eeebd904e40b5fbc36aec26d02e": {
          "model_module": "@jupyter-widgets/base",
          "model_module_version": "1.2.0",
          "model_name": "LayoutModel",
          "state": {
            "_model_module": "@jupyter-widgets/base",
            "_model_module_version": "1.2.0",
            "_model_name": "LayoutModel",
            "_view_count": null,
            "_view_module": "@jupyter-widgets/base",
            "_view_module_version": "1.2.0",
            "_view_name": "LayoutView",
            "align_content": null,
            "align_items": null,
            "align_self": null,
            "border": null,
            "bottom": null,
            "display": null,
            "flex": null,
            "flex_flow": null,
            "grid_area": null,
            "grid_auto_columns": null,
            "grid_auto_flow": null,
            "grid_auto_rows": null,
            "grid_column": null,
            "grid_gap": null,
            "grid_row": null,
            "grid_template_areas": null,
            "grid_template_columns": null,
            "grid_template_rows": null,
            "height": null,
            "justify_content": null,
            "justify_items": null,
            "left": null,
            "margin": null,
            "max_height": null,
            "max_width": null,
            "min_height": null,
            "min_width": null,
            "object_fit": null,
            "object_position": null,
            "order": null,
            "overflow": null,
            "overflow_x": null,
            "overflow_y": null,
            "padding": null,
            "right": null,
            "top": null,
            "visibility": null,
            "width": null
          }
        },
        "9bd92add094c49dc9d9f2044c996ea6e": {
          "model_module": "@jupyter-widgets/base",
          "model_module_version": "1.2.0",
          "model_name": "LayoutModel",
          "state": {
            "_model_module": "@jupyter-widgets/base",
            "_model_module_version": "1.2.0",
            "_model_name": "LayoutModel",
            "_view_count": null,
            "_view_module": "@jupyter-widgets/base",
            "_view_module_version": "1.2.0",
            "_view_name": "LayoutView",
            "align_content": null,
            "align_items": null,
            "align_self": null,
            "border": null,
            "bottom": null,
            "display": null,
            "flex": null,
            "flex_flow": null,
            "grid_area": null,
            "grid_auto_columns": null,
            "grid_auto_flow": null,
            "grid_auto_rows": null,
            "grid_column": null,
            "grid_gap": null,
            "grid_row": null,
            "grid_template_areas": null,
            "grid_template_columns": null,
            "grid_template_rows": null,
            "height": null,
            "justify_content": null,
            "justify_items": null,
            "left": null,
            "margin": null,
            "max_height": null,
            "max_width": null,
            "min_height": null,
            "min_width": null,
            "object_fit": null,
            "object_position": null,
            "order": null,
            "overflow": null,
            "overflow_x": null,
            "overflow_y": null,
            "padding": null,
            "right": null,
            "top": null,
            "visibility": null,
            "width": null
          }
        },
        "a2ec7afd679e43ee84aa8b8446f65255": {
          "model_module": "@jupyter-widgets/controls",
          "model_module_version": "1.5.0",
          "model_name": "HBoxModel",
          "state": {
            "_dom_classes": [],
            "_model_module": "@jupyter-widgets/controls",
            "_model_module_version": "1.5.0",
            "_model_name": "HBoxModel",
            "_view_count": null,
            "_view_module": "@jupyter-widgets/controls",
            "_view_module_version": "1.5.0",
            "_view_name": "HBoxView",
            "box_style": "",
            "children": [
              "IPY_MODEL_1881d382d36946b8b6ce9c86c93e8c26",
              "IPY_MODEL_f8232b35cfce4668a937e55e3a6ed8bc",
              "IPY_MODEL_584f8bcf1f4c432fafa7ca49168350a4"
            ],
            "layout": "IPY_MODEL_841cf70db8c648219f17313b192247bd"
          }
        },
        "b08b09a294f64e14814828431f703169": {
          "model_module": "@jupyter-widgets/controls",
          "model_module_version": "1.5.0",
          "model_name": "DescriptionStyleModel",
          "state": {
            "_model_module": "@jupyter-widgets/controls",
            "_model_module_version": "1.5.0",
            "_model_name": "DescriptionStyleModel",
            "_view_count": null,
            "_view_module": "@jupyter-widgets/base",
            "_view_module_version": "1.2.0",
            "_view_name": "StyleView",
            "description_width": ""
          }
        },
        "bc297601717540218cd60dfdc8a21061": {
          "model_module": "@jupyter-widgets/base",
          "model_module_version": "1.2.0",
          "model_name": "LayoutModel",
          "state": {
            "_model_module": "@jupyter-widgets/base",
            "_model_module_version": "1.2.0",
            "_model_name": "LayoutModel",
            "_view_count": null,
            "_view_module": "@jupyter-widgets/base",
            "_view_module_version": "1.2.0",
            "_view_name": "LayoutView",
            "align_content": null,
            "align_items": null,
            "align_self": null,
            "border": null,
            "bottom": null,
            "display": null,
            "flex": null,
            "flex_flow": null,
            "grid_area": null,
            "grid_auto_columns": null,
            "grid_auto_flow": null,
            "grid_auto_rows": null,
            "grid_column": null,
            "grid_gap": null,
            "grid_row": null,
            "grid_template_areas": null,
            "grid_template_columns": null,
            "grid_template_rows": null,
            "height": null,
            "justify_content": null,
            "justify_items": null,
            "left": null,
            "margin": null,
            "max_height": null,
            "max_width": null,
            "min_height": null,
            "min_width": null,
            "object_fit": null,
            "object_position": null,
            "order": null,
            "overflow": null,
            "overflow_x": null,
            "overflow_y": null,
            "padding": null,
            "right": null,
            "top": null,
            "visibility": null,
            "width": null
          }
        },
        "c0591288d19a496e982b213d62b66862": {
          "model_module": "@jupyter-widgets/base",
          "model_module_version": "1.2.0",
          "model_name": "LayoutModel",
          "state": {
            "_model_module": "@jupyter-widgets/base",
            "_model_module_version": "1.2.0",
            "_model_name": "LayoutModel",
            "_view_count": null,
            "_view_module": "@jupyter-widgets/base",
            "_view_module_version": "1.2.0",
            "_view_name": "LayoutView",
            "align_content": null,
            "align_items": null,
            "align_self": null,
            "border": null,
            "bottom": null,
            "display": null,
            "flex": null,
            "flex_flow": null,
            "grid_area": null,
            "grid_auto_columns": null,
            "grid_auto_flow": null,
            "grid_auto_rows": null,
            "grid_column": null,
            "grid_gap": null,
            "grid_row": null,
            "grid_template_areas": null,
            "grid_template_columns": null,
            "grid_template_rows": null,
            "height": null,
            "justify_content": null,
            "justify_items": null,
            "left": null,
            "margin": null,
            "max_height": null,
            "max_width": null,
            "min_height": null,
            "min_width": null,
            "object_fit": null,
            "object_position": null,
            "order": null,
            "overflow": null,
            "overflow_x": null,
            "overflow_y": null,
            "padding": null,
            "right": null,
            "top": null,
            "visibility": null,
            "width": null
          }
        },
        "c274b569815d4bd3bf0c017f49f192ba": {
          "model_module": "@jupyter-widgets/controls",
          "model_module_version": "1.5.0",
          "model_name": "ProgressStyleModel",
          "state": {
            "_model_module": "@jupyter-widgets/controls",
            "_model_module_version": "1.5.0",
            "_model_name": "ProgressStyleModel",
            "_view_count": null,
            "_view_module": "@jupyter-widgets/base",
            "_view_module_version": "1.2.0",
            "_view_name": "StyleView",
            "bar_color": null,
            "description_width": ""
          }
        },
        "d459eb4683324660b060db36cdd9bb45": {
          "model_module": "@jupyter-widgets/controls",
          "model_module_version": "1.5.0",
          "model_name": "HTMLModel",
          "state": {
            "_dom_classes": [],
            "_model_module": "@jupyter-widgets/controls",
            "_model_module_version": "1.5.0",
            "_model_name": "HTMLModel",
            "_view_count": null,
            "_view_module": "@jupyter-widgets/controls",
            "_view_module_version": "1.5.0",
            "_view_name": "HTMLView",
            "description": "",
            "description_tooltip": null,
            "layout": "IPY_MODEL_827c86f1db4c438dbea00fa513d68fa5",
            "placeholder": "​",
            "style": "IPY_MODEL_d7c9c69cc1b0445a84946a04390f09bd",
            "value": " 95.0/95.0 [00:00&lt;00:00, 3.29kB/s]"
          }
        },
        "d7547bd943de4dd78b06455166621448": {
          "model_module": "@jupyter-widgets/controls",
          "model_module_version": "1.5.0",
          "model_name": "DescriptionStyleModel",
          "state": {
            "_model_module": "@jupyter-widgets/controls",
            "_model_module_version": "1.5.0",
            "_model_name": "DescriptionStyleModel",
            "_view_count": null,
            "_view_module": "@jupyter-widgets/base",
            "_view_module_version": "1.2.0",
            "_view_name": "StyleView",
            "description_width": ""
          }
        },
        "d75e7443c533492cb87c4e0b4fb4c282": {
          "model_module": "@jupyter-widgets/controls",
          "model_module_version": "1.5.0",
          "model_name": "ProgressStyleModel",
          "state": {
            "_model_module": "@jupyter-widgets/controls",
            "_model_module_version": "1.5.0",
            "_model_name": "ProgressStyleModel",
            "_view_count": null,
            "_view_module": "@jupyter-widgets/base",
            "_view_module_version": "1.2.0",
            "_view_name": "StyleView",
            "bar_color": null,
            "description_width": ""
          }
        },
        "d7c9c69cc1b0445a84946a04390f09bd": {
          "model_module": "@jupyter-widgets/controls",
          "model_module_version": "1.5.0",
          "model_name": "DescriptionStyleModel",
          "state": {
            "_model_module": "@jupyter-widgets/controls",
            "_model_module_version": "1.5.0",
            "_model_name": "DescriptionStyleModel",
            "_view_count": null,
            "_view_module": "@jupyter-widgets/base",
            "_view_module_version": "1.2.0",
            "_view_name": "StyleView",
            "description_width": ""
          }
        },
        "dafe1f1b9daf43aeb964aed939bf9bc0": {
          "model_module": "@jupyter-widgets/base",
          "model_module_version": "1.2.0",
          "model_name": "LayoutModel",
          "state": {
            "_model_module": "@jupyter-widgets/base",
            "_model_module_version": "1.2.0",
            "_model_name": "LayoutModel",
            "_view_count": null,
            "_view_module": "@jupyter-widgets/base",
            "_view_module_version": "1.2.0",
            "_view_name": "LayoutView",
            "align_content": null,
            "align_items": null,
            "align_self": null,
            "border": null,
            "bottom": null,
            "display": null,
            "flex": null,
            "flex_flow": null,
            "grid_area": null,
            "grid_auto_columns": null,
            "grid_auto_flow": null,
            "grid_auto_rows": null,
            "grid_column": null,
            "grid_gap": null,
            "grid_row": null,
            "grid_template_areas": null,
            "grid_template_columns": null,
            "grid_template_rows": null,
            "height": null,
            "justify_content": null,
            "justify_items": null,
            "left": null,
            "margin": null,
            "max_height": null,
            "max_width": null,
            "min_height": null,
            "min_width": null,
            "object_fit": null,
            "object_position": null,
            "order": null,
            "overflow": null,
            "overflow_x": null,
            "overflow_y": null,
            "padding": null,
            "right": null,
            "top": null,
            "visibility": null,
            "width": null
          }
        },
        "ddc1b520f2bf41f4a86ecb5818241725": {
          "model_module": "@jupyter-widgets/controls",
          "model_module_version": "1.5.0",
          "model_name": "ProgressStyleModel",
          "state": {
            "_model_module": "@jupyter-widgets/controls",
            "_model_module_version": "1.5.0",
            "_model_name": "ProgressStyleModel",
            "_view_count": null,
            "_view_module": "@jupyter-widgets/base",
            "_view_module_version": "1.2.0",
            "_view_name": "StyleView",
            "bar_color": null,
            "description_width": ""
          }
        },
        "e0352a00c40248b781c0e6f212eded41": {
          "model_module": "@jupyter-widgets/base",
          "model_module_version": "1.2.0",
          "model_name": "LayoutModel",
          "state": {
            "_model_module": "@jupyter-widgets/base",
            "_model_module_version": "1.2.0",
            "_model_name": "LayoutModel",
            "_view_count": null,
            "_view_module": "@jupyter-widgets/base",
            "_view_module_version": "1.2.0",
            "_view_name": "LayoutView",
            "align_content": null,
            "align_items": null,
            "align_self": null,
            "border": null,
            "bottom": null,
            "display": null,
            "flex": null,
            "flex_flow": null,
            "grid_area": null,
            "grid_auto_columns": null,
            "grid_auto_flow": null,
            "grid_auto_rows": null,
            "grid_column": null,
            "grid_gap": null,
            "grid_row": null,
            "grid_template_areas": null,
            "grid_template_columns": null,
            "grid_template_rows": null,
            "height": null,
            "justify_content": null,
            "justify_items": null,
            "left": null,
            "margin": null,
            "max_height": null,
            "max_width": null,
            "min_height": null,
            "min_width": null,
            "object_fit": null,
            "object_position": null,
            "order": null,
            "overflow": null,
            "overflow_x": null,
            "overflow_y": null,
            "padding": null,
            "right": null,
            "top": null,
            "visibility": null,
            "width": null
          }
        },
        "ecd80ddf504f48649a53e0e8c5f3c8a5": {
          "model_module": "@jupyter-widgets/controls",
          "model_module_version": "1.5.0",
          "model_name": "FloatProgressModel",
          "state": {
            "_dom_classes": [],
            "_model_module": "@jupyter-widgets/controls",
            "_model_module_version": "1.5.0",
            "_model_name": "FloatProgressModel",
            "_view_count": null,
            "_view_module": "@jupyter-widgets/controls",
            "_view_module_version": "1.5.0",
            "_view_name": "ProgressView",
            "bar_style": "success",
            "description": "",
            "description_tooltip": null,
            "layout": "IPY_MODEL_851816d484834f5889fd8797ff304b86",
            "max": 95,
            "min": 0,
            "orientation": "horizontal",
            "style": "IPY_MODEL_d75e7443c533492cb87c4e0b4fb4c282",
            "value": 95
          }
        },
        "ed7386bd35634a01b3eacabee6dda194": {
          "model_module": "@jupyter-widgets/base",
          "model_module_version": "1.2.0",
          "model_name": "LayoutModel",
          "state": {
            "_model_module": "@jupyter-widgets/base",
            "_model_module_version": "1.2.0",
            "_model_name": "LayoutModel",
            "_view_count": null,
            "_view_module": "@jupyter-widgets/base",
            "_view_module_version": "1.2.0",
            "_view_name": "LayoutView",
            "align_content": null,
            "align_items": null,
            "align_self": null,
            "border": null,
            "bottom": null,
            "display": null,
            "flex": null,
            "flex_flow": null,
            "grid_area": null,
            "grid_auto_columns": null,
            "grid_auto_flow": null,
            "grid_auto_rows": null,
            "grid_column": null,
            "grid_gap": null,
            "grid_row": null,
            "grid_template_areas": null,
            "grid_template_columns": null,
            "grid_template_rows": null,
            "height": null,
            "justify_content": null,
            "justify_items": null,
            "left": null,
            "margin": null,
            "max_height": null,
            "max_width": null,
            "min_height": null,
            "min_width": null,
            "object_fit": null,
            "object_position": null,
            "order": null,
            "overflow": null,
            "overflow_x": null,
            "overflow_y": null,
            "padding": null,
            "right": null,
            "top": null,
            "visibility": null,
            "width": null
          }
        },
        "f5478a2fb9d84a1b94f430a2b37dfe7c": {
          "model_module": "@jupyter-widgets/controls",
          "model_module_version": "1.5.0",
          "model_name": "ProgressStyleModel",
          "state": {
            "_model_module": "@jupyter-widgets/controls",
            "_model_module_version": "1.5.0",
            "_model_name": "ProgressStyleModel",
            "_view_count": null,
            "_view_module": "@jupyter-widgets/base",
            "_view_module_version": "1.2.0",
            "_view_name": "StyleView",
            "bar_color": null,
            "description_width": ""
          }
        },
        "f72128fce27d4af5a140408e2f6cef0a": {
          "model_module": "@jupyter-widgets/controls",
          "model_module_version": "1.5.0",
          "model_name": "ProgressStyleModel",
          "state": {
            "_model_module": "@jupyter-widgets/controls",
            "_model_module_version": "1.5.0",
            "_model_name": "ProgressStyleModel",
            "_view_count": null,
            "_view_module": "@jupyter-widgets/base",
            "_view_module_version": "1.2.0",
            "_view_name": "StyleView",
            "bar_color": null,
            "description_width": ""
          }
        },
        "f8232b35cfce4668a937e55e3a6ed8bc": {
          "model_module": "@jupyter-widgets/controls",
          "model_module_version": "1.5.0",
          "model_name": "FloatProgressModel",
          "state": {
            "_dom_classes": [],
            "_model_module": "@jupyter-widgets/controls",
            "_model_module_version": "1.5.0",
            "_model_name": "FloatProgressModel",
            "_view_count": null,
            "_view_module": "@jupyter-widgets/controls",
            "_view_module_version": "1.5.0",
            "_view_name": "ProgressView",
            "bar_style": "success",
            "description": "",
            "description_tooltip": null,
            "layout": "IPY_MODEL_5bf51def5b7a4a5a87873de5380574eb",
            "max": 2609497900,
            "min": 0,
            "orientation": "horizontal",
            "style": "IPY_MODEL_f5478a2fb9d84a1b94f430a2b37dfe7c",
            "value": 2609497900
          }
        },
        "fbba5b146c3143e8aec808a37e8963d1": {
          "model_module": "@jupyter-widgets/controls",
          "model_module_version": "1.5.0",
          "model_name": "DescriptionStyleModel",
          "state": {
            "_model_module": "@jupyter-widgets/controls",
            "_model_module_version": "1.5.0",
            "_model_name": "DescriptionStyleModel",
            "_view_count": null,
            "_view_module": "@jupyter-widgets/base",
            "_view_module_version": "1.2.0",
            "_view_name": "StyleView",
            "description_width": ""
          }
        },
        "fc467752f78a48cbae8481dec12b3e7f": {
          "model_module": "@jupyter-widgets/base",
          "model_module_version": "1.2.0",
          "model_name": "LayoutModel",
          "state": {
            "_model_module": "@jupyter-widgets/base",
            "_model_module_version": "1.2.0",
            "_model_name": "LayoutModel",
            "_view_count": null,
            "_view_module": "@jupyter-widgets/base",
            "_view_module_version": "1.2.0",
            "_view_name": "LayoutView",
            "align_content": null,
            "align_items": null,
            "align_self": null,
            "border": null,
            "bottom": null,
            "display": null,
            "flex": null,
            "flex_flow": null,
            "grid_area": null,
            "grid_auto_columns": null,
            "grid_auto_flow": null,
            "grid_auto_rows": null,
            "grid_column": null,
            "grid_gap": null,
            "grid_row": null,
            "grid_template_areas": null,
            "grid_template_columns": null,
            "grid_template_rows": null,
            "height": null,
            "justify_content": null,
            "justify_items": null,
            "left": null,
            "margin": null,
            "max_height": null,
            "max_width": null,
            "min_height": null,
            "min_width": null,
            "object_fit": null,
            "object_position": null,
            "order": null,
            "overflow": null,
            "overflow_x": null,
            "overflow_y": null,
            "padding": null,
            "right": null,
            "top": null,
            "visibility": null,
            "width": null
          }
        },
        "ff54d3060f194d0a9b5f8b914b7eab59": {
          "model_module": "@jupyter-widgets/base",
          "model_module_version": "1.2.0",
          "model_name": "LayoutModel",
          "state": {
            "_model_module": "@jupyter-widgets/base",
            "_model_module_version": "1.2.0",
            "_model_name": "LayoutModel",
            "_view_count": null,
            "_view_module": "@jupyter-widgets/base",
            "_view_module_version": "1.2.0",
            "_view_name": "LayoutView",
            "align_content": null,
            "align_items": null,
            "align_self": null,
            "border": null,
            "bottom": null,
            "display": null,
            "flex": null,
            "flex_flow": null,
            "grid_area": null,
            "grid_auto_columns": null,
            "grid_auto_flow": null,
            "grid_auto_rows": null,
            "grid_column": null,
            "grid_gap": null,
            "grid_row": null,
            "grid_template_areas": null,
            "grid_template_columns": null,
            "grid_template_rows": null,
            "height": null,
            "justify_content": null,
            "justify_items": null,
            "left": null,
            "margin": null,
            "max_height": null,
            "max_width": null,
            "min_height": null,
            "min_width": null,
            "object_fit": null,
            "object_position": null,
            "order": null,
            "overflow": null,
            "overflow_x": null,
            "overflow_y": null,
            "padding": null,
            "right": null,
            "top": null,
            "visibility": null,
            "width": null
          }
        }
      }
    }
  },
  "nbformat": 4,
  "nbformat_minor": 0
}
