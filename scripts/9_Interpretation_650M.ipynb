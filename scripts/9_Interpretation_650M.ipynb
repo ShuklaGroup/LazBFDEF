{
  "cells": [
    {
      "cell_type": "code",
      "execution_count": null,
      "metadata": {
        "id": "W-eB1D-nQRYP"
      },
      "outputs": [],
      "source": [
        "# OPTIONAL: If using google colab, install the neccesary packages\n",
        "!pip install transformers[torch] datasets evaluate"
      ]
    },
    {
      "cell_type": "code",
      "execution_count": 3,
      "metadata": {
        "cellView": "form",
        "id": "TQMNx2ZGNLcK"
      },
      "outputs": [],
      "source": [
        "# Load sequences and imports\n",
        "import torch\n",
        "import random\n",
        "from tqdm import tqdm\n",
        "import numpy as np\n",
        "import pandas as pd\n",
        "from sklearn.metrics import r2_score\n",
        "from sklearn.svm import SVR\n",
        "from sklearn.decomposition import PCA\n",
        "from sklearn.model_selection import train_test_split\n",
        "from sklearn.metrics import mean_squared_error\n",
        "from sklearn.model_selection import KFold\n",
        "from sklearn.utils import resample\n",
        "import matplotlib.pyplot as plt\n",
        "import matplotlib.lines as mlines\n",
        "from scipy.stats import spearmanr\n",
        "from sklearn.metrics import ndcg_score\n",
        "from sklearn.svm import SVR\n",
        "from sklearn.linear_model import Ridge\n",
        "from sklearn.pipeline import make_pipeline\n",
        "from sklearn.preprocessing import StandardScaler, RobustScaler, MinMaxScaler, normalize\n",
        "from sklearn.model_selection import KFold\n",
        "from sklearn.utils import resample\n",
        "import matplotlib.pyplot as plt\n",
        "import matplotlib.lines as mlines\n",
        "import matplotlib.ticker as ticker\n",
        "from scipy.stats import spearmanr\n",
        "from scipy.stats import pearsonr\n",
        "from sklearn.metrics import ndcg_score\n",
        "from sklearn.kernel_ridge import KernelRidge\n",
        "from sklearn.svm import SVR, SVC\n",
        "from sklearn.linear_model import Ridge\n",
        "from sklearn.metrics.pairwise import cosine_similarity\n",
        "from sklearn.pipeline import make_pipeline\n",
        "from sklearn.preprocessing import StandardScaler, MinMaxScaler\n",
        "from transformers import AutoModelForSequenceClassification, Trainer, TrainingArguments, AutoTokenizer, AutoModelForMaskedLM, DataCollatorForLanguageModeling\n",
        "from datasets import Dataset\n",
        "from evaluate import load\n",
        "from transformers import RobertaTokenizer, RobertaModel, RobertaConfig\n",
        "device = torch.device(\"cuda\" if torch.cuda.is_available() else \"cpu\")\n",
        "\n",
        "# Load sequences from csv\n",
        "df = pd.read_csv('../Data/LazBF_sequences.csv')\n",
        "LazBF_sequences = df['sequences'].tolist()\n",
        "LazBF_labels = df['labels'].tolist()\n",
        "\n",
        "df = pd.read_csv('../Data/LazBF_sample.csv')\n",
        "LazBF_sample = df['sequences'].tolist()\n",
        "LazBF_sample_labels = df['labels'].tolist()\n",
        "\n",
        "df = pd.read_csv('../Data/LazDEF_sequences.csv')\n",
        "LazDEF_sequences = df['sequences'].tolist()\n",
        "LazDEF_labels = df['labels'].tolist()\n",
        "\n",
        "df = pd.read_csv('../Data/LazDEF_sample.csv')\n",
        "LazDEF_sample = df['sequences'].tolist()\n",
        "LazDEF_sample_labels = df['labels'].tolist()\n",
        "\n",
        "df = pd.read_csv('../Data/LazBCDEF_sequences.csv')\n",
        "LazBCDEF_sequences = df['sequences'].tolist()\n",
        "LazBCDEF_labels = df['labels'].tolist()\n",
        "\n",
        "df = pd.read_csv('../Data/LazBCDEF_sample.csv')\n",
        "LazBCDEF_sample = df['sequences'].tolist()\n",
        "LazBCDEF_sample_labels = df['labels'].tolist()"
      ]
    },
    {
      "cell_type": "code",
      "execution_count": 4,
      "metadata": {
        "colab": {
          "base_uri": "https://localhost:8080/",
          "height": 153,
          "referenced_widgets": [
            "69b6ab3f7db94809bde5705d82a6a4fc",
            "c68bcdb909e84d1085d922054a32c27d",
            "1f96336acae9470ebef0433b54f3ab6c",
            "f6ced134e6224bfe82bea2f2a6d75dc1",
            "6ccb925ad07e4e35815238e549e5b9bb",
            "682eae2253d94d59bb6ad8228bacd672",
            "8f0a8f299d5340fdbdcdc7aee22829c9",
            "df64f58d9b4946a1a16c47f8b790faac",
            "2b2c6cc89ca24842bf9b688ead166613",
            "61a61cfbc1f84d08970da93c9be0d306",
            "c9293bf28f4840cfad7d68a33349f1cb",
            "9a0bbe5068904bcab5b9ca6ced6af4c3",
            "6169e8a871394430ab9f20ab107dcfb8",
            "e01a52bc55724099bf218af9a65d3eb5",
            "7b59a863d7174ce9b874f3e52bbac305",
            "cf4b3acb5ed24283a351b9b04df1b1a7",
            "d378c5bcd8fd4a7e9a371e7aef6b7b30",
            "1fd4137ea0984ef8b52a3941a4f8fe13",
            "80e045a849944b57bf27a00d0560b090",
            "239532b5011a46f2aa26fd6c55be663a",
            "2cbf909fc36b4f23b4d14b63ee2d63ac",
            "568461fbe2e449ec9d5ec9585fe95f98",
            "a4389fe5700e4aaabf3ab21da7b7665b"
          ]
        },
        "id": "wL6kQlwmORWS",
        "outputId": "cdb4d710-4108-4005-a252-54e9e0b5166b"
      },
      "outputs": [
        {
          "data": {
            "application/vnd.jupyter.widget-view+json": {
              "model_id": "69b6ab3f7db94809bde5705d82a6a4fc",
              "version_major": 2,
              "version_minor": 0
            },
            "text/plain": [
              "tokenizer_config.json:   0%|          | 0.00/95.0 [00:00<?, ?B/s]"
            ]
          },
          "metadata": {},
          "output_type": "display_data"
        },
        {
          "data": {
            "application/vnd.jupyter.widget-view+json": {
              "model_id": "c68bcdb909e84d1085d922054a32c27d",
              "version_major": 2,
              "version_minor": 0
            },
            "text/plain": [
              "vocab.txt:   0%|          | 0.00/93.0 [00:00<?, ?B/s]"
            ]
          },
          "metadata": {},
          "output_type": "display_data"
        },
        {
          "data": {
            "application/vnd.jupyter.widget-view+json": {
              "model_id": "6169e8a871394430ab9f20ab107dcfb8",
              "version_major": 2,
              "version_minor": 0
            },
            "text/plain": [
              "special_tokens_map.json:   0%|          | 0.00/125 [00:00<?, ?B/s]"
            ]
          },
          "metadata": {},
          "output_type": "display_data"
        },
        {
          "name": "stderr",
          "output_type": "stream",
          "text": [
            "/usr/local/lib/python3.10/dist-packages/transformers/tokenization_utils_base.py:1601: FutureWarning: `clean_up_tokenization_spaces` was not set. It will be set to `True` by default. This behavior will be depracted in transformers v4.45, and will be then set to `False` by default. For more details check this issue: https://github.com/huggingface/transformers/issues/31884\n",
            "  warnings.warn(\n"
          ]
        }
      ],
      "source": [
        "# Load 650M-parameter fine-tuned models\n",
        "LazBF_ft = AutoModelForSequenceClassification.from_pretrained('ShuklaGroupIllinois/LazBF_ESM2_ft').to(device)\n",
        "LazDEF_ft = AutoModelForSequenceClassification.from_pretrained('ShuklaGroupIllinois/LazDEF_ESM2_ft').to(device)\n",
        "LazBCDEF_ft = AutoModelForSequenceClassification.from_pretrained('ShuklaGroupIllinois/LazBCDEF_ESM_ft').to(device)\n",
        "tokenizer = AutoTokenizer.from_pretrained(\"facebook/esm2_t33_650M_UR50D\")"
      ]
    },
    {
      "cell_type": "code",
      "execution_count": null,
      "metadata": {
        "id": "szAHbIlQROxR"
      },
      "outputs": [],
      "source": [
        "LazBF_ft.eval()\n",
        "LazDEF_ft.eval()\n",
        "LazBCDEF_ft.eval()"
      ]
    },
    {
      "cell_type": "code",
      "execution_count": 7,
      "metadata": {
        "cellView": "form",
        "colab": {
          "base_uri": "https://localhost:8080/",
          "height": 138,
          "referenced_widgets": [
            "7bbfb3e6b9f5465c975506a7cb035f97",
            "759559662a314f918fdb6f71cdb4ab2a",
            "4cdf128752c84aada34f8d8a37d9c939",
            "e033bcc381c844d68b4b52d5b4309f37",
            "7591b3bd2ddb4f37a494ef7ed5a9a4a8",
            "62585080b98a48be9b9df57c66d43417",
            "eba908dd2c4c4b13976ba0514fa3c6af",
            "6f7a29d6eff4452aab5e6ddca2123fb1",
            "b897ad1a96e74c17b2eb99c69cb9a213",
            "d202abce09ec494f858a2ad2fb90b326",
            "6d6cad1cde0441298b8d33bb4df56037"
          ]
        },
        "id": "f5kyZnohO4L2",
        "outputId": "09964da6-6a64-4480-e7cd-530e46bff7ca"
      },
      "outputs": [
        {
          "name": "stderr",
          "output_type": "stream",
          "text": [
            "/usr/local/lib/python3.10/dist-packages/transformers/training_args.py:1525: FutureWarning: `evaluation_strategy` is deprecated and will be removed in version 4.46 of 🤗 Transformers. Use `eval_strategy` instead\n",
            "  warnings.warn(\n"
          ]
        },
        {
          "data": {
            "application/vnd.jupyter.widget-view+json": {
              "model_id": "7bbfb3e6b9f5465c975506a7cb035f97",
              "version_major": 2,
              "version_minor": 0
            },
            "text/plain": [
              "Downloading builder script:   0%|          | 0.00/4.20k [00:00<?, ?B/s]"
            ]
          },
          "metadata": {},
          "output_type": "display_data"
        },
        {
          "name": "stderr",
          "output_type": "stream",
          "text": [
            "/usr/local/lib/python3.10/dist-packages/accelerate/accelerator.py:494: FutureWarning: `torch.cuda.amp.GradScaler(args...)` is deprecated. Please use `torch.amp.GradScaler('cuda', args...)` instead.\n",
            "  self.scaler = torch.cuda.amp.GradScaler(**kwargs)\n"
          ]
        }
      ],
      "source": [
        "# Define trainers to evaluate the performance of each model on different data sets\n",
        "training_args = TrainingArguments(\n",
        "    output_dir=\"esm_finetuned\",\n",
        "    evaluation_strategy=\"epoch\",\n",
        "    save_strategy=\"epoch\",\n",
        "    learning_rate=2e-4,\n",
        "    per_device_train_batch_size=32,\n",
        "    per_device_eval_batch_size=32,\n",
        "    num_train_epochs=2,\n",
        "    weight_decay=0.01,\n",
        "    push_to_hub=False,\n",
        "    fp16=True,\n",
        "    load_best_model_at_end=True,\n",
        "    gradient_accumulation_steps=2,\n",
        ")\n",
        "\n",
        "metric = load('accuracy')\n",
        "\n",
        "def compute_metrics(eval_pred):\n",
        "    predictions, labels = eval_pred\n",
        "    predictions = np.argmax(predictions, axis=1)\n",
        "    return metric.compute(predictions=predictions, references=labels)\n",
        "\n",
        "LazBF_trainer = Trainer(\n",
        "    model=LazBF_ft,\n",
        "    args=training_args,\n",
        "    compute_metrics=compute_metrics\n",
        ")\n",
        "\n",
        "LazDEF_trainer = Trainer(\n",
        "    model=LazDEF_ft,\n",
        "    args=training_args,\n",
        "    compute_metrics=compute_metrics\n",
        ")\n",
        "\n",
        "LazBCDEF_trainer = Trainer(\n",
        "    model=LazBCDEF_ft,\n",
        "    args=training_args,\n",
        "    compute_metrics=compute_metrics\n",
        ")"
      ]
    },
    {
      "cell_type": "code",
      "execution_count": 6,
      "metadata": {
        "id": "VoxAtO1mPBbE"
      },
      "outputs": [],
      "source": [
        "# Make data set objects out of the sequences\n",
        "lbf = Dataset.from_dict(tokenizer(LazBF_sample))\n",
        "lbf = lbf.add_column(\"labels\", LazBF_sample_labels)\n",
        "\n",
        "ldef = Dataset.from_dict(tokenizer(LazDEF_sample))\n",
        "ldef = ldef.add_column(\"labels\", LazDEF_sample_labels)\n",
        "\n",
        "lbcdef = Dataset.from_dict(tokenizer(LazBCDEF_sample, padding='longest'))\n",
        "lbcdef = lbcdef.add_column(\"labels\", LazBCDEF_sample_labels)"
      ]
    },
    {
      "cell_type": "code",
      "execution_count": null,
      "metadata": {
        "colab": {
          "base_uri": "https://localhost:8080/",
          "height": 124
        },
        "id": "d1mEmri0PJkM",
        "outputId": "22e0d4a8-72d3-4627-b847-2b0dd8ee698f"
      },
      "outputs": [
        {
          "data": {
            "text/html": [
              "\n",
              "    <div>\n",
              "      \n",
              "      <progress value='391' max='391' style='width:300px; height:20px; vertical-align: middle;'></progress>\n",
              "      [391/391 01:25]\n",
              "    </div>\n",
              "    "
            ],
            "text/plain": [
              "<IPython.core.display.HTML object>"
            ]
          },
          "metadata": {},
          "output_type": "display_data"
        },
        {
          "data": {
            "text/plain": [
              "{'eval_loss': 0.01695972867310047,\n",
              " 'eval_accuracy': 0.99414,\n",
              " 'eval_runtime': 87.4507,\n",
              " 'eval_samples_per_second': 571.751,\n",
              " 'eval_steps_per_second': 4.471}"
            ]
          },
          "execution_count": 11,
          "metadata": {},
          "output_type": "execute_result"
        }
      ],
      "source": [
        "LazBF_trainer.evaluate(lbf)"
      ]
    },
    {
      "cell_type": "code",
      "execution_count": null,
      "metadata": {
        "colab": {
          "base_uri": "https://localhost:8080/",
          "height": 124
        },
        "id": "6DFXPIgmPKRx",
        "outputId": "438b8b3f-7fa2-48b3-83a4-11415e39351d"
      },
      "outputs": [
        {
          "data": {
            "text/html": [
              "\n",
              "    <div>\n",
              "      \n",
              "      <progress value='782' max='391' style='width:300px; height:20px; vertical-align: middle;'></progress>\n",
              "      [391/391 03:01]\n",
              "    </div>\n",
              "    "
            ],
            "text/plain": [
              "<IPython.core.display.HTML object>"
            ]
          },
          "metadata": {},
          "output_type": "display_data"
        },
        {
          "data": {
            "text/plain": [
              "{'eval_loss': 3.6631252765655518,\n",
              " 'eval_accuracy': 0.50878,\n",
              " 'eval_runtime': 95.6676,\n",
              " 'eval_samples_per_second': 522.643,\n",
              " 'eval_steps_per_second': 4.087}"
            ]
          },
          "execution_count": 12,
          "metadata": {},
          "output_type": "execute_result"
        }
      ],
      "source": [
        "LazBF_trainer.evaluate(ldef)"
      ]
    },
    {
      "cell_type": "code",
      "execution_count": null,
      "metadata": {
        "colab": {
          "base_uri": "https://localhost:8080/",
          "height": 124
        },
        "id": "hK40kT_uPLa2",
        "outputId": "88973e28-3ddd-47be-eaf1-b5928adf529a"
      },
      "outputs": [
        {
          "data": {
            "text/html": [
              "\n",
              "    <div>\n",
              "      \n",
              "      <progress value='1173' max='391' style='width:300px; height:20px; vertical-align: middle;'></progress>\n",
              "      [391/391 04:27]\n",
              "    </div>\n",
              "    "
            ],
            "text/plain": [
              "<IPython.core.display.HTML object>"
            ]
          },
          "metadata": {},
          "output_type": "display_data"
        },
        {
          "data": {
            "text/plain": [
              "{'eval_loss': 3.431755542755127,\n",
              " 'eval_accuracy': 0.52228,\n",
              " 'eval_runtime': 85.9272,\n",
              " 'eval_samples_per_second': 581.888,\n",
              " 'eval_steps_per_second': 4.55}"
            ]
          },
          "execution_count": 13,
          "metadata": {},
          "output_type": "execute_result"
        }
      ],
      "source": [
        "LazBF_trainer.evaluate(lbcdef)"
      ]
    },
    {
      "cell_type": "code",
      "execution_count": null,
      "metadata": {
        "colab": {
          "base_uri": "https://localhost:8080/",
          "height": 124
        },
        "id": "1TJdRyrbPLa3",
        "outputId": "c8efd1cc-a3ee-43de-c077-f2ae0a014c9e"
      },
      "outputs": [
        {
          "data": {
            "text/html": [
              "\n",
              "    <div>\n",
              "      \n",
              "      <progress value='391' max='391' style='width:300px; height:20px; vertical-align: middle;'></progress>\n",
              "      [391/391 01:26]\n",
              "    </div>\n",
              "    "
            ],
            "text/plain": [
              "<IPython.core.display.HTML object>"
            ]
          },
          "metadata": {},
          "output_type": "display_data"
        },
        {
          "data": {
            "text/plain": [
              "{'eval_loss': 0.7584709525108337,\n",
              " 'eval_accuracy': 0.74968,\n",
              " 'eval_runtime': 86.6692,\n",
              " 'eval_samples_per_second': 576.906,\n",
              " 'eval_steps_per_second': 4.511}"
            ]
          },
          "execution_count": 14,
          "metadata": {},
          "output_type": "execute_result"
        }
      ],
      "source": [
        "LazDEF_trainer.evaluate(lbf)"
      ]
    },
    {
      "cell_type": "code",
      "execution_count": null,
      "metadata": {
        "colab": {
          "base_uri": "https://localhost:8080/",
          "height": 124
        },
        "id": "Q5DIm7zQPL5M",
        "outputId": "f32cb3cd-5dc1-4092-b3b9-68f2e23a89cf"
      },
      "outputs": [
        {
          "data": {
            "text/html": [
              "\n",
              "    <div>\n",
              "      \n",
              "      <progress value='782' max='391' style='width:300px; height:20px; vertical-align: middle;'></progress>\n",
              "      [391/391 03:03]\n",
              "    </div>\n",
              "    "
            ],
            "text/plain": [
              "<IPython.core.display.HTML object>"
            ]
          },
          "metadata": {},
          "output_type": "display_data"
        },
        {
          "data": {
            "text/plain": [
              "{'eval_loss': 0.02696620114147663,\n",
              " 'eval_accuracy': 0.99196,\n",
              " 'eval_runtime': 96.767,\n",
              " 'eval_samples_per_second': 516.705,\n",
              " 'eval_steps_per_second': 4.041}"
            ]
          },
          "execution_count": 15,
          "metadata": {},
          "output_type": "execute_result"
        }
      ],
      "source": [
        "LazDEF_trainer.evaluate(ldef)"
      ]
    },
    {
      "cell_type": "code",
      "execution_count": null,
      "metadata": {
        "colab": {
          "base_uri": "https://localhost:8080/",
          "height": 124
        },
        "id": "ix6BVUTePL5N",
        "outputId": "405cf1f2-99aa-478a-9754-d5871e89e225"
      },
      "outputs": [
        {
          "data": {
            "text/html": [
              "\n",
              "    <div>\n",
              "      \n",
              "      <progress value='1173' max='391' style='width:300px; height:20px; vertical-align: middle;'></progress>\n",
              "      [391/391 04:29]\n",
              "    </div>\n",
              "    "
            ],
            "text/plain": [
              "<IPython.core.display.HTML object>"
            ]
          },
          "metadata": {},
          "output_type": "display_data"
        },
        {
          "data": {
            "text/plain": [
              "{'eval_loss': 1.4165822267532349,\n",
              " 'eval_accuracy': 0.64324,\n",
              " 'eval_runtime': 86.8597,\n",
              " 'eval_samples_per_second': 575.641,\n",
              " 'eval_steps_per_second': 4.502}"
            ]
          },
          "execution_count": 16,
          "metadata": {},
          "output_type": "execute_result"
        }
      ],
      "source": [
        "LazDEF_trainer.evaluate(lbcdef)"
      ]
    },
    {
      "cell_type": "code",
      "execution_count": null,
      "metadata": {
        "colab": {
          "base_uri": "https://localhost:8080/",
          "height": 124
        },
        "id": "Bkg_HI2xPSKt",
        "outputId": "b0df4b24-97d9-4c8a-cfb3-a0a2621c145b"
      },
      "outputs": [
        {
          "data": {
            "text/html": [
              "\n",
              "    <div>\n",
              "      \n",
              "      <progress value='391' max='391' style='width:300px; height:20px; vertical-align: middle;'></progress>\n",
              "      [391/391 01:26]\n",
              "    </div>\n",
              "    "
            ],
            "text/plain": [
              "<IPython.core.display.HTML object>"
            ]
          },
          "metadata": {},
          "output_type": "display_data"
        },
        {
          "data": {
            "text/plain": [
              "{'eval_loss': 1.046639084815979,\n",
              " 'eval_accuracy': 0.62616,\n",
              " 'eval_runtime': 86.7373,\n",
              " 'eval_samples_per_second': 576.453,\n",
              " 'eval_steps_per_second': 4.508}"
            ]
          },
          "execution_count": 17,
          "metadata": {},
          "output_type": "execute_result"
        }
      ],
      "source": [
        "LazBCDEF_trainer.evaluate(lbf)"
      ]
    },
    {
      "cell_type": "code",
      "execution_count": null,
      "metadata": {
        "colab": {
          "base_uri": "https://localhost:8080/",
          "height": 124
        },
        "id": "oAgjdCtQPSKt",
        "outputId": "9a8cad36-f658-49e9-8c56-9434c7d00884"
      },
      "outputs": [
        {
          "data": {
            "text/html": [
              "\n",
              "    <div>\n",
              "      \n",
              "      <progress value='782' max='391' style='width:300px; height:20px; vertical-align: middle;'></progress>\n",
              "      [391/391 03:03]\n",
              "    </div>\n",
              "    "
            ],
            "text/plain": [
              "<IPython.core.display.HTML object>"
            ]
          },
          "metadata": {},
          "output_type": "display_data"
        },
        {
          "data": {
            "text/plain": [
              "{'eval_loss': 1.351431131362915,\n",
              " 'eval_accuracy': 0.58872,\n",
              " 'eval_runtime': 97.0778,\n",
              " 'eval_samples_per_second': 515.051,\n",
              " 'eval_steps_per_second': 4.028}"
            ]
          },
          "execution_count": 18,
          "metadata": {},
          "output_type": "execute_result"
        }
      ],
      "source": [
        "LazBCDEF_trainer.evaluate(ldef)"
      ]
    },
    {
      "cell_type": "code",
      "execution_count": null,
      "metadata": {
        "colab": {
          "base_uri": "https://localhost:8080/",
          "height": 124
        },
        "id": "qdOZI3nHPSKu",
        "outputId": "23001b56-b9b8-47b4-ebee-354aee6ec1be"
      },
      "outputs": [
        {
          "data": {
            "text/html": [
              "\n",
              "    <div>\n",
              "      \n",
              "      <progress value='1173' max='391' style='width:300px; height:20px; vertical-align: middle;'></progress>\n",
              "      [391/391 04:29]\n",
              "    </div>\n",
              "    "
            ],
            "text/plain": [
              "<IPython.core.display.HTML object>"
            ]
          },
          "metadata": {},
          "output_type": "display_data"
        },
        {
          "data": {
            "text/plain": [
              "{'eval_loss': 0.12052178382873535,\n",
              " 'eval_accuracy': 0.95762,\n",
              " 'eval_runtime': 86.6017,\n",
              " 'eval_samples_per_second': 577.356,\n",
              " 'eval_steps_per_second': 4.515}"
            ]
          },
          "execution_count": 19,
          "metadata": {},
          "output_type": "execute_result"
        }
      ],
      "source": [
        "LazBCDEF_trainer.evaluate(lbcdef)"
      ]
    },
    {
      "cell_type": "markdown",
      "metadata": {
        "id": "6_qXOYa4PWLA"
      },
      "source": [
        "---"
      ]
    },
    {
      "cell_type": "code",
      "execution_count": 11,
      "metadata": {
        "cellView": "form",
        "id": "h8zn5BstPW7X"
      },
      "outputs": [],
      "source": [
        "#@title Scripts for interpretation\n",
        "import torch\n",
        "import numpy as np\n",
        "from torch import tensor\n",
        "import matplotlib.pyplot as plt\n",
        "import matplotlib.lines as mlines\n",
        "from transformers import AutoTokenizer, AutoModelForSequenceClassification\n",
        "from captum.attr import LayerIntegratedGradients, TokenReferenceBase, IntegratedGradients\n",
        "\n",
        "device = torch.device(\"cuda\" if torch.cuda.is_available() else \"cpu\")\n",
        "amino_acids = {'R': 0,'H': 1,'K': 2,'D': 3,'E': 4,'S': 5,'T': 6,'N': 7,'Q': 8,'C': 9,'G': 10,'P': 11,'A': 12,'V': 13,'I': 14,'L': 15,'M': 16,'F': 17,'Y': 18,'W': 19}\n",
        "sm = torch.nn.Softmax(dim=1)\n",
        "\n",
        "def forward_func(inputs: tensor, position = 0):\n",
        "  pred = model.forward(inputs)\n",
        "  return pred[position]\n",
        "\n",
        "def explain(text: str, label):\n",
        "  inputs = torch.tensor(tokenizer.encode(text, add_special_tokens=True), device=device).unsqueeze(0)\n",
        "  prediction = model.forward(inputs)[0]\n",
        "  baseline = torch.tensor([tokenizer.cls_token_id] + [tokenizer.pad_token_id] * (inputs.shape[1] - 2) + [tokenizer.eos_token_id], device = device).unsqueeze(0)\n",
        "  lig = LayerIntegratedGradients(forward_func, model.esm.embeddings) # The layer which we want to get the IG's is the mebedding layer.\n",
        "  attributes, delta = lig.attribute(inputs=inputs,\n",
        "                            baselines=baseline,\n",
        "                            target = label,\n",
        "                            return_convergence_delta = True)\n",
        "  attr_sum = attributes.sum(-1)\n",
        "  return attr_sum.cpu().numpy()[0][1:-1]\n",
        "\n",
        "# Saves all attention heads for each layer to image\n",
        "def full_attention(model, sequence):\n",
        "  input = tokenizer(sequence, return_tensors='pt').to(device)\n",
        "  output = model.forward(input.input_ids, output_attentions=True)\n",
        "  for layer, att in enumerate(output.attentions):\n",
        "    for i, head in enumerate(att[0]):\n",
        "      print(f'Layer {layer+1}, head {i+1}')\n",
        "      matr = head.cpu().detach().numpy()\n",
        "      plt.imshow(matr, interpolation='nearest')\n",
        "      x_ticks = np.arange(0, matr.shape[1])\n",
        "      x_tick_labels = [\"[BOS]\"] + list(sequence) + [\"[EOS]\"]\n",
        "      plt.xticks(x_ticks, x_tick_labels)\n",
        "      y_ticks = np.arange(0, matr.shape[1])\n",
        "      y_tick_labels = [\"[BOS]\"] + list(sequence) + [\"[EOS]\"]\n",
        "      plt.yticks(y_ticks, y_tick_labels)\n",
        "      plt.colorbar()\n",
        "      plt.savefig(f'Layer_{layer+1}_head_{i+1}.png', dpi=300, bbox_inches='tight', pad_inches=0)\n",
        "      plt.show()\n",
        "\n",
        "def per_layer_attention(model, sequence):\n",
        "  input = tokenizer(sequence, return_tensors='pt').to(device)\n",
        "  output = model.forward(input.input_ids, output_attentions=True)\n",
        "  for i, att in enumerate(output.attentions):\n",
        "    matrs = []\n",
        "    for head in att[0]:\n",
        "      matr = head.cpu().detach().numpy()\n",
        "      matrs.append(matr)\n",
        "    matrs = np.array(matrs)\n",
        "    plt.imshow(np.mean(matrs, axis=0), interpolation='nearest') #, vmin=0, vmax=0.3)\n",
        "    plt.colorbar()\n",
        "    x_ticks = np.arange(0, matr.shape[1])\n",
        "    x_tick_labels = [\"[BOS]\"] + list(sequence) + [\"[EOS]\"]\n",
        "\n",
        "    plt.xticks(x_ticks, x_tick_labels)\n",
        "    sizes = [10] + 13*[15] + [10]\n",
        "    for j, label in enumerate(plt.xticks()[1]):\n",
        "      label.set_fontsize(sizes[j])\n",
        "\n",
        "    y_ticks = np.arange(0, matr.shape[1])\n",
        "    y_tick_labels = [\"[BOS]\"] + list(sequence) + [\"[EOS]\"]\n",
        "    plt.yticks(y_ticks, y_tick_labels)\n",
        "    sizes = [10] + 13*[15] + [10]\n",
        "    for j, label in enumerate(plt.yticks()[1]):\n",
        "      label.set_fontsize(sizes[j])\n",
        "\n",
        "    plt.title(f'Average Attention for Layer {i+1}', fontsize=17)\n",
        "\n",
        "    plt.savefig(f'./FVCHPSRWVGA_layer_{i+1}_alt.png', dpi=400, bbox_inches='tight', pad_inches=0)\n",
        "    plt.show()\n",
        "\n",
        "def oned_attention(model, sequence):\n",
        "  input = tokenizer(sequence, return_tensors='pt').to(device)\n",
        "  output = model.forward(input.input_ids, output_attentions=True)\n",
        "  for att in output.attentions:\n",
        "    matrs = []\n",
        "    for head in att[0]:\n",
        "      matrs.append(head.cpu().detach().numpy())\n",
        "    matrs = np.array(matrs)\n",
        "    matrs = np.mean(matrs, axis=0)\n",
        "    matrs = np.mean(matrs, axis=0)\n",
        "    print(matrs[:, np.newaxis].T)\n",
        "    plt.imshow(matrs[:, np.newaxis].T, interpolation='nearest')\n",
        "    x_ticks = np.arange(0, len(sequence)+2)\n",
        "    x_tick_labels = list(\" \"+sequence+\" \")\n",
        "    plt.xticks(x_ticks, x_tick_labels)\n",
        "    plt.show()"
      ]
    },
    {
      "cell_type": "code",
      "execution_count": null,
      "metadata": {
        "id": "mqqbKfNCs9uR"
      },
      "outputs": [],
      "source": [
        "full_attention(LazBF_ft, 'FVCHPSRWVGA')"
      ]
    },
    {
      "cell_type": "code",
      "execution_count": null,
      "metadata": {
        "id": "O86hKVK_uEtd"
      },
      "outputs": [],
      "source": [
        "full_attention(LazBF_ft, 'VIGGRTCDGTRYY')"
      ]
    },
    {
      "cell_type": "code",
      "execution_count": null,
      "metadata": {
        "id": "pqyM9uzpyEom"
      },
      "outputs": [],
      "source": [
        "per_layer_attention(LazBF_ft, 'VIGGRTCDGTRYY')"
      ]
    },
    {
      "cell_type": "markdown",
      "metadata": {
        "id": "x_ExhNoRiQo3"
      },
      "source": [
        "---"
      ]
    },
    {
      "cell_type": "markdown",
      "metadata": {
        "id": "n24Rp51ridtK"
      },
      "source": [
        "Code to reproduce Figure 7 describing the average contribution of each amino-acid/position according to each model's integrated gradients."
      ]
    },
    {
      "cell_type": "code",
      "execution_count": 50,
      "metadata": {
        "id": "Iu6yu-2fd619"
      },
      "outputs": [],
      "source": [
        "import numpy as np\n",
        "avg_contribBF = np.load(\"../Data/avg_aa_contribBF.npy\")\n",
        "avg_position_contribBF = np.load(\"../Data/avg_pos_contribBF.npy\")\n",
        "avg_positionBF =  np.load(\"../Data/avg_posxaa_contribBF.npy\")\n",
        "\n",
        "avg_contribDEF = np.load(\"../Data/avg_aa_contribDEF.npy\")\n",
        "avg_position_contribDEF = np.load(\"../Data/avg_pos_contribDEF.npy\")\n",
        "avg_positionDEF =  np.load(\"../Data/avg_posxaa_contribDEF.npy\")"
      ]
    },
    {
      "cell_type": "code",
      "execution_count": 51,
      "metadata": {
        "colab": {
          "base_uri": "https://localhost:8080/",
          "height": 165
        },
        "id": "M2nIVQJW1-ud",
        "outputId": "444522de-01d1-4f9f-b2d8-e7ed91e870fa"
      },
      "outputs": [
        {
          "data": {
            "image/png": "[encoded data removed]",
            "text/plain": [
              "<Figure size 640x480 with 2 Axes>"
            ]
          },
          "metadata": {},
          "output_type": "display_data"
        }
      ],
      "source": [
        "import matplotlib.pyplot as plt\n",
        "plt.imshow(np.array([avg_contribBF]), cmap='viridis', vmin=-0.5, vmax=0.7)\n",
        "y_labels = list(\"RHKDESTNQCGPAVILMFYW\")  # Example labels\n",
        "plt.yticks([])\n",
        "plt.xticks(ticks=np.arange(len(y_labels)), labels=y_labels)\n",
        "plt.colorbar(orientation='horizontal')\n",
        "plt.savefig('LazBF_AA_contrib.png', dpi=400, bbox_inches='tight', pad_inches=0)"
      ]
    },
    {
      "cell_type": "code",
      "execution_count": 52,
      "metadata": {
        "colab": {
          "base_uri": "https://localhost:8080/",
          "height": 165
        },
        "id": "MysyTafG2Ffb",
        "outputId": "f6f9ec75-7a5e-4f1c-c9ed-f03b947207c1"
      },
      "outputs": [
        {
          "data": {
            "image/png": "[encoded data removed]",
            "text/plain": [
              "<Figure size 640x480 with 2 Axes>"
            ]
          },
          "metadata": {},
          "output_type": "display_data"
        }
      ],
      "source": [
        "plt.imshow(np.array([avg_contribDEF]), cmap='viridis', vmin=-1, vmax=0.5)\n",
        "y_labels = list(\"RHKDESTNQCGPAVILMFYW\")  # Example labels\n",
        "plt.yticks([])\n",
        "plt.xticks(ticks=np.arange(len(y_labels)), labels=y_labels)\n",
        "plt.colorbar(orientation='horizontal')\n",
        "plt.savefig('LazDEF_AA_contrib.png', dpi=400, bbox_inches='tight', pad_inches=0)"
      ]
    },
    {
      "cell_type": "code",
      "execution_count": 53,
      "metadata": {
        "colab": {
          "base_uri": "https://localhost:8080/",
          "height": 186
        },
        "id": "7QkPFt94o_Ep",
        "outputId": "1a446926-e027-49f3-a2c6-a78cb8c681d0"
      },
      "outputs": [
        {
          "data": {
            "image/png": "[encoded data removed]",
            "text/plain": [
              "<Figure size 640x480 with 2 Axes>"
            ]
          },
          "metadata": {},
          "output_type": "display_data"
        }
      ],
      "source": [
        "plt.imshow(np.array([avg_position_contribBF]), cmap='viridis', vmin=0.2, vmax=0.6)\n",
        "y_labels = [1, 2, 3, 4, 5, 6, 7, 8, 9, 10, 11]  # Example labels\n",
        "plt.yticks([])\n",
        "plt.xticks(ticks=np.arange(len(y_labels)), labels=y_labels)\n",
        "plt.colorbar(orientation='horizontal')\n",
        "plt.savefig('LazBF_pos_contrib.png', dpi=400, bbox_inches='tight', pad_inches=0)"
      ]
    },
    {
      "cell_type": "code",
      "execution_count": 54,
      "metadata": {
        "colab": {
          "base_uri": "https://localhost:8080/",
          "height": 186
        },
        "id": "75-ISwqu1Obe",
        "outputId": "4c408916-cc35-40dd-83d4-976c6be5fdc7"
      },
      "outputs": [
        {
          "data": {
            "image/png": "[encoded data removed]",
            "text/plain": [
              "<Figure size 640x480 with 2 Axes>"
            ]
          },
          "metadata": {},
          "output_type": "display_data"
        }
      ],
      "source": [
        "plt.imshow(np.array([avg_position_contribDEF]), cmap='viridis', vmin=-0.2, vmax=0.2)\n",
        "y_labels = [1, 2, 3, 4, 5, 6, 7, 8, 9, 10, 11]  # Example labels\n",
        "plt.yticks([])\n",
        "plt.xticks(ticks=np.arange(len(y_labels)), labels=y_labels)\n",
        "plt.colorbar(orientation='horizontal')\n",
        "plt.savefig('LazDEF_pos_contrib.png', dpi=400, bbox_inches='tight', pad_inches=0)"
      ]
    },
    {
      "cell_type": "code",
      "execution_count": 55,
      "metadata": {
        "id": "MdZNQKWV1Ca4"
      },
      "outputs": [],
      "source": [
        "# Delete position 5 and serine residue as their contributions to substrate fitness are obvious\n",
        "avg_contribBF = np.delete(avg_contribBF, 5)\n",
        "avg_contribDEF = np.delete(avg_contribDEF, 5)\n",
        "avg_position_contribBF = np.delete(avg_position_contribBF, 5)\n",
        "avg_position_contribDEF = np.delete(avg_position_contribDEF, 5)"
      ]
    },
    {
      "cell_type": "code",
      "execution_count": 56,
      "metadata": {
        "colab": {
          "base_uri": "https://localhost:8080/"
        },
        "id": "nvWNLnpwOZWp",
        "outputId": "3dd50dbd-023f-4873-9396-933c088d9fb5"
      },
      "outputs": [
        {
          "name": "stdout",
          "output_type": "stream",
          "text": [
            "SignificanceResult(statistic=0.7789473684210525, pvalue=8.503539208142179e-05)\n",
            "SignificanceResult(statistic=0.7333333333333332, pvalue=0.01580059625057158)\n",
            "SignificanceResult(statistic=0.5867492909461007, pvalue=9.61098530273787e-22)\n"
          ]
        }
      ],
      "source": [
        "from scipy.stats import spearmanr\n",
        "print(spearmanr(avg_contribBF, avg_contribDEF))\n",
        "print(spearmanr(avg_position_contribBF, avg_position_contribDEF))\n",
        "print(spearmanr(np.nan_to_num(avg_positionBF, nan=0.0).flatten(), np.nan_to_num(avg_positionDEF, nan=0.0).flatten()))"
      ]
    }
  ],
  "metadata": {
    "accelerator": "GPU",
    "colab": {
      "gpuType": "T4",
      "provenance": []
    },
    "kernelspec": {
      "display_name": "Python 3",
      "name": "python3"
    },
    "language_info": {
      "name": "python"
    },
    "widgets": {
      "application/vnd.jupyter.widget-state+json": {
        "1f96336acae9470ebef0433b54f3ab6c": {
          "model_module": "@jupyter-widgets/controls",
          "model_module_version": "1.5.0",
          "model_name": "HTMLModel",
          "state": {
            "_dom_classes": [],
            "_model_module": "@jupyter-widgets/controls",
            "_model_module_version": "1.5.0",
            "_model_name": "HTMLModel",
            "_view_count": null,
            "_view_module": "@jupyter-widgets/controls",
            "_view_module_version": "1.5.0",
            "_view_name": "HTMLView",
            "description": "",
            "description_tooltip": null,
            "layout": "IPY_MODEL_8f0a8f299d5340fdbdcdc7aee22829c9",
            "placeholder": "​",
            "style": "IPY_MODEL_df64f58d9b4946a1a16c47f8b790faac",
            "value": "vocab.txt: 100%"
          }
        },
        "1fd4137ea0984ef8b52a3941a4f8fe13": {
          "model_module": "@jupyter-widgets/base",
          "model_module_version": "1.2.0",
          "model_name": "LayoutModel",
          "state": {
            "_model_module": "@jupyter-widgets/base",
            "_model_module_version": "1.2.0",
            "_model_name": "LayoutModel",
            "_view_count": null,
            "_view_module": "@jupyter-widgets/base",
            "_view_module_version": "1.2.0",
            "_view_name": "LayoutView",
            "align_content": null,
            "align_items": null,
            "align_self": null,
            "border": null,
            "bottom": null,
            "display": null,
            "flex": null,
            "flex_flow": null,
            "grid_area": null,
            "grid_auto_columns": null,
            "grid_auto_flow": null,
            "grid_auto_rows": null,
            "grid_column": null,
            "grid_gap": null,
            "grid_row": null,
            "grid_template_areas": null,
            "grid_template_columns": null,
            "grid_template_rows": null,
            "height": null,
            "justify_content": null,
            "justify_items": null,
            "left": null,
            "margin": null,
            "max_height": null,
            "max_width": null,
            "min_height": null,
            "min_width": null,
            "object_fit": null,
            "object_position": null,
            "order": null,
            "overflow": null,
            "overflow_x": null,
            "overflow_y": null,
            "padding": null,
            "right": null,
            "top": null,
            "visibility": null,
            "width": null
          }
        },
        "239532b5011a46f2aa26fd6c55be663a": {
          "model_module": "@jupyter-widgets/base",
          "model_module_version": "1.2.0",
          "model_name": "LayoutModel",
          "state": {
            "_model_module": "@jupyter-widgets/base",
            "_model_module_version": "1.2.0",
            "_model_name": "LayoutModel",
            "_view_count": null,
            "_view_module": "@jupyter-widgets/base",
            "_view_module_version": "1.2.0",
            "_view_name": "LayoutView",
            "align_content": null,
            "align_items": null,
            "align_self": null,
            "border": null,
            "bottom": null,
            "display": null,
            "flex": null,
            "flex_flow": null,
            "grid_area": null,
            "grid_auto_columns": null,
            "grid_auto_flow": null,
            "grid_auto_rows": null,
            "grid_column": null,
            "grid_gap": null,
            "grid_row": null,
            "grid_template_areas": null,
            "grid_template_columns": null,
            "grid_template_rows": null,
            "height": null,
            "justify_content": null,
            "justify_items": null,
            "left": null,
            "margin": null,
            "max_height": null,
            "max_width": null,
            "min_height": null,
            "min_width": null,
            "object_fit": null,
            "object_position": null,
            "order": null,
            "overflow": null,
            "overflow_x": null,
            "overflow_y": null,
            "padding": null,
            "right": null,
            "top": null,
            "visibility": null,
            "width": null
          }
        },
        "2b2c6cc89ca24842bf9b688ead166613": {
          "model_module": "@jupyter-widgets/base",
          "model_module_version": "1.2.0",
          "model_name": "LayoutModel",
          "state": {
            "_model_module": "@jupyter-widgets/base",
            "_model_module_version": "1.2.0",
            "_model_name": "LayoutModel",
            "_view_count": null,
            "_view_module": "@jupyter-widgets/base",
            "_view_module_version": "1.2.0",
            "_view_name": "LayoutView",
            "align_content": null,
            "align_items": null,
            "align_self": null,
            "border": null,
            "bottom": null,
            "display": null,
            "flex": null,
            "flex_flow": null,
            "grid_area": null,
            "grid_auto_columns": null,
            "grid_auto_flow": null,
            "grid_auto_rows": null,
            "grid_column": null,
            "grid_gap": null,
            "grid_row": null,
            "grid_template_areas": null,
            "grid_template_columns": null,
            "grid_template_rows": null,
            "height": null,
            "justify_content": null,
            "justify_items": null,
            "left": null,
            "margin": null,
            "max_height": null,
            "max_width": null,
            "min_height": null,
            "min_width": null,
            "object_fit": null,
            "object_position": null,
            "order": null,
            "overflow": null,
            "overflow_x": null,
            "overflow_y": null,
            "padding": null,
            "right": null,
            "top": null,
            "visibility": null,
            "width": null
          }
        },
        "2cbf909fc36b4f23b4d14b63ee2d63ac": {
          "model_module": "@jupyter-widgets/controls",
          "model_module_version": "1.5.0",
          "model_name": "ProgressStyleModel",
          "state": {
            "_model_module": "@jupyter-widgets/controls",
            "_model_module_version": "1.5.0",
            "_model_name": "ProgressStyleModel",
            "_view_count": null,
            "_view_module": "@jupyter-widgets/base",
            "_view_module_version": "1.2.0",
            "_view_name": "StyleView",
            "bar_color": null,
            "description_width": ""
          }
        },
        "4cdf128752c84aada34f8d8a37d9c939": {
          "model_module": "@jupyter-widgets/controls",
          "model_module_version": "1.5.0",
          "model_name": "FloatProgressModel",
          "state": {
            "_dom_classes": [],
            "_model_module": "@jupyter-widgets/controls",
            "_model_module_version": "1.5.0",
            "_model_name": "FloatProgressModel",
            "_view_count": null,
            "_view_module": "@jupyter-widgets/controls",
            "_view_module_version": "1.5.0",
            "_view_name": "ProgressView",
            "bar_style": "success",
            "description": "",
            "description_tooltip": null,
            "layout": "IPY_MODEL_6f7a29d6eff4452aab5e6ddca2123fb1",
            "max": 4203,
            "min": 0,
            "orientation": "horizontal",
            "style": "IPY_MODEL_b897ad1a96e74c17b2eb99c69cb9a213",
            "value": 4203
          }
        },
        "568461fbe2e449ec9d5ec9585fe95f98": {
          "model_module": "@jupyter-widgets/base",
          "model_module_version": "1.2.0",
          "model_name": "LayoutModel",
          "state": {
            "_model_module": "@jupyter-widgets/base",
            "_model_module_version": "1.2.0",
            "_model_name": "LayoutModel",
            "_view_count": null,
            "_view_module": "@jupyter-widgets/base",
            "_view_module_version": "1.2.0",
            "_view_name": "LayoutView",
            "align_content": null,
            "align_items": null,
            "align_self": null,
            "border": null,
            "bottom": null,
            "display": null,
            "flex": null,
            "flex_flow": null,
            "grid_area": null,
            "grid_auto_columns": null,
            "grid_auto_flow": null,
            "grid_auto_rows": null,
            "grid_column": null,
            "grid_gap": null,
            "grid_row": null,
            "grid_template_areas": null,
            "grid_template_columns": null,
            "grid_template_rows": null,
            "height": null,
            "justify_content": null,
            "justify_items": null,
            "left": null,
            "margin": null,
            "max_height": null,
            "max_width": null,
            "min_height": null,
            "min_width": null,
            "object_fit": null,
            "object_position": null,
            "order": null,
            "overflow": null,
            "overflow_x": null,
            "overflow_y": null,
            "padding": null,
            "right": null,
            "top": null,
            "visibility": null,
            "width": null
          }
        },
        "6169e8a871394430ab9f20ab107dcfb8": {
          "model_module": "@jupyter-widgets/controls",
          "model_module_version": "1.5.0",
          "model_name": "HBoxModel",
          "state": {
            "_dom_classes": [],
            "_model_module": "@jupyter-widgets/controls",
            "_model_module_version": "1.5.0",
            "_model_name": "HBoxModel",
            "_view_count": null,
            "_view_module": "@jupyter-widgets/controls",
            "_view_module_version": "1.5.0",
            "_view_name": "HBoxView",
            "box_style": "",
            "children": [
              "IPY_MODEL_e01a52bc55724099bf218af9a65d3eb5",
              "IPY_MODEL_7b59a863d7174ce9b874f3e52bbac305",
              "IPY_MODEL_cf4b3acb5ed24283a351b9b04df1b1a7"
            ],
            "layout": "IPY_MODEL_d378c5bcd8fd4a7e9a371e7aef6b7b30"
          }
        },
        "61a61cfbc1f84d08970da93c9be0d306": {
          "model_module": "@jupyter-widgets/controls",
          "model_module_version": "1.5.0",
          "model_name": "ProgressStyleModel",
          "state": {
            "_model_module": "@jupyter-widgets/controls",
            "_model_module_version": "1.5.0",
            "_model_name": "ProgressStyleModel",
            "_view_count": null,
            "_view_module": "@jupyter-widgets/base",
            "_view_module_version": "1.2.0",
            "_view_name": "StyleView",
            "bar_color": null,
            "description_width": ""
          }
        },
        "62585080b98a48be9b9df57c66d43417": {
          "model_module": "@jupyter-widgets/base",
          "model_module_version": "1.2.0",
          "model_name": "LayoutModel",
          "state": {
            "_model_module": "@jupyter-widgets/base",
            "_model_module_version": "1.2.0",
            "_model_name": "LayoutModel",
            "_view_count": null,
            "_view_module": "@jupyter-widgets/base",
            "_view_module_version": "1.2.0",
            "_view_name": "LayoutView",
            "align_content": null,
            "align_items": null,
            "align_self": null,
            "border": null,
            "bottom": null,
            "display": null,
            "flex": null,
            "flex_flow": null,
            "grid_area": null,
            "grid_auto_columns": null,
            "grid_auto_flow": null,
            "grid_auto_rows": null,
            "grid_column": null,
            "grid_gap": null,
            "grid_row": null,
            "grid_template_areas": null,
            "grid_template_columns": null,
            "grid_template_rows": null,
            "height": null,
            "justify_content": null,
            "justify_items": null,
            "left": null,
            "margin": null,
            "max_height": null,
            "max_width": null,
            "min_height": null,
            "min_width": null,
            "object_fit": null,
            "object_position": null,
            "order": null,
            "overflow": null,
            "overflow_x": null,
            "overflow_y": null,
            "padding": null,
            "right": null,
            "top": null,
            "visibility": null,
            "width": null
          }
        },
        "682eae2253d94d59bb6ad8228bacd672": {
          "model_module": "@jupyter-widgets/base",
          "model_module_version": "1.2.0",
          "model_name": "LayoutModel",
          "state": {
            "_model_module": "@jupyter-widgets/base",
            "_model_module_version": "1.2.0",
            "_model_name": "LayoutModel",
            "_view_count": null,
            "_view_module": "@jupyter-widgets/base",
            "_view_module_version": "1.2.0",
            "_view_name": "LayoutView",
            "align_content": null,
            "align_items": null,
            "align_self": null,
            "border": null,
            "bottom": null,
            "display": null,
            "flex": null,
            "flex_flow": null,
            "grid_area": null,
            "grid_auto_columns": null,
            "grid_auto_flow": null,
            "grid_auto_rows": null,
            "grid_column": null,
            "grid_gap": null,
            "grid_row": null,
            "grid_template_areas": null,
            "grid_template_columns": null,
            "grid_template_rows": null,
            "height": null,
            "justify_content": null,
            "justify_items": null,
            "left": null,
            "margin": null,
            "max_height": null,
            "max_width": null,
            "min_height": null,
            "min_width": null,
            "object_fit": null,
            "object_position": null,
            "order": null,
            "overflow": null,
            "overflow_x": null,
            "overflow_y": null,
            "padding": null,
            "right": null,
            "top": null,
            "visibility": null,
            "width": null
          }
        },
        "6ccb925ad07e4e35815238e549e5b9bb": {
          "model_module": "@jupyter-widgets/controls",
          "model_module_version": "1.5.0",
          "model_name": "HTMLModel",
          "state": {
            "_dom_classes": [],
            "_model_module": "@jupyter-widgets/controls",
            "_model_module_version": "1.5.0",
            "_model_name": "HTMLModel",
            "_view_count": null,
            "_view_module": "@jupyter-widgets/controls",
            "_view_module_version": "1.5.0",
            "_view_name": "HTMLView",
            "description": "",
            "description_tooltip": null,
            "layout": "IPY_MODEL_c9293bf28f4840cfad7d68a33349f1cb",
            "placeholder": "​",
            "style": "IPY_MODEL_9a0bbe5068904bcab5b9ca6ced6af4c3",
            "value": " 93.0/93.0 [00:00&lt;00:00, 5.18kB/s]"
          }
        },
        "6d6cad1cde0441298b8d33bb4df56037": {
          "model_module": "@jupyter-widgets/controls",
          "model_module_version": "1.5.0",
          "model_name": "DescriptionStyleModel",
          "state": {
            "_model_module": "@jupyter-widgets/controls",
            "_model_module_version": "1.5.0",
            "_model_name": "DescriptionStyleModel",
            "_view_count": null,
            "_view_module": "@jupyter-widgets/base",
            "_view_module_version": "1.2.0",
            "_view_name": "StyleView",
            "description_width": ""
          }
        },
        "6f7a29d6eff4452aab5e6ddca2123fb1": {
          "model_module": "@jupyter-widgets/base",
          "model_module_version": "1.2.0",
          "model_name": "LayoutModel",
          "state": {
            "_model_module": "@jupyter-widgets/base",
            "_model_module_version": "1.2.0",
            "_model_name": "LayoutModel",
            "_view_count": null,
            "_view_module": "@jupyter-widgets/base",
            "_view_module_version": "1.2.0",
            "_view_name": "LayoutView",
            "align_content": null,
            "align_items": null,
            "align_self": null,
            "border": null,
            "bottom": null,
            "display": null,
            "flex": null,
            "flex_flow": null,
            "grid_area": null,
            "grid_auto_columns": null,
            "grid_auto_flow": null,
            "grid_auto_rows": null,
            "grid_column": null,
            "grid_gap": null,
            "grid_row": null,
            "grid_template_areas": null,
            "grid_template_columns": null,
            "grid_template_rows": null,
            "height": null,
            "justify_content": null,
            "justify_items": null,
            "left": null,
            "margin": null,
            "max_height": null,
            "max_width": null,
            "min_height": null,
            "min_width": null,
            "object_fit": null,
            "object_position": null,
            "order": null,
            "overflow": null,
            "overflow_x": null,
            "overflow_y": null,
            "padding": null,
            "right": null,
            "top": null,
            "visibility": null,
            "width": null
          }
        },
        "7591b3bd2ddb4f37a494ef7ed5a9a4a8": {
          "model_module": "@jupyter-widgets/base",
          "model_module_version": "1.2.0",
          "model_name": "LayoutModel",
          "state": {
            "_model_module": "@jupyter-widgets/base",
            "_model_module_version": "1.2.0",
            "_model_name": "LayoutModel",
            "_view_count": null,
            "_view_module": "@jupyter-widgets/base",
            "_view_module_version": "1.2.0",
            "_view_name": "LayoutView",
            "align_content": null,
            "align_items": null,
            "align_self": null,
            "border": null,
            "bottom": null,
            "display": null,
            "flex": null,
            "flex_flow": null,
            "grid_area": null,
            "grid_auto_columns": null,
            "grid_auto_flow": null,
            "grid_auto_rows": null,
            "grid_column": null,
            "grid_gap": null,
            "grid_row": null,
            "grid_template_areas": null,
            "grid_template_columns": null,
            "grid_template_rows": null,
            "height": null,
            "justify_content": null,
            "justify_items": null,
            "left": null,
            "margin": null,
            "max_height": null,
            "max_width": null,
            "min_height": null,
            "min_width": null,
            "object_fit": null,
            "object_position": null,
            "order": null,
            "overflow": null,
            "overflow_x": null,
            "overflow_y": null,
            "padding": null,
            "right": null,
            "top": null,
            "visibility": null,
            "width": null
          }
        },
        "759559662a314f918fdb6f71cdb4ab2a": {
          "model_module": "@jupyter-widgets/controls",
          "model_module_version": "1.5.0",
          "model_name": "HTMLModel",
          "state": {
            "_dom_classes": [],
            "_model_module": "@jupyter-widgets/controls",
            "_model_module_version": "1.5.0",
            "_model_name": "HTMLModel",
            "_view_count": null,
            "_view_module": "@jupyter-widgets/controls",
            "_view_module_version": "1.5.0",
            "_view_name": "HTMLView",
            "description": "",
            "description_tooltip": null,
            "layout": "IPY_MODEL_62585080b98a48be9b9df57c66d43417",
            "placeholder": "​",
            "style": "IPY_MODEL_eba908dd2c4c4b13976ba0514fa3c6af",
            "value": "Downloading builder script: 100%"
          }
        },
        "7b59a863d7174ce9b874f3e52bbac305": {
          "model_module": "@jupyter-widgets/controls",
          "model_module_version": "1.5.0",
          "model_name": "FloatProgressModel",
          "state": {
            "_dom_classes": [],
            "_model_module": "@jupyter-widgets/controls",
            "_model_module_version": "1.5.0",
            "_model_name": "FloatProgressModel",
            "_view_count": null,
            "_view_module": "@jupyter-widgets/controls",
            "_view_module_version": "1.5.0",
            "_view_name": "ProgressView",
            "bar_style": "success",
            "description": "",
            "description_tooltip": null,
            "layout": "IPY_MODEL_239532b5011a46f2aa26fd6c55be663a",
            "max": 125,
            "min": 0,
            "orientation": "horizontal",
            "style": "IPY_MODEL_2cbf909fc36b4f23b4d14b63ee2d63ac",
            "value": 125
          }
        },
        "7bbfb3e6b9f5465c975506a7cb035f97": {
          "model_module": "@jupyter-widgets/controls",
          "model_module_version": "1.5.0",
          "model_name": "HBoxModel",
          "state": {
            "_dom_classes": [],
            "_model_module": "@jupyter-widgets/controls",
            "_model_module_version": "1.5.0",
            "_model_name": "HBoxModel",
            "_view_count": null,
            "_view_module": "@jupyter-widgets/controls",
            "_view_module_version": "1.5.0",
            "_view_name": "HBoxView",
            "box_style": "",
            "children": [
              "IPY_MODEL_759559662a314f918fdb6f71cdb4ab2a",
              "IPY_MODEL_4cdf128752c84aada34f8d8a37d9c939",
              "IPY_MODEL_e033bcc381c844d68b4b52d5b4309f37"
            ],
            "layout": "IPY_MODEL_7591b3bd2ddb4f37a494ef7ed5a9a4a8"
          }
        },
        "80e045a849944b57bf27a00d0560b090": {
          "model_module": "@jupyter-widgets/controls",
          "model_module_version": "1.5.0",
          "model_name": "DescriptionStyleModel",
          "state": {
            "_model_module": "@jupyter-widgets/controls",
            "_model_module_version": "1.5.0",
            "_model_name": "DescriptionStyleModel",
            "_view_count": null,
            "_view_module": "@jupyter-widgets/base",
            "_view_module_version": "1.2.0",
            "_view_name": "StyleView",
            "description_width": ""
          }
        },
        "8f0a8f299d5340fdbdcdc7aee22829c9": {
          "model_module": "@jupyter-widgets/base",
          "model_module_version": "1.2.0",
          "model_name": "LayoutModel",
          "state": {
            "_model_module": "@jupyter-widgets/base",
            "_model_module_version": "1.2.0",
            "_model_name": "LayoutModel",
            "_view_count": null,
            "_view_module": "@jupyter-widgets/base",
            "_view_module_version": "1.2.0",
            "_view_name": "LayoutView",
            "align_content": null,
            "align_items": null,
            "align_self": null,
            "border": null,
            "bottom": null,
            "display": null,
            "flex": null,
            "flex_flow": null,
            "grid_area": null,
            "grid_auto_columns": null,
            "grid_auto_flow": null,
            "grid_auto_rows": null,
            "grid_column": null,
            "grid_gap": null,
            "grid_row": null,
            "grid_template_areas": null,
            "grid_template_columns": null,
            "grid_template_rows": null,
            "height": null,
            "justify_content": null,
            "justify_items": null,
            "left": null,
            "margin": null,
            "max_height": null,
            "max_width": null,
            "min_height": null,
            "min_width": null,
            "object_fit": null,
            "object_position": null,
            "order": null,
            "overflow": null,
            "overflow_x": null,
            "overflow_y": null,
            "padding": null,
            "right": null,
            "top": null,
            "visibility": null,
            "width": null
          }
        },
        "9a0bbe5068904bcab5b9ca6ced6af4c3": {
          "model_module": "@jupyter-widgets/controls",
          "model_module_version": "1.5.0",
          "model_name": "DescriptionStyleModel",
          "state": {
            "_model_module": "@jupyter-widgets/controls",
            "_model_module_version": "1.5.0",
            "_model_name": "DescriptionStyleModel",
            "_view_count": null,
            "_view_module": "@jupyter-widgets/base",
            "_view_module_version": "1.2.0",
            "_view_name": "StyleView",
            "description_width": ""
          }
        },
        "a4389fe5700e4aaabf3ab21da7b7665b": {
          "model_module": "@jupyter-widgets/controls",
          "model_module_version": "1.5.0",
          "model_name": "DescriptionStyleModel",
          "state": {
            "_model_module": "@jupyter-widgets/controls",
            "_model_module_version": "1.5.0",
            "_model_name": "DescriptionStyleModel",
            "_view_count": null,
            "_view_module": "@jupyter-widgets/base",
            "_view_module_version": "1.2.0",
            "_view_name": "StyleView",
            "description_width": ""
          }
        },
        "b897ad1a96e74c17b2eb99c69cb9a213": {
          "model_module": "@jupyter-widgets/controls",
          "model_module_version": "1.5.0",
          "model_name": "ProgressStyleModel",
          "state": {
            "_model_module": "@jupyter-widgets/controls",
            "_model_module_version": "1.5.0",
            "_model_name": "ProgressStyleModel",
            "_view_count": null,
            "_view_module": "@jupyter-widgets/base",
            "_view_module_version": "1.2.0",
            "_view_name": "StyleView",
            "bar_color": null,
            "description_width": ""
          }
        },
        "c68bcdb909e84d1085d922054a32c27d": {
          "model_module": "@jupyter-widgets/controls",
          "model_module_version": "1.5.0",
          "model_name": "HBoxModel",
          "state": {
            "_dom_classes": [],
            "_model_module": "@jupyter-widgets/controls",
            "_model_module_version": "1.5.0",
            "_model_name": "HBoxModel",
            "_view_count": null,
            "_view_module": "@jupyter-widgets/controls",
            "_view_module_version": "1.5.0",
            "_view_name": "HBoxView",
            "box_style": "",
            "children": [
              "IPY_MODEL_1f96336acae9470ebef0433b54f3ab6c",
              "IPY_MODEL_f6ced134e6224bfe82bea2f2a6d75dc1",
              "IPY_MODEL_6ccb925ad07e4e35815238e549e5b9bb"
            ],
            "layout": "IPY_MODEL_682eae2253d94d59bb6ad8228bacd672"
          }
        },
        "c9293bf28f4840cfad7d68a33349f1cb": {
          "model_module": "@jupyter-widgets/base",
          "model_module_version": "1.2.0",
          "model_name": "LayoutModel",
          "state": {
            "_model_module": "@jupyter-widgets/base",
            "_model_module_version": "1.2.0",
            "_model_name": "LayoutModel",
            "_view_count": null,
            "_view_module": "@jupyter-widgets/base",
            "_view_module_version": "1.2.0",
            "_view_name": "LayoutView",
            "align_content": null,
            "align_items": null,
            "align_self": null,
            "border": null,
            "bottom": null,
            "display": null,
            "flex": null,
            "flex_flow": null,
            "grid_area": null,
            "grid_auto_columns": null,
            "grid_auto_flow": null,
            "grid_auto_rows": null,
            "grid_column": null,
            "grid_gap": null,
            "grid_row": null,
            "grid_template_areas": null,
            "grid_template_columns": null,
            "grid_template_rows": null,
            "height": null,
            "justify_content": null,
            "justify_items": null,
            "left": null,
            "margin": null,
            "max_height": null,
            "max_width": null,
            "min_height": null,
            "min_width": null,
            "object_fit": null,
            "object_position": null,
            "order": null,
            "overflow": null,
            "overflow_x": null,
            "overflow_y": null,
            "padding": null,
            "right": null,
            "top": null,
            "visibility": null,
            "width": null
          }
        },
        "cf4b3acb5ed24283a351b9b04df1b1a7": {
          "model_module": "@jupyter-widgets/controls",
          "model_module_version": "1.5.0",
          "model_name": "HTMLModel",
          "state": {
            "_dom_classes": [],
            "_model_module": "@jupyter-widgets/controls",
            "_model_module_version": "1.5.0",
            "_model_name": "HTMLModel",
            "_view_count": null,
            "_view_module": "@jupyter-widgets/controls",
            "_view_module_version": "1.5.0",
            "_view_name": "HTMLView",
            "description": "",
            "description_tooltip": null,
            "layout": "IPY_MODEL_568461fbe2e449ec9d5ec9585fe95f98",
            "placeholder": "​",
            "style": "IPY_MODEL_a4389fe5700e4aaabf3ab21da7b7665b",
            "value": " 125/125 [00:00&lt;00:00, 6.84kB/s]"
          }
        },
        "d202abce09ec494f858a2ad2fb90b326": {
          "model_module": "@jupyter-widgets/base",
          "model_module_version": "1.2.0",
          "model_name": "LayoutModel",
          "state": {
            "_model_module": "@jupyter-widgets/base",
            "_model_module_version": "1.2.0",
            "_model_name": "LayoutModel",
            "_view_count": null,
            "_view_module": "@jupyter-widgets/base",
            "_view_module_version": "1.2.0",
            "_view_name": "LayoutView",
            "align_content": null,
            "align_items": null,
            "align_self": null,
            "border": null,
            "bottom": null,
            "display": null,
            "flex": null,
            "flex_flow": null,
            "grid_area": null,
            "grid_auto_columns": null,
            "grid_auto_flow": null,
            "grid_auto_rows": null,
            "grid_column": null,
            "grid_gap": null,
            "grid_row": null,
            "grid_template_areas": null,
            "grid_template_columns": null,
            "grid_template_rows": null,
            "height": null,
            "justify_content": null,
            "justify_items": null,
            "left": null,
            "margin": null,
            "max_height": null,
            "max_width": null,
            "min_height": null,
            "min_width": null,
            "object_fit": null,
            "object_position": null,
            "order": null,
            "overflow": null,
            "overflow_x": null,
            "overflow_y": null,
            "padding": null,
            "right": null,
            "top": null,
            "visibility": null,
            "width": null
          }
        },
        "d378c5bcd8fd4a7e9a371e7aef6b7b30": {
          "model_module": "@jupyter-widgets/base",
          "model_module_version": "1.2.0",
          "model_name": "LayoutModel",
          "state": {
            "_model_module": "@jupyter-widgets/base",
            "_model_module_version": "1.2.0",
            "_model_name": "LayoutModel",
            "_view_count": null,
            "_view_module": "@jupyter-widgets/base",
            "_view_module_version": "1.2.0",
            "_view_name": "LayoutView",
            "align_content": null,
            "align_items": null,
            "align_self": null,
            "border": null,
            "bottom": null,
            "display": null,
            "flex": null,
            "flex_flow": null,
            "grid_area": null,
            "grid_auto_columns": null,
            "grid_auto_flow": null,
            "grid_auto_rows": null,
            "grid_column": null,
            "grid_gap": null,
            "grid_row": null,
            "grid_template_areas": null,
            "grid_template_columns": null,
            "grid_template_rows": null,
            "height": null,
            "justify_content": null,
            "justify_items": null,
            "left": null,
            "margin": null,
            "max_height": null,
            "max_width": null,
            "min_height": null,
            "min_width": null,
            "object_fit": null,
            "object_position": null,
            "order": null,
            "overflow": null,
            "overflow_x": null,
            "overflow_y": null,
            "padding": null,
            "right": null,
            "top": null,
            "visibility": null,
            "width": null
          }
        },
        "df64f58d9b4946a1a16c47f8b790faac": {
          "model_module": "@jupyter-widgets/controls",
          "model_module_version": "1.5.0",
          "model_name": "DescriptionStyleModel",
          "state": {
            "_model_module": "@jupyter-widgets/controls",
            "_model_module_version": "1.5.0",
            "_model_name": "DescriptionStyleModel",
            "_view_count": null,
            "_view_module": "@jupyter-widgets/base",
            "_view_module_version": "1.2.0",
            "_view_name": "StyleView",
            "description_width": ""
          }
        },
        "e01a52bc55724099bf218af9a65d3eb5": {
          "model_module": "@jupyter-widgets/controls",
          "model_module_version": "1.5.0",
          "model_name": "HTMLModel",
          "state": {
            "_dom_classes": [],
            "_model_module": "@jupyter-widgets/controls",
            "_model_module_version": "1.5.0",
            "_model_name": "HTMLModel",
            "_view_count": null,
            "_view_module": "@jupyter-widgets/controls",
            "_view_module_version": "1.5.0",
            "_view_name": "HTMLView",
            "description": "",
            "description_tooltip": null,
            "layout": "IPY_MODEL_1fd4137ea0984ef8b52a3941a4f8fe13",
            "placeholder": "​",
            "style": "IPY_MODEL_80e045a849944b57bf27a00d0560b090",
            "value": "special_tokens_map.json: 100%"
          }
        },
        "e033bcc381c844d68b4b52d5b4309f37": {
          "model_module": "@jupyter-widgets/controls",
          "model_module_version": "1.5.0",
          "model_name": "HTMLModel",
          "state": {
            "_dom_classes": [],
            "_model_module": "@jupyter-widgets/controls",
            "_model_module_version": "1.5.0",
            "_model_name": "HTMLModel",
            "_view_count": null,
            "_view_module": "@jupyter-widgets/controls",
            "_view_module_version": "1.5.0",
            "_view_name": "HTMLView",
            "description": "",
            "description_tooltip": null,
            "layout": "IPY_MODEL_d202abce09ec494f858a2ad2fb90b326",
            "placeholder": "​",
            "style": "IPY_MODEL_6d6cad1cde0441298b8d33bb4df56037",
            "value": " 4.20k/4.20k [00:00&lt;00:00, 267kB/s]"
          }
        },
        "eba908dd2c4c4b13976ba0514fa3c6af": {
          "model_module": "@jupyter-widgets/controls",
          "model_module_version": "1.5.0",
          "model_name": "DescriptionStyleModel",
          "state": {
            "_model_module": "@jupyter-widgets/controls",
            "_model_module_version": "1.5.0",
            "_model_name": "DescriptionStyleModel",
            "_view_count": null,
            "_view_module": "@jupyter-widgets/base",
            "_view_module_version": "1.2.0",
            "_view_name": "StyleView",
            "description_width": ""
          }
        },
        "f6ced134e6224bfe82bea2f2a6d75dc1": {
          "model_module": "@jupyter-widgets/controls",
          "model_module_version": "1.5.0",
          "model_name": "FloatProgressModel",
          "state": {
            "_dom_classes": [],
            "_model_module": "@jupyter-widgets/controls",
            "_model_module_version": "1.5.0",
            "_model_name": "FloatProgressModel",
            "_view_count": null,
            "_view_module": "@jupyter-widgets/controls",
            "_view_module_version": "1.5.0",
            "_view_name": "ProgressView",
            "bar_style": "success",
            "description": "",
            "description_tooltip": null,
            "layout": "IPY_MODEL_2b2c6cc89ca24842bf9b688ead166613",
            "max": 93,
            "min": 0,
            "orientation": "horizontal",
            "style": "IPY_MODEL_61a61cfbc1f84d08970da93c9be0d306",
            "value": 93
          }
        }
      }
    }
  },
  "nbformat": 4,
  "nbformat_minor": 0
}
