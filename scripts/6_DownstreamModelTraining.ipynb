{
  "cells": [
    {
      "cell_type": "code",
      "execution_count": 1,
      "metadata": {
        "id": "T-3izqUDLBZk"
      },
      "outputs": [],
      "source": [
        "import warnings\n",
        "warnings.filterwarnings(\"ignore\")"
      ]
    },
    {
      "cell_type": "code",
      "execution_count": 2,
      "metadata": {
        "colab": {
          "base_uri": "https://localhost:8080/"
        },
        "id": "U2didAj3ninU",
        "outputId": "5faa7f53-2d7d-40e1-8e5c-e0b956cf5845"
      },
      "outputs": [
        {
          "name": "stdout",
          "output_type": "stream",
          "text": [
            "Mounted at /content/drive\n"
          ]
        }
      ],
      "source": [
        "from google.colab import drive\n",
        "drive.mount('/content/drive')"
      ]
    },
    {
      "cell_type": "code",
      "execution_count": 3,
      "metadata": {
        "cellView": "form",
        "id": "f7zyqY7CJB_j"
      },
      "outputs": [],
      "source": [
        "#@title Imports\n",
        "import torch\n",
        "import random\n",
        "from tqdm import tqdm\n",
        "import numpy as np\n",
        "import pandas as pd\n",
        "from sklearn.metrics import r2_score\n",
        "from sklearn.svm import SVR\n",
        "from sklearn.decomposition import PCA\n",
        "from sklearn.model_selection import train_test_split\n",
        "from sklearn.metrics import mean_squared_error\n",
        "from sklearn.model_selection import KFold\n",
        "from sklearn.utils import resample\n",
        "from scipy.stats import spearmanr\n",
        "from sklearn.metrics import ndcg_score\n",
        "from sklearn.svm import SVR\n",
        "from sklearn.linear_model import Ridge\n",
        "from sklearn.pipeline import make_pipeline\n",
        "from sklearn.preprocessing import StandardScaler, RobustScaler, MinMaxScaler, normalize\n",
        "from sklearn.model_selection import KFold, StratifiedKFold\n",
        "from sklearn.utils import resample\n",
        "from scipy.stats import spearmanr\n",
        "from scipy.stats import pearsonr\n",
        "from sklearn.metrics import ndcg_score\n",
        "from sklearn.kernel_ridge import KernelRidge\n",
        "from sklearn.svm import SVR, SVC\n",
        "from sklearn.linear_model import Ridge\n",
        "from sklearn.metrics.pairwise import cosine_similarity\n",
        "from sklearn.pipeline import make_pipeline\n",
        "from sklearn.preprocessing import StandardScaler, MinMaxScaler\n",
        "from sklearn.pipeline import Pipeline\n",
        "from sklearn.cluster import KMeans\n",
        "from sklearn.metrics import accuracy_score\n",
        "from sklearn.ensemble import AdaBoostClassifier, RandomForestClassifier\n",
        "from sklearn.gaussian_process import GaussianProcessClassifier\n",
        "from sklearn.neighbors import KNeighborsClassifier\n",
        "from sklearn.neural_network import MLPClassifier\n",
        "from sklearn.linear_model import LogisticRegression, LinearRegression\n",
        "from sklearn.metrics import f1_score\n",
        "from scipy.stats import sem\n",
        "from sklearn.model_selection import GridSearchCV\n",
        "from sklearn.metrics import precision_score, recall_score, roc_auc_score, accuracy_score\n",
        "\n",
        "# Performs one round of 5-fold cross validation\n",
        "def tfcv(X, y, MODEL):\n",
        "  y = np.array(y)\n",
        "  acc, f1, pre, rec, auroc = [], [], [], [], []\n",
        "  kf = StratifiedKFold(n_splits=5, shuffle=True)\n",
        "  for train_index, test_index in kf.split(X, y):\n",
        "    # Get the train/val data for the current fold\n",
        "    X_train, X_test = X[train_index], X[test_index]\n",
        "    y_train, y_test = y[train_index], y[test_index]\n",
        "\n",
        "    # PCA was removed based off reveiwer's comment\n",
        "    # pca = PCA(n_components=50)\n",
        "    # X_train = pca.fit_transform(X_train)\n",
        "    # X_test = pca.transform(X_test)\n",
        "\n",
        "    scaler=StandardScaler()\n",
        "    X_train=scaler.fit_transform(X_train)\n",
        "    X_test=scaler.transform(X_test)\n",
        "\n",
        "    MODEL.fit(X_train, y_train)\n",
        "    y_pred = MODEL.predict(X_test)\n",
        "\n",
        "    # Compute metrics for current fold\n",
        "    fold_acc = accuracy_score(y_test, y_pred)\n",
        "    fold_f1 = f1_score(y_test, y_pred)\n",
        "    fold_pre = precision_score(y_test, y_pred)\n",
        "    fold_rec = recall_score(y_test, y_pred)\n",
        "    fold_roc = roc_auc_score(y_test, y_pred)\n",
        "    acc.append(fold_acc)\n",
        "    f1.append(fold_f1)\n",
        "    pre.append(fold_pre)\n",
        "    rec.append(fold_rec)\n",
        "    auroc.append(fold_roc)\n",
        "\n",
        "  return np.mean(np.array(acc)), np.mean(np.array(f1)), np.mean(np.array(pre)), np.mean(np.array(rec)), np.mean(np.array(auroc))\n",
        "\n",
        "# Optimize a hyperparameter\n",
        "def optimize(X, y, MODEL, PARAM, param_values):\n",
        "    top_value = param_values[0]\n",
        "    top_score = 0\n",
        "    for i in tqdm(param_values):\n",
        "        currentscore, _, _, _, _ = tfcv(X, y, MODEL(**{PARAM: i}, random_state=1))\n",
        "        if currentscore > top_score:\n",
        "            top_score = currentscore\n",
        "            top_value = i\n",
        "\n",
        "    final_acc, final_f1, final_pre, final_rec, final_auroc = [], [], [], [], []\n",
        "    for i in range(5):\n",
        "        ac, f1, pre, rec, auroc = tfcv(X, y, MODEL(**{PARAM: top_value}, random_state=1))\n",
        "        final_acc.append(ac)\n",
        "        final_f1.append(f1)\n",
        "        final_pre.append(pre)\n",
        "        final_rec.append(rec)\n",
        "        final_auroc.append(auroc)\n",
        "    final_acc = np.array(final_acc)\n",
        "    final_f1 = np.array(final_f1)\n",
        "    final_pre = np.array(final_pre)\n",
        "    final_rec = np.array(final_rec)\n",
        "    final_auroc = np.array(final_auroc)\n",
        "    print(f'Accuracy: {np.mean(final_acc)}, +/- {sem(final_acc)}')\n",
        "    print(f'F1: {np.mean(final_f1)}, +/- {sem(final_f1)}')\n",
        "    print(f'Precision: {np.mean(final_pre)}, +/- {sem(final_pre)}')\n",
        "    print(f'Recall: {np.mean(final_rec)}, +/- {sem(final_rec)}')\n",
        "    print(f'Auroc: {np.mean(final_auroc)}, +/- {sem(final_auroc)}')\n",
        "    print(f'top_value: {top_value}')\n",
        "    return np.mean(final_acc), sem(final_acc)\n",
        "\n",
        "# Load sequences from csv\n",
        "df = pd.read_csv('../Data/LazBF_sequences.csv')\n",
        "LazBF_sequences = df['sequences'].tolist()\n",
        "LazBF_labels = np.array(df['labels'].tolist())\n",
        "\n",
        "df = pd.read_csv('../Data/LazBF_sample.csv')\n",
        "LazBF_sample = df['sequences'].tolist()\n",
        "LazBF_sample_labels = np.array(df['labels'].tolist())\n",
        "\n",
        "df = pd.read_csv('../Data/LazDEF_sequences.csv')\n",
        "LazDEF_sequences = df['sequences'].tolist()\n",
        "LazDEF_labels = np.array(df['labels'].tolist())\n",
        "\n",
        "df = pd.read_csv('../Data/LazDEF_sample.csv')\n",
        "LazDEF_sample = df['sequences'].tolist()\n",
        "LazDEF_sample_labels = np.array(df['labels'].tolist())\n",
        "\n",
        "# Load Embs\n",
        "lazbf_mlm_none = np.load(\"../Embeddings/LazBF_mlm_none.npy\")\n",
        "lazdef_mlm_none = np.load(\"../Embeddings/LazDEF_mlm_none.npy\")\n",
        "\n",
        "lazbf_mlm_pa = np.load(\"../Embeddings/LazBF_mlm_PA.npy\")\n",
        "lazdef_mlm_pa = np.load(\"../Embeddings/LazDEF_mlm_PA.npy\")\n",
        "\n",
        "lazbf_mlm_lazbf = np.load(\"../Embeddings/LazBF_mlm_LazBF.npy\")\n",
        "lazdef_mlm_lazbf = np.load(\"../Embeddings/LazDEF_mlm_LazBF.npy\")\n",
        "\n",
        "lazbf_mlm_lazdef = np.load(\"../Embeddings/LazBF_mlm_LazDEF.npy\")\n",
        "# lazbf_mlm_lazdefLR04 = np.load(\"../Embeddings/LazBF_mlm_LazDEF_lr0.npy\") # LR 3e-4 embeddings\n",
        "# lazbf_mlm_lazdefLR05 = np.load(\"../Embeddings/LazBF_mlm_LazDEF_lr1.npy\") # LR 3e-5 embeddings\n",
        "\n",
        "lazdef_mlm_lazdef = np.load(\"../Embeddings/LazDEF_mlm_LazDEF.npy\")\n",
        "# lazdef_mlm_lazdefLR04 = np.load(\"../Embeddings/LazDEF_mlm_LazDEF_lr0.npy\") # LR 3e-4 embeddings\n",
        "# lazdef_mlm_lazdefLR05 = np.load(\"../Embeddings/LazDEF_mlm_LazDEF_lr1.npy\") # LR 3e-5 embeddings\n",
        "\n",
        "lazbf_mlm_lazbcdef = np.load(\"../Embeddings/LazBF_mlm_LazBCDEF.npy\")\n",
        "lazdef_mlm_lazbcdef = np.load(\"../Embeddings/LazDEF_mlm_LazBCDEF.npy\")\n",
        "\n",
        "# Hyperparameter grid\n",
        "model_list = [LogisticRegression, RandomForestClassifier, AdaBoostClassifier, SVC, MLPClassifier]\n",
        "param_list = ['C', 'n_estimators', 'n_estimators', 'C', 'hidden_layer_sizes']\n",
        "value_list = [\n",
        "   [1e-2, 1e-1, 1, 5], # LR\n",
        "  #  [5, 25, 50, 80], # KNN was removed due to poor performance\n",
        "   [5, 25, 50, 100], # RF\n",
        "   [5, 25, 50, 100], # Ada\n",
        "   [1e-2, 1e-1, 1, 5], # SVC\n",
        "   [50, 100, 200, 500], # MLP\n",
        "]\n",
        "\n",
        "def balanced_sample_np(seqs, labels, N, seed):\n",
        "    labels = np.array(labels)\n",
        "    indices_0 = np.where(labels == 0)[0]\n",
        "    indices_1 = np.where(labels == 1)[0]\n",
        "    min_count = min(len(indices_0), len(indices_1), N // 2)\n",
        "    sampled_indices_0 = np.random.choice(indices_0, min_count, replace=False)\n",
        "    sampled_indices_1 = np.random.choice(indices_1, min_count, replace=False)\n",
        "    sampled_indices = np.concatenate((sampled_indices_0, sampled_indices_1))\n",
        "    np.random.seed(seed)\n",
        "    random.seed(seed)\n",
        "    np.random.shuffle(sampled_indices)\n",
        "    return sampled_indices"
      ]
    },
    {
      "cell_type": "code",
      "execution_count": 19,
      "metadata": {
        "cellView": "form",
        "colab": {
          "base_uri": "https://localhost:8080/"
        },
        "id": "CyPM8W7igQZn",
        "outputId": "5c2d4be2-e3fc-4554-d2c2-7345dbf888a5"
      },
      "outputs": [
        {
          "name": "stdout",
          "output_type": "stream",
          "text": [
            "Low-N, LazDEF-task, Vanilla-ESM-Embeddings <class 'sklearn.linear_model._logistic.LogisticRegression'>\n"
          ]
        },
        {
          "name": "stderr",
          "output_type": "stream",
          "text": [
            "100%|██████████| 4/4 [00:01<00:00,  3.99it/s]\n"
          ]
        },
        {
          "name": "stdout",
          "output_type": "stream",
          "text": [
            "Accuracy: 0.7389999999999999, +/- 0.004\n",
            "F1: 0.7399777184318039, +/- 0.005525625059016988\n",
            "Precision: 0.7436258564725383, +/- 0.005393753509868707\n",
            "Recall: 0.746, +/- 0.010295630140986995\n",
            "Auroc: 0.7390000000000001, +/- 0.00400000000000001\n",
            "top_value: 0.01\n",
            "Low-N, LazDEF-task, Peptide-ESM-Embeddings <class 'sklearn.linear_model._logistic.LogisticRegression'>\n"
          ]
        },
        {
          "name": "stderr",
          "output_type": "stream",
          "text": [
            "100%|██████████| 4/4 [00:01<00:00,  3.99it/s]\n"
          ]
        },
        {
          "name": "stdout",
          "output_type": "stream",
          "text": [
            "Accuracy: 0.7620000000000001, +/- 0.009565563234854496\n",
            "F1: 0.7589466363821733, +/- 0.010120926688566956\n",
            "Precision: 0.7688851047249218, +/- 0.011237464139382787\n",
            "Recall: 0.758, +/- 0.011135528725660053\n",
            "Auroc: 0.7619999999999999, +/- 0.009565563234854503\n",
            "top_value: 0.1\n",
            "Low-N, LazDEF-task, LazBF-ESM-Embeddings <class 'sklearn.linear_model._logistic.LogisticRegression'>\n"
          ]
        },
        {
          "name": "stderr",
          "output_type": "stream",
          "text": [
            "100%|██████████| 4/4 [00:01<00:00,  2.02it/s]\n"
          ]
        },
        {
          "name": "stdout",
          "output_type": "stream",
          "text": [
            "Accuracy: 0.804, +/- 0.0074833147735478955\n",
            "F1: 0.7979537289732513, +/- 0.008310188435131404\n",
            "Precision: 0.8164555803897573, +/- 0.011893685160067339\n",
            "Recall: 0.79, +/- 0.008944271909999154\n",
            "Auroc: 0.804, +/- 0.007483314773547894\n",
            "top_value: 0.01\n",
            "Low-N, LazDEF-task, LazDEF-ESM-Embeddings <class 'sklearn.linear_model._logistic.LogisticRegression'>\n"
          ]
        },
        {
          "name": "stderr",
          "output_type": "stream",
          "text": [
            "100%|██████████| 4/4 [00:01<00:00,  3.57it/s]\n"
          ]
        },
        {
          "name": "stdout",
          "output_type": "stream",
          "text": [
            "Accuracy: 0.9490000000000001, +/- 0.0033166247903553808\n",
            "F1: 0.9493812676343648, +/- 0.003566291075739647\n",
            "Precision: 0.9412455411954672, +/- 0.0032558048240550717\n",
            "Recall: 0.96, +/- 0.005477225575051646\n",
            "Auroc: 0.9490000000000001, +/- 0.0033166247903553808\n",
            "top_value: 0.01\n",
            "Low-N, LazDEF-task, LazBCDEF-ESM-Embeddings <class 'sklearn.linear_model._logistic.LogisticRegression'>\n"
          ]
        },
        {
          "name": "stderr",
          "output_type": "stream",
          "text": [
            "100%|██████████| 4/4 [00:01<00:00,  3.74it/s]\n"
          ]
        },
        {
          "name": "stdout",
          "output_type": "stream",
          "text": [
            "Accuracy: 0.774, +/- 0.006964194138592072\n",
            "F1: 0.773093876484807, +/- 0.008620177446833108\n",
            "Precision: 0.773687240460292, +/- 0.004359385480511035\n",
            "Recall: 0.7779999999999999, +/- 0.014628738838327781\n",
            "Auroc: 0.774, +/- 0.006964194138592072\n",
            "top_value: 0.1\n",
            "Low-N, LazDEF-task, Vanilla-ESM-Embeddings <class 'sklearn.ensemble._forest.RandomForestClassifier'>\n"
          ]
        },
        {
          "name": "stderr",
          "output_type": "stream",
          "text": [
            "100%|██████████| 4/4 [00:03<00:00,  1.07it/s]\n"
          ]
        },
        {
          "name": "stdout",
          "output_type": "stream",
          "text": [
            "Accuracy: 0.7110000000000001, +/- 0.007648529270389171\n",
            "F1: 0.7107279444562187, +/- 0.007316894079230398\n",
            "Precision: 0.7097711984564993, +/- 0.009416010443162696\n",
            "Recall: 0.716, +/- 0.005099019513592783\n",
            "Auroc: 0.7110000000000001, +/- 0.007648529270389171\n",
            "top_value: 100\n",
            "Low-N, LazDEF-task, Peptide-ESM-Embeddings <class 'sklearn.ensemble._forest.RandomForestClassifier'>\n"
          ]
        },
        {
          "name": "stderr",
          "output_type": "stream",
          "text": [
            "100%|██████████| 4/4 [00:03<00:00,  1.05it/s]\n"
          ]
        },
        {
          "name": "stdout",
          "output_type": "stream",
          "text": [
            "Accuracy: 0.7110000000000001, +/- 0.0053385391260156526\n",
            "F1: 0.7030307381791102, +/- 0.006735620018662061\n",
            "Precision: 0.7302158305716657, +/- 0.007550401740084453\n",
            "Recall: 0.6900000000000001, +/- 0.00836660026534075\n",
            "Auroc: 0.7110000000000001, +/- 0.005338539126015659\n",
            "top_value: 100\n",
            "Low-N, LazDEF-task, LazBF-ESM-Embeddings <class 'sklearn.ensemble._forest.RandomForestClassifier'>\n"
          ]
        },
        {
          "name": "stderr",
          "output_type": "stream",
          "text": [
            "100%|██████████| 4/4 [00:03<00:00,  1.08it/s]\n"
          ]
        },
        {
          "name": "stdout",
          "output_type": "stream",
          "text": [
            "Accuracy: 0.7740000000000001, +/- 0.0053385391260156595\n",
            "F1: 0.7751162720322632, +/- 0.004823072549529066\n",
            "Precision: 0.771089226308906, +/- 0.005963251848460718\n",
            "Recall: 0.7860000000000001, +/- 0.0040000000000000036\n",
            "Auroc: 0.7740000000000001, +/- 0.0053385391260156595\n",
            "top_value: 100\n",
            "Low-N, LazDEF-task, LazDEF-ESM-Embeddings <class 'sklearn.ensemble._forest.RandomForestClassifier'>\n"
          ]
        },
        {
          "name": "stderr",
          "output_type": "stream",
          "text": [
            "100%|██████████| 4/4 [00:02<00:00,  1.42it/s]\n"
          ]
        },
        {
          "name": "stdout",
          "output_type": "stream",
          "text": [
            "Accuracy: 0.9440000000000002, +/- 0.0018708286933869513\n",
            "F1: 0.944657970901336, +/- 0.001744326586657569\n",
            "Precision: 0.9338246076323878, +/- 0.00021250830894575608\n",
            "Recall: 0.958, +/- 0.0037416573867739447\n",
            "Auroc: 0.944, +/- 0.0018708286933869483\n",
            "top_value: 25\n",
            "Low-N, LazDEF-task, LazBCDEF-ESM-Embeddings <class 'sklearn.ensemble._forest.RandomForestClassifier'>\n"
          ]
        },
        {
          "name": "stderr",
          "output_type": "stream",
          "text": [
            "100%|██████████| 4/4 [00:05<00:00,  1.33s/it]\n"
          ]
        },
        {
          "name": "stdout",
          "output_type": "stream",
          "text": [
            "Accuracy: 0.71, +/- 0.00790569415042097\n",
            "F1: 0.7068145502220793, +/- 0.0070511123370003105\n",
            "Precision: 0.7195338405032846, +/- 0.01109333824406247\n",
            "Recall: 0.7020000000000001, +/- 0.007348469228349553\n",
            "Auroc: 0.71, +/- 0.007905694150420972\n",
            "top_value: 25\n",
            "Low-N, LazDEF-task, Vanilla-ESM-Embeddings <class 'sklearn.ensemble._weight_boosting.AdaBoostClassifier'>\n"
          ]
        },
        {
          "name": "stderr",
          "output_type": "stream",
          "text": [
            "100%|██████████| 4/4 [00:30<00:00,  7.70s/it]\n"
          ]
        },
        {
          "name": "stdout",
          "output_type": "stream",
          "text": [
            "Accuracy: 0.717, +/- 0.009165151389911676\n",
            "F1: 0.7172064763470768, +/- 0.011225429858893953\n",
            "Precision: 0.7203310851365772, +/- 0.007075806820974103\n",
            "Recall: 0.724, +/- 0.017204650534085254\n",
            "Auroc: 0.717, +/- 0.009165151389911691\n",
            "top_value: 100\n",
            "Low-N, LazDEF-task, Peptide-ESM-Embeddings <class 'sklearn.ensemble._weight_boosting.AdaBoostClassifier'>\n"
          ]
        },
        {
          "name": "stderr",
          "output_type": "stream",
          "text": [
            "100%|██████████| 4/4 [00:30<00:00,  7.72s/it]\n"
          ]
        },
        {
          "name": "stdout",
          "output_type": "stream",
          "text": [
            "Accuracy: 0.7229999999999999, +/- 0.016093476939431105\n",
            "F1: 0.7224597158685019, +/- 0.016378802564009184\n",
            "Precision: 0.7195621791663116, +/- 0.016538747650922992\n",
            "Recall: 0.736, +/- 0.018867962264113195\n",
            "Auroc: 0.7229999999999999, +/- 0.016093476939431084\n",
            "top_value: 25\n",
            "Low-N, LazDEF-task, LazBF-ESM-Embeddings <class 'sklearn.ensemble._weight_boosting.AdaBoostClassifier'>\n"
          ]
        },
        {
          "name": "stderr",
          "output_type": "stream",
          "text": [
            "100%|██████████| 4/4 [00:31<00:00,  7.88s/it]\n"
          ]
        },
        {
          "name": "stdout",
          "output_type": "stream",
          "text": [
            "Accuracy: 0.7230000000000001, +/- 0.007176350047203669\n",
            "F1: 0.7294041174812924, +/- 0.006930461986071933\n",
            "Precision: 0.7210979775901298, +/- 0.010408059432581985\n",
            "Recall: 0.748, +/- 0.00860232526704262\n",
            "Auroc: 0.7230000000000001, +/- 0.0071763500472036765\n",
            "top_value: 25\n",
            "Low-N, LazDEF-task, LazDEF-ESM-Embeddings <class 'sklearn.ensemble._weight_boosting.AdaBoostClassifier'>\n"
          ]
        },
        {
          "name": "stderr",
          "output_type": "stream",
          "text": [
            "100%|██████████| 4/4 [00:30<00:00,  7.67s/it]\n"
          ]
        },
        {
          "name": "stdout",
          "output_type": "stream",
          "text": [
            "Accuracy: 0.9260000000000002, +/- 0.004301162633521304\n",
            "F1: 0.9261518392096055, +/- 0.004423921664625363\n",
            "Precision: 0.9225430242272348, +/- 0.0035919774180353872\n",
            "Recall: 0.932, +/- 0.008602325267042622\n",
            "Auroc: 0.9259999999999999, +/- 0.004301162633521347\n",
            "top_value: 25\n",
            "Low-N, LazDEF-task, LazBCDEF-ESM-Embeddings <class 'sklearn.ensemble._weight_boosting.AdaBoostClassifier'>\n"
          ]
        },
        {
          "name": "stderr",
          "output_type": "stream",
          "text": [
            "100%|██████████| 4/4 [00:30<00:00,  7.65s/it]\n"
          ]
        },
        {
          "name": "stdout",
          "output_type": "stream",
          "text": [
            "Accuracy: 0.701, +/- 0.016232683080747937\n",
            "F1: 0.694965039728416, +/- 0.01719815223103731\n",
            "Precision: 0.7063777619697124, +/- 0.017624163625963165\n",
            "Recall: 0.692, +/- 0.019078784028338906\n",
            "Auroc: 0.701, +/- 0.016232683080747958\n",
            "top_value: 50\n",
            "Low-N, LazDEF-task, Vanilla-ESM-Embeddings <class 'sklearn.svm._classes.SVC'>\n"
          ]
        },
        {
          "name": "stderr",
          "output_type": "stream",
          "text": [
            "100%|██████████| 4/4 [00:00<00:00,  5.79it/s]\n"
          ]
        },
        {
          "name": "stdout",
          "output_type": "stream",
          "text": [
            "Accuracy: 0.718, +/- 0.009823441352194252\n",
            "F1: 0.7180276403177558, +/- 0.011386244639184705\n",
            "Precision: 0.7186635921354186, +/- 0.010649238614028158\n",
            "Recall: 0.722, +/- 0.014966629547095767\n",
            "Auroc: 0.718, +/- 0.009823441352194238\n",
            "top_value: 1\n",
            "Low-N, LazDEF-task, Peptide-ESM-Embeddings <class 'sklearn.svm._classes.SVC'>\n"
          ]
        },
        {
          "name": "stderr",
          "output_type": "stream",
          "text": [
            "100%|██████████| 4/4 [00:00<00:00,  6.16it/s]\n"
          ]
        },
        {
          "name": "stdout",
          "output_type": "stream",
          "text": [
            "Accuracy: 0.7060000000000001, +/- 0.010049875621120889\n",
            "F1: 0.7067596100290923, +/- 0.00955815290371746\n",
            "Precision: 0.7051904845218347, +/- 0.011265550337894963\n",
            "Recall: 0.716, +/- 0.010295630140987007\n",
            "Auroc: 0.7060000000000001, +/- 0.010049875621120889\n",
            "top_value: 5\n",
            "Low-N, LazDEF-task, LazBF-ESM-Embeddings <class 'sklearn.svm._classes.SVC'>\n"
          ]
        },
        {
          "name": "stderr",
          "output_type": "stream",
          "text": [
            "100%|██████████| 4/4 [00:00<00:00,  5.97it/s]\n"
          ]
        },
        {
          "name": "stdout",
          "output_type": "stream",
          "text": [
            "Accuracy: 0.783, +/- 0.005147815070493482\n",
            "F1: 0.7892079274241407, +/- 0.005016274612634112\n",
            "Precision: 0.7697630510179709, +/- 0.00484125259310091\n",
            "Recall: 0.8160000000000001, +/- 0.005099019513592761\n",
            "Auroc: 0.783, +/- 0.005147815070493501\n",
            "top_value: 1\n",
            "Low-N, LazDEF-task, LazDEF-ESM-Embeddings <class 'sklearn.svm._classes.SVC'>\n"
          ]
        },
        {
          "name": "stderr",
          "output_type": "stream",
          "text": [
            "100%|██████████| 4/4 [00:00<00:00,  7.07it/s]\n"
          ]
        },
        {
          "name": "stdout",
          "output_type": "stream",
          "text": [
            "Accuracy: 0.95, +/- 0.0\n",
            "F1: 0.9510646978281692, +/- 0.0001480759398167369\n",
            "Precision: 0.934620781202017, +/- 0.0007247733105255653\n",
            "Recall: 0.97, +/- 0.0\n",
            "Auroc: 0.95, +/- 0.0\n",
            "top_value: 0.1\n",
            "Low-N, LazDEF-task, LazBCDEF-ESM-Embeddings <class 'sklearn.svm._classes.SVC'>\n"
          ]
        },
        {
          "name": "stderr",
          "output_type": "stream",
          "text": [
            "100%|██████████| 4/4 [00:00<00:00,  5.87it/s]\n"
          ]
        },
        {
          "name": "stdout",
          "output_type": "stream",
          "text": [
            "Accuracy: 0.743, +/- 0.007681145747868606\n",
            "F1: 0.7428208473849793, +/- 0.008861826747191446\n",
            "Precision: 0.7526797631851206, +/- 0.00629419091704611\n",
            "Recall: 0.744, +/- 0.012489995996796812\n",
            "Auroc: 0.743, +/- 0.007681145747868612\n",
            "top_value: 5\n",
            "Low-N, LazDEF-task, Vanilla-ESM-Embeddings <class 'sklearn.neural_network._multilayer_perceptron.MLPClassifier'>\n"
          ]
        },
        {
          "name": "stderr",
          "output_type": "stream",
          "text": [
            "100%|██████████| 4/4 [00:11<00:00,  2.82s/it]\n"
          ]
        },
        {
          "name": "stdout",
          "output_type": "stream",
          "text": [
            "Accuracy: 0.743, +/- 0.008000000000000004\n",
            "F1: 0.7475450481281705, +/- 0.008493823687993137\n",
            "Precision: 0.738954197637264, +/- 0.005700862238524244\n",
            "Recall: 0.7619999999999999, +/- 0.011575836902790213\n",
            "Auroc: 0.743, +/- 0.007999999999999986\n",
            "top_value: 500\n",
            "Low-N, LazDEF-task, Peptide-ESM-Embeddings <class 'sklearn.neural_network._multilayer_perceptron.MLPClassifier'>\n"
          ]
        },
        {
          "name": "stderr",
          "output_type": "stream",
          "text": [
            "100%|██████████| 4/4 [00:09<00:00,  2.44s/it]\n"
          ]
        },
        {
          "name": "stdout",
          "output_type": "stream",
          "text": [
            "Accuracy: 0.752, +/- 0.005612486080160898\n",
            "F1: 0.7531431617370656, +/- 0.0064378897229050765\n",
            "Precision: 0.7537851587039365, +/- 0.005216790005606379\n",
            "Recall: 0.76, +/- 0.01140175425099139\n",
            "Auroc: 0.752, +/- 0.005612486080160901\n",
            "top_value: 500\n",
            "Low-N, LazDEF-task, LazBF-ESM-Embeddings <class 'sklearn.neural_network._multilayer_perceptron.MLPClassifier'>\n"
          ]
        },
        {
          "name": "stderr",
          "output_type": "stream",
          "text": [
            "100%|██████████| 4/4 [00:11<00:00,  2.84s/it]\n"
          ]
        },
        {
          "name": "stdout",
          "output_type": "stream",
          "text": [
            "Accuracy: 0.768, +/- 0.01044030650891052\n",
            "F1: 0.7688714249689262, +/- 0.010865894264330716\n",
            "Precision: 0.7688978554656034, +/- 0.013221810624342833\n",
            "Recall: 0.776, +/- 0.013999999999999969\n",
            "Auroc: 0.7680000000000001, +/- 0.010440306508910546\n",
            "top_value: 100\n",
            "Low-N, LazDEF-task, LazDEF-ESM-Embeddings <class 'sklearn.neural_network._multilayer_perceptron.MLPClassifier'>\n"
          ]
        },
        {
          "name": "stderr",
          "output_type": "stream",
          "text": [
            "100%|██████████| 4/4 [00:10<00:00,  2.59s/it]\n"
          ]
        },
        {
          "name": "stdout",
          "output_type": "stream",
          "text": [
            "Accuracy: 0.932, +/- 0.001224744871391563\n",
            "F1: 0.9330629084269685, +/- 0.0012169405888758443\n",
            "Precision: 0.9261151319229123, +/- 0.0014899901603156864\n",
            "Recall: 0.944, +/- 0.002449489742783171\n",
            "Auroc: 0.932, +/- 0.001224744871391563\n",
            "top_value: 50\n",
            "Low-N, LazDEF-task, LazBCDEF-ESM-Embeddings <class 'sklearn.neural_network._multilayer_perceptron.MLPClassifier'>\n"
          ]
        },
        {
          "name": "stderr",
          "output_type": "stream",
          "text": [
            "100%|██████████| 4/4 [00:16<00:00,  4.02s/it]\n"
          ]
        },
        {
          "name": "stdout",
          "output_type": "stream",
          "text": [
            "Accuracy: 0.7609999999999999, +/- 0.005099019513592807\n",
            "F1: 0.7564071663580874, +/- 0.006652824441700825\n",
            "Precision: 0.7765156813991112, +/- 0.0011884981917575335\n",
            "Recall: 0.744, +/- 0.012083045973594582\n",
            "Auroc: 0.7609999999999999, +/- 0.005099019513592796\n",
            "top_value: 100\n",
            "[[0.7389999999999999, 0.7110000000000001, 0.717, 0.718, 0.743], [0.7620000000000001, 0.7110000000000001, 0.7229999999999999, 0.7060000000000001, 0.752], [0.804, 0.7740000000000001, 0.7230000000000001, 0.783, 0.768], [0.9490000000000001, 0.9440000000000002, 0.9260000000000002, 0.95, 0.932], [0.774, 0.71, 0.701, 0.743, 0.7609999999999999]]\n",
            "[[0.004, 0.007648529270389171, 0.009165151389911676, 0.009823441352194252, 0.008000000000000004], [0.009565563234854496, 0.0053385391260156526, 0.016093476939431105, 0.010049875621120889, 0.005612486080160898], [0.0074833147735478955, 0.0053385391260156595, 0.007176350047203669, 0.005147815070493482, 0.01044030650891052], [0.0033166247903553808, 0.0018708286933869513, 0.004301162633521304, 0.0, 0.001224744871391563], [0.006964194138592072, 0.00790569415042097, 0.016232683080747937, 0.007681145747868606, 0.005099019513592807]]\n"
          ]
        }
      ],
      "source": [
        "#@title LazDEF LowN\n",
        "np.random.seed(42)\n",
        "random.seed(42)\n",
        "from sklearn.utils import check_random_state\n",
        "random_state = check_random_state(42)\n",
        "\n",
        "idxs = balanced_sample_np(lazbf_mlm_none, LazBF_sample_labels, 200, 42)\n",
        "\n",
        "y_values = [\n",
        "    [0, 0, 0, 0, 0], # vanilla-esm\n",
        "    [0, 0, 0, 0, 0], # peptide-esm\n",
        "    [0, 0, 0, 0, 0], # LazBF-esm\n",
        "    [0, 0, 0, 0, 0], # LazDEF-esm\n",
        "    [0, 0, 0, 0, 0], # LazBCDEF-esm\n",
        "]\n",
        "y_errors = [\n",
        "    [0, 0, 0, 0, 0], # vanilla-esm\n",
        "    [0, 0, 0, 0, 0], # peptide-esm\n",
        "    [0, 0, 0, 0, 0], # LazBF-esm\n",
        "    [0, 0, 0, 0, 0], # LazDEF-esm\n",
        "    [0, 0, 0, 0, 0], # LazBCDEF-esm\n",
        "]\n",
        "\n",
        "i = 0\n",
        "for model, param, grid in zip(model_list, param_list, value_list):\n",
        "\n",
        "  # Lazdef prediction\n",
        "  print(f\"Low-N, LazDEF-task, Vanilla-ESM-Embeddings {model}\")\n",
        "  m, e = optimize(lazdef_mlm_none[idxs], LazDEF_sample_labels[idxs], model, param, grid)\n",
        "  y_values[0][i] = m\n",
        "  y_errors[0][i] = e\n",
        "\n",
        "  print(f\"Low-N, LazDEF-task, Peptide-ESM-Embeddings {model}\")\n",
        "  m, e = optimize(lazdef_mlm_pa[idxs], LazDEF_sample_labels[idxs], model, param, grid)\n",
        "  y_values[1][i] = m\n",
        "  y_errors[1][i] = e\n",
        "\n",
        "  print(f\"Low-N, LazDEF-task, LazBF-ESM-Embeddings {model}\")\n",
        "  m, e = optimize(lazdef_mlm_lazbf[idxs], LazDEF_sample_labels[idxs], model, param, grid)\n",
        "  y_values[2][i] = m\n",
        "  y_errors[2][i] = e\n",
        "\n",
        "  print(f\"Low-N, LazDEF-task, LazDEF-ESM-Embeddings {model}\")\n",
        "  m, e = optimize(lazdef_mlm_lazdef[idxs], LazDEF_sample_labels[idxs], model, param, grid)\n",
        "  y_values[3][i] = m\n",
        "  y_errors[3][i] = e\n",
        "\n",
        "  print(f\"Low-N, LazDEF-task, LazBCDEF-ESM-Embeddings {model}\")\n",
        "  m, e = optimize(lazdef_mlm_lazbcdef[idxs], LazDEF_sample_labels[idxs], model, param, grid)\n",
        "  y_values[4][i] = m\n",
        "  y_errors[4][i] = e\n",
        "\n",
        "  i += 1\n",
        "print(y_values)\n",
        "print(y_errors)"
      ]
    },
    {
      "cell_type": "code",
      "execution_count": 6,
      "metadata": {
        "cellView": "form",
        "colab": {
          "base_uri": "https://localhost:8080/"
        },
        "id": "vpRXgzWggaUh",
        "outputId": "43c74517-5d3e-40de-d6c4-cf5f89014e7b"
      },
      "outputs": [
        {
          "name": "stdout",
          "output_type": "stream",
          "text": [
            "Med-N, LazDEF-task, Vanilla-ESM-Embeddings <class 'sklearn.linear_model._logistic.LogisticRegression'>\n"
          ]
        },
        {
          "name": "stderr",
          "output_type": "stream",
          "text": [
            "100%|██████████| 4/4 [00:01<00:00,  2.33it/s]\n"
          ]
        },
        {
          "name": "stdout",
          "output_type": "stream",
          "text": [
            "Accuracy: 0.8228, +/- 0.0033823069050575674\n",
            "F1: 0.8238244519536856, +/- 0.004224457694936874\n",
            "Precision: 0.8201354701399846, +/- 0.0014735687910653488\n",
            "Recall: 0.8304, +/- 0.008634813257969162\n",
            "Auroc: 0.8228, +/- 0.00338230690505754\n",
            "top_value: 0.1\n",
            "Med-N, LazDEF-task, Peptide-ESM-Embeddings <class 'sklearn.linear_model._logistic.LogisticRegression'>\n"
          ]
        },
        {
          "name": "stderr",
          "output_type": "stream",
          "text": [
            "100%|██████████| 4/4 [00:01<00:00,  2.46it/s]\n"
          ]
        },
        {
          "name": "stdout",
          "output_type": "stream",
          "text": [
            "Accuracy: 0.82, +/- 0.0016733200530681391\n",
            "F1: 0.8196772886984729, +/- 0.0015859515351754206\n",
            "Precision: 0.8213516621812031, +/- 0.003977422784700294\n",
            "Recall: 0.8224, +/- 0.005455272678794333\n",
            "Auroc: 0.82, +/- 0.0016733200530681391\n",
            "top_value: 0.1\n",
            "Med-N, LazDEF-task, LazBF-ESM-Embeddings <class 'sklearn.linear_model._logistic.LogisticRegression'>\n"
          ]
        },
        {
          "name": "stderr",
          "output_type": "stream",
          "text": [
            "100%|██████████| 4/4 [00:01<00:00,  2.60it/s]\n"
          ]
        },
        {
          "name": "stdout",
          "output_type": "stream",
          "text": [
            "Accuracy: 0.8583999999999999, +/- 0.004874423042781561\n",
            "F1: 0.8606006914619341, +/- 0.0049864278655176045\n",
            "Precision: 0.8491680635771784, +/- 0.004732486183391774\n",
            "Recall: 0.8744, +/- 0.006273754856543241\n",
            "Auroc: 0.8583999999999999, +/- 0.004874423042781561\n",
            "top_value: 0.01\n",
            "Med-N, LazDEF-task, LazDEF-ESM-Embeddings <class 'sklearn.linear_model._logistic.LogisticRegression'>\n"
          ]
        },
        {
          "name": "stderr",
          "output_type": "stream",
          "text": [
            "100%|██████████| 4/4 [00:02<00:00,  1.89it/s]\n"
          ]
        },
        {
          "name": "stdout",
          "output_type": "stream",
          "text": [
            "Accuracy: 0.9515999999999998, +/- 0.0023151673805580455\n",
            "F1: 0.9516916854749005, +/- 0.0024015179781918168\n",
            "Precision: 0.9504339420986122, +/- 0.0024105458135728047\n",
            "Recall: 0.9544, +/- 0.0029933259094191526\n",
            "Auroc: 0.9516, +/- 0.0023151673805580663\n",
            "top_value: 0.01\n",
            "Med-N, LazDEF-task, LazBCDEF-ESM-Embeddings <class 'sklearn.linear_model._logistic.LogisticRegression'>\n"
          ]
        },
        {
          "name": "stderr",
          "output_type": "stream",
          "text": [
            "100%|██████████| 4/4 [00:02<00:00,  1.88it/s]\n"
          ]
        },
        {
          "name": "stdout",
          "output_type": "stream",
          "text": [
            "Accuracy: 0.844, +/- 0.007293833011524208\n",
            "F1: 0.8449391369035263, +/- 0.007351088783665696\n",
            "Precision: 0.8385217739528148, +/- 0.006739847725091841\n",
            "Recall: 0.8528, +/- 0.008708616422830932\n",
            "Auroc: 0.844, +/- 0.007293833011524228\n",
            "top_value: 0.1\n",
            "Med-N, LazDEF-task, Vanilla-ESM-Embeddings <class 'sklearn.ensemble._forest.RandomForestClassifier'>\n"
          ]
        },
        {
          "name": "stderr",
          "output_type": "stream",
          "text": [
            "100%|██████████| 4/4 [00:10<00:00,  2.63s/it]\n"
          ]
        },
        {
          "name": "stdout",
          "output_type": "stream",
          "text": [
            "Accuracy: 0.7512000000000001, +/- 0.003382306905057547\n",
            "F1: 0.7480877515461618, +/- 0.0034433631395550776\n",
            "Precision: 0.758177227128668, +/- 0.004214294702872652\n",
            "Recall: 0.7416, +/- 0.005741080037762917\n",
            "Auroc: 0.7512000000000001, +/- 0.0033823069050575552\n",
            "top_value: 100\n",
            "Med-N, LazDEF-task, Peptide-ESM-Embeddings <class 'sklearn.ensemble._forest.RandomForestClassifier'>\n"
          ]
        },
        {
          "name": "stderr",
          "output_type": "stream",
          "text": [
            "100%|██████████| 4/4 [00:09<00:00,  2.49s/it]\n"
          ]
        },
        {
          "name": "stdout",
          "output_type": "stream",
          "text": [
            "Accuracy: 0.77, +/- 0.004816637831516922\n",
            "F1: 0.7649046896282904, +/- 0.005467413136378752\n",
            "Precision: 0.7833873748781477, +/- 0.006304452918249785\n",
            "Recall: 0.7512, +/- 0.0073102667529988405\n",
            "Auroc: 0.77, +/- 0.00481663783151691\n",
            "top_value: 50\n",
            "Med-N, LazDEF-task, LazBF-ESM-Embeddings <class 'sklearn.ensemble._forest.RandomForestClassifier'>\n"
          ]
        },
        {
          "name": "stderr",
          "output_type": "stream",
          "text": [
            "100%|██████████| 4/4 [00:10<00:00,  2.65s/it]\n"
          ]
        },
        {
          "name": "stdout",
          "output_type": "stream",
          "text": [
            "Accuracy: 0.8012, +/- 0.0026532998322843456\n",
            "F1: 0.8055064819235108, +/- 0.00298431067268399\n",
            "Precision: 0.7894658482667463, +/- 0.0018838064379615108\n",
            "Recall: 0.8248000000000001, +/- 0.00557135531087363\n",
            "Auroc: 0.8012, +/- 0.0026532998322843196\n",
            "top_value: 100\n",
            "Med-N, LazDEF-task, LazDEF-ESM-Embeddings <class 'sklearn.ensemble._forest.RandomForestClassifier'>\n"
          ]
        },
        {
          "name": "stderr",
          "output_type": "stream",
          "text": [
            "100%|██████████| 4/4 [00:06<00:00,  1.66s/it]\n"
          ]
        },
        {
          "name": "stdout",
          "output_type": "stream",
          "text": [
            "Accuracy: 0.9559999999999998, +/- 0.0008944271909999167\n",
            "F1: 0.9563821345843143, +/- 0.0008644693140523081\n",
            "Precision: 0.9494399930912536, +/- 0.0010352056259707145\n",
            "Recall: 0.9640000000000001, +/- 0.0012649110640673528\n",
            "Auroc: 0.9560000000000001, +/- 0.0008944271909998918\n",
            "top_value: 100\n",
            "Med-N, LazDEF-task, LazBCDEF-ESM-Embeddings <class 'sklearn.ensemble._forest.RandomForestClassifier'>\n"
          ]
        },
        {
          "name": "stderr",
          "output_type": "stream",
          "text": [
            "100%|██████████| 4/4 [00:09<00:00,  2.38s/it]\n"
          ]
        },
        {
          "name": "stdout",
          "output_type": "stream",
          "text": [
            "Accuracy: 0.7668000000000001, +/- 0.006248199740725329\n",
            "F1: 0.7665294692594042, +/- 0.006154908501303382\n",
            "Precision: 0.767933678533593, +/- 0.008527509146026756\n",
            "Recall: 0.768, +/- 0.005932958789676524\n",
            "Auroc: 0.7668000000000001, +/- 0.006248199740725329\n",
            "top_value: 100\n",
            "Med-N, LazDEF-task, Vanilla-ESM-Embeddings <class 'sklearn.ensemble._weight_boosting.AdaBoostClassifier'>\n"
          ]
        },
        {
          "name": "stderr",
          "output_type": "stream",
          "text": [
            "100%|██████████| 4/4 [01:20<00:00, 20.06s/it]\n"
          ]
        },
        {
          "name": "stdout",
          "output_type": "stream",
          "text": [
            "Accuracy: 0.7348, +/- 0.008064738061462374\n",
            "F1: 0.733360732252393, +/- 0.00914341608525617\n",
            "Precision: 0.7383210072777056, +/- 0.008048967168900054\n",
            "Recall: 0.7319999999999999, +/- 0.01232882800593796\n",
            "Auroc: 0.7348000000000001, +/- 0.008064738061462375\n",
            "top_value: 50\n",
            "Med-N, LazDEF-task, Peptide-ESM-Embeddings <class 'sklearn.ensemble._weight_boosting.AdaBoostClassifier'>\n"
          ]
        },
        {
          "name": "stderr",
          "output_type": "stream",
          "text": [
            "100%|██████████| 4/4 [01:18<00:00, 19.59s/it]\n"
          ]
        },
        {
          "name": "stdout",
          "output_type": "stream",
          "text": [
            "Accuracy: 0.7671999999999999, +/- 0.007059745037889142\n",
            "F1: 0.768306099534122, +/- 0.006761863458684522\n",
            "Precision: 0.7659354497363564, +/- 0.007014241425616104\n",
            "Recall: 0.7736000000000001, +/- 0.006997142273814367\n",
            "Auroc: 0.7672000000000001, +/- 0.00705974503788911\n",
            "top_value: 100\n",
            "Med-N, LazDEF-task, LazBF-ESM-Embeddings <class 'sklearn.ensemble._weight_boosting.AdaBoostClassifier'>\n"
          ]
        },
        {
          "name": "stderr",
          "output_type": "stream",
          "text": [
            "100%|██████████| 4/4 [01:20<00:00, 20.05s/it]\n"
          ]
        },
        {
          "name": "stdout",
          "output_type": "stream",
          "text": [
            "Accuracy: 0.7992000000000001, +/- 0.006183849933496142\n",
            "F1: 0.8006983385260618, +/- 0.005548910846117608\n",
            "Precision: 0.7946515095605843, +/- 0.00804845629228366\n",
            "Recall: 0.8088, +/- 0.004079215610874238\n",
            "Auroc: 0.7991999999999999, +/- 0.006183849933496143\n",
            "top_value: 100\n",
            "Med-N, LazDEF-task, LazDEF-ESM-Embeddings <class 'sklearn.ensemble._weight_boosting.AdaBoostClassifier'>\n"
          ]
        },
        {
          "name": "stderr",
          "output_type": "stream",
          "text": [
            "100%|██████████| 4/4 [01:19<00:00, 19.87s/it]\n"
          ]
        },
        {
          "name": "stdout",
          "output_type": "stream",
          "text": [
            "Accuracy: 0.954, +/- 0.002097617696340305\n",
            "F1: 0.9541411266654503, +/- 0.0021839303936063074\n",
            "Precision: 0.9512380945621617, +/- 0.0027286603530782974\n",
            "Recall: 0.9576, +/- 0.004308131845707595\n",
            "Auroc: 0.954, +/- 0.002097617696340305\n",
            "top_value: 100\n",
            "Med-N, LazDEF-task, LazBCDEF-ESM-Embeddings <class 'sklearn.ensemble._weight_boosting.AdaBoostClassifier'>\n"
          ]
        },
        {
          "name": "stderr",
          "output_type": "stream",
          "text": [
            "100%|██████████| 4/4 [01:19<00:00, 19.80s/it]\n"
          ]
        },
        {
          "name": "stdout",
          "output_type": "stream",
          "text": [
            "Accuracy: 0.7555999999999999, +/- 0.0047916594202843865\n",
            "F1: 0.7580062564474408, +/- 0.0053450417248107635\n",
            "Precision: 0.7504004165825785, +/- 0.004110908110452678\n",
            "Recall: 0.7687999999999999, +/- 0.007939773296511667\n",
            "Auroc: 0.7555999999999999, +/- 0.0047916594202843865\n",
            "top_value: 100\n",
            "Med-N, LazDEF-task, Vanilla-ESM-Embeddings <class 'sklearn.svm._classes.SVC'>\n"
          ]
        },
        {
          "name": "stderr",
          "output_type": "stream",
          "text": [
            "100%|██████████| 4/4 [00:03<00:00,  1.24it/s]\n"
          ]
        },
        {
          "name": "stdout",
          "output_type": "stream",
          "text": [
            "Accuracy: 0.7836000000000001, +/- 0.003600000000000003\n",
            "F1: 0.7871467299340537, +/- 0.003762025425439143\n",
            "Precision: 0.7756812045289125, +/- 0.003429194776861904\n",
            "Recall: 0.8008, +/- 0.00480000000000001\n",
            "Auroc: 0.7836000000000001, +/- 0.003600000000000003\n",
            "top_value: 1\n",
            "Med-N, LazDEF-task, Peptide-ESM-Embeddings <class 'sklearn.svm._classes.SVC'>\n"
          ]
        },
        {
          "name": "stderr",
          "output_type": "stream",
          "text": [
            "100%|██████████| 4/4 [00:02<00:00,  1.64it/s]\n"
          ]
        },
        {
          "name": "stdout",
          "output_type": "stream",
          "text": [
            "Accuracy: 0.7863999999999999, +/- 0.0027856776554368514\n",
            "F1: 0.7885662254432733, +/- 0.0030344045015438933\n",
            "Precision: 0.7846840275375282, +/- 0.0061069628823090085\n",
            "Recall: 0.7968, +/- 0.004630334761116096\n",
            "Auroc: 0.7863999999999999, +/- 0.0027856776554368514\n",
            "top_value: 1\n",
            "Med-N, LazDEF-task, LazBF-ESM-Embeddings <class 'sklearn.svm._classes.SVC'>\n"
          ]
        },
        {
          "name": "stderr",
          "output_type": "stream",
          "text": [
            "100%|██████████| 4/4 [00:02<00:00,  1.69it/s]\n"
          ]
        },
        {
          "name": "stdout",
          "output_type": "stream",
          "text": [
            "Accuracy: 0.8284, +/- 0.0036000000000000042\n",
            "F1: 0.8310041457838535, +/- 0.0036006270743420285\n",
            "Precision: 0.8173383144027504, +/- 0.005368631900472438\n",
            "Recall: 0.8488, +/- 0.00542586398650022\n",
            "Auroc: 0.8284, +/- 0.0035999999999999747\n",
            "top_value: 1\n",
            "Med-N, LazDEF-task, LazDEF-ESM-Embeddings <class 'sklearn.svm._classes.SVC'>\n"
          ]
        },
        {
          "name": "stderr",
          "output_type": "stream",
          "text": [
            "100%|██████████| 4/4 [00:02<00:00,  1.99it/s]\n"
          ]
        },
        {
          "name": "stdout",
          "output_type": "stream",
          "text": [
            "Accuracy: 0.9560000000000001, +/- 8.599750569898515e-17\n",
            "F1: 0.9565752611527515, +/- 9.086284434226312e-05\n",
            "Precision: 0.9460087981652908, +/- 0.00045601411890192246\n",
            "Recall: 0.968, +/- 0.0\n",
            "Auroc: 0.9559999999999998, +/- 4.965068306494546e-17\n",
            "top_value: 0.1\n",
            "Med-N, LazDEF-task, LazBCDEF-ESM-Embeddings <class 'sklearn.svm._classes.SVC'>\n"
          ]
        },
        {
          "name": "stderr",
          "output_type": "stream",
          "text": [
            "100%|██████████| 4/4 [00:02<00:00,  1.66it/s]\n"
          ]
        },
        {
          "name": "stdout",
          "output_type": "stream",
          "text": [
            "Accuracy: 0.8144, +/- 0.004578209256903825\n",
            "F1: 0.8173454282610388, +/- 0.004362197630067833\n",
            "Precision: 0.806874998969471, +/- 0.004766628730238804\n",
            "Recall: 0.8304, +/- 0.004664761515876244\n",
            "Auroc: 0.8144, +/- 0.004578209256903863\n",
            "top_value: 5\n",
            "Med-N, LazDEF-task, Vanilla-ESM-Embeddings <class 'sklearn.neural_network._multilayer_perceptron.MLPClassifier'>\n"
          ]
        },
        {
          "name": "stderr",
          "output_type": "stream",
          "text": [
            "100%|██████████| 4/4 [00:27<00:00,  6.95s/it]\n"
          ]
        },
        {
          "name": "stdout",
          "output_type": "stream",
          "text": [
            "Accuracy: 0.7868, +/- 0.006651315659326361\n",
            "F1: 0.7886874216947789, +/- 0.0065146906664493645\n",
            "Precision: 0.7823578994527683, +/- 0.007162024971184331\n",
            "Recall: 0.7984, +/- 0.008158431221748447\n",
            "Auroc: 0.7868, +/- 0.0066513156593263475\n",
            "top_value: 500\n",
            "Med-N, LazDEF-task, Peptide-ESM-Embeddings <class 'sklearn.neural_network._multilayer_perceptron.MLPClassifier'>\n"
          ]
        },
        {
          "name": "stderr",
          "output_type": "stream",
          "text": [
            "100%|██████████| 4/4 [00:27<00:00,  6.92s/it]\n"
          ]
        },
        {
          "name": "stdout",
          "output_type": "stream",
          "text": [
            "Accuracy: 0.7964, +/- 0.005564171097297435\n",
            "F1: 0.7961320908398637, +/- 0.006017978546437588\n",
            "Precision: 0.8006639107632306, +/- 0.004178575774139999\n",
            "Recall: 0.7951999999999999, +/- 0.008616263691415197\n",
            "Auroc: 0.7963999999999999, +/- 0.005564171097297401\n",
            "top_value: 50\n",
            "Med-N, LazDEF-task, LazBF-ESM-Embeddings <class 'sklearn.neural_network._multilayer_perceptron.MLPClassifier'>\n"
          ]
        },
        {
          "name": "stderr",
          "output_type": "stream",
          "text": [
            "100%|██████████| 4/4 [00:28<00:00,  7.03s/it]\n"
          ]
        },
        {
          "name": "stdout",
          "output_type": "stream",
          "text": [
            "Accuracy: 0.8535999999999999, +/- 0.003544009029333893\n",
            "F1: 0.8561159297776193, +/- 0.00323554598900907\n",
            "Precision: 0.8438812908489147, +/- 0.005144270100644205\n",
            "Recall: 0.8712, +/- 0.0023323807579381183\n",
            "Auroc: 0.8535999999999999, +/- 0.003544009029333836\n",
            "top_value: 100\n",
            "Med-N, LazDEF-task, LazDEF-ESM-Embeddings <class 'sklearn.neural_network._multilayer_perceptron.MLPClassifier'>\n"
          ]
        },
        {
          "name": "stderr",
          "output_type": "stream",
          "text": [
            "100%|██████████| 4/4 [00:20<00:00,  5.04s/it]\n"
          ]
        },
        {
          "name": "stdout",
          "output_type": "stream",
          "text": [
            "Accuracy: 0.9508000000000001, +/- 0.002059126028197403\n",
            "F1: 0.9508332801218282, +/- 0.0019213427384850536\n",
            "Precision: 0.9502893687815748, +/- 0.00393847569908117\n",
            "Recall: 0.9527999999999999, +/- 0.0007999999999999784\n",
            "Auroc: 0.9508000000000001, +/- 0.002059126028197394\n",
            "top_value: 50\n",
            "Med-N, LazDEF-task, LazBCDEF-ESM-Embeddings <class 'sklearn.neural_network._multilayer_perceptron.MLPClassifier'>\n"
          ]
        },
        {
          "name": "stderr",
          "output_type": "stream",
          "text": [
            "100%|██████████| 4/4 [00:40<00:00, 10.12s/it]\n"
          ]
        },
        {
          "name": "stdout",
          "output_type": "stream",
          "text": [
            "Accuracy: 0.82, +/- 0.004898979485566342\n",
            "F1: 0.8219681984498457, +/- 0.005480876217996082\n",
            "Precision: 0.8123568021273035, +/- 0.0034937695184307036\n",
            "Recall: 0.8336, +/- 0.0077562877718661315\n",
            "Auroc: 0.8200000000000001, +/- 0.00489897948556637\n",
            "top_value: 50\n",
            "[[0.8228, 0.7512000000000001, 0.7348, 0.7836000000000001, 0.7868], [0.82, 0.77, 0.7671999999999999, 0.7863999999999999, 0.7964], [0.8583999999999999, 0.8012, 0.7992000000000001, 0.8284, 0.8535999999999999], [0.9515999999999998, 0.9559999999999998, 0.954, 0.9560000000000001, 0.9508000000000001], [0.844, 0.7668000000000001, 0.7555999999999999, 0.8144, 0.82]]\n",
            "[[0.0033823069050575674, 0.003382306905057547, 0.008064738061462374, 0.003600000000000003, 0.006651315659326361], [0.0016733200530681391, 0.004816637831516922, 0.007059745037889142, 0.0027856776554368514, 0.005564171097297435], [0.004874423042781561, 0.0026532998322843456, 0.006183849933496142, 0.0036000000000000042, 0.003544009029333893], [0.0023151673805580455, 0.0008944271909999167, 0.002097617696340305, 8.599750569898515e-17, 0.002059126028197403], [0.007293833011524208, 0.006248199740725329, 0.0047916594202843865, 0.004578209256903825, 0.004898979485566342]]\n"
          ]
        }
      ],
      "source": [
        "#@title LazDEF MedN\n",
        "np.random.seed(42)\n",
        "random.seed(42)\n",
        "from sklearn.utils import check_random_state\n",
        "random_state = check_random_state(42)\n",
        "\n",
        "idxs = balanced_sample_np(lazbf_mlm_none, LazBF_sample_labels, 500, 42)\n",
        "\n",
        "y_values = [\n",
        "    [0, 0, 0, 0, 0], # vanilla-esm\n",
        "    [0, 0, 0, 0, 0], # peptide-esm\n",
        "    [0, 0, 0, 0, 0], # LazBF-esm\n",
        "    [0, 0, 0, 0, 0], # LazDEF-esm\n",
        "    [0, 0, 0, 0, 0], # LazBCDEF-esm\n",
        "]\n",
        "y_errors = [\n",
        "    [0, 0, 0, 0, 0], # vanilla-esm\n",
        "    [0, 0, 0, 0, 0], # peptide-esm\n",
        "    [0, 0, 0, 0, 0], # LazBF-esm\n",
        "    [0, 0, 0, 0, 0], # LazDEF-esm\n",
        "    [0, 0, 0, 0, 0], # LazBCDEF-esm\n",
        "]\n",
        "\n",
        "i = 0\n",
        "for model, param, grid in zip(model_list, param_list, value_list):\n",
        "\n",
        "  # Lazdef prediction\n",
        "  print(f\"Med-N, LazDEF-task, Vanilla-ESM-Embeddings {model}\")\n",
        "  m, e = optimize(lazdef_mlm_none[idxs], LazDEF_sample_labels[idxs], model, param, grid)\n",
        "  y_values[0][i] = m\n",
        "  y_errors[0][i] = e\n",
        "\n",
        "  print(f\"Med-N, LazDEF-task, Peptide-ESM-Embeddings {model}\")\n",
        "  m, e = optimize(lazdef_mlm_pa[idxs], LazDEF_sample_labels[idxs], model, param, grid)\n",
        "  y_values[1][i] = m\n",
        "  y_errors[1][i] = e\n",
        "\n",
        "  print(f\"Med-N, LazDEF-task, LazBF-ESM-Embeddings {model}\")\n",
        "  m, e = optimize(lazdef_mlm_lazbf[idxs], LazDEF_sample_labels[idxs], model, param, grid)\n",
        "  y_values[2][i] = m\n",
        "  y_errors[2][i] = e\n",
        "\n",
        "  print(f\"Med-N, LazDEF-task, LazDEF-ESM-Embeddings {model}\")\n",
        "  m, e = optimize(lazdef_mlm_lazdef[idxs], LazDEF_sample_labels[idxs], model, param, grid)\n",
        "  y_values[3][i] = m\n",
        "  y_errors[3][i] = e\n",
        "\n",
        "  print(f\"Med-N, LazDEF-task, LazBCDEF-ESM-Embeddings {model}\")\n",
        "  m, e = optimize(lazdef_mlm_lazbcdef[idxs], LazDEF_sample_labels[idxs], model, param, grid)\n",
        "  y_values[4][i] = m\n",
        "  y_errors[4][i] = e\n",
        "\n",
        "  i += 1\n",
        "print(y_values)\n",
        "print(y_errors)"
      ]
    },
    {
      "cell_type": "code",
      "execution_count": 7,
      "metadata": {
        "cellView": "form",
        "colab": {
          "base_uri": "https://localhost:8080/"
        },
        "id": "fjk7mfPKgc7g",
        "outputId": "bb464c06-5e4a-422b-c14b-faa63049df14"
      },
      "outputs": [
        {
          "name": "stdout",
          "output_type": "stream",
          "text": [
            "High-N, LazDEF-task, Vanilla-ESM-Embeddings <class 'sklearn.linear_model._logistic.LogisticRegression'>\n"
          ]
        },
        {
          "name": "stderr",
          "output_type": "stream",
          "text": [
            "100%|██████████| 4/4 [00:02<00:00,  1.42it/s]\n"
          ]
        },
        {
          "name": "stdout",
          "output_type": "stream",
          "text": [
            "Accuracy: 0.8674, +/- 0.0030099833886584673\n",
            "F1: 0.8683821037038282, +/- 0.0031279488524124984\n",
            "Precision: 0.8638400485664544, +/- 0.0027200696694857935\n",
            "Recall: 0.874, +/- 0.003794733192202085\n",
            "Auroc: 0.8674, +/- 0.0030099833886584673\n",
            "top_value: 0.1\n",
            "High-N, LazDEF-task, Peptide-ESM-Embeddings <class 'sklearn.linear_model._logistic.LogisticRegression'>\n"
          ]
        },
        {
          "name": "stderr",
          "output_type": "stream",
          "text": [
            "100%|██████████| 4/4 [00:03<00:00,  1.04it/s]\n"
          ]
        },
        {
          "name": "stdout",
          "output_type": "stream",
          "text": [
            "Accuracy: 0.8630000000000001, +/- 0.0015491933384829716\n",
            "F1: 0.8625889424806121, +/- 0.0016328261401224876\n",
            "Precision: 0.8661081595956599, +/- 0.002239418998564068\n",
            "Recall: 0.8603999999999999, +/- 0.003187475490101856\n",
            "Auroc: 0.8630000000000001, +/- 0.0015491933384829716\n",
            "top_value: 5\n",
            "High-N, LazDEF-task, LazBF-ESM-Embeddings <class 'sklearn.linear_model._logistic.LogisticRegression'>\n"
          ]
        },
        {
          "name": "stderr",
          "output_type": "stream",
          "text": [
            "100%|██████████| 4/4 [00:02<00:00,  1.58it/s]\n"
          ]
        },
        {
          "name": "stdout",
          "output_type": "stream",
          "text": [
            "Accuracy: 0.8984, +/- 0.002135415650406234\n",
            "F1: 0.8997423292141432, +/- 0.0019973482424223044\n",
            "Precision: 0.8894098700909356, +/- 0.0031586596062096596\n",
            "Recall: 0.9107999999999998, +/- 0.0018547236990991446\n",
            "Auroc: 0.8984, +/- 0.002135415650406234\n",
            "top_value: 1\n",
            "High-N, LazDEF-task, LazDEF-ESM-Embeddings <class 'sklearn.linear_model._logistic.LogisticRegression'>\n"
          ]
        },
        {
          "name": "stderr",
          "output_type": "stream",
          "text": [
            "100%|██████████| 4/4 [00:01<00:00,  2.45it/s]\n"
          ]
        },
        {
          "name": "stdout",
          "output_type": "stream",
          "text": [
            "Accuracy: 0.9686, +/- 0.0006782329983125471\n",
            "F1: 0.9686000928108032, +/- 0.0006906471367077056\n",
            "Precision: 0.9682911488988198, +/- 0.0012836513066793068\n",
            "Recall: 0.9692000000000001, +/- 0.0013564659966250482\n",
            "Auroc: 0.9686, +/- 0.0006782329983125471\n",
            "top_value: 0.01\n",
            "High-N, LazDEF-task, LazBCDEF-ESM-Embeddings <class 'sklearn.linear_model._logistic.LogisticRegression'>\n"
          ]
        },
        {
          "name": "stderr",
          "output_type": "stream",
          "text": [
            "100%|██████████| 4/4 [00:03<00:00,  1.01it/s]\n"
          ]
        },
        {
          "name": "stdout",
          "output_type": "stream",
          "text": [
            "Accuracy: 0.8876000000000002, +/- 0.0033256578296631655\n",
            "F1: 0.8885485335652008, +/- 0.0033947391411545285\n",
            "Precision: 0.8814863556694432, +/- 0.0030012668617170795\n",
            "Recall: 0.8964000000000001, +/- 0.004534313619501851\n",
            "Auroc: 0.8876000000000002, +/- 0.0033256578296631655\n",
            "top_value: 0.1\n",
            "High-N, LazDEF-task, Vanilla-ESM-Embeddings <class 'sklearn.ensemble._forest.RandomForestClassifier'>\n"
          ]
        },
        {
          "name": "stderr",
          "output_type": "stream",
          "text": [
            "100%|██████████| 4/4 [00:23<00:00,  5.98s/it]\n"
          ]
        },
        {
          "name": "stdout",
          "output_type": "stream",
          "text": [
            "Accuracy: 0.7807999999999999, +/- 0.0036110940170535418\n",
            "F1: 0.7764967117189239, +/- 0.0036967166653670666\n",
            "Precision: 0.7918133920579777, +/- 0.0038662800459269312\n",
            "Recall: 0.7624000000000001, +/- 0.0037094473981982724\n",
            "Auroc: 0.7807999999999999, +/- 0.0036110940170535413\n",
            "top_value: 100\n",
            "High-N, LazDEF-task, Peptide-ESM-Embeddings <class 'sklearn.ensemble._forest.RandomForestClassifier'>\n"
          ]
        },
        {
          "name": "stderr",
          "output_type": "stream",
          "text": [
            "100%|██████████| 4/4 [00:23<00:00,  5.80s/it]\n"
          ]
        },
        {
          "name": "stdout",
          "output_type": "stream",
          "text": [
            "Accuracy: 0.7936, +/- 0.004202380277890136\n",
            "F1: 0.7874688823678329, +/- 0.004340886404302301\n",
            "Precision: 0.811475476483416, +/- 0.004684251421093997\n",
            "Recall: 0.766, +/- 0.004427188724235735\n",
            "Auroc: 0.7936, +/- 0.004202380277890106\n",
            "top_value: 50\n",
            "High-N, LazDEF-task, LazBF-ESM-Embeddings <class 'sklearn.ensemble._forest.RandomForestClassifier'>\n"
          ]
        },
        {
          "name": "stderr",
          "output_type": "stream",
          "text": [
            "100%|██████████| 4/4 [00:23<00:00,  5.76s/it]\n"
          ]
        },
        {
          "name": "stdout",
          "output_type": "stream",
          "text": [
            "Accuracy: 0.8081999999999999, +/- 0.00293938769133976\n",
            "F1: 0.807548699316774, +/- 0.0025916737050808232\n",
            "Precision: 0.8116240742065102, +/- 0.00415597817944437\n",
            "Recall: 0.8051999999999999, +/- 0.002416609194718886\n",
            "Auroc: 0.8082, +/- 0.002939387691339819\n",
            "top_value: 50\n",
            "High-N, LazDEF-task, LazDEF-ESM-Embeddings <class 'sklearn.ensemble._forest.RandomForestClassifier'>\n"
          ]
        },
        {
          "name": "stderr",
          "output_type": "stream",
          "text": [
            "100%|██████████| 4/4 [00:16<00:00,  4.23s/it]\n"
          ]
        },
        {
          "name": "stdout",
          "output_type": "stream",
          "text": [
            "Accuracy: 0.9673999999999999, +/- 0.0005099019513592942\n",
            "F1: 0.9674439133332011, +/- 0.00047821444416308763\n",
            "Precision: 0.967198817042736, +/- 0.0008886741273385014\n",
            "Recall: 0.968, +/- 0.0\n",
            "Auroc: 0.9673999999999999, +/- 0.0005099019513592942\n",
            "top_value: 100\n",
            "High-N, LazDEF-task, LazBCDEF-ESM-Embeddings <class 'sklearn.ensemble._forest.RandomForestClassifier'>\n"
          ]
        },
        {
          "name": "stderr",
          "output_type": "stream",
          "text": [
            "100%|██████████| 4/4 [00:22<00:00,  5.61s/it]\n"
          ]
        },
        {
          "name": "stdout",
          "output_type": "stream",
          "text": [
            "Accuracy: 0.7811999999999999, +/- 0.0028705400188814676\n",
            "F1: 0.7803609719977922, +/- 0.003248248234473873\n",
            "Precision: 0.783100687942746, +/- 0.002186951011999653\n",
            "Recall: 0.7783999999999999, +/- 0.00462168800331653\n",
            "Auroc: 0.7812, +/- 0.002870540018881442\n",
            "top_value: 100\n",
            "High-N, LazDEF-task, Vanilla-ESM-Embeddings <class 'sklearn.ensemble._weight_boosting.AdaBoostClassifier'>\n"
          ]
        },
        {
          "name": "stderr",
          "output_type": "stream",
          "text": [
            "100%|██████████| 4/4 [02:45<00:00, 41.48s/it]\n"
          ]
        },
        {
          "name": "stdout",
          "output_type": "stream",
          "text": [
            "Accuracy: 0.7767999999999999, +/- 0.006865857557508741\n",
            "F1: 0.7775150778500619, +/- 0.0070428277305649096\n",
            "Precision: 0.7768085206840617, +/- 0.007042122864593422\n",
            "Recall: 0.78, +/- 0.007949842765740735\n",
            "Auroc: 0.7767999999999999, +/- 0.006865857557508741\n",
            "top_value: 100\n",
            "High-N, LazDEF-task, Peptide-ESM-Embeddings <class 'sklearn.ensemble._weight_boosting.AdaBoostClassifier'>\n"
          ]
        },
        {
          "name": "stderr",
          "output_type": "stream",
          "text": [
            "100%|██████████| 4/4 [02:46<00:00, 41.55s/it]\n"
          ]
        },
        {
          "name": "stdout",
          "output_type": "stream",
          "text": [
            "Accuracy: 0.7806000000000001, +/- 0.003458323293158104\n",
            "F1: 0.7823204288272401, +/- 0.0035009705432363708\n",
            "Precision: 0.777697782125936, +/- 0.0041322363089752725\n",
            "Recall: 0.7888, +/- 0.0056071383075504575\n",
            "Auroc: 0.7806000000000001, +/- 0.0034583232931581\n",
            "top_value: 100\n",
            "High-N, LazDEF-task, LazBF-ESM-Embeddings <class 'sklearn.ensemble._weight_boosting.AdaBoostClassifier'>\n"
          ]
        },
        {
          "name": "stderr",
          "output_type": "stream",
          "text": [
            "100%|██████████| 4/4 [02:46<00:00, 41.60s/it]\n"
          ]
        },
        {
          "name": "stdout",
          "output_type": "stream",
          "text": [
            "Accuracy: 0.8395999999999999, +/- 0.004707440918375944\n",
            "F1: 0.8418229064238603, +/- 0.004698104774892009\n",
            "Precision: 0.8307320318468878, +/- 0.00648231203029491\n",
            "Recall: 0.8547999999999998, +/- 0.00826075057122533\n",
            "Auroc: 0.8395999999999999, +/- 0.004707440918375944\n",
            "top_value: 100\n",
            "High-N, LazDEF-task, LazDEF-ESM-Embeddings <class 'sklearn.ensemble._weight_boosting.AdaBoostClassifier'>\n"
          ]
        },
        {
          "name": "stderr",
          "output_type": "stream",
          "text": [
            "100%|██████████| 4/4 [02:46<00:00, 41.75s/it]\n"
          ]
        },
        {
          "name": "stdout",
          "output_type": "stream",
          "text": [
            "Accuracy: 0.9634, +/- 0.001568438714135817\n",
            "F1: 0.963303378854308, +/- 0.0015764156533456548\n",
            "Precision: 0.9651381861016214, +/- 0.0023426631018089983\n",
            "Recall: 0.962, +/- 0.0016733200530681658\n",
            "Auroc: 0.9634, +/- 0.001568438714135817\n",
            "top_value: 25\n",
            "High-N, LazDEF-task, LazBCDEF-ESM-Embeddings <class 'sklearn.ensemble._weight_boosting.AdaBoostClassifier'>\n"
          ]
        },
        {
          "name": "stderr",
          "output_type": "stream",
          "text": [
            "100%|██████████| 4/4 [02:46<00:00, 41.65s/it]\n"
          ]
        },
        {
          "name": "stdout",
          "output_type": "stream",
          "text": [
            "Accuracy: 0.7928000000000001, +/- 0.006522269543648137\n",
            "F1: 0.7940057832781646, +/- 0.007362579982449268\n",
            "Precision: 0.7882340564528585, +/- 0.0041539239276135505\n",
            "Recall: 0.8008000000000001, +/- 0.011128342194594838\n",
            "Auroc: 0.7928, +/- 0.006522269543648144\n",
            "top_value: 100\n",
            "High-N, LazDEF-task, Vanilla-ESM-Embeddings <class 'sklearn.svm._classes.SVC'>\n"
          ]
        },
        {
          "name": "stderr",
          "output_type": "stream",
          "text": [
            "100%|██████████| 4/4 [00:09<00:00,  2.26s/it]\n"
          ]
        },
        {
          "name": "stdout",
          "output_type": "stream",
          "text": [
            "Accuracy: 0.8156000000000001, +/- 0.0029257477676655416\n",
            "F1: 0.8191963680017018, +/- 0.0033869949687400634\n",
            "Precision: 0.8041270961654877, +/- 0.0011852262326566157\n",
            "Recall: 0.8360000000000001, +/- 0.005932958789676482\n",
            "Auroc: 0.8155999999999999, +/- 0.002925747767665547\n",
            "top_value: 1\n",
            "High-N, LazDEF-task, Peptide-ESM-Embeddings <class 'sklearn.svm._classes.SVC'>\n"
          ]
        },
        {
          "name": "stderr",
          "output_type": "stream",
          "text": [
            "100%|██████████| 4/4 [00:08<00:00,  2.02s/it]\n"
          ]
        },
        {
          "name": "stdout",
          "output_type": "stream",
          "text": [
            "Accuracy: 0.8154, +/- 0.002638181191654581\n",
            "F1: 0.8157429374330454, +/- 0.0025413000771111094\n",
            "Precision: 0.8154875596301778, +/- 0.0038913414284277095\n",
            "Recall: 0.8171999999999999, +/- 0.003382306905057532\n",
            "Auroc: 0.8154, +/- 0.0026381811916545827\n",
            "top_value: 5\n",
            "High-N, LazDEF-task, LazBF-ESM-Embeddings <class 'sklearn.svm._classes.SVC'>\n"
          ]
        },
        {
          "name": "stderr",
          "output_type": "stream",
          "text": [
            "100%|██████████| 4/4 [00:08<00:00,  2.19s/it]\n"
          ]
        },
        {
          "name": "stdout",
          "output_type": "stream",
          "text": [
            "Accuracy: 0.8692, +/- 0.002059126028197393\n",
            "F1: 0.8719321830644582, +/- 0.0020813680373721576\n",
            "Precision: 0.8557768044801006, +/- 0.0027897245874007686\n",
            "Recall: 0.8896, +/- 0.002638181191654586\n",
            "Auroc: 0.8692, +/- 0.0020591260281974254\n",
            "top_value: 5\n",
            "High-N, LazDEF-task, LazDEF-ESM-Embeddings <class 'sklearn.svm._classes.SVC'>\n"
          ]
        },
        {
          "name": "stderr",
          "output_type": "stream",
          "text": [
            "100%|██████████| 4/4 [00:05<00:00,  1.32s/it]\n"
          ]
        },
        {
          "name": "stdout",
          "output_type": "stream",
          "text": [
            "Accuracy: 0.9681999999999998, +/- 0.00037416573867739446\n",
            "F1: 0.968140654349264, +/- 0.000382231195963612\n",
            "Precision: 0.9693820642420583, +/- 0.00040807272048703087\n",
            "Recall: 0.9672000000000001, +/- 0.0004898979485566361\n",
            "Auroc: 0.9681999999999998, +/- 0.00037416573867739446\n",
            "top_value: 1\n",
            "High-N, LazDEF-task, LazBCDEF-ESM-Embeddings <class 'sklearn.svm._classes.SVC'>\n"
          ]
        },
        {
          "name": "stderr",
          "output_type": "stream",
          "text": [
            "100%|██████████| 4/4 [00:08<00:00,  2.03s/it]\n"
          ]
        },
        {
          "name": "stdout",
          "output_type": "stream",
          "text": [
            "Accuracy: 0.8326, +/- 0.0017204650534085254\n",
            "F1: 0.8355223745498017, +/- 0.0018042539079252892\n",
            "Precision: 0.8226319335858658, +/- 0.0018954736282500847\n",
            "Recall: 0.8496, +/- 0.0031240998703626756\n",
            "Auroc: 0.8326, +/- 0.0017204650534085356\n",
            "top_value: 5\n",
            "High-N, LazDEF-task, Vanilla-ESM-Embeddings <class 'sklearn.neural_network._multilayer_perceptron.MLPClassifier'>\n"
          ]
        },
        {
          "name": "stderr",
          "output_type": "stream",
          "text": [
            "100%|██████████| 4/4 [01:00<00:00, 15.02s/it]\n"
          ]
        },
        {
          "name": "stdout",
          "output_type": "stream",
          "text": [
            "Accuracy: 0.8124, +/- 0.001536229149573728\n",
            "F1: 0.813035639013529, +/- 0.001434023228979691\n",
            "Precision: 0.8102221639257365, +/- 0.002341828194106894\n",
            "Recall: 0.8168, +/- 0.0013564659966250417\n",
            "Auroc: 0.8124, +/- 0.0015362291495737092\n",
            "top_value: 100\n",
            "High-N, LazDEF-task, Peptide-ESM-Embeddings <class 'sklearn.neural_network._multilayer_perceptron.MLPClassifier'>\n"
          ]
        },
        {
          "name": "stderr",
          "output_type": "stream",
          "text": [
            "100%|██████████| 4/4 [00:59<00:00, 14.85s/it]\n"
          ]
        },
        {
          "name": "stdout",
          "output_type": "stream",
          "text": [
            "Accuracy: 0.836, +/- 0.0028106938645110296\n",
            "F1: 0.836674447857483, +/- 0.002925896790018023\n",
            "Precision: 0.8324032508979305, +/- 0.0026181848363812563\n",
            "Recall: 0.842, +/- 0.0037416573867739447\n",
            "Auroc: 0.836, +/- 0.0028106938645110417\n",
            "top_value: 200\n",
            "High-N, LazDEF-task, LazBF-ESM-Embeddings <class 'sklearn.neural_network._multilayer_perceptron.MLPClassifier'>\n"
          ]
        },
        {
          "name": "stderr",
          "output_type": "stream",
          "text": [
            "100%|██████████| 4/4 [00:57<00:00, 14.28s/it]\n"
          ]
        },
        {
          "name": "stdout",
          "output_type": "stream",
          "text": [
            "Accuracy: 0.8821999999999999, +/- 0.0035128336140500785\n",
            "F1: 0.8841173586879236, +/- 0.0035384634801531125\n",
            "Precision: 0.8698892979033378, +/- 0.0031098122535295624\n",
            "Recall: 0.8996000000000001, +/- 0.005075431016179813\n",
            "Auroc: 0.8821999999999999, +/- 0.0035128336140500655\n",
            "top_value: 100\n",
            "High-N, LazDEF-task, LazDEF-ESM-Embeddings <class 'sklearn.neural_network._multilayer_perceptron.MLPClassifier'>\n"
          ]
        },
        {
          "name": "stderr",
          "output_type": "stream",
          "text": [
            "100%|██████████| 4/4 [00:35<00:00,  8.86s/it]\n"
          ]
        },
        {
          "name": "stdout",
          "output_type": "stream",
          "text": [
            "Accuracy: 0.9642, +/- 0.0010677078252031371\n",
            "F1: 0.9641790036658147, +/- 0.0010439184046972404\n",
            "Precision: 0.9644957351091954, +/- 0.001345391987038673\n",
            "Recall: 0.9644, +/- 0.000748331477354771\n",
            "Auroc: 0.9642, +/- 0.0010677078252031278\n",
            "top_value: 50\n",
            "High-N, LazDEF-task, LazBCDEF-ESM-Embeddings <class 'sklearn.neural_network._multilayer_perceptron.MLPClassifier'>\n"
          ]
        },
        {
          "name": "stderr",
          "output_type": "stream",
          "text": [
            "100%|██████████| 4/4 [01:20<00:00, 20.22s/it]\n"
          ]
        },
        {
          "name": "stdout",
          "output_type": "stream",
          "text": [
            "Accuracy: 0.85, +/- 0.0017888543819998114\n",
            "F1: 0.8508347946528699, +/- 0.0021987509652480622\n",
            "Precision: 0.845059364858969, +/- 0.0017483973386930212\n",
            "Recall: 0.8580000000000002, +/- 0.0051380930314660535\n",
            "Auroc: 0.85, +/- 0.00178885438199983\n",
            "top_value: 50\n",
            "[[0.8674, 0.7807999999999999, 0.7767999999999999, 0.8156000000000001, 0.8124], [0.8630000000000001, 0.7936, 0.7806000000000001, 0.8154, 0.836], [0.8984, 0.8081999999999999, 0.8395999999999999, 0.8692, 0.8821999999999999], [0.9686, 0.9673999999999999, 0.9634, 0.9681999999999998, 0.9642], [0.8876000000000002, 0.7811999999999999, 0.7928000000000001, 0.8326, 0.85]]\n",
            "[[0.0030099833886584673, 0.0036110940170535418, 0.006865857557508741, 0.0029257477676655416, 0.001536229149573728], [0.0015491933384829716, 0.004202380277890136, 0.003458323293158104, 0.002638181191654581, 0.0028106938645110296], [0.002135415650406234, 0.00293938769133976, 0.004707440918375944, 0.002059126028197393, 0.0035128336140500785], [0.0006782329983125471, 0.0005099019513592942, 0.001568438714135817, 0.00037416573867739446, 0.0010677078252031371], [0.0033256578296631655, 0.0028705400188814676, 0.006522269543648137, 0.0017204650534085254, 0.0017888543819998114]]\n"
          ]
        }
      ],
      "source": [
        "#@title LazDEF HighN\n",
        "np.random.seed(42)\n",
        "random.seed(42)\n",
        "from sklearn.utils import check_random_state\n",
        "random_state = check_random_state(42)\n",
        "\n",
        "idxs = balanced_sample_np(lazbf_mlm_none, LazBF_sample_labels, 1000, 42)\n",
        "\n",
        "y_values = [\n",
        "    [0, 0, 0, 0, 0], # vanilla-esm\n",
        "    [0, 0, 0, 0, 0], # peptide-esm\n",
        "    [0, 0, 0, 0, 0], # LazBF-esm\n",
        "    [0, 0, 0, 0, 0], # LazDEF-esm\n",
        "    [0, 0, 0, 0, 0], # LazBCDEF-esm\n",
        "]\n",
        "y_errors = [\n",
        "    [0, 0, 0, 0, 0], # vanilla-esm\n",
        "    [0, 0, 0, 0, 0], # peptide-esm\n",
        "    [0, 0, 0, 0, 0], # LazBF-esm\n",
        "    [0, 0, 0, 0, 0], # LazDEF-esm\n",
        "    [0, 0, 0, 0, 0], # LazBCDEF-esm\n",
        "]\n",
        "\n",
        "i = 0\n",
        "for model, param, grid in zip(model_list, param_list, value_list):\n",
        "\n",
        "  # Lazdef prediction\n",
        "  print(f\"High-N, LazDEF-task, Vanilla-ESM-Embeddings {model}\")\n",
        "  m, e = optimize(lazdef_mlm_none[idxs], LazDEF_sample_labels[idxs], model, param, grid)\n",
        "  y_values[0][i] = m\n",
        "  y_errors[0][i] = e\n",
        "\n",
        "  print(f\"High-N, LazDEF-task, Peptide-ESM-Embeddings {model}\")\n",
        "  m, e = optimize(lazdef_mlm_pa[idxs], LazDEF_sample_labels[idxs], model, param, grid)\n",
        "  y_values[1][i] = m\n",
        "  y_errors[1][i] = e\n",
        "\n",
        "  print(f\"High-N, LazDEF-task, LazBF-ESM-Embeddings {model}\")\n",
        "  m, e = optimize(lazdef_mlm_lazbf[idxs], LazDEF_sample_labels[idxs], model, param, grid)\n",
        "  y_values[2][i] = m\n",
        "  y_errors[2][i] = e\n",
        "\n",
        "  print(f\"High-N, LazDEF-task, LazDEF-ESM-Embeddings {model}\")\n",
        "  m, e = optimize(lazdef_mlm_lazdef[idxs], LazDEF_sample_labels[idxs], model, param, grid)\n",
        "  y_values[3][i] = m\n",
        "  y_errors[3][i] = e\n",
        "\n",
        "  print(f\"High-N, LazDEF-task, LazBCDEF-ESM-Embeddings {model}\")\n",
        "  m, e = optimize(lazdef_mlm_lazbcdef[idxs], LazDEF_sample_labels[idxs], model, param, grid)\n",
        "  y_values[4][i] = m\n",
        "  y_errors[4][i] = e\n",
        "\n",
        "  i += 1\n",
        "print(y_values)\n",
        "print(y_errors)"
      ]
    },
    {
      "cell_type": "code",
      "execution_count": 16,
      "metadata": {
        "cellView": "form",
        "colab": {
          "base_uri": "https://localhost:8080/"
        },
        "id": "1-TYcfTWOspt",
        "outputId": "a704d097-3348-4c7b-a67c-93d4c256afa7"
      },
      "outputs": [
        {
          "name": "stdout",
          "output_type": "stream",
          "text": [
            "Low-N, LazBF-task, Vanilla-ESM-Embeddings <class 'sklearn.linear_model._logistic.LogisticRegression'>\n"
          ]
        },
        {
          "name": "stderr",
          "output_type": "stream",
          "text": [
            "100%|██████████| 4/4 [00:02<00:00,  1.62it/s]\n"
          ]
        },
        {
          "name": "stdout",
          "output_type": "stream",
          "text": [
            "Accuracy: 0.868, +/- 0.0025495097567963944\n",
            "F1: 0.8670443279304969, +/- 0.003446128622598829\n",
            "Precision: 0.8709614546324735, +/- 0.0034416746576243383\n",
            "Recall: 0.868, +/- 0.005830951894845304\n",
            "Auroc: 0.868, +/- 0.0025495097567963944\n",
            "top_value: 0.1\n",
            "Low-N, LazBF-task, Peptide-ESM-Embeddings <class 'sklearn.linear_model._logistic.LogisticRegression'>\n"
          ]
        },
        {
          "name": "stderr",
          "output_type": "stream",
          "text": [
            "100%|██████████| 4/4 [00:01<00:00,  2.63it/s]\n"
          ]
        },
        {
          "name": "stdout",
          "output_type": "stream",
          "text": [
            "Accuracy: 0.877, +/- 0.005830951894845287\n",
            "F1: 0.8785867750830583, +/- 0.005697179544604169\n",
            "Precision: 0.8728210493295162, +/- 0.005779407601436075\n",
            "Recall: 0.89, +/- 0.007071067811865473\n",
            "Auroc: 0.877, +/- 0.005830951894845287\n",
            "top_value: 0.01\n",
            "Low-N, LazBF-task, LazBF-ESM-Embeddings <class 'sklearn.linear_model._logistic.LogisticRegression'>\n"
          ]
        },
        {
          "name": "stderr",
          "output_type": "stream",
          "text": [
            "100%|██████████| 4/4 [00:00<00:00,  5.60it/s]\n"
          ]
        },
        {
          "name": "stdout",
          "output_type": "stream",
          "text": [
            "Accuracy: 0.9789999999999999, +/- 0.0010000000000000009\n",
            "F1: 0.9793597784329492, +/- 0.0009999410398611218\n",
            "Precision: 0.9715064935064935, +/- 0.00021748669588018133\n",
            "Recall: 0.9880000000000001, +/- 0.0019999999999999797\n",
            "Auroc: 0.9789999999999999, +/- 0.0010000000000000009\n",
            "top_value: 0.01\n",
            "Low-N, LazBF-task, LazDEF-ESM-Embeddings <class 'sklearn.linear_model._logistic.LogisticRegression'>\n"
          ]
        },
        {
          "name": "stderr",
          "output_type": "stream",
          "text": [
            "100%|██████████| 4/4 [00:00<00:00,  4.84it/s]\n"
          ]
        },
        {
          "name": "stdout",
          "output_type": "stream",
          "text": [
            "Accuracy: 0.8880000000000001, +/- 0.0043588989435406605\n",
            "F1: 0.8846921459617778, +/- 0.0042167688550813895\n",
            "Precision: 0.9039103935653943, +/- 0.005049244988643448\n",
            "Recall: 0.876, +/- 0.0024494897427831982\n",
            "Auroc: 0.8879999999999999, +/- 0.004358898943540665\n",
            "top_value: 0.01\n",
            "Low-N, LazBF-task, LazBCDEF-ESM-Embeddings <class 'sklearn.linear_model._logistic.LogisticRegression'>\n"
          ]
        },
        {
          "name": "stderr",
          "output_type": "stream",
          "text": [
            "100%|██████████| 4/4 [00:00<00:00,  4.21it/s]\n"
          ]
        },
        {
          "name": "stdout",
          "output_type": "stream",
          "text": [
            "Accuracy: 0.8629999999999999, +/- 0.007176350047203658\n",
            "F1: 0.8658243698564922, +/- 0.007230850332972614\n",
            "Precision: 0.8538835989842853, +/- 0.007657905510559336\n",
            "Recall: 0.8799999999999999, +/- 0.007745966692414842\n",
            "Auroc: 0.8629999999999999, +/- 0.007176350047203631\n",
            "top_value: 5\n",
            "Low-N, LazBF-task, Vanilla-ESM-Embeddings <class 'sklearn.ensemble._forest.RandomForestClassifier'>\n"
          ]
        },
        {
          "name": "stderr",
          "output_type": "stream",
          "text": [
            "100%|██████████| 4/4 [00:03<00:00,  1.01it/s]\n"
          ]
        },
        {
          "name": "stdout",
          "output_type": "stream",
          "text": [
            "Accuracy: 0.86, +/- 0.005700877125495719\n",
            "F1: 0.8585768817823032, +/- 0.005810703539850774\n",
            "Precision: 0.8712044367292717, +/- 0.00884671286933755\n",
            "Recall: 0.85, +/- 0.006324555320336721\n",
            "Auroc: 0.86, +/- 0.005700877125495709\n",
            "top_value: 100\n",
            "Low-N, LazBF-task, Peptide-ESM-Embeddings <class 'sklearn.ensemble._forest.RandomForestClassifier'>\n"
          ]
        },
        {
          "name": "stderr",
          "output_type": "stream",
          "text": [
            "100%|██████████| 4/4 [00:03<00:00,  1.03it/s]\n"
          ]
        },
        {
          "name": "stdout",
          "output_type": "stream",
          "text": [
            "Accuracy: 0.867, +/- 0.00644204936336258\n",
            "F1: 0.8659342065031531, +/- 0.006843183001109756\n",
            "Precision: 0.8745999111939347, +/- 0.003742337166881564\n",
            "Recall: 0.866, +/- 0.011661903789690627\n",
            "Auroc: 0.867, +/- 0.006442049363362557\n",
            "top_value: 100\n",
            "Low-N, LazBF-task, LazBF-ESM-Embeddings <class 'sklearn.ensemble._forest.RandomForestClassifier'>\n"
          ]
        },
        {
          "name": "stderr",
          "output_type": "stream",
          "text": [
            "100%|██████████| 4/4 [00:02<00:00,  1.69it/s]\n"
          ]
        },
        {
          "name": "stdout",
          "output_type": "stream",
          "text": [
            "Accuracy: 0.977, +/- 0.0012247448713916173\n",
            "F1: 0.9773526311087286, +/- 0.0012769710805249092\n",
            "Precision: 0.9717575757575758, +/- 0.0002585107987330409\n",
            "Recall: 0.984, +/- 0.0024494897427831527\n",
            "Auroc: 0.977, +/- 0.0012247448713916173\n",
            "top_value: 50\n",
            "Low-N, LazBF-task, LazDEF-ESM-Embeddings <class 'sklearn.ensemble._forest.RandomForestClassifier'>\n"
          ]
        },
        {
          "name": "stderr",
          "output_type": "stream",
          "text": [
            "100%|██████████| 4/4 [00:03<00:00,  1.03it/s]\n"
          ]
        },
        {
          "name": "stdout",
          "output_type": "stream",
          "text": [
            "Accuracy: 0.8880000000000001, +/- 0.008154753215150053\n",
            "F1: 0.8875112924166635, +/- 0.008384356991637863\n",
            "Precision: 0.8968473557297759, +/- 0.009455595157047246\n",
            "Recall: 0.884, +/- 0.011661903789690599\n",
            "Auroc: 0.8880000000000001, +/- 0.008154753215150043\n",
            "top_value: 50\n",
            "Low-N, LazBF-task, LazBCDEF-ESM-Embeddings <class 'sklearn.ensemble._forest.RandomForestClassifier'>\n"
          ]
        },
        {
          "name": "stderr",
          "output_type": "stream",
          "text": [
            "100%|██████████| 4/4 [00:05<00:00,  1.37s/it]\n"
          ]
        },
        {
          "name": "stdout",
          "output_type": "stream",
          "text": [
            "Accuracy: 0.8260000000000002, +/- 0.004301162633521319\n",
            "F1: 0.8312087829521058, +/- 0.004326145382037029\n",
            "Precision: 0.8191512273565712, +/- 0.00609117970722491\n",
            "Recall: 0.85, +/- 0.005477225575051626\n",
            "Auroc: 0.826, +/- 0.004301162633521347\n",
            "top_value: 100\n",
            "Low-N, LazBF-task, Vanilla-ESM-Embeddings <class 'sklearn.ensemble._weight_boosting.AdaBoostClassifier'>\n"
          ]
        },
        {
          "name": "stderr",
          "output_type": "stream",
          "text": [
            "100%|██████████| 4/4 [00:32<00:00,  8.07s/it]\n"
          ]
        },
        {
          "name": "stdout",
          "output_type": "stream",
          "text": [
            "Accuracy: 0.842, +/- 0.010074720839804983\n",
            "F1: 0.8411465650455412, +/- 0.010395206582028992\n",
            "Precision: 0.8447360787460397, +/- 0.010238557518801539\n",
            "Recall: 0.842, +/- 0.01157583690279023\n",
            "Auroc: 0.842, +/- 0.010074720839804983\n",
            "top_value: 100\n",
            "Low-N, LazBF-task, Peptide-ESM-Embeddings <class 'sklearn.ensemble._weight_boosting.AdaBoostClassifier'>\n"
          ]
        },
        {
          "name": "stderr",
          "output_type": "stream",
          "text": [
            "100%|██████████| 4/4 [00:31<00:00,  7.99s/it]\n"
          ]
        },
        {
          "name": "stdout",
          "output_type": "stream",
          "text": [
            "Accuracy: 0.8320000000000001, +/- 0.010793516572461468\n",
            "F1: 0.8299022755223012, +/- 0.011147815061907184\n",
            "Precision: 0.8421461318179585, +/- 0.011172993690532105\n",
            "Recall: 0.8239999999999998, +/- 0.015033296378372916\n",
            "Auroc: 0.8320000000000001, +/- 0.010793516572461468\n",
            "top_value: 25\n",
            "Low-N, LazBF-task, LazBF-ESM-Embeddings <class 'sklearn.ensemble._weight_boosting.AdaBoostClassifier'>\n"
          ]
        },
        {
          "name": "stderr",
          "output_type": "stream",
          "text": [
            "100%|██████████| 4/4 [00:20<00:00,  5.13s/it]\n"
          ]
        },
        {
          "name": "stdout",
          "output_type": "stream",
          "text": [
            "Accuracy: 0.977, +/- 0.00339116499156265\n",
            "F1: 0.9769897595263449, +/- 0.003437977751788613\n",
            "Precision: 0.9751934381408066, +/- 0.0038345395300867723\n",
            "Recall: 0.9799999999999999, +/- 0.004472135954999583\n",
            "Auroc: 0.977, +/- 0.00339116499156265\n",
            "top_value: 50\n",
            "Low-N, LazBF-task, LazDEF-ESM-Embeddings <class 'sklearn.ensemble._weight_boosting.AdaBoostClassifier'>\n"
          ]
        },
        {
          "name": "stderr",
          "output_type": "stream",
          "text": [
            "100%|██████████| 4/4 [00:32<00:00,  8.08s/it]\n"
          ]
        },
        {
          "name": "stdout",
          "output_type": "stream",
          "text": [
            "Accuracy: 0.8619999999999999, +/- 0.008455767262643877\n",
            "F1: 0.8625645131269563, +/- 0.008999008236859752\n",
            "Precision: 0.8591565470992716, +/- 0.0068893272930334905\n",
            "Recall: 0.874, +/- 0.011661903789690628\n",
            "Auroc: 0.8619999999999999, +/- 0.008455767262643877\n",
            "top_value: 50\n",
            "Low-N, LazBF-task, LazBCDEF-ESM-Embeddings <class 'sklearn.ensemble._weight_boosting.AdaBoostClassifier'>\n"
          ]
        },
        {
          "name": "stderr",
          "output_type": "stream",
          "text": [
            "100%|██████████| 4/4 [00:31<00:00,  7.91s/it]\n"
          ]
        },
        {
          "name": "stdout",
          "output_type": "stream",
          "text": [
            "Accuracy: 0.8160000000000001, +/- 0.006204836822995421\n",
            "F1: 0.8194419508791231, +/- 0.0076726367913506855\n",
            "Precision: 0.8042340026883572, +/- 0.0036376207160101004\n",
            "Recall: 0.842, +/- 0.014628738838327776\n",
            "Auroc: 0.8160000000000001, +/- 0.006204836822995421\n",
            "top_value: 25\n",
            "Low-N, LazBF-task, Vanilla-ESM-Embeddings <class 'sklearn.svm._classes.SVC'>\n"
          ]
        },
        {
          "name": "stderr",
          "output_type": "stream",
          "text": [
            "100%|██████████| 4/4 [00:00<00:00,  6.17it/s]\n"
          ]
        },
        {
          "name": "stdout",
          "output_type": "stream",
          "text": [
            "Accuracy: 0.8639999999999999, +/- 0.005787918451395127\n",
            "F1: 0.8640750486912232, +/- 0.006179497447713249\n",
            "Precision: 0.8701733361925312, +/- 0.007917939243377213\n",
            "Recall: 0.8639999999999999, +/- 0.007483314773547874\n",
            "Auroc: 0.8639999999999999, +/- 0.0057879184513951265\n",
            "top_value: 1\n",
            "Low-N, LazBF-task, Peptide-ESM-Embeddings <class 'sklearn.svm._classes.SVC'>\n"
          ]
        },
        {
          "name": "stderr",
          "output_type": "stream",
          "text": [
            "100%|██████████| 4/4 [00:00<00:00,  6.11it/s]\n"
          ]
        },
        {
          "name": "stdout",
          "output_type": "stream",
          "text": [
            "Accuracy: 0.8610000000000001, +/- 0.012589678312014184\n",
            "F1: 0.864858613059327, +/- 0.01202082282946016\n",
            "Precision: 0.8500219961409892, +/- 0.010342425382819063\n",
            "Recall: 0.884, +/- 0.013638181696985828\n",
            "Auroc: 0.8610000000000001, +/- 0.012589678312014184\n",
            "top_value: 1\n",
            "Low-N, LazBF-task, LazBF-ESM-Embeddings <class 'sklearn.svm._classes.SVC'>\n"
          ]
        },
        {
          "name": "stderr",
          "output_type": "stream",
          "text": [
            "100%|██████████| 4/4 [00:00<00:00,  6.10it/s]\n"
          ]
        },
        {
          "name": "stdout",
          "output_type": "stream",
          "text": [
            "Accuracy: 0.9800000000000001, +/- 0.0\n",
            "F1: 0.9803820244795853, +/- 5.639964592608179e-05\n",
            "Precision: 0.9715670995670995, +/- 0.0002655906779251846\n",
            "Recall: 0.99, +/- 0.0\n",
            "Auroc: 0.9800000000000001, +/- 0.0\n",
            "top_value: 1\n",
            "Low-N, LazBF-task, LazDEF-ESM-Embeddings <class 'sklearn.svm._classes.SVC'>\n"
          ]
        },
        {
          "name": "stderr",
          "output_type": "stream",
          "text": [
            "100%|██████████| 4/4 [00:00<00:00,  4.49it/s]\n"
          ]
        },
        {
          "name": "stdout",
          "output_type": "stream",
          "text": [
            "Accuracy: 0.89, +/- 0.002738612787525823\n",
            "F1: 0.8881966131170538, +/- 0.0025390073470060994\n",
            "Precision: 0.9071141486204078, +/- 0.00581004452843599\n",
            "Recall: 0.876, +/- 0.0024494897427832165\n",
            "Auroc: 0.89, +/- 0.002738612787525823\n",
            "top_value: 0.01\n",
            "Low-N, LazBF-task, LazBCDEF-ESM-Embeddings <class 'sklearn.svm._classes.SVC'>\n"
          ]
        },
        {
          "name": "stderr",
          "output_type": "stream",
          "text": [
            "100%|██████████| 4/4 [00:00<00:00,  4.49it/s]\n"
          ]
        },
        {
          "name": "stdout",
          "output_type": "stream",
          "text": [
            "Accuracy: 0.8629999999999999, +/- 0.006633249580710811\n",
            "F1: 0.8657207805385021, +/- 0.0064234864883035495\n",
            "Precision: 0.8540190232345839, +/- 0.006900847899873063\n",
            "Recall: 0.884, +/- 0.006782329983125237\n",
            "Auroc: 0.8629999999999999, +/- 0.00663324958071083\n",
            "top_value: 5\n",
            "Low-N, LazBF-task, Vanilla-ESM-Embeddings <class 'sklearn.neural_network._multilayer_perceptron.MLPClassifier'>\n"
          ]
        },
        {
          "name": "stderr",
          "output_type": "stream",
          "text": [
            "100%|██████████| 4/4 [00:06<00:00,  1.70s/it]\n"
          ]
        },
        {
          "name": "stdout",
          "output_type": "stream",
          "text": [
            "Accuracy: 0.8550000000000001, +/- 0.0038729833462073987\n",
            "F1: 0.8558974774097322, +/- 0.004300674721658778\n",
            "Precision: 0.8578119783687693, +/- 0.006786580798220392\n",
            "Recall: 0.8619999999999999, +/- 0.008000000000000002\n",
            "Auroc: 0.8550000000000001, +/- 0.0038729833462073987\n",
            "top_value: 100\n",
            "Low-N, LazBF-task, Peptide-ESM-Embeddings <class 'sklearn.neural_network._multilayer_perceptron.MLPClassifier'>\n"
          ]
        },
        {
          "name": "stderr",
          "output_type": "stream",
          "text": [
            "100%|██████████| 4/4 [00:06<00:00,  1.66s/it]\n"
          ]
        },
        {
          "name": "stdout",
          "output_type": "stream",
          "text": [
            "Accuracy: 0.8450000000000001, +/- 0.006519202405202654\n",
            "F1: 0.8454836126571481, +/- 0.005922052408551657\n",
            "Precision: 0.842619339624993, +/- 0.012016379758353346\n",
            "Recall: 0.8540000000000001, +/- 0.006782329983125272\n",
            "Auroc: 0.845, +/- 0.006519202405202628\n",
            "top_value: 500\n",
            "Low-N, LazBF-task, LazBF-ESM-Embeddings <class 'sklearn.neural_network._multilayer_perceptron.MLPClassifier'>\n"
          ]
        },
        {
          "name": "stderr",
          "output_type": "stream",
          "text": [
            "100%|██████████| 4/4 [00:08<00:00,  2.12s/it]\n"
          ]
        },
        {
          "name": "stdout",
          "output_type": "stream",
          "text": [
            "Accuracy: 0.978, +/- 0.0012247448713916173\n",
            "F1: 0.9783587331258466, +/- 0.0013920575120741714\n",
            "Precision: 0.9721765480895916, +/- 0.00046242098424746376\n",
            "Recall: 0.9860000000000001, +/- 0.0024494897427831527\n",
            "Auroc: 0.978, +/- 0.0012247448713916173\n",
            "top_value: 100\n",
            "Low-N, LazBF-task, LazDEF-ESM-Embeddings <class 'sklearn.neural_network._multilayer_perceptron.MLPClassifier'>\n"
          ]
        },
        {
          "name": "stderr",
          "output_type": "stream",
          "text": [
            "100%|██████████| 4/4 [00:09<00:00,  2.32s/it]\n"
          ]
        },
        {
          "name": "stdout",
          "output_type": "stream",
          "text": [
            "Accuracy: 0.8859999999999999, +/- 0.004301162633521326\n",
            "F1: 0.8868662225051753, +/- 0.004462867216688891\n",
            "Precision: 0.8863641465323386, +/- 0.004254557901996115\n",
            "Recall: 0.8939999999999999, +/- 0.008124038404635967\n",
            "Auroc: 0.8859999999999999, +/- 0.004301162633521326\n",
            "top_value: 500\n",
            "Low-N, LazBF-task, LazBCDEF-ESM-Embeddings <class 'sklearn.neural_network._multilayer_perceptron.MLPClassifier'>\n"
          ]
        },
        {
          "name": "stderr",
          "output_type": "stream",
          "text": [
            "100%|██████████| 4/4 [00:12<00:00,  3.05s/it]\n"
          ]
        },
        {
          "name": "stdout",
          "output_type": "stream",
          "text": [
            "Accuracy: 0.865, +/- 0.004472135954999583\n",
            "F1: 0.8639673769883043, +/- 0.0037988564765372556\n",
            "Precision: 0.8752785713411638, +/- 0.008077162863184929\n",
            "Recall: 0.8619999999999999, +/- 0.0037416573867739447\n",
            "Auroc: 0.865, +/- 0.004472135954999558\n",
            "top_value: 100\n",
            "[[0.868, 0.86, 0.842, 0.8639999999999999, 0.8550000000000001], [0.877, 0.867, 0.8320000000000001, 0.8610000000000001, 0.8450000000000001], [0.9789999999999999, 0.977, 0.977, 0.9800000000000001, 0.978], [0.8880000000000001, 0.8880000000000001, 0.8619999999999999, 0.89, 0.8859999999999999], [0.8629999999999999, 0.8260000000000002, 0.8160000000000001, 0.8629999999999999, 0.865]]\n",
            "[[0.0025495097567963944, 0.005700877125495719, 0.010074720839804983, 0.005787918451395127, 0.0038729833462073987], [0.005830951894845287, 0.00644204936336258, 0.010793516572461468, 0.012589678312014184, 0.006519202405202654], [0.0010000000000000009, 0.0012247448713916173, 0.00339116499156265, 0.0, 0.0012247448713916173], [0.0043588989435406605, 0.008154753215150053, 0.008455767262643877, 0.002738612787525823, 0.004301162633521326], [0.007176350047203658, 0.004301162633521319, 0.006204836822995421, 0.006633249580710811, 0.004472135954999583]]\n"
          ]
        }
      ],
      "source": [
        "#@title LazBF LowN\n",
        "\n",
        "np.random.seed(42)\n",
        "random.seed(42)\n",
        "from sklearn.utils import check_random_state\n",
        "random_state = check_random_state(42)\n",
        "\n",
        "idxs = balanced_sample_np(lazbf_mlm_none, LazBF_sample_labels, 200, 42)\n",
        "y_values = [\n",
        "    [0, 0, 0, 0, 0], # vanilla-esm\n",
        "    [0, 0, 0, 0, 0], # peptide-esm\n",
        "    [0, 0, 0, 0, 0], # LazBF-esm\n",
        "    [0, 0, 0, 0, 0], # LazDEF-esm\n",
        "    [0, 0, 0, 0, 0], # LazBCDEF-esm\n",
        "]\n",
        "y_errors = [\n",
        "    [0, 0, 0, 0, 0], # vanilla-esm\n",
        "    [0, 0, 0, 0, 0], # peptide-esm\n",
        "    [0, 0, 0, 0, 0], # LazBF-esm\n",
        "    [0, 0, 0, 0, 0], # LazDEF-esm\n",
        "    [0, 0, 0, 0, 0], # LazBCDEF-esm\n",
        "]\n",
        "\n",
        "i = 0\n",
        "for model, param, grid in zip(model_list, param_list, value_list):\n",
        "\n",
        "  # Lazbf prediction\n",
        "  print(f\"Low-N, LazBF-task, Vanilla-ESM-Embeddings {model}\")\n",
        "  m, e = optimize(lazbf_mlm_none[idxs], LazBF_sample_labels[idxs], model, param, grid)\n",
        "  y_values[0][i] = m\n",
        "  y_errors[0][i] = e\n",
        "\n",
        "  print(f\"Low-N, LazBF-task, Peptide-ESM-Embeddings {model}\")\n",
        "  m, e = optimize(lazbf_mlm_pa[idxs], LazBF_sample_labels[idxs], model, param, grid)\n",
        "  y_values[1][i] = m\n",
        "  y_errors[1][i] = e\n",
        "\n",
        "  print(f\"Low-N, LazBF-task, LazBF-ESM-Embeddings {model}\")\n",
        "  m, e = optimize(lazbf_mlm_lazbf[idxs], LazBF_sample_labels[idxs], model, param, grid)\n",
        "  y_values[2][i] = m\n",
        "  y_errors[2][i] = e\n",
        "\n",
        "  print(f\"Low-N, LazBF-task, LazDEF-ESM-Embeddings {model}\")\n",
        "  m, e = optimize(lazbf_mlm_lazdef[idxs], LazBF_sample_labels[idxs], model, param, grid)\n",
        "  y_values[3][i] = m\n",
        "  y_errors[3][i] = e\n",
        "\n",
        "  print(f\"Low-N, LazBF-task, LazBCDEF-ESM-Embeddings {model}\")\n",
        "  m, e = optimize(lazbf_mlm_lazbcdef[idxs], LazBF_sample_labels[idxs], model, param, grid)\n",
        "  y_values[4][i] = m\n",
        "  y_errors[4][i] = e\n",
        "\n",
        "  i += 1\n",
        "print(y_values)\n",
        "print(y_errors)"
      ]
    },
    {
      "cell_type": "code",
      "execution_count": 17,
      "metadata": {
        "cellView": "form",
        "colab": {
          "base_uri": "https://localhost:8080/"
        },
        "id": "Z1-gUPAfmkum",
        "outputId": "2a1a0c78-e0f7-4a9a-f244-c76ec54d4b9b"
      },
      "outputs": [
        {
          "name": "stdout",
          "output_type": "stream",
          "text": [
            "Med-N, LazBF-task, Vanilla-ESM-Embeddings <class 'sklearn.linear_model._logistic.LogisticRegression'>\n"
          ]
        },
        {
          "name": "stderr",
          "output_type": "stream",
          "text": [
            "100%|██████████| 4/4 [00:01<00:00,  2.49it/s]\n"
          ]
        },
        {
          "name": "stdout",
          "output_type": "stream",
          "text": [
            "Accuracy: 0.884, +/- 0.0033466401061363346\n",
            "F1: 0.8849959757565282, +/- 0.0032578484526496897\n",
            "Precision: 0.8796273411379811, +/- 0.0030360490960744265\n",
            "Recall: 0.8927999999999999, +/- 0.0040792156108742155\n",
            "Auroc: 0.884, +/- 0.0033466401061363247\n",
            "top_value: 0.1\n",
            "Med-N, LazBF-task, Peptide-ESM-Embeddings <class 'sklearn.linear_model._logistic.LogisticRegression'>\n"
          ]
        },
        {
          "name": "stderr",
          "output_type": "stream",
          "text": [
            "100%|██████████| 4/4 [00:01<00:00,  2.74it/s]\n"
          ]
        },
        {
          "name": "stdout",
          "output_type": "stream",
          "text": [
            "Accuracy: 0.8907999999999999, +/- 0.00313687742827163\n",
            "F1: 0.8922697865484401, +/- 0.0035990666951387445\n",
            "Precision: 0.8819978518271281, +/- 0.0018636179793203123\n",
            "Recall: 0.9048, +/- 0.006374950980203711\n",
            "Auroc: 0.8907999999999999, +/- 0.00313687742827163\n",
            "top_value: 0.01\n",
            "Med-N, LazBF-task, LazBF-ESM-Embeddings <class 'sklearn.linear_model._logistic.LogisticRegression'>\n"
          ]
        },
        {
          "name": "stderr",
          "output_type": "stream",
          "text": [
            "100%|██████████| 4/4 [00:01<00:00,  3.38it/s]\n"
          ]
        },
        {
          "name": "stdout",
          "output_type": "stream",
          "text": [
            "Accuracy: 0.9551999999999999, +/- 0.0013564659966250401\n",
            "F1: 0.9552642932258364, +/- 0.0013606774950423303\n",
            "Precision: 0.9539362042810373, +/- 0.0016600017114114351\n",
            "Recall: 0.9575999999999999, +/- 0.0009797958971132991\n",
            "Auroc: 0.9551999999999999, +/- 0.0013564659966250284\n",
            "top_value: 1\n",
            "Med-N, LazBF-task, LazDEF-ESM-Embeddings <class 'sklearn.linear_model._logistic.LogisticRegression'>\n"
          ]
        },
        {
          "name": "stderr",
          "output_type": "stream",
          "text": [
            "100%|██████████| 4/4 [00:02<00:00,  1.43it/s]\n"
          ]
        },
        {
          "name": "stdout",
          "output_type": "stream",
          "text": [
            "Accuracy: 0.8832000000000001, +/- 0.0036660605559646585\n",
            "F1: 0.8842314132696523, +/- 0.0037864142111892238\n",
            "Precision: 0.8771916823221353, +/- 0.0037690998318461793\n",
            "Recall: 0.8928, +/- 0.005713142742834288\n",
            "Auroc: 0.8832000000000001, +/- 0.0036660605559646585\n",
            "top_value: 0.1\n",
            "Med-N, LazBF-task, LazBCDEF-ESM-Embeddings <class 'sklearn.linear_model._logistic.LogisticRegression'>\n"
          ]
        },
        {
          "name": "stderr",
          "output_type": "stream",
          "text": [
            "100%|██████████| 4/4 [00:01<00:00,  2.32it/s]\n"
          ]
        },
        {
          "name": "stdout",
          "output_type": "stream",
          "text": [
            "Accuracy: 0.8876000000000002, +/- 0.002039607805437097\n",
            "F1: 0.8893826998808503, +/- 0.0019864886321973004\n",
            "Precision: 0.8760370808781313, +/- 0.0023594899406426157\n",
            "Recall: 0.9040000000000001, +/- 0.003577708763999679\n",
            "Auroc: 0.8876000000000002, +/- 0.002039607805437073\n",
            "top_value: 0.01\n",
            "Med-N, LazBF-task, Vanilla-ESM-Embeddings <class 'sklearn.ensemble._forest.RandomForestClassifier'>\n"
          ]
        },
        {
          "name": "stderr",
          "output_type": "stream",
          "text": [
            "100%|██████████| 4/4 [00:10<00:00,  2.56s/it]\n"
          ]
        },
        {
          "name": "stdout",
          "output_type": "stream",
          "text": [
            "Accuracy: 0.8535999999999999, +/- 0.0024819347291981904\n",
            "F1: 0.8527863025309497, +/- 0.0029774204419236805\n",
            "Precision: 0.8580160730247858, +/- 0.0034290992919895997\n",
            "Recall: 0.8488000000000001, +/- 0.00674091981854109\n",
            "Auroc: 0.8535999999999999, +/- 0.0024819347291981904\n",
            "top_value: 50\n",
            "Med-N, LazBF-task, Peptide-ESM-Embeddings <class 'sklearn.ensemble._forest.RandomForestClassifier'>\n"
          ]
        },
        {
          "name": "stderr",
          "output_type": "stream",
          "text": [
            "100%|██████████| 4/4 [00:09<00:00,  2.43s/it]\n"
          ]
        },
        {
          "name": "stdout",
          "output_type": "stream",
          "text": [
            "Accuracy: 0.8564, +/- 0.0023151673805580607\n",
            "F1: 0.8575511710900322, +/- 0.0021446428441950407\n",
            "Precision: 0.853738219726327, +/- 0.0037765851218080747\n",
            "Recall: 0.8632, +/- 0.003440930106817041\n",
            "Auroc: 0.8564, +/- 0.002315167380558034\n",
            "top_value: 50\n",
            "Med-N, LazBF-task, LazBF-ESM-Embeddings <class 'sklearn.ensemble._forest.RandomForestClassifier'>\n"
          ]
        },
        {
          "name": "stderr",
          "output_type": "stream",
          "text": [
            "100%|██████████| 4/4 [00:07<00:00,  1.89s/it]\n"
          ]
        },
        {
          "name": "stdout",
          "output_type": "stream",
          "text": [
            "Accuracy: 0.9655999999999999, +/- 0.000748331477354789\n",
            "F1: 0.9658796581352093, +/- 0.0007703525203696139\n",
            "Precision: 0.9605133223709554, +/- 0.0007617147220489028\n",
            "Recall: 0.9719999999999999, +/- 0.0012649110640673528\n",
            "Auroc: 0.9655999999999999, +/- 0.000748331477354789\n",
            "top_value: 50\n",
            "Med-N, LazBF-task, LazDEF-ESM-Embeddings <class 'sklearn.ensemble._forest.RandomForestClassifier'>\n"
          ]
        },
        {
          "name": "stderr",
          "output_type": "stream",
          "text": [
            "100%|██████████| 4/4 [00:10<00:00,  2.60s/it]\n"
          ]
        },
        {
          "name": "stdout",
          "output_type": "stream",
          "text": [
            "Accuracy: 0.8824, +/- 0.0041665333311999364\n",
            "F1: 0.8836652553571355, +/- 0.003964220637398365\n",
            "Precision: 0.8774115226030503, +/- 0.005737905749924157\n",
            "Recall: 0.8912000000000001, +/- 0.0026532998322843153\n",
            "Auroc: 0.8824, +/- 0.0041665333311999364\n",
            "top_value: 100\n",
            "Med-N, LazBF-task, LazBCDEF-ESM-Embeddings <class 'sklearn.ensemble._forest.RandomForestClassifier'>\n"
          ]
        },
        {
          "name": "stderr",
          "output_type": "stream",
          "text": [
            "100%|██████████| 4/4 [00:09<00:00,  2.47s/it]\n"
          ]
        },
        {
          "name": "stdout",
          "output_type": "stream",
          "text": [
            "Accuracy: 0.8392, +/- 0.004498888751680801\n",
            "F1: 0.837717158822532, +/- 0.0052434428276063195\n",
            "Precision: 0.8448703431127026, +/- 0.0035815321383673086\n",
            "Recall: 0.8328, +/- 0.007525955088890723\n",
            "Auroc: 0.8392, +/- 0.0044988887516808\n",
            "top_value: 100\n",
            "Med-N, LazBF-task, Vanilla-ESM-Embeddings <class 'sklearn.ensemble._weight_boosting.AdaBoostClassifier'>\n"
          ]
        },
        {
          "name": "stderr",
          "output_type": "stream",
          "text": [
            "100%|██████████| 4/4 [01:21<00:00, 20.35s/it]\n"
          ]
        },
        {
          "name": "stdout",
          "output_type": "stream",
          "text": [
            "Accuracy: 0.8619999999999999, +/- 0.002756809750418063\n",
            "F1: 0.8620716135123182, +/- 0.002817428671271872\n",
            "Precision: 0.8643211879829333, +/- 0.003086436627236086\n",
            "Recall: 0.8624, +/- 0.0032496153618543815\n",
            "Auroc: 0.8619999999999999, +/- 0.002756809750418063\n",
            "top_value: 100\n",
            "Med-N, LazBF-task, Peptide-ESM-Embeddings <class 'sklearn.ensemble._weight_boosting.AdaBoostClassifier'>\n"
          ]
        },
        {
          "name": "stderr",
          "output_type": "stream",
          "text": [
            "100%|██████████| 4/4 [01:20<00:00, 20.06s/it]\n"
          ]
        },
        {
          "name": "stdout",
          "output_type": "stream",
          "text": [
            "Accuracy: 0.8628, +/- 0.005535341001239233\n",
            "F1: 0.863584603673968, +/- 0.00565389745644853\n",
            "Precision: 0.8576024716760466, +/- 0.006276923189741422\n",
            "Recall: 0.8728000000000001, +/- 0.008333066662399824\n",
            "Auroc: 0.8628, +/- 0.005535341001239213\n",
            "top_value: 100\n",
            "Med-N, LazBF-task, LazBF-ESM-Embeddings <class 'sklearn.ensemble._weight_boosting.AdaBoostClassifier'>\n"
          ]
        },
        {
          "name": "stderr",
          "output_type": "stream",
          "text": [
            "100%|██████████| 4/4 [01:20<00:00, 20.19s/it]\n"
          ]
        },
        {
          "name": "stdout",
          "output_type": "stream",
          "text": [
            "Accuracy: 0.9576, +/- 0.0016\n",
            "F1: 0.9578300810606161, +/- 0.0015051828253753454\n",
            "Precision: 0.9540225985971349, +/- 0.003406821383652608\n",
            "Recall: 0.9623999999999999, +/- 0.0027129319932501193\n",
            "Auroc: 0.9575999999999999, +/- 0.0015999999999999983\n",
            "top_value: 100\n",
            "Med-N, LazBF-task, LazDEF-ESM-Embeddings <class 'sklearn.ensemble._weight_boosting.AdaBoostClassifier'>\n"
          ]
        },
        {
          "name": "stderr",
          "output_type": "stream",
          "text": [
            "100%|██████████| 4/4 [01:20<00:00, 20.07s/it]\n"
          ]
        },
        {
          "name": "stdout",
          "output_type": "stream",
          "text": [
            "Accuracy: 0.8695999999999999, +/- 0.0036551333764994545\n",
            "F1: 0.8702180076157735, +/- 0.0035860442674137526\n",
            "Precision: 0.8672723920959896, +/- 0.004099073899139173\n",
            "Recall: 0.876, +/- 0.004560701700396556\n",
            "Auroc: 0.8695999999999999, +/- 0.0036551333764994545\n",
            "top_value: 100\n",
            "Med-N, LazBF-task, LazBCDEF-ESM-Embeddings <class 'sklearn.ensemble._weight_boosting.AdaBoostClassifier'>\n"
          ]
        },
        {
          "name": "stderr",
          "output_type": "stream",
          "text": [
            "100%|██████████| 4/4 [01:28<00:00, 22.22s/it]\n"
          ]
        },
        {
          "name": "stdout",
          "output_type": "stream",
          "text": [
            "Accuracy: 0.8448, +/- 0.003136877428271627\n",
            "F1: 0.8437221249914284, +/- 0.0028638177760561276\n",
            "Precision: 0.8495370070787216, +/- 0.005425261209900335\n",
            "Recall: 0.8400000000000001, +/- 0.005366563145999504\n",
            "Auroc: 0.8447999999999999, +/- 0.0031368774282716175\n",
            "top_value: 50\n",
            "Med-N, LazBF-task, Vanilla-ESM-Embeddings <class 'sklearn.svm._classes.SVC'>\n"
          ]
        },
        {
          "name": "stderr",
          "output_type": "stream",
          "text": [
            "100%|██████████| 4/4 [00:02<00:00,  1.36it/s]\n"
          ]
        },
        {
          "name": "stdout",
          "output_type": "stream",
          "text": [
            "Accuracy: 0.8752000000000001, +/- 0.003136877428271616\n",
            "F1: 0.8759507359424388, +/- 0.003188755163288221\n",
            "Precision: 0.8708451571879587, +/- 0.0019240684989765373\n",
            "Recall: 0.8831999999999999, +/- 0.004799999999999999\n",
            "Auroc: 0.8752000000000001, +/- 0.0031368774282716\n",
            "top_value: 1\n",
            "Med-N, LazBF-task, Peptide-ESM-Embeddings <class 'sklearn.svm._classes.SVC'>\n"
          ]
        },
        {
          "name": "stderr",
          "output_type": "stream",
          "text": [
            "100%|██████████| 4/4 [00:02<00:00,  1.72it/s]\n"
          ]
        },
        {
          "name": "stdout",
          "output_type": "stream",
          "text": [
            "Accuracy: 0.8868, +/- 0.004029888335922005\n",
            "F1: 0.8898033041552802, +/- 0.004006274426115725\n",
            "Precision: 0.8691435985188514, +/- 0.004077278382578509\n",
            "Recall: 0.9136, +/- 0.0065238025721200245\n",
            "Auroc: 0.8868, +/- 0.004029888335921991\n",
            "top_value: 1\n",
            "Med-N, LazBF-task, LazBF-ESM-Embeddings <class 'sklearn.svm._classes.SVC'>\n"
          ]
        },
        {
          "name": "stderr",
          "output_type": "stream",
          "text": [
            "100%|██████████| 4/4 [00:01<00:00,  2.57it/s]\n"
          ]
        },
        {
          "name": "stdout",
          "output_type": "stream",
          "text": [
            "Accuracy: 0.9648, +/- 0.0004898979485566133\n",
            "F1: 0.965166943467619, +/- 0.0004994511329496562\n",
            "Precision: 0.9571751017968871, +/- 0.00014568687223160808\n",
            "Recall: 0.9735999999999999, +/- 0.0009797958971132993\n",
            "Auroc: 0.9648, +/- 0.0004898979485566133\n",
            "top_value: 1\n",
            "Med-N, LazBF-task, LazDEF-ESM-Embeddings <class 'sklearn.svm._classes.SVC'>\n"
          ]
        },
        {
          "name": "stderr",
          "output_type": "stream",
          "text": [
            "100%|██████████| 4/4 [00:02<00:00,  1.39it/s]\n"
          ]
        },
        {
          "name": "stdout",
          "output_type": "stream",
          "text": [
            "Accuracy: 0.8964000000000001, +/- 0.0019390719429665175\n",
            "F1: 0.8977168070770597, +/- 0.0018693398531100325\n",
            "Precision: 0.8854950720133532, +/- 0.0029073463751919677\n",
            "Recall: 0.9112, +/- 0.0026532998322843153\n",
            "Auroc: 0.8964000000000001, +/- 0.0019390719429665515\n",
            "top_value: 5\n",
            "Med-N, LazBF-task, LazBCDEF-ESM-Embeddings <class 'sklearn.svm._classes.SVC'>\n"
          ]
        },
        {
          "name": "stderr",
          "output_type": "stream",
          "text": [
            "100%|██████████| 4/4 [00:02<00:00,  1.83it/s]\n"
          ]
        },
        {
          "name": "stdout",
          "output_type": "stream",
          "text": [
            "Accuracy: 0.8608, +/- 0.002059126028197386\n",
            "F1: 0.8618050184954628, +/- 0.0022474766091611555\n",
            "Precision: 0.8585536148701858, +/- 0.0018841601190155248\n",
            "Recall: 0.868, +/- 0.004381780460041333\n",
            "Auroc: 0.8608, +/- 0.0020591260281973933\n",
            "top_value: 5\n",
            "Med-N, LazBF-task, Vanilla-ESM-Embeddings <class 'sklearn.neural_network._multilayer_perceptron.MLPClassifier'>\n"
          ]
        },
        {
          "name": "stderr",
          "output_type": "stream",
          "text": [
            "100%|██████████| 4/4 [00:21<00:00,  5.45s/it]\n"
          ]
        },
        {
          "name": "stdout",
          "output_type": "stream",
          "text": [
            "Accuracy: 0.8756, +/- 0.004019950248448349\n",
            "F1: 0.8777579060859644, +/- 0.003931234747984012\n",
            "Precision: 0.8650736649240842, +/- 0.005029022193642942\n",
            "Recall: 0.8928, +/- 0.004270831300812503\n",
            "Auroc: 0.8756, +/- 0.004019950248448327\n",
            "top_value: 50\n",
            "Med-N, LazBF-task, Peptide-ESM-Embeddings <class 'sklearn.neural_network._multilayer_perceptron.MLPClassifier'>\n"
          ]
        },
        {
          "name": "stderr",
          "output_type": "stream",
          "text": [
            "100%|██████████| 4/4 [00:23<00:00,  5.83s/it]\n"
          ]
        },
        {
          "name": "stdout",
          "output_type": "stream",
          "text": [
            "Accuracy: 0.8968, +/- 0.003979949748426483\n",
            "F1: 0.8972898347410837, +/- 0.004236228095260224\n",
            "Precision: 0.8918302914173657, +/- 0.003648754558135808\n",
            "Recall: 0.9048, +/- 0.005425863986500227\n",
            "Auroc: 0.8968, +/- 0.003979949748426481\n",
            "top_value: 50\n",
            "Med-N, LazBF-task, LazBF-ESM-Embeddings <class 'sklearn.neural_network._multilayer_perceptron.MLPClassifier'>\n"
          ]
        },
        {
          "name": "stderr",
          "output_type": "stream",
          "text": [
            "100%|██████████| 4/4 [00:23<00:00,  5.86s/it]\n"
          ]
        },
        {
          "name": "stdout",
          "output_type": "stream",
          "text": [
            "Accuracy: 0.9564, +/- 0.0017204650534085254\n",
            "F1: 0.9565348441945604, +/- 0.0017881323893264565\n",
            "Precision: 0.9530534438761118, +/- 0.0013158536232715213\n",
            "Recall: 0.9608000000000001, +/- 0.002332380757938145\n",
            "Auroc: 0.9564, +/- 0.0017204650534085202\n",
            "top_value: 50\n",
            "Med-N, LazBF-task, LazDEF-ESM-Embeddings <class 'sklearn.neural_network._multilayer_perceptron.MLPClassifier'>\n"
          ]
        },
        {
          "name": "stderr",
          "output_type": "stream",
          "text": [
            "100%|██████████| 4/4 [00:20<00:00,  5.17s/it]\n"
          ]
        },
        {
          "name": "stdout",
          "output_type": "stream",
          "text": [
            "Accuracy: 0.89, +/- 0.001549193338482968\n",
            "F1: 0.8915861807690056, +/- 0.0013091236650251226\n",
            "Precision: 0.8797544761937022, +/- 0.002715647043208811\n",
            "Recall: 0.9056, +/- 0.003249615361854403\n",
            "Auroc: 0.89, +/- 0.001549193338482968\n",
            "top_value: 200\n",
            "Med-N, LazBF-task, LazBCDEF-ESM-Embeddings <class 'sklearn.neural_network._multilayer_perceptron.MLPClassifier'>\n"
          ]
        },
        {
          "name": "stderr",
          "output_type": "stream",
          "text": [
            "100%|██████████| 4/4 [00:32<00:00,  8.25s/it]\n"
          ]
        },
        {
          "name": "stdout",
          "output_type": "stream",
          "text": [
            "Accuracy: 0.8879999999999999, +/- 0.0014142135623731041\n",
            "F1: 0.8898682366094087, +/- 0.0015469879169736978\n",
            "Precision: 0.8768251141137651, +/- 0.0015809451750058356\n",
            "Recall: 0.9047999999999998, +/- 0.0026532998322842923\n",
            "Auroc: 0.8879999999999999, +/- 0.0014142135623731041\n",
            "top_value: 500\n",
            "[[0.884, 0.8535999999999999, 0.8619999999999999, 0.8752000000000001, 0.8756], [0.8907999999999999, 0.8564, 0.8628, 0.8868, 0.8968], [0.9551999999999999, 0.9655999999999999, 0.9576, 0.9648, 0.9564], [0.8832000000000001, 0.8824, 0.8695999999999999, 0.8964000000000001, 0.89], [0.8876000000000002, 0.8392, 0.8448, 0.8608, 0.8879999999999999]]\n",
            "[[0.0033466401061363346, 0.0024819347291981904, 0.002756809750418063, 0.003136877428271616, 0.004019950248448349], [0.00313687742827163, 0.0023151673805580607, 0.005535341001239233, 0.004029888335922005, 0.003979949748426483], [0.0013564659966250401, 0.000748331477354789, 0.0016, 0.0004898979485566133, 0.0017204650534085254], [0.0036660605559646585, 0.0041665333311999364, 0.0036551333764994545, 0.0019390719429665175, 0.001549193338482968], [0.002039607805437097, 0.004498888751680801, 0.003136877428271627, 0.002059126028197386, 0.0014142135623731041]]\n"
          ]
        }
      ],
      "source": [
        "#@title LazBF MedN\n",
        "\n",
        "np.random.seed(1)\n",
        "random.seed(1)\n",
        "from sklearn.utils import check_random_state\n",
        "random_state = check_random_state(1)\n",
        "\n",
        "idxs = balanced_sample_np(lazbf_mlm_none, LazBF_sample_labels, 500, 1)\n",
        "y_values = [\n",
        "    [0, 0, 0, 0, 0], # vanilla-esm\n",
        "    [0, 0, 0, 0, 0], # peptide-esm\n",
        "    [0, 0, 0, 0, 0], # LazBF-esm\n",
        "    [0, 0, 0, 0, 0], # LazDEF-esm\n",
        "    [0, 0, 0, 0, 0], # LazBCDEF-esm\n",
        "]\n",
        "y_errors = [\n",
        "    [0, 0, 0, 0, 0], # vanilla-esm\n",
        "    [0, 0, 0, 0, 0], # peptide-esm\n",
        "    [0, 0, 0, 0, 0], # LazBF-esm\n",
        "    [0, 0, 0, 0, 0], # LazDEF-esm\n",
        "    [0, 0, 0, 0, 0], # LazBCDEF-esm\n",
        "]\n",
        "\n",
        "i = 0\n",
        "for model, param, grid in zip(model_list, param_list, value_list):\n",
        "\n",
        "  # Lazbf prediction\n",
        "  print(f\"Med-N, LazBF-task, Vanilla-ESM-Embeddings {model}\")\n",
        "  m, e = optimize(lazbf_mlm_none[idxs], LazBF_sample_labels[idxs], model, param, grid)\n",
        "  y_values[0][i] = m\n",
        "  y_errors[0][i] = e\n",
        "\n",
        "  print(f\"Med-N, LazBF-task, Peptide-ESM-Embeddings {model}\")\n",
        "  m, e = optimize(lazbf_mlm_pa[idxs], LazBF_sample_labels[idxs], model, param, grid)\n",
        "  y_values[1][i] = m\n",
        "  y_errors[1][i] = e\n",
        "\n",
        "  print(f\"Med-N, LazBF-task, LazBF-ESM-Embeddings {model}\")\n",
        "  m, e = optimize(lazbf_mlm_lazbf[idxs], LazBF_sample_labels[idxs], model, param, grid)\n",
        "  y_values[2][i] = m\n",
        "  y_errors[2][i] = e\n",
        "\n",
        "  print(f\"Med-N, LazBF-task, LazDEF-ESM-Embeddings {model}\")\n",
        "  m, e = optimize(lazbf_mlm_lazdef[idxs], LazBF_sample_labels[idxs], model, param, grid)\n",
        "  y_values[3][i] = m\n",
        "  y_errors[3][i] = e\n",
        "\n",
        "  print(f\"Med-N, LazBF-task, LazBCDEF-ESM-Embeddings {model}\")\n",
        "  m, e = optimize(lazbf_mlm_lazbcdef[idxs], LazBF_sample_labels[idxs], model, param, grid)\n",
        "  y_values[4][i] = m\n",
        "  y_errors[4][i] = e\n",
        "\n",
        "  i += 1\n",
        "print(y_values)\n",
        "print(y_errors)"
      ]
    },
    {
      "cell_type": "code",
      "execution_count": 18,
      "metadata": {
        "cellView": "form",
        "colab": {
          "base_uri": "https://localhost:8080/"
        },
        "id": "f3q4jTDone3A",
        "outputId": "bec74139-5234-4588-ec86-346e094ace51"
      },
      "outputs": [
        {
          "name": "stdout",
          "output_type": "stream",
          "text": [
            "High-N, LazBF-task, Vanilla-ESM-Embeddings <class 'sklearn.linear_model._logistic.LogisticRegression'>\n"
          ]
        },
        {
          "name": "stderr",
          "output_type": "stream",
          "text": [
            "100%|██████████| 4/4 [00:04<00:00,  1.23s/it]\n"
          ]
        },
        {
          "name": "stdout",
          "output_type": "stream",
          "text": [
            "Accuracy: 0.9122, +/- 0.002853068523537426\n",
            "F1: 0.9123142770697037, +/- 0.0030689397755547985\n",
            "Precision: 0.9098615319591129, +/- 0.0014054768242513641\n",
            "Recall: 0.9155999999999999, +/- 0.005564171097297396\n",
            "Auroc: 0.9122, +/- 0.00285306852353744\n",
            "top_value: 0.1\n",
            "High-N, LazBF-task, Peptide-ESM-Embeddings <class 'sklearn.linear_model._logistic.LogisticRegression'>\n"
          ]
        },
        {
          "name": "stderr",
          "output_type": "stream",
          "text": [
            "100%|██████████| 4/4 [00:02<00:00,  1.75it/s]\n"
          ]
        },
        {
          "name": "stdout",
          "output_type": "stream",
          "text": [
            "Accuracy: 0.9064, +/- 0.0019899748742132667\n",
            "F1: 0.9066489715071766, +/- 0.0018201095750795325\n",
            "Precision: 0.9061593685051095, +/- 0.003440587782922836\n",
            "Recall: 0.908, +/- 0.0016733200530681658\n",
            "Auroc: 0.9064, +/- 0.0019899748742132667\n",
            "top_value: 1\n",
            "High-N, LazBF-task, LazBF-ESM-Embeddings <class 'sklearn.linear_model._logistic.LogisticRegression'>\n"
          ]
        },
        {
          "name": "stderr",
          "output_type": "stream",
          "text": [
            "100%|██████████| 4/4 [00:01<00:00,  2.27it/s]\n"
          ]
        },
        {
          "name": "stdout",
          "output_type": "stream",
          "text": [
            "Accuracy: 0.9654, +/- 0.002111871208194274\n",
            "F1: 0.9653943623920351, +/- 0.002126087084726765\n",
            "Precision: 0.9673850338354286, +/- 0.0021987795893423545\n",
            "Recall: 0.9639999999999999, +/- 0.002097617696340326\n",
            "Auroc: 0.9654, +/- 0.002111871208194272\n",
            "top_value: 0.1\n",
            "High-N, LazBF-task, LazDEF-ESM-Embeddings <class 'sklearn.linear_model._logistic.LogisticRegression'>\n"
          ]
        },
        {
          "name": "stderr",
          "output_type": "stream",
          "text": [
            "100%|██████████| 4/4 [00:02<00:00,  1.63it/s]\n"
          ]
        },
        {
          "name": "stdout",
          "output_type": "stream",
          "text": [
            "Accuracy: 0.9074, +/- 0.001208304597359473\n",
            "F1: 0.9077900121300738, +/- 0.0013011435442604417\n",
            "Precision: 0.9037055911897139, +/- 0.0018864415893699762\n",
            "Recall: 0.9124000000000001, +/- 0.0025612496949731574\n",
            "Auroc: 0.9074, +/- 0.001208304597359473\n",
            "top_value: 0.1\n",
            "High-N, LazBF-task, LazBCDEF-ESM-Embeddings <class 'sklearn.linear_model._logistic.LogisticRegression'>\n"
          ]
        },
        {
          "name": "stderr",
          "output_type": "stream",
          "text": [
            "100%|██████████| 4/4 [00:02<00:00,  1.37it/s]\n"
          ]
        },
        {
          "name": "stdout",
          "output_type": "stream",
          "text": [
            "Accuracy: 0.9044000000000001, +/- 0.002561249694973126\n",
            "F1: 0.9041666340437067, +/- 0.0028121703412102125\n",
            "Precision: 0.9075929459289321, +/- 0.0006484531951696516\n",
            "Recall: 0.9016000000000002, +/- 0.00563560112144215\n",
            "Auroc: 0.9044000000000001, +/- 0.0025612496949731383\n",
            "top_value: 0.1\n",
            "High-N, LazBF-task, Vanilla-ESM-Embeddings <class 'sklearn.ensemble._forest.RandomForestClassifier'>\n"
          ]
        },
        {
          "name": "stderr",
          "output_type": "stream",
          "text": [
            "100%|██████████| 4/4 [00:22<00:00,  5.58s/it]\n"
          ]
        },
        {
          "name": "stdout",
          "output_type": "stream",
          "text": [
            "Accuracy: 0.8734, +/- 0.0013266499161422004\n",
            "F1: 0.8715873520673956, +/- 0.0013940257692083957\n",
            "Precision: 0.8843511555315953, +/- 0.0021724351921858383\n",
            "Recall: 0.8604, +/- 0.003187475490101829\n",
            "Auroc: 0.8734, +/- 0.0013266499161422004\n",
            "top_value: 50\n",
            "High-N, LazBF-task, Peptide-ESM-Embeddings <class 'sklearn.ensemble._forest.RandomForestClassifier'>\n"
          ]
        },
        {
          "name": "stderr",
          "output_type": "stream",
          "text": [
            "100%|██████████| 4/4 [00:22<00:00,  5.51s/it]\n"
          ]
        },
        {
          "name": "stdout",
          "output_type": "stream",
          "text": [
            "Accuracy: 0.8797999999999998, +/- 0.0023108440016582576\n",
            "F1: 0.878879985106012, +/- 0.002331126213282192\n",
            "Precision: 0.8859154166841204, +/- 0.0021260419272556446\n",
            "Recall: 0.8732000000000001, +/- 0.0028705400188814515\n",
            "Auroc: 0.8797999999999998, +/- 0.0023108440016582576\n",
            "top_value: 50\n",
            "High-N, LazBF-task, LazBF-ESM-Embeddings <class 'sklearn.ensemble._forest.RandomForestClassifier'>\n"
          ]
        },
        {
          "name": "stderr",
          "output_type": "stream",
          "text": [
            "100%|██████████| 4/4 [00:14<00:00,  3.52s/it]\n"
          ]
        },
        {
          "name": "stdout",
          "output_type": "stream",
          "text": [
            "Accuracy: 0.9704, +/- 0.0011224972160321864\n",
            "F1: 0.9705548691794791, +/- 0.001110512221227998\n",
            "Precision: 0.9669705029705599, +/- 0.001972955809201192\n",
            "Recall: 0.9743999999999999, +/- 0.0007483314773548334\n",
            "Auroc: 0.9704, +/- 0.0011224972160321864\n",
            "top_value: 25\n",
            "High-N, LazBF-task, LazDEF-ESM-Embeddings <class 'sklearn.ensemble._forest.RandomForestClassifier'>\n"
          ]
        },
        {
          "name": "stderr",
          "output_type": "stream",
          "text": [
            "100%|██████████| 4/4 [00:23<00:00,  5.86s/it]\n"
          ]
        },
        {
          "name": "stdout",
          "output_type": "stream",
          "text": [
            "Accuracy: 0.8912000000000001, +/- 0.0019595917942265683\n",
            "F1: 0.8900609345691572, +/- 0.002021005152150445\n",
            "Precision: 0.9002545279900097, +/- 0.0018040236552195506\n",
            "Recall: 0.8808, +/- 0.0032619012860600257\n",
            "Auroc: 0.8912000000000001, +/- 0.0019595917942265523\n",
            "top_value: 100\n",
            "High-N, LazBF-task, LazBCDEF-ESM-Embeddings <class 'sklearn.ensemble._forest.RandomForestClassifier'>\n"
          ]
        },
        {
          "name": "stderr",
          "output_type": "stream",
          "text": [
            "100%|██████████| 4/4 [00:22<00:00,  5.73s/it]\n"
          ]
        },
        {
          "name": "stdout",
          "output_type": "stream",
          "text": [
            "Accuracy: 0.8468, +/- 0.003455430508634187\n",
            "F1: 0.8470402486898566, +/- 0.0030283207946557\n",
            "Precision: 0.847100038358237, +/- 0.004658269961399754\n",
            "Recall: 0.8479999999999999, +/- 0.002190890230020651\n",
            "Auroc: 0.8468, +/- 0.0034554305086341637\n",
            "top_value: 25\n",
            "High-N, LazBF-task, Vanilla-ESM-Embeddings <class 'sklearn.ensemble._weight_boosting.AdaBoostClassifier'>\n"
          ]
        },
        {
          "name": "stderr",
          "output_type": "stream",
          "text": [
            "100%|██████████| 4/4 [02:51<00:00, 42.99s/it]\n"
          ]
        },
        {
          "name": "stdout",
          "output_type": "stream",
          "text": [
            "Accuracy: 0.8699999999999999, +/- 0.0036055512754640186\n",
            "F1: 0.8706805515385441, +/- 0.0037756637454408955\n",
            "Precision: 0.8663513658758222, +/- 0.0033184948797659332\n",
            "Recall: 0.8756, +/- 0.005706137047074845\n",
            "Auroc: 0.8699999999999999, +/- 0.0036055512754639657\n",
            "top_value: 100\n",
            "High-N, LazBF-task, Peptide-ESM-Embeddings <class 'sklearn.ensemble._weight_boosting.AdaBoostClassifier'>\n"
          ]
        },
        {
          "name": "stderr",
          "output_type": "stream",
          "text": [
            "100%|██████████| 4/4 [02:51<00:00, 42.96s/it]\n"
          ]
        },
        {
          "name": "stdout",
          "output_type": "stream",
          "text": [
            "Accuracy: 0.875, +/- 0.004110960958218865\n",
            "F1: 0.8750983252040235, +/- 0.004348290282427606\n",
            "Precision: 0.8756736166735, +/- 0.0033389742881956286\n",
            "Recall: 0.876, +/- 0.005830951894845278\n",
            "Auroc: 0.875, +/- 0.004110960958218857\n",
            "top_value: 50\n",
            "High-N, LazBF-task, LazBF-ESM-Embeddings <class 'sklearn.ensemble._weight_boosting.AdaBoostClassifier'>\n"
          ]
        },
        {
          "name": "stderr",
          "output_type": "stream",
          "text": [
            "100%|██████████| 4/4 [02:46<00:00, 41.52s/it]\n"
          ]
        },
        {
          "name": "stdout",
          "output_type": "stream",
          "text": [
            "Accuracy: 0.9676, +/- 0.0005099019513592789\n",
            "F1: 0.967612821707011, +/- 0.000497621121328262\n",
            "Precision: 0.9688085595690387, +/- 0.0010856326001536189\n",
            "Recall: 0.9667999999999999, +/- 0.0007999999999999813\n",
            "Auroc: 0.9676, +/- 0.0005099019513592789\n",
            "top_value: 100\n",
            "High-N, LazBF-task, LazDEF-ESM-Embeddings <class 'sklearn.ensemble._weight_boosting.AdaBoostClassifier'>\n"
          ]
        },
        {
          "name": "stderr",
          "output_type": "stream",
          "text": [
            "100%|██████████| 4/4 [02:49<00:00, 42.32s/it]\n"
          ]
        },
        {
          "name": "stdout",
          "output_type": "stream",
          "text": [
            "Accuracy: 0.8866000000000002, +/- 0.0024207436873820622\n",
            "F1: 0.8864818693265741, +/- 0.0026470540396581177\n",
            "Precision: 0.8871913687454509, +/- 0.0021031916058054556\n",
            "Recall: 0.8868, +/- 0.005499090833947031\n",
            "Auroc: 0.8866000000000002, +/- 0.0024207436873820622\n",
            "top_value: 100\n",
            "High-N, LazBF-task, LazBCDEF-ESM-Embeddings <class 'sklearn.ensemble._weight_boosting.AdaBoostClassifier'>\n"
          ]
        },
        {
          "name": "stderr",
          "output_type": "stream",
          "text": [
            "100%|██████████| 4/4 [02:48<00:00, 42.06s/it]\n"
          ]
        },
        {
          "name": "stdout",
          "output_type": "stream",
          "text": [
            "Accuracy: 0.8736, +/- 0.004081666326391734\n",
            "F1: 0.8736057440108895, +/- 0.004153315372891776\n",
            "Precision: 0.8735831505734302, +/- 0.005110964268921264\n",
            "Recall: 0.8744, +/- 0.004707440918375928\n",
            "Auroc: 0.8736, +/- 0.00408166632639172\n",
            "top_value: 100\n",
            "High-N, LazBF-task, Vanilla-ESM-Embeddings <class 'sklearn.svm._classes.SVC'>\n"
          ]
        },
        {
          "name": "stderr",
          "output_type": "stream",
          "text": [
            "100%|██████████| 4/4 [00:08<00:00,  2.06s/it]\n"
          ]
        },
        {
          "name": "stdout",
          "output_type": "stream",
          "text": [
            "Accuracy: 0.893, +/- 0.002345207879911743\n",
            "F1: 0.8927784503453324, +/- 0.0025800404986656834\n",
            "Precision: 0.894810986793091, +/- 0.002067722800367217\n",
            "Recall: 0.8916000000000001, +/- 0.004749736834815181\n",
            "Auroc: 0.893, +/- 0.0023452078799117\n",
            "top_value: 5\n",
            "High-N, LazBF-task, Peptide-ESM-Embeddings <class 'sklearn.svm._classes.SVC'>\n"
          ]
        },
        {
          "name": "stderr",
          "output_type": "stream",
          "text": [
            "100%|██████████| 4/4 [00:08<00:00,  2.00s/it]\n"
          ]
        },
        {
          "name": "stdout",
          "output_type": "stream",
          "text": [
            "Accuracy: 0.9011999999999999, +/- 0.0012409673645990794\n",
            "F1: 0.9012195483339172, +/- 0.0012826947063947697\n",
            "Precision: 0.9006970607892677, +/- 0.00112180749939622\n",
            "Recall: 0.9024000000000001, +/- 0.002315167380558035\n",
            "Auroc: 0.9011999999999999, +/- 0.0012409673645990794\n",
            "top_value: 1\n",
            "High-N, LazBF-task, LazBF-ESM-Embeddings <class 'sklearn.svm._classes.SVC'>\n"
          ]
        },
        {
          "name": "stderr",
          "output_type": "stream",
          "text": [
            "100%|██████████| 4/4 [00:04<00:00,  1.20s/it]\n"
          ]
        },
        {
          "name": "stdout",
          "output_type": "stream",
          "text": [
            "Accuracy: 0.9709999999999999, +/- 0.0012649110640673528\n",
            "F1: 0.9712693097513277, +/- 0.0011745418125654588\n",
            "Precision: 0.9666651624726106, +/- 0.002037320238145024\n",
            "Recall: 0.9763999999999999, +/- 0.0004000000000000225\n",
            "Auroc: 0.9709999999999999, +/- 0.0012649110640673615\n",
            "top_value: 0.1\n",
            "High-N, LazBF-task, LazDEF-ESM-Embeddings <class 'sklearn.svm._classes.SVC'>\n"
          ]
        },
        {
          "name": "stderr",
          "output_type": "stream",
          "text": [
            "100%|██████████| 4/4 [00:07<00:00,  1.75s/it]\n"
          ]
        },
        {
          "name": "stdout",
          "output_type": "stream",
          "text": [
            "Accuracy: 0.9182, +/- 0.0010198039027185426\n",
            "F1: 0.9181575725913991, +/- 0.0009527831236561507\n",
            "Precision: 0.9187239903021064, +/- 0.002542693036240734\n",
            "Recall: 0.9179999999999999, +/- 0.0017888543819998394\n",
            "Auroc: 0.9182, +/- 0.0010198039027185337\n",
            "top_value: 5\n",
            "High-N, LazBF-task, LazBCDEF-ESM-Embeddings <class 'sklearn.svm._classes.SVC'>\n"
          ]
        },
        {
          "name": "stderr",
          "output_type": "stream",
          "text": [
            "100%|██████████| 4/4 [00:06<00:00,  1.65s/it]\n"
          ]
        },
        {
          "name": "stdout",
          "output_type": "stream",
          "text": [
            "Accuracy: 0.8984, +/- 0.001435270009440735\n",
            "F1: 0.8985136230357575, +/- 0.0014580604477654273\n",
            "Precision: 0.8981537781529312, +/- 0.002368271839302182\n",
            "Recall: 0.8995999999999998, +/- 0.0033105890714493786\n",
            "Auroc: 0.8984, +/- 0.0014352700094407333\n",
            "top_value: 5\n",
            "High-N, LazBF-task, Vanilla-ESM-Embeddings <class 'sklearn.neural_network._multilayer_perceptron.MLPClassifier'>\n"
          ]
        },
        {
          "name": "stderr",
          "output_type": "stream",
          "text": [
            "100%|██████████| 4/4 [00:44<00:00, 11.18s/it]\n"
          ]
        },
        {
          "name": "stdout",
          "output_type": "stream",
          "text": [
            "Accuracy: 0.9048, +/- 0.0025573423705088838\n",
            "F1: 0.904615221167837, +/- 0.002709385724785166\n",
            "Precision: 0.9062688116799233, +/- 0.0019339033281525143\n",
            "Recall: 0.9036, +/- 0.0040693979898751625\n",
            "Auroc: 0.9047999999999998, +/- 0.0025573423705088877\n",
            "top_value: 500\n",
            "High-N, LazBF-task, Peptide-ESM-Embeddings <class 'sklearn.neural_network._multilayer_perceptron.MLPClassifier'>\n"
          ]
        },
        {
          "name": "stderr",
          "output_type": "stream",
          "text": [
            "100%|██████████| 4/4 [00:43<00:00, 10.87s/it]\n"
          ]
        },
        {
          "name": "stdout",
          "output_type": "stream",
          "text": [
            "Accuracy: 0.9072000000000001, +/- 0.0013564659966250564\n",
            "F1: 0.907159714567069, +/- 0.001525085780441562\n",
            "Precision: 0.9087478937689699, +/- 0.001823973319454379\n",
            "Recall: 0.9064, +/- 0.0038157568056677977\n",
            "Auroc: 0.9072000000000001, +/- 0.001356465996625022\n",
            "top_value: 200\n",
            "High-N, LazBF-task, LazBF-ESM-Embeddings <class 'sklearn.neural_network._multilayer_perceptron.MLPClassifier'>\n"
          ]
        },
        {
          "name": "stderr",
          "output_type": "stream",
          "text": [
            "100%|██████████| 4/4 [00:38<00:00,  9.73s/it]\n"
          ]
        },
        {
          "name": "stdout",
          "output_type": "stream",
          "text": [
            "Accuracy: 0.9663999999999999, +/- 0.0010295630140987257\n",
            "F1: 0.9660908517066185, +/- 0.0010402420988185354\n",
            "Precision: 0.9743469625385739, +/- 0.0010189198441896367\n",
            "Recall: 0.9583999999999999, +/- 0.0015999999999999944\n",
            "Auroc: 0.9663999999999999, +/- 0.0010295630140987062\n",
            "top_value: 50\n",
            "High-N, LazBF-task, LazDEF-ESM-Embeddings <class 'sklearn.neural_network._multilayer_perceptron.MLPClassifier'>\n"
          ]
        },
        {
          "name": "stderr",
          "output_type": "stream",
          "text": [
            "100%|██████████| 4/4 [00:36<00:00,  9.24s/it]\n"
          ]
        },
        {
          "name": "stdout",
          "output_type": "stream",
          "text": [
            "Accuracy: 0.9168000000000001, +/- 0.0024979991993593683\n",
            "F1: 0.9172148394930002, +/- 0.002539230169658574\n",
            "Precision: 0.9134149008242508, +/- 0.0023217390870711244\n",
            "Recall: 0.9212, +/- 0.003382306905057566\n",
            "Auroc: 0.9168000000000001, +/- 0.0024979991993593644\n",
            "top_value: 100\n",
            "High-N, LazBF-task, LazBCDEF-ESM-Embeddings <class 'sklearn.neural_network._multilayer_perceptron.MLPClassifier'>\n"
          ]
        },
        {
          "name": "stderr",
          "output_type": "stream",
          "text": [
            "100%|██████████| 4/4 [01:02<00:00, 15.62s/it]\n"
          ]
        },
        {
          "name": "stdout",
          "output_type": "stream",
          "text": [
            "Accuracy: 0.9038, +/- 0.0010198039027185535\n",
            "F1: 0.9041152231421051, +/- 0.0010469190100800125\n",
            "Precision: 0.9020250096067233, +/- 0.0022340621568664423\n",
            "Recall: 0.9067999999999999, +/- 0.0030724582991474587\n",
            "Auroc: 0.9038, +/- 0.0010198039027185513\n",
            "top_value: 50\n",
            "[[0.9122, 0.8734, 0.8699999999999999, 0.893, 0.9048], [0.9064, 0.8797999999999998, 0.875, 0.9011999999999999, 0.9072000000000001], [0.9654, 0.9704, 0.9676, 0.9709999999999999, 0.9663999999999999], [0.9074, 0.8912000000000001, 0.8866000000000002, 0.9182, 0.9168000000000001], [0.9044000000000001, 0.8468, 0.8736, 0.8984, 0.9038]]\n",
            "[[0.002853068523537426, 0.0013266499161422004, 0.0036055512754640186, 0.002345207879911743, 0.0025573423705088838], [0.0019899748742132667, 0.0023108440016582576, 0.004110960958218865, 0.0012409673645990794, 0.0013564659966250564], [0.002111871208194274, 0.0011224972160321864, 0.0005099019513592789, 0.0012649110640673528, 0.0010295630140987257], [0.001208304597359473, 0.0019595917942265683, 0.0024207436873820622, 0.0010198039027185426, 0.0024979991993593683], [0.002561249694973126, 0.003455430508634187, 0.004081666326391734, 0.001435270009440735, 0.0010198039027185535]]\n"
          ]
        }
      ],
      "source": [
        "#@title LazBF HighN\n",
        "\n",
        "np.random.seed(42)\n",
        "random.seed(42)\n",
        "from sklearn.utils import check_random_state\n",
        "random_state = check_random_state(42)\n",
        "\n",
        "idxs = balanced_sample_np(lazbf_mlm_none, LazBF_sample_labels, 1000, 42)\n",
        "y_values = [\n",
        "    [0, 0, 0, 0, 0], # vanilla-esm\n",
        "    [0, 0, 0, 0, 0], # peptide-esm\n",
        "    [0, 0, 0, 0, 0], # LazBF-esm\n",
        "    [0, 0, 0, 0, 0], # LazDEF-esm\n",
        "    [0, 0, 0, 0, 0], # LazBCDEF-esm\n",
        "]\n",
        "y_errors = [\n",
        "    [0, 0, 0, 0, 0], # vanilla-esm\n",
        "    [0, 0, 0, 0, 0], # peptide-esm\n",
        "    [0, 0, 0, 0, 0], # LazBF-esm\n",
        "    [0, 0, 0, 0, 0], # LazDEF-esm\n",
        "    [0, 0, 0, 0, 0], # LazBCDEF-esm\n",
        "]\n",
        "\n",
        "i = 0\n",
        "for model, param, grid in zip(model_list, param_list, value_list):\n",
        "\n",
        "  # Lazbf prediction\n",
        "  print(f\"High-N, LazBF-task, Vanilla-ESM-Embeddings {model}\")\n",
        "  m, e = optimize(lazbf_mlm_none[idxs], LazBF_sample_labels[idxs], model, param, grid)\n",
        "  y_values[0][i] = m\n",
        "  y_errors[0][i] = e\n",
        "\n",
        "  print(f\"High-N, LazBF-task, Peptide-ESM-Embeddings {model}\")\n",
        "  m, e = optimize(lazbf_mlm_pa[idxs], LazBF_sample_labels[idxs], model, param, grid)\n",
        "  y_values[1][i] = m\n",
        "  y_errors[1][i] = e\n",
        "\n",
        "  print(f\"High-N, LazBF-task, LazBF-ESM-Embeddings {model}\")\n",
        "  m, e = optimize(lazbf_mlm_lazbf[idxs], LazBF_sample_labels[idxs], model, param, grid)\n",
        "  y_values[2][i] = m\n",
        "  y_errors[2][i] = e\n",
        "\n",
        "  print(f\"High-N, LazBF-task, LazDEF-ESM-Embeddings {model}\")\n",
        "  m, e = optimize(lazbf_mlm_lazdef[idxs], LazBF_sample_labels[idxs], model, param, grid)\n",
        "  y_values[3][i] = m\n",
        "  y_errors[3][i] = e\n",
        "\n",
        "  print(f\"High-N, LazBF-task, LazBCDEF-ESM-Embeddings {model}\")\n",
        "  m, e = optimize(lazbf_mlm_lazbcdef[idxs], LazBF_sample_labels[idxs], model, param, grid)\n",
        "  y_values[4][i] = m\n",
        "  y_errors[4][i] = e\n",
        "\n",
        "  i += 1\n",
        "print(y_values)\n",
        "print(y_errors)"
      ]
    },
    {
      "cell_type": "markdown",
      "metadata": {
        "id": "voczSvjPgP8R"
      },
      "source": [
        "---"
      ]
    },
    {
      "cell_type": "code",
      "execution_count": 13,
      "metadata": {
        "cellView": "form",
        "colab": {
          "base_uri": "https://localhost:8080/"
        },
        "id": "mt5G6SlKpiGP",
        "outputId": "94c1044e-a2b9-459a-8ad4-fd315e962d0f"
      },
      "outputs": [
        {
          "name": "stdout",
          "output_type": "stream",
          "text": [
            "High-N, LazBF-task, LazDEF-ESM-Embeddings LR=1e-4 <class 'sklearn.linear_model._logistic.LogisticRegression'>\n"
          ]
        },
        {
          "name": "stderr",
          "output_type": "stream",
          "text": [
            "100%|██████████| 4/4 [00:03<00:00,  1.15it/s]\n"
          ]
        },
        {
          "name": "stdout",
          "output_type": "stream",
          "text": [
            "Accuracy: 0.9065999999999999, +/- 0.0029765752132274704\n",
            "F1: 0.9068797030368939, +/- 0.0031288426420821615\n",
            "Precision: 0.9019473057258909, +/- 0.0032247339505695146\n",
            "Recall: 0.9128000000000001, +/- 0.003878143885933043\n",
            "Auroc: 0.9065999999999999, +/- 0.0029765752132274543\n",
            "top_value: 5\n",
            "High-N, LazBF-task, LazDEF-ESM-Embeddings LR=1e-5 <class 'sklearn.linear_model._logistic.LogisticRegression'>\n"
          ]
        },
        {
          "name": "stderr",
          "output_type": "stream",
          "text": [
            "100%|██████████| 4/4 [00:02<00:00,  1.67it/s]\n"
          ]
        },
        {
          "name": "stdout",
          "output_type": "stream",
          "text": [
            "Accuracy: 0.9109999999999999, +/- 0.0014142135623730885\n",
            "F1: 0.9112659027815552, +/- 0.0014564150811609447\n",
            "Precision: 0.9106168058372741, +/- 0.0019769143294044098\n",
            "Recall: 0.9132, +/- 0.0026532998322843287\n",
            "Auroc: 0.9110000000000001, +/- 0.0014142135623730961\n",
            "top_value: 1\n",
            "High-N, LazBF-task, LazDEF-ESM-Embeddings LR=1e-6 <class 'sklearn.linear_model._logistic.LogisticRegression'>\n"
          ]
        },
        {
          "name": "stderr",
          "output_type": "stream",
          "text": [
            "100%|██████████| 4/4 [00:04<00:00,  1.12s/it]\n"
          ]
        },
        {
          "name": "stdout",
          "output_type": "stream",
          "text": [
            "Accuracy: 0.9092, +/- 0.001319090595827293\n",
            "F1: 0.9093837722653337, +/- 0.0014230978861112828\n",
            "Precision: 0.9100973306204582, +/- 0.0022295460775350827\n",
            "Recall: 0.9099999999999999, +/- 0.003346640106136328\n",
            "Auroc: 0.9092, +/- 0.0013190905958273334\n",
            "top_value: 0.01\n",
            "High-N, LazBF-task, LazDEF-ESM-Embeddings LR=1e-4 <class 'sklearn.ensemble._forest.RandomForestClassifier'>\n"
          ]
        },
        {
          "name": "stderr",
          "output_type": "stream",
          "text": [
            "100%|██████████| 4/4 [00:24<00:00,  6.16s/it]\n"
          ]
        },
        {
          "name": "stdout",
          "output_type": "stream",
          "text": [
            "Accuracy: 0.844, +/- 0.003209361307176273\n",
            "F1: 0.8440019434536914, +/- 0.0032935772445183\n",
            "Precision: 0.8451479956588079, +/- 0.003179130612015777\n",
            "Recall: 0.8440000000000001, +/- 0.004000000000000006\n",
            "Auroc: 0.844, +/- 0.0032093613071762545\n",
            "top_value: 50\n",
            "High-N, LazBF-task, LazDEF-ESM-Embeddings LR=1e-5 <class 'sklearn.ensemble._forest.RandomForestClassifier'>\n"
          ]
        },
        {
          "name": "stderr",
          "output_type": "stream",
          "text": [
            "100%|██████████| 4/4 [00:22<00:00,  5.71s/it]\n"
          ]
        },
        {
          "name": "stdout",
          "output_type": "stream",
          "text": [
            "Accuracy: 0.8710000000000001, +/- 0.0014832396974191527\n",
            "F1: 0.8705229547398847, +/- 0.0012450623716875927\n",
            "Precision: 0.8757613729686403, +/- 0.0030857448741636157\n",
            "Recall: 0.8664, +/- 0.0011661903789690628\n",
            "Auroc: 0.8710000000000001, +/- 0.0014832396974190963\n",
            "top_value: 100\n",
            "High-N, LazBF-task, LazDEF-ESM-Embeddings LR=1e-6 <class 'sklearn.ensemble._forest.RandomForestClassifier'>\n"
          ]
        },
        {
          "name": "stderr",
          "output_type": "stream",
          "text": [
            "100%|██████████| 4/4 [00:21<00:00,  5.49s/it]\n"
          ]
        },
        {
          "name": "stdout",
          "output_type": "stream",
          "text": [
            "Accuracy: 0.8942, +/- 0.0017720045146669308\n",
            "F1: 0.8927739424138732, +/- 0.001935604653117629\n",
            "Precision: 0.9042190287349421, +/- 0.002440862083893026\n",
            "Recall: 0.8824, +/- 0.0042142615011410995\n",
            "Auroc: 0.8942, +/- 0.001772004514666919\n",
            "top_value: 100\n",
            "High-N, LazBF-task, LazDEF-ESM-Embeddings LR=1e-4 <class 'sklearn.ensemble._weight_boosting.AdaBoostClassifier'>\n"
          ]
        },
        {
          "name": "stderr",
          "output_type": "stream",
          "text": [
            "100%|██████████| 4/4 [02:48<00:00, 42.05s/it]\n"
          ]
        },
        {
          "name": "stdout",
          "output_type": "stream",
          "text": [
            "Accuracy: 0.8558, +/- 0.0023323807579380936\n",
            "F1: 0.8556531371339556, +/- 0.002643715180166496\n",
            "Precision: 0.8572086693861092, +/- 0.003972217884944395\n",
            "Recall: 0.8555999999999999, +/- 0.006112282715974429\n",
            "Auroc: 0.8558, +/- 0.0023323807579381226\n",
            "top_value: 100\n",
            "High-N, LazBF-task, LazDEF-ESM-Embeddings LR=1e-5 <class 'sklearn.ensemble._weight_boosting.AdaBoostClassifier'>\n"
          ]
        },
        {
          "name": "stderr",
          "output_type": "stream",
          "text": [
            "100%|██████████| 4/4 [02:49<00:00, 42.33s/it]\n"
          ]
        },
        {
          "name": "stdout",
          "output_type": "stream",
          "text": [
            "Accuracy: 0.8802, +/- 0.004091454509095786\n",
            "F1: 0.8812671830200637, +/- 0.0040105741232800045\n",
            "Precision: 0.8743019914167105, +/- 0.0036986242215721163\n",
            "Recall: 0.8888, +/- 0.004409081537009723\n",
            "Auroc: 0.8802, +/- 0.004091454509095786\n",
            "top_value: 100\n",
            "High-N, LazBF-task, LazDEF-ESM-Embeddings LR=1e-6 <class 'sklearn.ensemble._weight_boosting.AdaBoostClassifier'>\n"
          ]
        },
        {
          "name": "stderr",
          "output_type": "stream",
          "text": [
            "100%|██████████| 4/4 [02:49<00:00, 42.29s/it]\n"
          ]
        },
        {
          "name": "stdout",
          "output_type": "stream",
          "text": [
            "Accuracy: 0.8888000000000001, +/- 0.002782085548648707\n",
            "F1: 0.8894756156170279, +/- 0.0028555896610663644\n",
            "Precision: 0.8863421186141295, +/- 0.0027020705575364528\n",
            "Recall: 0.8939999999999999, +/- 0.004335896677735743\n",
            "Auroc: 0.8888, +/- 0.0027820855486487043\n",
            "top_value: 100\n",
            "High-N, LazBF-task, LazDEF-ESM-Embeddings LR=1e-4 <class 'sklearn.svm._classes.SVC'>\n"
          ]
        },
        {
          "name": "stderr",
          "output_type": "stream",
          "text": [
            "100%|██████████| 4/4 [00:08<00:00,  2.22s/it]\n"
          ]
        },
        {
          "name": "stdout",
          "output_type": "stream",
          "text": [
            "Accuracy: 0.8872, +/- 0.0011575836902790245\n",
            "F1: 0.8872773220463396, +/- 0.0012155296417921736\n",
            "Precision: 0.8856353118260932, +/- 0.0015992406166289565\n",
            "Recall: 0.89, +/- 0.0029664793948382903\n",
            "Auroc: 0.8872, +/- 0.0011575836902790323\n",
            "top_value: 5\n",
            "High-N, LazBF-task, LazDEF-ESM-Embeddings LR=1e-5 <class 'sklearn.svm._classes.SVC'>\n"
          ]
        },
        {
          "name": "stderr",
          "output_type": "stream",
          "text": [
            "100%|██████████| 4/4 [00:07<00:00,  1.88s/it]\n"
          ]
        },
        {
          "name": "stdout",
          "output_type": "stream",
          "text": [
            "Accuracy: 0.8974000000000002, +/- 0.0020149441679610017\n",
            "F1: 0.8984540822446778, +/- 0.0020442112931866306\n",
            "Precision: 0.8893912158147602, +/- 0.0028664789471534407\n",
            "Recall: 0.9088, +/- 0.0033823069050575518\n",
            "Auroc: 0.8974, +/- 0.0020149441679610095\n",
            "top_value: 5\n",
            "High-N, LazBF-task, LazDEF-ESM-Embeddings LR=1e-6 <class 'sklearn.svm._classes.SVC'>\n"
          ]
        },
        {
          "name": "stderr",
          "output_type": "stream",
          "text": [
            "100%|██████████| 4/4 [00:07<00:00,  1.80s/it]\n"
          ]
        },
        {
          "name": "stdout",
          "output_type": "stream",
          "text": [
            "Accuracy: 0.9164, +/- 0.0038026306683663306\n",
            "F1: 0.916456073906204, +/- 0.004018944908985036\n",
            "Precision: 0.916098024812982, +/- 0.0025227473297119835\n",
            "Recall: 0.9179999999999999, +/- 0.006164414002968956\n",
            "Auroc: 0.9164, +/- 0.0038026306683663236\n",
            "top_value: 5\n",
            "High-N, LazBF-task, LazDEF-ESM-Embeddings LR=1e-4 <class 'sklearn.neural_network._multilayer_perceptron.MLPClassifier'>\n"
          ]
        },
        {
          "name": "stderr",
          "output_type": "stream",
          "text": [
            "100%|██████████| 4/4 [00:52<00:00, 13.23s/it]\n"
          ]
        },
        {
          "name": "stdout",
          "output_type": "stream",
          "text": [
            "Accuracy: 0.8974, +/- 0.001939071942966517\n",
            "F1: 0.8982368600109268, +/- 0.0019017257632056685\n",
            "Precision: 0.8916082645181372, +/- 0.0028671193010212487\n",
            "Recall: 0.9056000000000001, +/- 0.002785677655436822\n",
            "Auroc: 0.8973999999999999, +/- 0.0019390719429665082\n",
            "top_value: 100\n",
            "High-N, LazBF-task, LazDEF-ESM-Embeddings LR=1e-5 <class 'sklearn.neural_network._multilayer_perceptron.MLPClassifier'>\n"
          ]
        },
        {
          "name": "stderr",
          "output_type": "stream",
          "text": [
            "100%|██████████| 4/4 [00:52<00:00, 13.09s/it]\n"
          ]
        },
        {
          "name": "stdout",
          "output_type": "stream",
          "text": [
            "Accuracy: 0.9078000000000002, +/- 0.000800000000000016\n",
            "F1: 0.9085550254932281, +/- 0.00075957322345353\n",
            "Precision: 0.9017223779339242, +/- 0.0014887848094103288\n",
            "Recall: 0.9164, +/- 0.0013266499161421208\n",
            "Auroc: 0.9078000000000002, +/- 0.000800000000000016\n",
            "top_value: 100\n",
            "High-N, LazBF-task, LazDEF-ESM-Embeddings LR=1e-6 <class 'sklearn.neural_network._multilayer_perceptron.MLPClassifier'>\n"
          ]
        },
        {
          "name": "stderr",
          "output_type": "stream",
          "text": [
            "100%|██████████| 4/4 [00:41<00:00, 10.35s/it]\n"
          ]
        },
        {
          "name": "stdout",
          "output_type": "stream",
          "text": [
            "Accuracy: 0.914, +/- 0.0031144823004794846\n",
            "F1: 0.9145204274222815, +/- 0.0029779064149716957\n",
            "Precision: 0.9096999381778458, +/- 0.005356944345437027\n",
            "Recall: 0.9200000000000002, +/- 0.0016733200530681528\n",
            "Auroc: 0.914, +/- 0.003114482300479499\n",
            "top_value: 50\n",
            "[[0.9065999999999999, 0.844, 0.8558, 0.8872, 0.8974], [0.9109999999999999, 0.8710000000000001, 0.8802, 0.8974000000000002, 0.9078000000000002], [0.9092, 0.8942, 0.8888000000000001, 0.9164, 0.914]]\n",
            "[[0.0029765752132274704, 0.003209361307176273, 0.0023323807579380936, 0.0011575836902790245, 0.001939071942966517], [0.0014142135623730885, 0.0014832396974191527, 0.004091454509095786, 0.0020149441679610017, 0.000800000000000016], [0.001319090595827293, 0.0017720045146669308, 0.002782085548648707, 0.0038026306683663306, 0.0031144823004794846]]\n"
          ]
        }
      ],
      "source": [
        "#@title Comparing differnt learning rates on LazDEF task\n",
        "\n",
        "np.random.seed(42)\n",
        "random.seed(42)\n",
        "from sklearn.utils import check_random_state\n",
        "random_state = check_random_state(42)\n",
        "\n",
        "idxs = balanced_sample_np(lazbf_mlm_none, LazBF_sample_labels, 1000, 42)\n",
        "y_values = [\n",
        "    [0, 0, 0, 0, 0], # lr=1e-4\n",
        "    [0, 0, 0, 0, 0], # lr=1e-5\n",
        "    [0, 0, 0, 0, 0], # lr=1e-6\n",
        "]\n",
        "y_errors = [\n",
        "    [0, 0, 0, 0, 0], # lr=1e-4\n",
        "    [0, 0, 0, 0, 0], # lr=1e-5\n",
        "    [0, 0, 0, 0, 0], # lr=1e-6\n",
        "]\n",
        "\n",
        "i = 0\n",
        "for model, param, grid in zip(model_list, param_list, value_list):\n",
        "\n",
        "  # Lazbf prediction\n",
        "  print(f\"High-N, LazBF-task, LazDEF-ESM-Embeddings LR=1e-4 {model}\")\n",
        "  m, e = optimize(lazbf_mlm_lazdefLR04[idxs], LazBF_sample_labels[idxs], model, param, grid)\n",
        "  y_values[0][i] = m\n",
        "  y_errors[0][i] = e\n",
        "\n",
        "  print(f\"High-N, LazBF-task, LazDEF-ESM-Embeddings LR=1e-5 {model}\")\n",
        "  m, e = optimize(lazbf_mlm_lazdefLR05[idxs], LazBF_sample_labels[idxs], model, param, grid)\n",
        "  y_values[1][i] = m\n",
        "  y_errors[1][i] = e\n",
        "\n",
        "  print(f\"High-N, LazBF-task, LazDEF-ESM-Embeddings LR=1e-6 {model}\")\n",
        "  m, e = optimize(lazbf_mlm_lazdef[idxs], LazBF_sample_labels[idxs], model, param, grid)\n",
        "  y_values[2][i] = m\n",
        "  y_errors[2][i] = e\n",
        "\n",
        "  i += 1\n",
        "print(y_values)\n",
        "print(y_errors)"
      ]
    },
    {
      "cell_type": "code",
      "execution_count": 25,
      "metadata": {
        "cellView": "form",
        "colab": {
          "base_uri": "https://localhost:8080/"
        },
        "id": "-gILxv3_Q7Fv",
        "outputId": "8367def2-c32c-4a76-d192-5e9fad556818"
      },
      "outputs": [
        {
          "name": "stdout",
          "output_type": "stream",
          "text": [
            "0.54218\n",
            "0.58338\n",
            "0.54668\n",
            "0.70158\n",
            "0.7214\n",
            "0.70548\n"
          ]
        }
      ],
      "source": [
        "#@title Zero-shot predictions with downstream models\n",
        "\n",
        "# Lown N - LazBF -> LazDEF\n",
        "def zero_shot_for_downstream_model(Xtr, ytr, X_test, y_test, train_size, MODEL):\n",
        "  idxs = balanced_sample_np(Xtr, ytr, train_size, 1)\n",
        "  X_train = Xtr[idxs]\n",
        "  y_train = ytr[idxs]\n",
        "  scaler=StandardScaler()\n",
        "  X_train=scaler.fit_transform(X_train)\n",
        "  X_test=scaler.transform(X_test)\n",
        "\n",
        "  MODEL.fit(X_train, y_train)\n",
        "  y_pred = MODEL.predict(X_test)\n",
        "  print(accuracy_score(y_test, y_pred))\n",
        "\n",
        "zero_shot_for_downstream_model(lazbf_mlm_none, LazBF_sample_labels, lazdef_mlm_none, LazDEF_sample_labels, 200, SVC(C=0.1))\n",
        "zero_shot_for_downstream_model(lazbf_mlm_none, LazBF_sample_labels, lazdef_mlm_none, LazDEF_sample_labels, 500, RandomForestClassifier(n_estimators=50))\n",
        "zero_shot_for_downstream_model(lazbf_mlm_none, LazBF_sample_labels, lazdef_mlm_none, LazDEF_sample_labels, 1000, SVC(C=1))\n",
        "\n",
        "zero_shot_for_downstream_model(lazdef_mlm_none, LazDEF_sample_labels, lazbf_mlm_none, LazBF_sample_labels, 200, SVC(C=0.1))\n",
        "zero_shot_for_downstream_model(lazdef_mlm_none, LazDEF_sample_labels, lazbf_mlm_none, LazBF_sample_labels, 500, SVC(C=0.1))\n",
        "zero_shot_for_downstream_model(lazdef_mlm_none, LazDEF_sample_labels, lazbf_mlm_none, LazBF_sample_labels, 1000, LogisticRegression(C=1))"
      ]
    },
    {
      "cell_type": "code",
      "execution_count": null,
      "metadata": {
        "id": "yo_6ecrvO0Hk"
      },
      "outputs": [],
      "source": [
        "!pip install transformers[torch] evaluate datasets\n",
        "!pip install -U kaleido\n",
        "!pip install captum"
      ]
    }
  ],
  "metadata": {
    "colab": {
      "provenance": []
    },
    "kernelspec": {
      "display_name": "Python 3",
      "name": "python3"
    },
    "language_info": {
      "name": "python"
    }
  },
  "nbformat": 4,
  "nbformat_minor": 0
}
