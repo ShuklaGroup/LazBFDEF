{
  "nbformat": 4,
  "nbformat_minor": 0,
  "metadata": {
    "colab": {
      "provenance": []
    },
    "kernelspec": {
      "name": "python3",
      "display_name": "Python 3"
    },
    "language_info": {
      "name": "python"
    }
  },
  "cells": [
    {
      "cell_type": "code",
      "source": [
        "import warnings\n",
        "warnings.filterwarnings(\"ignore\")"
      ],
      "metadata": {
        "id": "T-3izqUDLBZk"
      },
      "execution_count": 1,
      "outputs": []
    },
    {
      "cell_type": "code",
      "source": [
        "from google.colab import drive\n",
        "drive.mount('/content/drive')"
      ],
      "metadata": {
        "id": "U2didAj3ninU"
      },
      "execution_count": null,
      "outputs": []
    },
    {
      "cell_type": "code",
      "source": [
        "#@title Imports\n",
        "import torch\n",
        "import random\n",
        "from tqdm import tqdm\n",
        "import numpy as np\n",
        "import pandas as pd\n",
        "from sklearn.metrics import r2_score\n",
        "from sklearn.svm import SVR\n",
        "from sklearn.decomposition import PCA\n",
        "from sklearn.model_selection import train_test_split\n",
        "from sklearn.metrics import mean_squared_error\n",
        "from sklearn.model_selection import KFold\n",
        "from sklearn.utils import resample\n",
        "from scipy.stats import spearmanr\n",
        "from sklearn.metrics import ndcg_score\n",
        "from sklearn.svm import SVR\n",
        "from sklearn.linear_model import Ridge\n",
        "from sklearn.pipeline import make_pipeline\n",
        "from sklearn.preprocessing import StandardScaler, RobustScaler, MinMaxScaler, normalize\n",
        "from sklearn.model_selection import KFold, StratifiedKFold\n",
        "from sklearn.utils import resample\n",
        "from scipy.stats import spearmanr\n",
        "from scipy.stats import pearsonr\n",
        "from sklearn.metrics import ndcg_score\n",
        "from sklearn.kernel_ridge import KernelRidge\n",
        "from sklearn.svm import SVR, SVC\n",
        "from sklearn.linear_model import Ridge\n",
        "from sklearn.metrics.pairwise import cosine_similarity\n",
        "from sklearn.pipeline import make_pipeline\n",
        "from sklearn.preprocessing import StandardScaler, MinMaxScaler\n",
        "from sklearn.pipeline import Pipeline\n",
        "from sklearn.cluster import KMeans\n",
        "from sklearn.metrics import accuracy_score\n",
        "from sklearn.ensemble import AdaBoostClassifier, RandomForestClassifier\n",
        "from sklearn.gaussian_process import GaussianProcessClassifier\n",
        "from sklearn.neighbors import KNeighborsClassifier\n",
        "from sklearn.neural_network import MLPClassifier\n",
        "from sklearn.linear_model import LogisticRegression, LinearRegression\n",
        "from sklearn.metrics import f1_score\n",
        "from scipy.stats import sem\n",
        "from sklearn.model_selection import GridSearchCV\n",
        "from sklearn.metrics import precision_score, recall_score, roc_auc_score, accuracy_score\n",
        "\n",
        "# Performs one round of 10-fold cross validation\n",
        "def tfcv(X, y, MODEL):\n",
        "  y = np.array(y)\n",
        "  acc, f1, pre, rec, auroc = [], [], [], [], []\n",
        "  kf = StratifiedKFold(n_splits=5, shuffle=True)\n",
        "  for train_index, test_index in kf.split(X, y):\n",
        "    # Get the train/val data for the current fold\n",
        "    X_train, X_test = X[train_index], X[test_index]\n",
        "    y_train, y_test = y[train_index], y[test_index]\n",
        "\n",
        "    pca = PCA(n_components=50)\n",
        "    X_train = pca.fit_transform(X_train)\n",
        "    X_test = pca.transform(X_test)\n",
        "\n",
        "    scaler=StandardScaler()\n",
        "    X_train=scaler.fit_transform(X_train)\n",
        "    X_test=scaler.transform(X_test)\n",
        "\n",
        "    MODEL.fit(X_train, y_train)\n",
        "    y_pred = MODEL.predict(X_test)\n",
        "\n",
        "    # Compute metrics for current fold\n",
        "    fold_acc = accuracy_score(y_test, y_pred)\n",
        "    fold_f1 = f1_score(y_test, y_pred)\n",
        "    fold_pre = precision_score(y_test, y_pred)\n",
        "    fold_rec = recall_score(y_test, y_pred)\n",
        "    fold_roc = roc_auc_score(y_test, y_pred)\n",
        "    acc.append(fold_acc)\n",
        "    f1.append(fold_f1)\n",
        "    pre.append(fold_pre)\n",
        "    rec.append(fold_rec)\n",
        "    auroc.append(fold_roc)\n",
        "\n",
        "  return np.mean(np.array(acc)), np.mean(np.array(f1)), np.mean(np.array(pre)), np.mean(np.array(rec)), np.mean(np.array(auroc))\n",
        "\n",
        "# Optimize a hyperparameter\n",
        "def optimize(X, y, MODEL, PARAM, param_values):\n",
        "    top_value = param_values[0]\n",
        "    top_score = 0\n",
        "    for i in tqdm(param_values):\n",
        "        currentscore, _, _, _, _ = tfcv(X, y, MODEL(**{PARAM: i}))\n",
        "        if currentscore > top_score:\n",
        "            top_score = currentscore\n",
        "            top_value = i\n",
        "\n",
        "    final_acc, final_f1, final_pre, final_rec, final_auroc = [], [], [], [], []\n",
        "    for i in range(5):\n",
        "        ac, f1, pre, rec, auroc = tfcv(X, y, MODEL(**{PARAM: top_value}))\n",
        "        final_acc.append(ac)\n",
        "        final_f1.append(f1)\n",
        "        final_pre.append(pre)\n",
        "        final_rec.append(rec)\n",
        "        final_auroc.append(auroc)\n",
        "    final_acc = np.array(final_acc)\n",
        "    final_f1 = np.array(final_f1)\n",
        "    final_pre = np.array(final_pre)\n",
        "    final_rec = np.array(final_rec)\n",
        "    final_auroc = np.array(final_auroc)\n",
        "    print(f'Accuracy: {np.mean(final_acc)}, +/- {sem(final_acc)}')\n",
        "    print(f'F1: {np.mean(final_f1)}, +/- {sem(final_f1)}')\n",
        "    print(f'Precision: {np.mean(final_pre)}, +/- {sem(final_pre)}')\n",
        "    print(f'Recall: {np.mean(final_rec)}, +/- {sem(final_rec)}')\n",
        "    print(f'Auroc: {np.mean(final_auroc)}, +/- {sem(final_auroc)}')\n",
        "    print(f'top_value: {top_value}')\n",
        "    return np.mean(final_acc), sem(final_acc)\n",
        "\n",
        "# Load sequences from csv\n",
        "df = pd.read_csv('./drive/MyDrive/Data/LazBF_sequences.csv')\n",
        "LazBF_sequences = df['sequences'].tolist()\n",
        "LazBF_labels = np.array(df['labels'].tolist())\n",
        "\n",
        "df = pd.read_csv('./drive/MyDrive/Data/LazBF_sample.csv')\n",
        "LazBF_sample = df['sequences'].tolist()\n",
        "LazBF_sample_labels = np.array(df['labels'].tolist())\n",
        "\n",
        "df = pd.read_csv('./drive/MyDrive/Data/LazDEF_sequences.csv')\n",
        "LazDEF_sequences = df['sequences'].tolist()\n",
        "LazDEF_labels = np.array(df['labels'].tolist())\n",
        "\n",
        "df = pd.read_csv('./drive/MyDrive/Data/LazDEF_sample.csv')\n",
        "LazDEF_sample = df['sequences'].tolist()\n",
        "LazDEF_sample_labels = np.array(df['labels'].tolist())\n",
        "\n",
        "# Load Embs\n",
        "lazbf_mlm_none = np.load(\"./drive/MyDrive/Embeddings/LazBF_mlm_none.npy\")\n",
        "lazdef_mlm_none = np.load(\"./drive/MyDrive/Embeddings/LazDEF_mlm_none.npy\")\n",
        "\n",
        "lazbf_mlm_pa = np.load(\"./drive/MyDrive/Embeddings/LazBF_mlm_PA.npy\")\n",
        "lazdef_mlm_pa = np.load(\"./drive/MyDrive/Embeddings/LazDEF_mlm_PA.npy\")\n",
        "\n",
        "lazbf_mlm_lazbf = np.load(\"./drive/MyDrive/Embeddings/LazBF_mlm_LazBF.npy\")\n",
        "lazdef_mlm_lazbf = np.load(\"./drive/MyDrive/Embeddings/LazDEF_mlm_LazBF.npy\")\n",
        "\n",
        "lazbf_mlm_lazdef = np.load(\"./drive/MyDrive/Embeddings/LazBF_mlm_LazDEF.npy\")\n",
        "lazdef_mlm_lazdef = np.load(\"./drive/MyDrive/Embeddings/LazDEF_mlm_LazDEF.npy\")\n",
        "\n",
        "lazbf_mlm_lazbcdef = np.load(\"./drive/MyDrive/Embeddings/LazBF_mlm_LazBCDEF.npy\")\n",
        "lazdef_mlm_lazbcdef = np.load(\"./drive/MyDrive/Embeddings/LazDEF_mlm_LazBCDEF.npy\")\n",
        "\n",
        "model_list = [LogisticRegression, RandomForestClassifier, AdaBoostClassifier, SVC, MLPClassifier]\n",
        "param_list = ['C', 'n_estimators', 'n_estimators', 'C', 'hidden_layer_sizes']\n",
        "value_list = [\n",
        "   [1e-2, 1e-1, 1, 5], # LR\n",
        "   # [5, 25, 50, 80], # KNN\n",
        "   [5, 25, 50, 100], # RF\n",
        "   [5, 25, 50, 100], # Ada\n",
        "   [1e-2, 1e-1, 1, 5], # SVC\n",
        "   [50, 100, 200, 500], # MLP\n",
        "]\n",
        "\n",
        "def balanced_sample_np(seqs, labels, N, seed):\n",
        "    labels = np.array(labels)\n",
        "    indices_0 = np.where(labels == 0)[0]\n",
        "    indices_1 = np.where(labels == 1)[0]\n",
        "    min_count = min(len(indices_0), len(indices_1), N // 2)\n",
        "    sampled_indices_0 = np.random.choice(indices_0, min_count, replace=False)\n",
        "    sampled_indices_1 = np.random.choice(indices_1, min_count, replace=False)\n",
        "    sampled_indices = np.concatenate((sampled_indices_0, sampled_indices_1))\n",
        "    np.random.seed(seed)\n",
        "    random.seed(seed)\n",
        "    np.random.shuffle(sampled_indices)\n",
        "    return sampled_indices"
      ],
      "metadata": {
        "id": "f7zyqY7CJB_j",
        "cellView": "form"
      },
      "execution_count": 4,
      "outputs": []
    },
    {
      "cell_type": "code",
      "source": [
        "#@title LazBF HighN\n",
        "idxs = balanced_sample_np(lazbf_mlm_none, LazBF_sample_labels, 1000, 754643236)\n",
        "y_values = [\n",
        "    [0, 0, 0, 0, 0], # vanilla-esm\n",
        "    [0, 0, 0, 0, 0], # peptide-esm\n",
        "    [0, 0, 0, 0, 0], # LazBF-esm\n",
        "    [0, 0, 0, 0, 0], # LazDEF-esm\n",
        "    [0, 0, 0, 0, 0], # LazBCDEF-esm\n",
        "]\n",
        "y_errors = [\n",
        "    [0, 0, 0, 0, 0], # vanilla-esm\n",
        "    [0, 0, 0, 0, 0], # peptide-esm\n",
        "    [0, 0, 0, 0, 0], # LazBF-esm\n",
        "    [0, 0, 0, 0, 0], # LazDEF-esm\n",
        "    [0, 0, 0, 0, 0], # LazBCDEF-esm\n",
        "]\n",
        "\n",
        "i = 0\n",
        "for model, param, grid in zip(model_list, param_list, value_list):\n",
        "\n",
        "  # Lazbf prediction\n",
        "  print(f\"Low-N, LazBF-task, Vanilla-ESM-Embeddings {model}\")\n",
        "  m, e = optimize(lazbf_mlm_none[idxs], LazBF_sample_labels[idxs], model, param, grid)\n",
        "  y_values[0][i] = m\n",
        "  y_errors[0][i] = e\n",
        "\n",
        "  print(f\"Low-N, LazBF-task, Peptide-ESM-Embeddings {model}\")\n",
        "  m, e = optimize(lazbf_mlm_pa[idxs], LazBF_sample_labels[idxs], model, param, grid)\n",
        "  y_values[1][i] = m\n",
        "  y_errors[1][i] = e\n",
        "\n",
        "  print(f\"Low-N, LazBF-task, LazBF-ESM-Embeddings {model}\")\n",
        "  m, e = optimize(lazbf_mlm_lazbf[idxs], LazBF_sample_labels[idxs], model, param, grid)\n",
        "  y_values[2][i] = m\n",
        "  y_errors[2][i] = e\n",
        "\n",
        "  print(f\"Low-N, LazBF-task, LazDEF-ESM-Embeddings {model}\")\n",
        "  m, e = optimize(lazbf_mlm_lazdef[idxs], LazBF_sample_labels[idxs], model, param, grid)\n",
        "  y_values[3][i] = m\n",
        "  y_errors[3][i] = e\n",
        "\n",
        "  print(f\"Low-N, LazBF-task, LazBCDEF-ESM-Embeddings {model}\")\n",
        "  m, e = optimize(lazbf_mlm_lazbcdef[idxs], LazBF_sample_labels[idxs], model, param, grid)\n",
        "  y_values[4][i] = m\n",
        "  y_errors[4][i] = e\n",
        "\n",
        "  i += 1\n",
        "print(y_values)\n",
        "print(y_errors)"
      ],
      "metadata": {
        "colab": {
          "base_uri": "https://localhost:8080/"
        },
        "outputId": "d0405958-16a4-4510-d9a1-7ea57c0df4cf",
        "cellView": "form",
        "id": "f3q4jTDone3A"
      },
      "execution_count": 11,
      "outputs": [
        {
          "output_type": "stream",
          "name": "stdout",
          "text": [
            "Low-N, LazBF-task, Vanilla-ESM-Embeddings <class 'sklearn.linear_model._logistic.LogisticRegression'>\n"
          ]
        },
        {
          "output_type": "stream",
          "name": "stderr",
          "text": [
            "100%|██████████| 4/4 [00:03<00:00,  1.04it/s]\n"
          ]
        },
        {
          "output_type": "stream",
          "name": "stdout",
          "text": [
            "Accuracy: 0.8779999999999999, +/- 0.0010954451150103433\n",
            "F1: 0.8808005899295429, +/- 0.0011200359900306958\n",
            "Precision: 0.8620811862183357, +/- 0.00114724560672565\n",
            "Recall: 0.9016, +/- 0.0015999999999999736\n",
            "Auroc: 0.8779999999999999, +/- 0.0010954451150103433\n",
            "top_value: 0.1\n",
            "Low-N, LazBF-task, Peptide-ESM-Embeddings <class 'sklearn.linear_model._logistic.LogisticRegression'>\n"
          ]
        },
        {
          "output_type": "stream",
          "name": "stderr",
          "text": [
            "100%|██████████| 4/4 [00:03<00:00,  1.02it/s]\n"
          ]
        },
        {
          "output_type": "stream",
          "name": "stdout",
          "text": [
            "Accuracy: 0.8827999999999999, +/- 0.0013928388277183812\n",
            "F1: 0.8858411793557932, +/- 0.0014630753054394926\n",
            "Precision: 0.8654513851820956, +/- 0.001120142552778452\n",
            "Recall: 0.9084, +/- 0.00278567765543683\n",
            "Auroc: 0.8827999999999999, +/- 0.0013928388277183812\n",
            "top_value: 0.01\n",
            "Low-N, LazBF-task, LazBF-ESM-Embeddings <class 'sklearn.linear_model._logistic.LogisticRegression'>\n"
          ]
        },
        {
          "output_type": "stream",
          "name": "stderr",
          "text": [
            "100%|██████████| 4/4 [00:06<00:00,  1.66s/it]\n"
          ]
        },
        {
          "output_type": "stream",
          "name": "stdout",
          "text": [
            "Accuracy: 0.9725999999999999, +/- 0.0008717797887081354\n",
            "F1: 0.9724612404069436, +/- 0.0008952933695517317\n",
            "Precision: 0.9767425702295576, +/- 0.0007539812126728994\n",
            "Recall: 0.9683999999999999, +/- 0.0016000000000000166\n",
            "Auroc: 0.9725999999999999, +/- 0.0008717797887081431\n",
            "top_value: 0.01\n",
            "Low-N, LazBF-task, LazDEF-ESM-Embeddings <class 'sklearn.linear_model._logistic.LogisticRegression'>\n"
          ]
        },
        {
          "output_type": "stream",
          "name": "stderr",
          "text": [
            "100%|██████████| 4/4 [00:03<00:00,  1.12it/s]\n"
          ]
        },
        {
          "output_type": "stream",
          "name": "stdout",
          "text": [
            "Accuracy: 0.8960000000000001, +/- 0.0010488088481701524\n",
            "F1: 0.8978635264408167, +/- 0.0010570224878762387\n",
            "Precision: 0.883486450983311, +/- 0.0007951693428576657\n",
            "Recall: 0.9136, +/- 0.001326649916142151\n",
            "Auroc: 0.8960000000000001, +/- 0.0010488088481701524\n",
            "top_value: 0.1\n",
            "Low-N, LazBF-task, LazBCDEF-ESM-Embeddings <class 'sklearn.linear_model._logistic.LogisticRegression'>\n"
          ]
        },
        {
          "output_type": "stream",
          "name": "stderr",
          "text": [
            "100%|██████████| 4/4 [00:03<00:00,  1.04it/s]\n"
          ]
        },
        {
          "output_type": "stream",
          "name": "stdout",
          "text": [
            "Accuracy: 0.8879999999999999, +/- 0.0013784048752090315\n",
            "F1: 0.8884780413716078, +/- 0.0014376984778816466\n",
            "Precision: 0.8854071048802993, +/- 0.0013709669560617462\n",
            "Recall: 0.8927999999999999, +/- 0.001959591794226556\n",
            "Auroc: 0.8880000000000001, +/- 0.0013784048752090155\n",
            "top_value: 0.1\n",
            "Low-N, LazBF-task, Vanilla-ESM-Embeddings <class 'sklearn.ensemble._forest.RandomForestClassifier'>\n"
          ]
        },
        {
          "output_type": "stream",
          "name": "stderr",
          "text": [
            "100%|██████████| 4/4 [00:11<00:00,  2.81s/it]\n"
          ]
        },
        {
          "output_type": "stream",
          "name": "stdout",
          "text": [
            "Accuracy: 0.8423999999999999, +/- 0.0032649655434629113\n",
            "F1: 0.8444796755701196, +/- 0.0033153346634013153\n",
            "Precision: 0.8356997621095246, +/- 0.0037467029658049687\n",
            "Recall: 0.8555999999999999, +/- 0.0029257477676655473\n",
            "Auroc: 0.8423999999999999, +/- 0.003264965543462912\n",
            "top_value: 100\n",
            "Low-N, LazBF-task, Peptide-ESM-Embeddings <class 'sklearn.ensemble._forest.RandomForestClassifier'>\n"
          ]
        },
        {
          "output_type": "stream",
          "name": "stderr",
          "text": [
            "100%|██████████| 4/4 [00:11<00:00,  2.88s/it]\n"
          ]
        },
        {
          "output_type": "stream",
          "name": "stdout",
          "text": [
            "Accuracy: 0.8545999999999999, +/- 0.0021587033144923155\n",
            "F1: 0.8591076075435209, +/- 0.0019056573378419383\n",
            "Precision: 0.834501536764195, +/- 0.0034599818745962314\n",
            "Recall: 0.8864000000000001, +/- 0.002227105745131979\n",
            "Auroc: 0.8546000000000001, +/- 0.0021587033144922717\n",
            "top_value: 100\n",
            "Low-N, LazBF-task, LazBF-ESM-Embeddings <class 'sklearn.ensemble._forest.RandomForestClassifier'>\n"
          ]
        },
        {
          "output_type": "stream",
          "name": "stderr",
          "text": [
            "100%|██████████| 4/4 [00:12<00:00,  3.17s/it]\n"
          ]
        },
        {
          "output_type": "stream",
          "name": "stdout",
          "text": [
            "Accuracy: 0.9738, +/- 0.00037416573867736773\n",
            "F1: 0.9736053719233494, +/- 0.00038456026477520674\n",
            "Precision: 0.9795776734159507, +/- 0.0015944748955343021\n",
            "Recall: 0.968, +/- 0.0012649110640673442\n",
            "Auroc: 0.9738, +/- 0.00037416573867736773\n",
            "top_value: 25\n",
            "Low-N, LazBF-task, LazDEF-ESM-Embeddings <class 'sklearn.ensemble._forest.RandomForestClassifier'>\n"
          ]
        },
        {
          "output_type": "stream",
          "name": "stderr",
          "text": [
            "100%|██████████| 4/4 [00:11<00:00,  2.75s/it]\n"
          ]
        },
        {
          "output_type": "stream",
          "name": "stdout",
          "text": [
            "Accuracy: 0.8575999999999999, +/- 0.0016911534525287685\n",
            "F1: 0.8576285547297984, +/- 0.0016821652451652052\n",
            "Precision: 0.8564540081784214, +/- 0.003443228709093013\n",
            "Recall: 0.86, +/- 0.0028284271247461493\n",
            "Auroc: 0.8576, +/- 0.0016911534525287765\n",
            "top_value: 50\n",
            "Low-N, LazBF-task, LazBCDEF-ESM-Embeddings <class 'sklearn.ensemble._forest.RandomForestClassifier'>\n"
          ]
        },
        {
          "output_type": "stream",
          "name": "stderr",
          "text": [
            "100%|██████████| 4/4 [00:10<00:00,  2.63s/it]\n"
          ]
        },
        {
          "output_type": "stream",
          "name": "stdout",
          "text": [
            "Accuracy: 0.8524, +/- 0.0016000000000000207\n",
            "F1: 0.8515389423406783, +/- 0.0013549144265457601\n",
            "Precision: 0.8559555905151066, +/- 0.0037141579547949203\n",
            "Recall: 0.8484, +/- 0.002856571371417141\n",
            "Auroc: 0.8524, +/- 0.0016000000000000207\n",
            "top_value: 100\n",
            "Low-N, LazBF-task, Vanilla-ESM-Embeddings <class 'sklearn.ensemble._weight_boosting.AdaBoostClassifier'>\n"
          ]
        },
        {
          "output_type": "stream",
          "name": "stderr",
          "text": [
            "100%|██████████| 4/4 [00:12<00:00,  3.20s/it]\n"
          ]
        },
        {
          "output_type": "stream",
          "name": "stdout",
          "text": [
            "Accuracy: 0.837, +/- 0.0050990195135928\n",
            "F1: 0.83879652874284, +/- 0.005138774941738729\n",
            "Precision: 0.8296066962171835, +/- 0.005949615478361001\n",
            "Recall: 0.8496, +/- 0.0074672618810377855\n",
            "Auroc: 0.837, +/- 0.005099019513592774\n",
            "top_value: 100\n",
            "Low-N, LazBF-task, Peptide-ESM-Embeddings <class 'sklearn.ensemble._weight_boosting.AdaBoostClassifier'>\n"
          ]
        },
        {
          "output_type": "stream",
          "name": "stderr",
          "text": [
            "100%|██████████| 4/4 [00:12<00:00,  3.02s/it]\n"
          ]
        },
        {
          "output_type": "stream",
          "name": "stdout",
          "text": [
            "Accuracy: 0.8382, +/- 0.004066939881532554\n",
            "F1: 0.8404777800520147, +/- 0.0038492200871083912\n",
            "Precision: 0.830410255824026, +/- 0.004869234634404964\n",
            "Recall: 0.8524, +/- 0.0036000000000000042\n",
            "Auroc: 0.8382, +/- 0.004066939881532554\n",
            "top_value: 25\n",
            "Low-N, LazBF-task, LazBF-ESM-Embeddings <class 'sklearn.ensemble._weight_boosting.AdaBoostClassifier'>\n"
          ]
        },
        {
          "output_type": "stream",
          "name": "stderr",
          "text": [
            "100%|██████████| 4/4 [00:12<00:00,  3.23s/it]\n"
          ]
        },
        {
          "output_type": "stream",
          "name": "stdout",
          "text": [
            "Accuracy: 0.9728, +/- 0.0006633249580710621\n",
            "F1: 0.9726473786080305, +/- 0.0006493845757782267\n",
            "Precision: 0.9792957786640379, +/- 0.0010749987369605908\n",
            "Recall: 0.9663999999999999, +/- 0.0007483314773548067\n",
            "Auroc: 0.9728, +/- 0.0006633249580710621\n",
            "top_value: 5\n",
            "Low-N, LazBF-task, LazDEF-ESM-Embeddings <class 'sklearn.ensemble._weight_boosting.AdaBoostClassifier'>\n"
          ]
        },
        {
          "output_type": "stream",
          "name": "stderr",
          "text": [
            "100%|██████████| 4/4 [00:12<00:00,  3.01s/it]\n"
          ]
        },
        {
          "output_type": "stream",
          "name": "stdout",
          "text": [
            "Accuracy: 0.8634000000000001, +/- 0.001860107523773828\n",
            "F1: 0.8647530183497988, +/- 0.0018540621298019106\n",
            "Precision: 0.8563666325043293, +/- 0.0025996765468945674\n",
            "Recall: 0.874, +/- 0.0033466401061363186\n",
            "Auroc: 0.8633999999999998, +/- 0.0018601075237738305\n",
            "top_value: 100\n",
            "Low-N, LazBF-task, LazBCDEF-ESM-Embeddings <class 'sklearn.ensemble._weight_boosting.AdaBoostClassifier'>\n"
          ]
        },
        {
          "output_type": "stream",
          "name": "stderr",
          "text": [
            "100%|██████████| 4/4 [00:12<00:00,  3.25s/it]\n"
          ]
        },
        {
          "output_type": "stream",
          "name": "stdout",
          "text": [
            "Accuracy: 0.8555999999999999, +/- 0.0023151673805580225\n",
            "F1: 0.8557416377961811, +/- 0.0020852147407975277\n",
            "Precision: 0.8544537235223958, +/- 0.004380554030726752\n",
            "Recall: 0.858, +/- 0.0017888543819998394\n",
            "Auroc: 0.8555999999999999, +/- 0.0023151673805580286\n",
            "top_value: 100\n",
            "Low-N, LazBF-task, Vanilla-ESM-Embeddings <class 'sklearn.svm._classes.SVC'>\n"
          ]
        },
        {
          "output_type": "stream",
          "name": "stderr",
          "text": [
            "100%|██████████| 4/4 [00:05<00:00,  1.29s/it]\n"
          ]
        },
        {
          "output_type": "stream",
          "name": "stdout",
          "text": [
            "Accuracy: 0.8790000000000001, +/- 0.0011401754250991388\n",
            "F1: 0.8823112238612423, +/- 0.0010200023490691418\n",
            "Precision: 0.859607195980318, +/- 0.0021215052959875826\n",
            "Recall: 0.9067999999999999, +/- 0.0013564659966250284\n",
            "Auroc: 0.8790000000000001, +/- 0.0011401754250991293\n",
            "top_value: 1\n",
            "Low-N, LazBF-task, Peptide-ESM-Embeddings <class 'sklearn.svm._classes.SVC'>\n"
          ]
        },
        {
          "output_type": "stream",
          "name": "stderr",
          "text": [
            "100%|██████████| 4/4 [00:05<00:00,  1.34s/it]\n"
          ]
        },
        {
          "output_type": "stream",
          "name": "stdout",
          "text": [
            "Accuracy: 0.8826, +/- 0.0015362291495736847\n",
            "F1: 0.8846226179197781, +/- 0.0014871903288833919\n",
            "Precision: 0.8717833897554979, +/- 0.0026008585019104483\n",
            "Recall: 0.8987999999999999, +/- 0.002244994432064371\n",
            "Auroc: 0.8826, +/- 0.0015362291495736933\n",
            "top_value: 1\n",
            "Low-N, LazBF-task, LazBF-ESM-Embeddings <class 'sklearn.svm._classes.SVC'>\n"
          ]
        },
        {
          "output_type": "stream",
          "name": "stderr",
          "text": [
            "100%|██████████| 4/4 [00:05<00:00,  1.48s/it]\n"
          ]
        },
        {
          "output_type": "stream",
          "name": "stdout",
          "text": [
            "Accuracy: 0.9712, +/- 0.001428285685708561\n",
            "F1: 0.9713185242658333, +/- 0.0014005892057102971\n",
            "Precision: 0.969370040554111, +/- 0.0017443991826355477\n",
            "Recall: 0.9735999999999999, +/- 0.0014696938456699202\n",
            "Auroc: 0.9712, +/- 0.0014282856857085462\n",
            "top_value: 5\n",
            "Low-N, LazBF-task, LazDEF-ESM-Embeddings <class 'sklearn.svm._classes.SVC'>\n"
          ]
        },
        {
          "output_type": "stream",
          "name": "stderr",
          "text": [
            "100%|██████████| 4/4 [00:06<00:00,  1.58s/it]\n"
          ]
        },
        {
          "output_type": "stream",
          "name": "stdout",
          "text": [
            "Accuracy: 0.8992000000000001, +/- 0.0013190905958272519\n",
            "F1: 0.9012318387569476, +/- 0.0012201609080028364\n",
            "Precision: 0.8845795180389503, +/- 0.002614716086161909\n",
            "Recall: 0.9192, +/- 0.0017435595774162784\n",
            "Auroc: 0.8992000000000001, +/- 0.0013190905958273106\n",
            "top_value: 1\n",
            "Low-N, LazBF-task, LazBCDEF-ESM-Embeddings <class 'sklearn.svm._classes.SVC'>\n"
          ]
        },
        {
          "output_type": "stream",
          "name": "stderr",
          "text": [
            "100%|██████████| 4/4 [00:07<00:00,  1.89s/it]\n"
          ]
        },
        {
          "output_type": "stream",
          "name": "stdout",
          "text": [
            "Accuracy: 0.8897999999999999, +/- 0.0028178005607210664\n",
            "F1: 0.8920378739508728, +/- 0.0027425004339168384\n",
            "Precision: 0.8750619779833058, +/- 0.003510678704030488\n",
            "Recall: 0.9104000000000001, +/- 0.0029933259094191587\n",
            "Auroc: 0.8897999999999999, +/- 0.002817800560721055\n",
            "top_value: 1\n",
            "Low-N, LazBF-task, Vanilla-ESM-Embeddings <class 'sklearn.neural_network._multilayer_perceptron.MLPClassifier'>\n"
          ]
        },
        {
          "output_type": "stream",
          "name": "stderr",
          "text": [
            "100%|██████████| 4/4 [00:38<00:00,  9.60s/it]\n"
          ]
        },
        {
          "output_type": "stream",
          "name": "stdout",
          "text": [
            "Accuracy: 0.8695999999999999, +/- 0.0015033296378372907\n",
            "F1: 0.8713750256144805, +/- 0.0012885718516758918\n",
            "Precision: 0.8600556808897082, +/- 0.0027078875809866828\n",
            "Recall: 0.8844000000000001, +/- 0.002135415650406257\n",
            "Auroc: 0.8695999999999999, +/- 0.0015033296378372885\n",
            "top_value: 500\n",
            "Low-N, LazBF-task, Peptide-ESM-Embeddings <class 'sklearn.neural_network._multilayer_perceptron.MLPClassifier'>\n"
          ]
        },
        {
          "output_type": "stream",
          "name": "stderr",
          "text": [
            "100%|██████████| 4/4 [00:35<00:00,  8.85s/it]\n"
          ]
        },
        {
          "output_type": "stream",
          "name": "stdout",
          "text": [
            "Accuracy: 0.8678000000000001, +/- 0.0027820855486487316\n",
            "F1: 0.8694513854267649, +/- 0.0029891275984638786\n",
            "Precision: 0.8592747682668798, +/- 0.002426752118150061\n",
            "Recall: 0.8808, +/- 0.005462600113499035\n",
            "Auroc: 0.8678000000000001, +/- 0.002782085548648728\n",
            "top_value: 50\n",
            "Low-N, LazBF-task, LazBF-ESM-Embeddings <class 'sklearn.neural_network._multilayer_perceptron.MLPClassifier'>\n"
          ]
        },
        {
          "output_type": "stream",
          "name": "stderr",
          "text": [
            "100%|██████████| 4/4 [00:29<00:00,  7.31s/it]\n"
          ]
        },
        {
          "output_type": "stream",
          "name": "stdout",
          "text": [
            "Accuracy: 0.97, +/- 0.0005477225575051464\n",
            "F1: 0.9698617474035623, +/- 0.0005395973404175075\n",
            "Precision: 0.9736713867663891, +/- 0.000707986251995605\n",
            "Recall: 0.9663999999999999, +/- 0.000748331477354771\n",
            "Auroc: 0.97, +/- 0.0005477225575051464\n",
            "top_value: 500\n",
            "Low-N, LazBF-task, LazDEF-ESM-Embeddings <class 'sklearn.neural_network._multilayer_perceptron.MLPClassifier'>\n"
          ]
        },
        {
          "output_type": "stream",
          "name": "stderr",
          "text": [
            "100%|██████████| 4/4 [00:34<00:00,  8.57s/it]\n"
          ]
        },
        {
          "output_type": "stream",
          "name": "stdout",
          "text": [
            "Accuracy: 0.8946, +/- 0.0023151673805580242\n",
            "F1: 0.8954395191327841, +/- 0.0023720659386718772\n",
            "Precision: 0.8896311447623859, +/- 0.003611622535941364\n",
            "Recall: 0.9020000000000001, +/- 0.002190890230020646\n",
            "Auroc: 0.8946, +/- 0.0023151673805580646\n",
            "top_value: 500\n",
            "Low-N, LazBF-task, LazBCDEF-ESM-Embeddings <class 'sklearn.neural_network._multilayer_perceptron.MLPClassifier'>\n"
          ]
        },
        {
          "output_type": "stream",
          "name": "stderr",
          "text": [
            "100%|██████████| 4/4 [00:35<00:00,  8.77s/it]\n"
          ]
        },
        {
          "output_type": "stream",
          "name": "stdout",
          "text": [
            "Accuracy: 0.877, +/- 0.001095445115010333\n",
            "F1: 0.8782727854281378, +/- 0.0011255985071274427\n",
            "Precision: 0.8693690349660674, +/- 0.0014770359894220634\n",
            "Recall: 0.8880000000000001, +/- 0.0016733200530681526\n",
            "Auroc: 0.877, +/- 0.001095445115010333\n",
            "top_value: 100\n",
            "[[0.8779999999999999, 0.8423999999999999, 0.837, 0.8790000000000001, 0.8695999999999999], [0.8827999999999999, 0.8545999999999999, 0.8382, 0.8826, 0.8678000000000001], [0.9725999999999999, 0.9738, 0.9728, 0.9712, 0.97], [0.8960000000000001, 0.8575999999999999, 0.8634000000000001, 0.8992000000000001, 0.8946], [0.8879999999999999, 0.8524, 0.8555999999999999, 0.8897999999999999, 0.877]]\n",
            "[[0.0010954451150103433, 0.0032649655434629113, 0.0050990195135928, 0.0011401754250991388, 0.0015033296378372907], [0.0013928388277183812, 0.0021587033144923155, 0.004066939881532554, 0.0015362291495736847, 0.0027820855486487316], [0.0008717797887081354, 0.00037416573867736773, 0.0006633249580710621, 0.001428285685708561, 0.0005477225575051464], [0.0010488088481701524, 0.0016911534525287685, 0.001860107523773828, 0.0013190905958272519, 0.0023151673805580242], [0.0013784048752090315, 0.0016000000000000207, 0.0023151673805580225, 0.0028178005607210664, 0.001095445115010333]]\n"
          ]
        }
      ]
    },
    {
      "cell_type": "code",
      "source": [
        "#@title LazBF HighN\n",
        "idxs = balanced_sample_np(lazbf_mlm_none, LazBF_sample_labels, 1000, 2)\n",
        "y_values = [\n",
        "    [0, 0, 0, 0, 0], # vanilla-esm\n",
        "    [0, 0, 0, 0, 0], # peptide-esm\n",
        "    [0, 0, 0, 0, 0], # LazBF-esm\n",
        "    [0, 0, 0, 0, 0], # LazDEF-esm\n",
        "    [0, 0, 0, 0, 0], # LazBCDEF-esm\n",
        "]\n",
        "y_errors = [\n",
        "    [0, 0, 0, 0, 0], # vanilla-esm\n",
        "    [0, 0, 0, 0, 0], # peptide-esm\n",
        "    [0, 0, 0, 0, 0], # LazBF-esm\n",
        "    [0, 0, 0, 0, 0], # LazDEF-esm\n",
        "    [0, 0, 0, 0, 0], # LazBCDEF-esm\n",
        "]\n",
        "\n",
        "i = 0\n",
        "for model, param, grid in zip(model_list, param_list, value_list):\n",
        "\n",
        "  # Lazbf prediction\n",
        "  print(f\"Low-N, LazBF-task, Vanilla-ESM-Embeddings {model}\")\n",
        "  m, e = optimize(lazbf_mlm_none[idxs], LazBF_sample_labels[idxs], model, param, grid)\n",
        "  y_values[0][i] = m\n",
        "  y_errors[0][i] = e\n",
        "\n",
        "  print(f\"Low-N, LazBF-task, Peptide-ESM-Embeddings {model}\")\n",
        "  m, e = optimize(lazbf_mlm_pa[idxs], LazBF_sample_labels[idxs], model, param, grid)\n",
        "  y_values[1][i] = m\n",
        "  y_errors[1][i] = e\n",
        "\n",
        "  print(f\"Low-N, LazBF-task, LazBF-ESM-Embeddings {model}\")\n",
        "  m, e = optimize(lazbf_mlm_lazbf[idxs], LazBF_sample_labels[idxs], model, param, grid)\n",
        "  y_values[2][i] = m\n",
        "  y_errors[2][i] = e\n",
        "\n",
        "  print(f\"Low-N, LazBF-task, LazDEF-ESM-Embeddings {model}\")\n",
        "  m, e = optimize(lazbf_mlm_lazdef[idxs], LazBF_sample_labels[idxs], model, param, grid)\n",
        "  y_values[3][i] = m\n",
        "  y_errors[3][i] = e\n",
        "\n",
        "  print(f\"Low-N, LazBF-task, LazBCDEF-ESM-Embeddings {model}\")\n",
        "  m, e = optimize(lazbf_mlm_lazbcdef[idxs], LazBF_sample_labels[idxs], model, param, grid)\n",
        "  y_values[4][i] = m\n",
        "  y_errors[4][i] = e\n",
        "\n",
        "  i += 1\n",
        "print(y_values)\n",
        "print(y_errors)"
      ],
      "metadata": {
        "colab": {
          "base_uri": "https://localhost:8080/"
        },
        "outputId": "46c18b29-0822-4b6e-f1ef-81003c01cae5",
        "cellView": "form",
        "id": "iaHjod0_rcf_"
      },
      "execution_count": 16,
      "outputs": [
        {
          "output_type": "stream",
          "name": "stdout",
          "text": [
            "Low-N, LazBF-task, Vanilla-ESM-Embeddings <class 'sklearn.linear_model._logistic.LogisticRegression'>\n"
          ]
        },
        {
          "output_type": "stream",
          "name": "stderr",
          "text": [
            "100%|██████████| 4/4 [00:06<00:00,  1.55s/it]\n"
          ]
        },
        {
          "output_type": "stream",
          "name": "stdout",
          "text": [
            "Accuracy: 0.9059999999999999, +/- 0.00207364413533279\n",
            "F1: 0.9073954756805053, +/- 0.0020319384137558465\n",
            "Precision: 0.8952231530692704, +/- 0.002438886535083817\n",
            "Recall: 0.9204000000000001, +/- 0.002227105745132031\n",
            "Auroc: 0.9059999999999999, +/- 0.00207364413533279\n",
            "top_value: 0.1\n",
            "Low-N, LazBF-task, Peptide-ESM-Embeddings <class 'sklearn.linear_model._logistic.LogisticRegression'>\n"
          ]
        },
        {
          "output_type": "stream",
          "name": "stderr",
          "text": [
            "100%|██████████| 4/4 [00:05<00:00,  1.40s/it]\n"
          ]
        },
        {
          "output_type": "stream",
          "name": "stdout",
          "text": [
            "Accuracy: 0.9061999999999999, +/- 0.0018814887722226829\n",
            "F1: 0.9079440073925558, +/- 0.0018585964825180324\n",
            "Precision: 0.8917620285043043, +/- 0.002117815000708595\n",
            "Recall: 0.9256, +/- 0.0021354156504062964\n",
            "Auroc: 0.9061999999999999, +/- 0.0018814887722226488\n",
            "top_value: 0.01\n",
            "Low-N, LazBF-task, LazBF-ESM-Embeddings <class 'sklearn.linear_model._logistic.LogisticRegression'>\n"
          ]
        },
        {
          "output_type": "stream",
          "name": "stderr",
          "text": [
            "100%|██████████| 4/4 [00:04<00:00,  1.17s/it]\n"
          ]
        },
        {
          "output_type": "stream",
          "name": "stdout",
          "text": [
            "Accuracy: 0.9711999999999998, +/- 0.0007348469228349405\n",
            "F1: 0.9710560401336356, +/- 0.0007141557255861946\n",
            "Precision: 0.9747399160245145, +/- 0.0007859186863516688\n",
            "Recall: 0.9676, +/- 0.000979795897113256\n",
            "Auroc: 0.9711999999999998, +/- 0.0007348469228349405\n",
            "top_value: 1\n",
            "Low-N, LazBF-task, LazDEF-ESM-Embeddings <class 'sklearn.linear_model._logistic.LogisticRegression'>\n"
          ]
        },
        {
          "output_type": "stream",
          "name": "stderr",
          "text": [
            "100%|██████████| 4/4 [00:03<00:00,  1.07it/s]\n"
          ]
        },
        {
          "output_type": "stream",
          "name": "stdout",
          "text": [
            "Accuracy: 0.9116, +/- 0.001568438714135817\n",
            "F1: 0.9131196573904055, +/- 0.001522197461190998\n",
            "Precision: 0.8984232560062468, +/- 0.002145271363111165\n",
            "Recall: 0.9288000000000001, +/- 0.001624807680927199\n",
            "Auroc: 0.9116, +/- 0.0015684387141358213\n",
            "top_value: 0.01\n",
            "Low-N, LazBF-task, LazBCDEF-ESM-Embeddings <class 'sklearn.linear_model._logistic.LogisticRegression'>\n"
          ]
        },
        {
          "output_type": "stream",
          "name": "stderr",
          "text": [
            "100%|██████████| 4/4 [00:05<00:00,  1.46s/it]\n"
          ]
        },
        {
          "output_type": "stream",
          "name": "stdout",
          "text": [
            "Accuracy: 0.9097999999999999, +/- 0.0011575836902790013\n",
            "F1: 0.9101537111821887, +/- 0.001172728191475415\n",
            "Precision: 0.9069548892791571, +/- 0.0021909964116054227\n",
            "Recall: 0.914, +/- 0.0018973665961010352\n",
            "Auroc: 0.9098, +/- 0.001157583690279037\n",
            "top_value: 0.1\n",
            "Low-N, LazBF-task, Vanilla-ESM-Embeddings <class 'sklearn.ensemble._forest.RandomForestClassifier'>\n"
          ]
        },
        {
          "output_type": "stream",
          "name": "stderr",
          "text": [
            "100%|██████████| 4/4 [00:11<00:00,  2.84s/it]\n"
          ]
        },
        {
          "output_type": "stream",
          "name": "stdout",
          "text": [
            "Accuracy: 0.8506, +/- 0.001400000000000033\n",
            "F1: 0.84814169881938, +/- 0.0010760778735378128\n",
            "Precision: 0.8617204389950548, +/- 0.0036800762213164222\n",
            "Recall: 0.836, +/- 0.0021908902300207017\n",
            "Auroc: 0.8506, +/- 0.0014000000000000123\n",
            "top_value: 50\n",
            "Low-N, LazBF-task, Peptide-ESM-Embeddings <class 'sklearn.ensemble._forest.RandomForestClassifier'>\n"
          ]
        },
        {
          "output_type": "stream",
          "name": "stderr",
          "text": [
            "100%|██████████| 4/4 [00:09<00:00,  2.46s/it]\n"
          ]
        },
        {
          "output_type": "stream",
          "name": "stdout",
          "text": [
            "Accuracy: 0.8734, +/- 0.003264965543462912\n",
            "F1: 0.8741072511108927, +/- 0.003251067725386063\n",
            "Precision: 0.8692329878827669, +/- 0.002816937925548438\n",
            "Recall: 0.8796000000000002, +/- 0.004118252056394804\n",
            "Auroc: 0.8734, +/- 0.003264965543462912\n",
            "top_value: 100\n",
            "Low-N, LazBF-task, LazBF-ESM-Embeddings <class 'sklearn.ensemble._forest.RandomForestClassifier'>\n"
          ]
        },
        {
          "output_type": "stream",
          "name": "stderr",
          "text": [
            "100%|██████████| 4/4 [00:09<00:00,  2.43s/it]\n"
          ]
        },
        {
          "output_type": "stream",
          "name": "stdout",
          "text": [
            "Accuracy: 0.9673999999999999, +/- 0.00040000000000000034\n",
            "F1: 0.9672759380420253, +/- 0.00033173288720780397\n",
            "Precision: 0.9673508212514736, +/- 0.0016849517372019922\n",
            "Recall: 0.968, +/- 0.0010954451150103535\n",
            "Auroc: 0.9673999999999999, +/- 0.00040000000000000034\n",
            "top_value: 100\n",
            "Low-N, LazBF-task, LazDEF-ESM-Embeddings <class 'sklearn.ensemble._forest.RandomForestClassifier'>\n"
          ]
        },
        {
          "output_type": "stream",
          "name": "stderr",
          "text": [
            "100%|██████████| 4/4 [00:10<00:00,  2.75s/it]\n"
          ]
        },
        {
          "output_type": "stream",
          "name": "stdout",
          "text": [
            "Accuracy: 0.8792000000000002, +/- 0.0017720045146669612\n",
            "F1: 0.8791582232988132, +/- 0.0019293455339485866\n",
            "Precision: 0.8792181224233998, +/- 0.002659379859624692\n",
            "Recall: 0.8804000000000001, +/- 0.003310589071449358\n",
            "Auroc: 0.8792, +/- 0.0017720045146669184\n",
            "top_value: 100\n",
            "Low-N, LazBF-task, LazBCDEF-ESM-Embeddings <class 'sklearn.ensemble._forest.RandomForestClassifier'>\n"
          ]
        },
        {
          "output_type": "stream",
          "name": "stderr",
          "text": [
            "100%|██████████| 4/4 [00:11<00:00,  2.82s/it]\n"
          ]
        },
        {
          "output_type": "stream",
          "name": "stdout",
          "text": [
            "Accuracy: 0.8635999999999999, +/- 0.0031080540535840012\n",
            "F1: 0.8614000317947005, +/- 0.0027325875036243244\n",
            "Precision: 0.8737206900496906, +/- 0.006219605452579453\n",
            "Recall: 0.8512000000000001, +/- 0.0033823069050575422\n",
            "Auroc: 0.8636000000000001, +/- 0.003108054053584036\n",
            "top_value: 100\n",
            "Low-N, LazBF-task, Vanilla-ESM-Embeddings <class 'sklearn.ensemble._weight_boosting.AdaBoostClassifier'>\n"
          ]
        },
        {
          "output_type": "stream",
          "name": "stderr",
          "text": [
            "100%|██████████| 4/4 [00:13<00:00,  3.27s/it]\n"
          ]
        },
        {
          "output_type": "stream",
          "name": "stdout",
          "text": [
            "Accuracy: 0.8634000000000001, +/- 0.0062657800791282225\n",
            "F1: 0.8643784055173752, +/- 0.005984657301438993\n",
            "Precision: 0.8589913762488373, +/- 0.008291792175317775\n",
            "Recall: 0.8708, +/- 0.00595315042645491\n",
            "Auroc: 0.8634000000000001, +/- 0.0062657800791282225\n",
            "top_value: 100\n",
            "Low-N, LazBF-task, Peptide-ESM-Embeddings <class 'sklearn.ensemble._weight_boosting.AdaBoostClassifier'>\n"
          ]
        },
        {
          "output_type": "stream",
          "name": "stderr",
          "text": [
            "100%|██████████| 4/4 [00:13<00:00,  3.39s/it]\n"
          ]
        },
        {
          "output_type": "stream",
          "name": "stdout",
          "text": [
            "Accuracy: 0.8684000000000001, +/- 0.00304302481094061\n",
            "F1: 0.8694251295265989, +/- 0.002837375220455179\n",
            "Precision: 0.8632600706628308, +/- 0.004080245410610429\n",
            "Recall: 0.8768, +/- 0.002870540018881467\n",
            "Auroc: 0.8684000000000001, +/- 0.0030430248109405557\n",
            "top_value: 100\n",
            "Low-N, LazBF-task, LazBF-ESM-Embeddings <class 'sklearn.ensemble._weight_boosting.AdaBoostClassifier'>\n"
          ]
        },
        {
          "output_type": "stream",
          "name": "stderr",
          "text": [
            "100%|██████████| 4/4 [00:12<00:00,  3.08s/it]\n"
          ]
        },
        {
          "output_type": "stream",
          "name": "stdout",
          "text": [
            "Accuracy: 0.9587999999999999, +/- 0.0020346989949375726\n",
            "F1: 0.95841503437752, +/- 0.0020896643884196864\n",
            "Precision: 0.9645379838247023, +/- 0.0019225523092151055\n",
            "Recall: 0.9532, +/- 0.002332380757938123\n",
            "Auroc: 0.9587999999999999, +/- 0.0020346989949375574\n",
            "top_value: 5\n",
            "Low-N, LazBF-task, LazDEF-ESM-Embeddings <class 'sklearn.ensemble._weight_boosting.AdaBoostClassifier'>\n"
          ]
        },
        {
          "output_type": "stream",
          "name": "stderr",
          "text": [
            "100%|██████████| 4/4 [00:13<00:00,  3.36s/it]\n"
          ]
        },
        {
          "output_type": "stream",
          "name": "stdout",
          "text": [
            "Accuracy: 0.8794000000000001, +/- 0.0025019992006393385\n",
            "F1: 0.8798158403451865, +/- 0.0025494851559058986\n",
            "Precision: 0.8772438219941785, +/- 0.003725972559210737\n",
            "Recall: 0.8831999999999999, +/- 0.003382306905057588\n",
            "Auroc: 0.8794000000000001, +/- 0.002501999200639375\n",
            "top_value: 50\n",
            "Low-N, LazBF-task, LazBCDEF-ESM-Embeddings <class 'sklearn.ensemble._weight_boosting.AdaBoostClassifier'>\n"
          ]
        },
        {
          "output_type": "stream",
          "name": "stderr",
          "text": [
            "100%|██████████| 4/4 [00:13<00:00,  3.32s/it]\n"
          ]
        },
        {
          "output_type": "stream",
          "name": "stdout",
          "text": [
            "Accuracy: 0.8594000000000002, +/- 0.003472751070837077\n",
            "F1: 0.8583891238391861, +/- 0.00392023882742914\n",
            "Precision: 0.8648039753361134, +/- 0.003737111469279056\n",
            "Recall: 0.8528, +/- 0.006280127387243003\n",
            "Auroc: 0.8594000000000002, +/- 0.003472751070837077\n",
            "top_value: 50\n",
            "Low-N, LazBF-task, Vanilla-ESM-Embeddings <class 'sklearn.svm._classes.SVC'>\n"
          ]
        },
        {
          "output_type": "stream",
          "name": "stderr",
          "text": [
            "100%|██████████| 4/4 [00:05<00:00,  1.36s/it]\n"
          ]
        },
        {
          "output_type": "stream",
          "name": "stdout",
          "text": [
            "Accuracy: 0.8884000000000001, +/- 0.002088061301782088\n",
            "F1: 0.8908279274740118, +/- 0.0020467934895650954\n",
            "Precision: 0.8711967473861622, +/- 0.0018957667722008923\n",
            "Recall: 0.9124000000000001, +/- 0.002638181191654549\n",
            "Auroc: 0.8884000000000001, +/- 0.002088061301782088\n",
            "top_value: 1\n",
            "Low-N, LazBF-task, Peptide-ESM-Embeddings <class 'sklearn.svm._classes.SVC'>\n"
          ]
        },
        {
          "output_type": "stream",
          "name": "stderr",
          "text": [
            "100%|██████████| 4/4 [00:05<00:00,  1.38s/it]\n"
          ]
        },
        {
          "output_type": "stream",
          "name": "stdout",
          "text": [
            "Accuracy: 0.9057999999999999, +/- 0.0024372115213907642\n",
            "F1: 0.9065383456793704, +/- 0.0023538081872413064\n",
            "Precision: 0.9007207914741592, +/- 0.0024835902421444403\n",
            "Recall: 0.9132, +/- 0.0021540659228537974\n",
            "Auroc: 0.9058000000000002, +/- 0.0024372115213907807\n",
            "top_value: 1\n",
            "Low-N, LazBF-task, LazBF-ESM-Embeddings <class 'sklearn.svm._classes.SVC'>\n"
          ]
        },
        {
          "output_type": "stream",
          "name": "stderr",
          "text": [
            "100%|██████████| 4/4 [00:06<00:00,  1.53s/it]\n"
          ]
        },
        {
          "output_type": "stream",
          "name": "stdout",
          "text": [
            "Accuracy: 0.9745999999999999, +/- 0.0008124038404636186\n",
            "F1: 0.9744257488927042, +/- 0.0008116596552687912\n",
            "Precision: 0.9783563881761337, +/- 0.0011546151945036212\n",
            "Recall: 0.9708, +/- 0.0007999999999999923\n",
            "Auroc: 0.9746, +/- 0.0008124038404635748\n",
            "top_value: 1\n",
            "Low-N, LazBF-task, LazDEF-ESM-Embeddings <class 'sklearn.svm._classes.SVC'>\n"
          ]
        },
        {
          "output_type": "stream",
          "name": "stderr",
          "text": [
            "100%|██████████| 4/4 [00:06<00:00,  1.73s/it]\n"
          ]
        },
        {
          "output_type": "stream",
          "name": "stdout",
          "text": [
            "Accuracy: 0.9160000000000001, +/- 0.0013038404810405309\n",
            "F1: 0.9172659525497722, +/- 0.0012003584548870828\n",
            "Precision: 0.9031963293211052, +/- 0.0027573890078420676\n",
            "Recall: 0.9324, +/- 0.0023999999999999976\n",
            "Auroc: 0.916, +/- 0.0013038404810405393\n",
            "top_value: 1\n",
            "Low-N, LazBF-task, LazBCDEF-ESM-Embeddings <class 'sklearn.svm._classes.SVC'>\n"
          ]
        },
        {
          "output_type": "stream",
          "name": "stderr",
          "text": [
            "100%|██████████| 4/4 [00:07<00:00,  1.89s/it]\n"
          ]
        },
        {
          "output_type": "stream",
          "name": "stdout",
          "text": [
            "Accuracy: 0.9006000000000001, +/- 0.0012884098726725335\n",
            "F1: 0.9009344228091238, +/- 0.0012763310919752173\n",
            "Precision: 0.8997419153457734, +/- 0.001967224926034519\n",
            "Recall: 0.9036000000000002, +/- 0.001469693845669911\n",
            "Auroc: 0.9006000000000001, +/- 0.0012884098726725043\n",
            "top_value: 5\n",
            "Low-N, LazBF-task, Vanilla-ESM-Embeddings <class 'sklearn.neural_network._multilayer_perceptron.MLPClassifier'>\n"
          ]
        },
        {
          "output_type": "stream",
          "name": "stderr",
          "text": [
            "100%|██████████| 4/4 [00:38<00:00,  9.53s/it]\n"
          ]
        },
        {
          "output_type": "stream",
          "name": "stdout",
          "text": [
            "Accuracy: 0.8858, +/- 0.00037416573867740633\n",
            "F1: 0.8869985650828328, +/- 0.0002939221398115816\n",
            "Precision: 0.8772743170568009, +/- 0.0005106465063368741\n",
            "Recall: 0.8976000000000001, +/- 0.0004000000000000225\n",
            "Auroc: 0.8858, +/- 0.00037416573867740633\n",
            "top_value: 50\n",
            "Low-N, LazBF-task, Peptide-ESM-Embeddings <class 'sklearn.neural_network._multilayer_perceptron.MLPClassifier'>\n"
          ]
        },
        {
          "output_type": "stream",
          "name": "stderr",
          "text": [
            "100%|██████████| 4/4 [00:36<00:00,  9.11s/it]\n"
          ]
        },
        {
          "output_type": "stream",
          "name": "stdout",
          "text": [
            "Accuracy: 0.9054, +/- 0.0018055470085267767\n",
            "F1: 0.9059241259333367, +/- 0.001847167630545219\n",
            "Precision: 0.9016564509097386, +/- 0.0015247651981618246\n",
            "Recall: 0.9108, +/- 0.002653299832284343\n",
            "Auroc: 0.9054, +/- 0.0018055470085267767\n",
            "top_value: 500\n",
            "Low-N, LazBF-task, LazBF-ESM-Embeddings <class 'sklearn.neural_network._multilayer_perceptron.MLPClassifier'>\n"
          ]
        },
        {
          "output_type": "stream",
          "name": "stderr",
          "text": [
            "100%|██████████| 4/4 [00:29<00:00,  7.41s/it]\n"
          ]
        },
        {
          "output_type": "stream",
          "name": "stdout",
          "text": [
            "Accuracy: 0.9742, +/- 0.0006633249580710637\n",
            "F1: 0.9740643432674971, +/- 0.0006595945990290826\n",
            "Precision: 0.9783991135438234, +/- 0.0007092940297970056\n",
            "Recall: 0.97, +/- 0.001095445115010333\n",
            "Auroc: 0.9742, +/- 0.0006633249580710637\n",
            "top_value: 500\n",
            "Low-N, LazBF-task, LazDEF-ESM-Embeddings <class 'sklearn.neural_network._multilayer_perceptron.MLPClassifier'>\n"
          ]
        },
        {
          "output_type": "stream",
          "name": "stderr",
          "text": [
            "100%|██████████| 4/4 [00:35<00:00,  8.89s/it]\n"
          ]
        },
        {
          "output_type": "stream",
          "name": "stdout",
          "text": [
            "Accuracy: 0.907, +/- 0.0025298221281347165\n",
            "F1: 0.9078842693347818, +/- 0.002572893746050342\n",
            "Precision: 0.8989505158244704, +/- 0.002661244706713367\n",
            "Recall: 0.9179999999999999, +/- 0.003405877273185254\n",
            "Auroc: 0.907, +/- 0.002529822128134743\n",
            "top_value: 500\n",
            "Low-N, LazBF-task, LazBCDEF-ESM-Embeddings <class 'sklearn.neural_network._multilayer_perceptron.MLPClassifier'>\n"
          ]
        },
        {
          "output_type": "stream",
          "name": "stderr",
          "text": [
            "100%|██████████| 4/4 [00:37<00:00,  9.43s/it]\n"
          ]
        },
        {
          "output_type": "stream",
          "name": "stdout",
          "text": [
            "Accuracy: 0.9077999999999999, +/- 0.002596150997149436\n",
            "F1: 0.9076940043377849, +/- 0.0024817827990201136\n",
            "Precision: 0.909170638617694, +/- 0.003906901880697609\n",
            "Recall: 0.9067999999999999, +/- 0.0016248076809272222\n",
            "Auroc: 0.9077999999999999, +/- 0.002596150997149425\n",
            "top_value: 200\n",
            "[[0.9059999999999999, 0.8506, 0.8634000000000001, 0.8884000000000001, 0.8858], [0.9061999999999999, 0.8734, 0.8684000000000001, 0.9057999999999999, 0.9054], [0.9711999999999998, 0.9673999999999999, 0.9587999999999999, 0.9745999999999999, 0.9742], [0.9116, 0.8792000000000002, 0.8794000000000001, 0.9160000000000001, 0.907], [0.9097999999999999, 0.8635999999999999, 0.8594000000000002, 0.9006000000000001, 0.9077999999999999]]\n",
            "[[0.00207364413533279, 0.001400000000000033, 0.0062657800791282225, 0.002088061301782088, 0.00037416573867740633], [0.0018814887722226829, 0.003264965543462912, 0.00304302481094061, 0.0024372115213907642, 0.0018055470085267767], [0.0007348469228349405, 0.00040000000000000034, 0.0020346989949375726, 0.0008124038404636186, 0.0006633249580710637], [0.001568438714135817, 0.0017720045146669612, 0.0025019992006393385, 0.0013038404810405309, 0.0025298221281347165], [0.0011575836902790013, 0.0031080540535840012, 0.003472751070837077, 0.0012884098726725335, 0.002596150997149436]]\n"
          ]
        }
      ]
    },
    {
      "cell_type": "code",
      "source": [
        "#@title LazBF MedN\n",
        "idxs = balanced_sample_np(lazbf_mlm_none, LazBF_sample_labels, 500, 0)\n",
        "y_values = [\n",
        "    [0, 0, 0, 0, 0], # vanilla-esm\n",
        "    [0, 0, 0, 0, 0], # peptide-esm\n",
        "    [0, 0, 0, 0, 0], # LazBF-esm\n",
        "    [0, 0, 0, 0, 0], # LazDEF-esm\n",
        "    [0, 0, 0, 0, 0], # LazBCDEF-esm\n",
        "]\n",
        "y_errors = [\n",
        "    [0, 0, 0, 0, 0], # vanilla-esm\n",
        "    [0, 0, 0, 0, 0], # peptide-esm\n",
        "    [0, 0, 0, 0, 0], # LazBF-esm\n",
        "    [0, 0, 0, 0, 0], # LazDEF-esm\n",
        "    [0, 0, 0, 0, 0], # LazBCDEF-esm\n",
        "]\n",
        "\n",
        "i = 0\n",
        "for model, param, grid in zip(model_list, param_list, value_list):\n",
        "\n",
        "  # Lazbf prediction\n",
        "  print(f\"Low-N, LazBF-task, Vanilla-ESM-Embeddings {model}\")\n",
        "  m, e = optimize(lazbf_mlm_none[idxs], LazBF_sample_labels[idxs], model, param, grid)\n",
        "  y_values[0][i] = m\n",
        "  y_errors[0][i] = e\n",
        "\n",
        "  print(f\"Low-N, LazBF-task, Peptide-ESM-Embeddings {model}\")\n",
        "  m, e = optimize(lazbf_mlm_pa[idxs], LazBF_sample_labels[idxs], model, param, grid)\n",
        "  y_values[1][i] = m\n",
        "  y_errors[1][i] = e\n",
        "\n",
        "  print(f\"Low-N, LazBF-task, LazBF-ESM-Embeddings {model}\")\n",
        "  m, e = optimize(lazbf_mlm_lazbf[idxs], LazBF_sample_labels[idxs], model, param, grid)\n",
        "  y_values[2][i] = m\n",
        "  y_errors[2][i] = e\n",
        "\n",
        "  print(f\"Low-N, LazBF-task, LazDEF-ESM-Embeddings {model}\")\n",
        "  m, e = optimize(lazbf_mlm_lazdef[idxs], LazBF_sample_labels[idxs], model, param, grid)\n",
        "  y_values[3][i] = m\n",
        "  y_errors[3][i] = e\n",
        "\n",
        "  print(f\"Low-N, LazBF-task, LazBCDEF-ESM-Embeddings {model}\")\n",
        "  m, e = optimize(lazbf_mlm_lazbcdef[idxs], LazBF_sample_labels[idxs], model, param, grid)\n",
        "  y_values[4][i] = m\n",
        "  y_errors[4][i] = e\n",
        "\n",
        "  i += 1\n",
        "print(y_values)\n",
        "print(y_errors)"
      ],
      "metadata": {
        "colab": {
          "base_uri": "https://localhost:8080/"
        },
        "cellView": "form",
        "outputId": "93d65c57-ee4d-4fcb-fc0d-949db676143c",
        "id": "Z1-gUPAfmkum"
      },
      "execution_count": 13,
      "outputs": [
        {
          "output_type": "stream",
          "name": "stdout",
          "text": [
            "Low-N, LazBF-task, Vanilla-ESM-Embeddings <class 'sklearn.linear_model._logistic.LogisticRegression'>\n"
          ]
        },
        {
          "output_type": "stream",
          "name": "stderr",
          "text": [
            "100%|██████████| 4/4 [00:03<00:00,  1.09it/s]\n"
          ]
        },
        {
          "output_type": "stream",
          "name": "stdout",
          "text": [
            "Accuracy: 0.8695999999999999, +/- 0.0021354156504062856\n",
            "F1: 0.8696256470823721, +/- 0.0024871499812285313\n",
            "Precision: 0.8697372735092648, +/- 0.00336521581046043\n",
            "Recall: 0.8712, +/- 0.005276362383309158\n",
            "Auroc: 0.8695999999999999, +/- 0.0021354156504062856\n",
            "top_value: 1\n",
            "Low-N, LazBF-task, Peptide-ESM-Embeddings <class 'sklearn.linear_model._logistic.LogisticRegression'>\n"
          ]
        },
        {
          "output_type": "stream",
          "name": "stderr",
          "text": [
            "100%|██████████| 4/4 [00:03<00:00,  1.16it/s]\n"
          ]
        },
        {
          "output_type": "stream",
          "name": "stdout",
          "text": [
            "Accuracy: 0.8656, +/- 0.0035440090293338508\n",
            "F1: 0.8676956858185327, +/- 0.003766491346373964\n",
            "Precision: 0.8578352326171711, +/- 0.004889386095721053\n",
            "Recall: 0.8791999999999998, +/- 0.005276362383309153\n",
            "Auroc: 0.8656, +/- 0.0035440090293338646\n",
            "top_value: 0.01\n",
            "Low-N, LazBF-task, LazBF-ESM-Embeddings <class 'sklearn.linear_model._logistic.LogisticRegression'>\n"
          ]
        },
        {
          "output_type": "stream",
          "name": "stderr",
          "text": [
            "100%|██████████| 4/4 [00:01<00:00,  2.18it/s]\n"
          ]
        },
        {
          "output_type": "stream",
          "name": "stdout",
          "text": [
            "Accuracy: 0.9704, +/- 0.000748331477354789\n",
            "F1: 0.9703071799102767, +/- 0.0007798220550423932\n",
            "Precision: 0.9733148868255576, +/- 0.0007225317223571208\n",
            "Recall: 0.968, +/- 0.0012649110640673177\n",
            "Auroc: 0.9704, +/- 0.0007483314773547653\n",
            "top_value: 0.1\n",
            "Low-N, LazBF-task, LazDEF-ESM-Embeddings <class 'sklearn.linear_model._logistic.LogisticRegression'>\n"
          ]
        },
        {
          "output_type": "stream",
          "name": "stderr",
          "text": [
            "100%|██████████| 4/4 [00:03<00:00,  1.12it/s]\n"
          ]
        },
        {
          "output_type": "stream",
          "name": "stdout",
          "text": [
            "Accuracy: 0.8836, +/- 0.005670978751503135\n",
            "F1: 0.8836167641690409, +/- 0.005503102585752662\n",
            "Precision: 0.8837078961071635, +/- 0.0069918208148065444\n",
            "Recall: 0.8855999999999998, +/- 0.004118252056394808\n",
            "Auroc: 0.8836, +/- 0.005670978751503135\n",
            "top_value: 0.1\n",
            "Low-N, LazBF-task, LazBCDEF-ESM-Embeddings <class 'sklearn.linear_model._logistic.LogisticRegression'>\n"
          ]
        },
        {
          "output_type": "stream",
          "name": "stderr",
          "text": [
            "100%|██████████| 4/4 [00:02<00:00,  1.88it/s]\n"
          ]
        },
        {
          "output_type": "stream",
          "name": "stdout",
          "text": [
            "Accuracy: 0.8792, +/- 0.0033823069050575444\n",
            "F1: 0.8798733147202699, +/- 0.00344877269398239\n",
            "Precision: 0.878677357461172, +/- 0.003894882966160265\n",
            "Recall: 0.884, +/- 0.0060663003552412316\n",
            "Auroc: 0.8792, +/- 0.0033823069050575444\n",
            "top_value: 1\n",
            "Low-N, LazBF-task, Vanilla-ESM-Embeddings <class 'sklearn.ensemble._forest.RandomForestClassifier'>\n"
          ]
        },
        {
          "output_type": "stream",
          "name": "stderr",
          "text": [
            "100%|██████████| 4/4 [00:06<00:00,  1.65s/it]\n"
          ]
        },
        {
          "output_type": "stream",
          "name": "stdout",
          "text": [
            "Accuracy: 0.8131999999999999, +/- 0.00417612260356421\n",
            "F1: 0.8105243360519081, +/- 0.005492504137541245\n",
            "Precision: 0.8226807038975705, +/- 0.004072660630348838\n",
            "Recall: 0.8000000000000002, +/- 0.011798304963002104\n",
            "Auroc: 0.8131999999999999, +/- 0.004176122603564221\n",
            "top_value: 50\n",
            "Low-N, LazBF-task, Peptide-ESM-Embeddings <class 'sklearn.ensemble._forest.RandomForestClassifier'>\n"
          ]
        },
        {
          "output_type": "stream",
          "name": "stderr",
          "text": [
            "100%|██████████| 4/4 [00:06<00:00,  1.55s/it]\n"
          ]
        },
        {
          "output_type": "stream",
          "name": "stdout",
          "text": [
            "Accuracy: 0.8315999999999999, +/- 0.0038157568056677665\n",
            "F1: 0.8349407710533324, +/- 0.004342376990461728\n",
            "Precision: 0.822709258465348, +/- 0.004566384394717513\n",
            "Recall: 0.8512000000000001, +/- 0.009243376006633091\n",
            "Auroc: 0.8315999999999999, +/- 0.0038157568056678\n",
            "top_value: 100\n",
            "Low-N, LazBF-task, LazBF-ESM-Embeddings <class 'sklearn.ensemble._forest.RandomForestClassifier'>\n"
          ]
        },
        {
          "output_type": "stream",
          "name": "stderr",
          "text": [
            "100%|██████████| 4/4 [00:07<00:00,  1.78s/it]\n"
          ]
        },
        {
          "output_type": "stream",
          "name": "stdout",
          "text": [
            "Accuracy: 0.9644, +/- 0.001326649916142161\n",
            "F1: 0.9638112141026852, +/- 0.0013541973362610512\n",
            "Precision: 0.9771071178517661, +/- 0.002042834185101112\n",
            "Recall: 0.9512, +/- 0.0007999999999999785\n",
            "Auroc: 0.9644, +/- 0.001326649916142161\n",
            "top_value: 100\n",
            "Low-N, LazBF-task, LazDEF-ESM-Embeddings <class 'sklearn.ensemble._forest.RandomForestClassifier'>\n"
          ]
        },
        {
          "output_type": "stream",
          "name": "stderr",
          "text": [
            "100%|██████████| 4/4 [00:06<00:00,  1.71s/it]\n"
          ]
        },
        {
          "output_type": "stream",
          "name": "stdout",
          "text": [
            "Accuracy: 0.8464, +/- 0.004664761515876222\n",
            "F1: 0.842895720437941, +/- 0.005108155610943407\n",
            "Precision: 0.865188501542393, +/- 0.005347082661412818\n",
            "Recall: 0.8240000000000001, +/- 0.007797435475847175\n",
            "Auroc: 0.8463999999999998, +/- 0.004664761515876195\n",
            "top_value: 50\n",
            "Low-N, LazBF-task, LazBCDEF-ESM-Embeddings <class 'sklearn.ensemble._forest.RandomForestClassifier'>\n"
          ]
        },
        {
          "output_type": "stream",
          "name": "stderr",
          "text": [
            "100%|██████████| 4/4 [00:07<00:00,  1.79s/it]\n"
          ]
        },
        {
          "output_type": "stream",
          "name": "stdout",
          "text": [
            "Accuracy: 0.8364, +/- 0.002561249694973126\n",
            "F1: 0.831267326164383, +/- 0.002711154132343183\n",
            "Precision: 0.8585052075222739, +/- 0.002924003247782075\n",
            "Recall: 0.8072000000000001, +/- 0.0038781438859330645\n",
            "Auroc: 0.8364, +/- 0.002561249694973126\n",
            "top_value: 100\n",
            "Low-N, LazBF-task, Vanilla-ESM-Embeddings <class 'sklearn.ensemble._weight_boosting.AdaBoostClassifier'>\n"
          ]
        },
        {
          "output_type": "stream",
          "name": "stderr",
          "text": [
            "100%|██████████| 4/4 [00:06<00:00,  1.73s/it]\n"
          ]
        },
        {
          "output_type": "stream",
          "name": "stdout",
          "text": [
            "Accuracy: 0.836, +/- 0.00424264068711927\n",
            "F1: 0.8360133931213973, +/- 0.00415060061850473\n",
            "Precision: 0.8360737337597058, +/- 0.004366532206072179\n",
            "Recall: 0.8384, +/- 0.005455272678794343\n",
            "Auroc: 0.836, +/- 0.00424264068711927\n",
            "top_value: 100\n",
            "Low-N, LazBF-task, Peptide-ESM-Embeddings <class 'sklearn.ensemble._weight_boosting.AdaBoostClassifier'>\n"
          ]
        },
        {
          "output_type": "stream",
          "name": "stderr",
          "text": [
            "100%|██████████| 4/4 [00:08<00:00,  2.05s/it]\n"
          ]
        },
        {
          "output_type": "stream",
          "name": "stdout",
          "text": [
            "Accuracy: 0.8315999999999999, +/- 0.0052687759489278355\n",
            "F1: 0.8319356468360745, +/- 0.005514921721259502\n",
            "Precision: 0.8313236751906266, +/- 0.007474813377603773\n",
            "Recall: 0.8352, +/- 0.0090686272390037\n",
            "Auroc: 0.8315999999999999, +/- 0.00526877594892784\n",
            "top_value: 100\n",
            "Low-N, LazBF-task, LazBF-ESM-Embeddings <class 'sklearn.ensemble._weight_boosting.AdaBoostClassifier'>\n"
          ]
        },
        {
          "output_type": "stream",
          "name": "stderr",
          "text": [
            "100%|██████████| 4/4 [00:07<00:00,  1.76s/it]\n"
          ]
        },
        {
          "output_type": "stream",
          "name": "stdout",
          "text": [
            "Accuracy: 0.9624, +/- 0.0028565713714171223\n",
            "F1: 0.9623091256186236, +/- 0.0028152211478223027\n",
            "Precision: 0.9654141540376834, +/- 0.0037186135995611147\n",
            "Recall: 0.96, +/- 0.0021908902300206866\n",
            "Auroc: 0.9624, +/- 0.0028565713714171223\n",
            "top_value: 25\n",
            "Low-N, LazBF-task, LazDEF-ESM-Embeddings <class 'sklearn.ensemble._weight_boosting.AdaBoostClassifier'>\n"
          ]
        },
        {
          "output_type": "stream",
          "name": "stderr",
          "text": [
            "100%|██████████| 4/4 [00:06<00:00,  1.73s/it]\n"
          ]
        },
        {
          "output_type": "stream",
          "name": "stdout",
          "text": [
            "Accuracy: 0.8488, +/- 0.004882622246293486\n",
            "F1: 0.849209976253191, +/- 0.005128407905863412\n",
            "Precision: 0.8486467523579886, +/- 0.00590141653824132\n",
            "Recall: 0.8535999999999999, +/- 0.006997142273814351\n",
            "Auroc: 0.8488, +/- 0.004882622246293486\n",
            "top_value: 100\n",
            "Low-N, LazBF-task, LazBCDEF-ESM-Embeddings <class 'sklearn.ensemble._weight_boosting.AdaBoostClassifier'>\n"
          ]
        },
        {
          "output_type": "stream",
          "name": "stderr",
          "text": [
            "100%|██████████| 4/4 [00:07<00:00,  1.97s/it]\n"
          ]
        },
        {
          "output_type": "stream",
          "name": "stdout",
          "text": [
            "Accuracy: 0.8404, +/- 0.006939740629158988\n",
            "F1: 0.8424756638722803, +/- 0.006450009301837145\n",
            "Precision: 0.8322882085561133, +/- 0.008726403715883603\n",
            "Recall: 0.8544, +/- 0.0072221880341071165\n",
            "Auroc: 0.8404, +/- 0.006939740629158963\n",
            "top_value: 100\n",
            "Low-N, LazBF-task, Vanilla-ESM-Embeddings <class 'sklearn.svm._classes.SVC'>\n"
          ]
        },
        {
          "output_type": "stream",
          "name": "stderr",
          "text": [
            "100%|██████████| 4/4 [00:02<00:00,  1.66it/s]\n"
          ]
        },
        {
          "output_type": "stream",
          "name": "stdout",
          "text": [
            "Accuracy: 0.8591999999999999, +/- 0.0023323807579381144\n",
            "F1: 0.8591648566384771, +/- 0.0020256820238752043\n",
            "Precision: 0.8622290791164401, +/- 0.0038670608594500336\n",
            "Recall: 0.8583999999999999, +/- 0.0027129319932501\n",
            "Auroc: 0.8591999999999999, +/- 0.00233238075793813\n",
            "top_value: 5\n",
            "Low-N, LazBF-task, Peptide-ESM-Embeddings <class 'sklearn.svm._classes.SVC'>\n"
          ]
        },
        {
          "output_type": "stream",
          "name": "stderr",
          "text": [
            "100%|██████████| 4/4 [00:03<00:00,  1.10it/s]\n"
          ]
        },
        {
          "output_type": "stream",
          "name": "stdout",
          "text": [
            "Accuracy: 0.8655999999999999, +/- 0.0017204650534085061\n",
            "F1: 0.867853317991746, +/- 0.0017303476528680599\n",
            "Precision: 0.8578448671830212, +/- 0.002956137097576317\n",
            "Recall: 0.8808, +/- 0.004079215610874231\n",
            "Auroc: 0.8655999999999999, +/- 0.0017204650534085166\n",
            "top_value: 1\n",
            "Low-N, LazBF-task, LazBF-ESM-Embeddings <class 'sklearn.svm._classes.SVC'>\n"
          ]
        },
        {
          "output_type": "stream",
          "name": "stderr",
          "text": [
            "100%|██████████| 4/4 [00:02<00:00,  1.58it/s]\n"
          ]
        },
        {
          "output_type": "stream",
          "name": "stdout",
          "text": [
            "Accuracy: 0.9632, +/- 0.0016248076809271838\n",
            "F1: 0.9631081584288314, +/- 0.0017202671352025206\n",
            "Precision: 0.9643013815525283, +/- 0.0013312766955019813\n",
            "Recall: 0.9623999999999999, +/- 0.0027129319932501124\n",
            "Auroc: 0.9632, +/- 0.0016248076809271838\n",
            "top_value: 1\n",
            "Low-N, LazBF-task, LazDEF-ESM-Embeddings <class 'sklearn.svm._classes.SVC'>\n"
          ]
        },
        {
          "output_type": "stream",
          "name": "stderr",
          "text": [
            "100%|██████████| 4/4 [00:03<00:00,  1.16it/s]\n"
          ]
        },
        {
          "output_type": "stream",
          "name": "stdout",
          "text": [
            "Accuracy: 0.8800000000000001, +/- 0.003687817782917152\n",
            "F1: 0.8770342368988885, +/- 0.003483191653579306\n",
            "Precision: 0.8985211814078908, +/- 0.007951196086011069\n",
            "Recall: 0.8592000000000001, +/- 0.0049638694583963635\n",
            "Auroc: 0.8800000000000001, +/- 0.003687817782917152\n",
            "top_value: 0.1\n",
            "Low-N, LazBF-task, LazBCDEF-ESM-Embeddings <class 'sklearn.svm._classes.SVC'>\n"
          ]
        },
        {
          "output_type": "stream",
          "name": "stderr",
          "text": [
            "100%|██████████| 4/4 [00:02<00:00,  1.80it/s]\n"
          ]
        },
        {
          "output_type": "stream",
          "name": "stdout",
          "text": [
            "Accuracy: 0.8703999999999998, +/- 0.0022271057451320364\n",
            "F1: 0.8711001927348496, +/- 0.0022079574849935965\n",
            "Precision: 0.8680598885756219, +/- 0.0030690878138038137\n",
            "Recall: 0.8752000000000001, +/- 0.00233238075793813\n",
            "Auroc: 0.8703999999999998, +/- 0.0022271057451320364\n",
            "top_value: 1\n",
            "Low-N, LazBF-task, Vanilla-ESM-Embeddings <class 'sklearn.neural_network._multilayer_perceptron.MLPClassifier'>\n"
          ]
        },
        {
          "output_type": "stream",
          "name": "stderr",
          "text": [
            "100%|██████████| 4/4 [00:19<00:00,  4.88s/it]\n"
          ]
        },
        {
          "output_type": "stream",
          "name": "stdout",
          "text": [
            "Accuracy: 0.8592000000000001, +/- 0.0037735924528226046\n",
            "F1: 0.8605589558591037, +/- 0.003555340265394746\n",
            "Precision: 0.8560923809263178, +/- 0.005303587116990492\n",
            "Recall: 0.8672000000000001, +/- 0.0036660605559646706\n",
            "Auroc: 0.8591999999999999, +/- 0.0037735924528226115\n",
            "top_value: 200\n",
            "Low-N, LazBF-task, Peptide-ESM-Embeddings <class 'sklearn.neural_network._multilayer_perceptron.MLPClassifier'>\n"
          ]
        },
        {
          "output_type": "stream",
          "name": "stderr",
          "text": [
            "100%|██████████| 4/4 [00:19<00:00,  4.99s/it]\n"
          ]
        },
        {
          "output_type": "stream",
          "name": "stdout",
          "text": [
            "Accuracy: 0.858, +/- 0.005366563145999478\n",
            "F1: 0.8602288682863912, +/- 0.005089888151985319\n",
            "Precision: 0.8485557575020843, +/- 0.008333499276283516\n",
            "Recall: 0.8736, +/- 0.0032496153618543646\n",
            "Auroc: 0.858, +/- 0.005366563145999468\n",
            "top_value: 500\n",
            "Low-N, LazBF-task, LazBF-ESM-Embeddings <class 'sklearn.neural_network._multilayer_perceptron.MLPClassifier'>\n"
          ]
        },
        {
          "output_type": "stream",
          "name": "stderr",
          "text": [
            "100%|██████████| 4/4 [00:19<00:00,  4.81s/it]\n"
          ]
        },
        {
          "output_type": "stream",
          "name": "stdout",
          "text": [
            "Accuracy: 0.9655999999999999, +/- 0.002315167380558047\n",
            "F1: 0.9653480629540102, +/- 0.002307170544114346\n",
            "Precision: 0.9720832467675024, +/- 0.002468996118089975\n",
            "Recall: 0.9591999999999998, +/- 0.0023323807579381526\n",
            "Auroc: 0.9655999999999999, +/- 0.002315167380558047\n",
            "top_value: 500\n",
            "Low-N, LazBF-task, LazDEF-ESM-Embeddings <class 'sklearn.neural_network._multilayer_perceptron.MLPClassifier'>\n"
          ]
        },
        {
          "output_type": "stream",
          "name": "stderr",
          "text": [
            "100%|██████████| 4/4 [00:19<00:00,  4.91s/it]\n"
          ]
        },
        {
          "output_type": "stream",
          "name": "stdout",
          "text": [
            "Accuracy: 0.8556000000000001, +/- 0.007704544113703302\n",
            "F1: 0.8567434759612975, +/- 0.007995622330264194\n",
            "Precision: 0.8544350504228996, +/- 0.006422004468171654\n",
            "Recall: 0.8615999999999999, +/- 0.009682974749528204\n",
            "Auroc: 0.8556000000000001, +/- 0.007704544113703303\n",
            "top_value: 100\n",
            "Low-N, LazBF-task, LazBCDEF-ESM-Embeddings <class 'sklearn.neural_network._multilayer_perceptron.MLPClassifier'>\n"
          ]
        },
        {
          "output_type": "stream",
          "name": "stderr",
          "text": [
            "100%|██████████| 4/4 [00:23<00:00,  5.76s/it]\n"
          ]
        },
        {
          "output_type": "stream",
          "name": "stdout",
          "text": [
            "Accuracy: 0.8735999999999999, +/- 0.003867815921162745\n",
            "F1: 0.8747572758813614, +/- 0.0036516692631172187\n",
            "Precision: 0.868152806516215, +/- 0.005569696875453738\n",
            "Recall: 0.8832000000000001, +/- 0.003200000000000011\n",
            "Auroc: 0.8735999999999999, +/- 0.003867815921162745\n",
            "top_value: 200\n",
            "[[0.8695999999999999, 0.8131999999999999, 0.836, 0.8591999999999999, 0.8592000000000001], [0.8656, 0.8315999999999999, 0.8315999999999999, 0.8655999999999999, 0.858], [0.9704, 0.9644, 0.9624, 0.9632, 0.9655999999999999], [0.8836, 0.8464, 0.8488, 0.8800000000000001, 0.8556000000000001], [0.8792, 0.8364, 0.8404, 0.8703999999999998, 0.8735999999999999]]\n",
            "[[0.0021354156504062856, 0.00417612260356421, 0.00424264068711927, 0.0023323807579381144, 0.0037735924528226046], [0.0035440090293338508, 0.0038157568056677665, 0.0052687759489278355, 0.0017204650534085061, 0.005366563145999478], [0.000748331477354789, 0.001326649916142161, 0.0028565713714171223, 0.0016248076809271838, 0.002315167380558047], [0.005670978751503135, 0.004664761515876222, 0.004882622246293486, 0.003687817782917152, 0.007704544113703302], [0.0033823069050575444, 0.002561249694973126, 0.006939740629158988, 0.0022271057451320364, 0.003867815921162745]]\n"
          ]
        }
      ]
    },
    {
      "cell_type": "code",
      "source": [
        "#@title LazBF LowN\n",
        "idxs = balanced_sample_np(lazbf_mlm_none, LazBF_sample_labels, 200, 1)\n",
        "y_values = [\n",
        "    [0, 0, 0, 0, 0], # vanilla-esm\n",
        "    [0, 0, 0, 0, 0], # peptide-esm\n",
        "    [0, 0, 0, 0, 0], # LazBF-esm\n",
        "    [0, 0, 0, 0, 0], # LazDEF-esm\n",
        "    [0, 0, 0, 0, 0], # LazBCDEF-esm\n",
        "]\n",
        "y_errors = [\n",
        "    [0, 0, 0, 0, 0], # vanilla-esm\n",
        "    [0, 0, 0, 0, 0], # peptide-esm\n",
        "    [0, 0, 0, 0, 0], # LazBF-esm\n",
        "    [0, 0, 0, 0, 0], # LazDEF-esm\n",
        "    [0, 0, 0, 0, 0], # LazBCDEF-esm\n",
        "]\n",
        "\n",
        "i = 0\n",
        "for model, param, grid in zip(model_list, param_list, value_list):\n",
        "\n",
        "  # Lazbf prediction\n",
        "  print(f\"Low-N, LazBF-task, Vanilla-ESM-Embeddings {model}\")\n",
        "  m, e = optimize(lazbf_mlm_none[idxs], LazBF_sample_labels[idxs], model, param, grid)\n",
        "  y_values[0][i] = m\n",
        "  y_errors[0][i] = e\n",
        "\n",
        "  print(f\"Low-N, LazBF-task, Peptide-ESM-Embeddings {model}\")\n",
        "  m, e = optimize(lazbf_mlm_pa[idxs], LazBF_sample_labels[idxs], model, param, grid)\n",
        "  y_values[1][i] = m\n",
        "  y_errors[1][i] = e\n",
        "\n",
        "  print(f\"Low-N, LazBF-task, LazBF-ESM-Embeddings {model}\")\n",
        "  m, e = optimize(lazbf_mlm_lazbf[idxs], LazBF_sample_labels[idxs], model, param, grid)\n",
        "  y_values[2][i] = m\n",
        "  y_errors[2][i] = e\n",
        "\n",
        "  print(f\"Low-N, LazBF-task, LazDEF-ESM-Embeddings {model}\")\n",
        "  m, e = optimize(lazbf_mlm_lazdef[idxs], LazBF_sample_labels[idxs], model, param, grid)\n",
        "  y_values[3][i] = m\n",
        "  y_errors[3][i] = e\n",
        "\n",
        "  print(f\"Low-N, LazBF-task, LazBCDEF-ESM-Embeddings {model}\")\n",
        "  m, e = optimize(lazbf_mlm_lazbcdef[idxs], LazBF_sample_labels[idxs], model, param, grid)\n",
        "  y_values[4][i] = m\n",
        "  y_errors[4][i] = e\n",
        "\n",
        "  i += 1\n",
        "print(y_values)\n",
        "print(y_errors)"
      ],
      "metadata": {
        "colab": {
          "base_uri": "https://localhost:8080/"
        },
        "cellView": "form",
        "id": "1-TYcfTWOspt",
        "outputId": "6da27715-cf2a-48c5-fe38-6bfcb3807b11"
      },
      "execution_count": 8,
      "outputs": [
        {
          "output_type": "stream",
          "name": "stdout",
          "text": [
            "Low-N, LazBF-task, Vanilla-ESM-Embeddings <class 'sklearn.linear_model._logistic.LogisticRegression'>\n"
          ]
        },
        {
          "output_type": "stream",
          "name": "stderr",
          "text": [
            "100%|██████████| 4/4 [00:02<00:00,  1.93it/s]\n"
          ]
        },
        {
          "output_type": "stream",
          "name": "stdout",
          "text": [
            "Accuracy: 0.8700000000000001, +/- 0.009354143466934847\n",
            "F1: 0.8727418219545873, +/- 0.009762900835015605\n",
            "Precision: 0.8608484441748405, +/- 0.008786641630604202\n",
            "Recall: 0.8899999999999999, +/- 0.011401754250991386\n",
            "Auroc: 0.8699999999999999, +/- 0.009354143466934835\n",
            "top_value: 1\n",
            "Low-N, LazBF-task, Peptide-ESM-Embeddings <class 'sklearn.linear_model._logistic.LogisticRegression'>\n"
          ]
        },
        {
          "output_type": "stream",
          "name": "stderr",
          "text": [
            "100%|██████████| 4/4 [00:01<00:00,  2.18it/s]\n"
          ]
        },
        {
          "output_type": "stream",
          "name": "stdout",
          "text": [
            "Accuracy: 0.89, +/- 0.0068920243760451005\n",
            "F1: 0.8920922203363615, +/- 0.006386478573034399\n",
            "Precision: 0.8746721510044972, +/- 0.012121899113899286\n",
            "Recall: 0.9139999999999999, +/- 0.008124038404635985\n",
            "Auroc: 0.89, +/- 0.0068920243760451005\n",
            "top_value: 0.1\n",
            "Low-N, LazBF-task, LazBF-ESM-Embeddings <class 'sklearn.linear_model._logistic.LogisticRegression'>\n"
          ]
        },
        {
          "output_type": "stream",
          "name": "stderr",
          "text": [
            "100%|██████████| 4/4 [00:02<00:00,  1.36it/s]\n"
          ]
        },
        {
          "output_type": "stream",
          "name": "stdout",
          "text": [
            "Accuracy: 0.9730000000000001, +/- 0.003741657386773921\n",
            "F1: 0.9722066203657989, +/- 0.004029041006400041\n",
            "Precision: 0.9824661654135338, +/- 0.0020087777928829054\n",
            "Recall: 0.9640000000000001, +/- 0.006000000000000026\n",
            "Auroc: 0.9730000000000001, +/- 0.003741657386773921\n",
            "top_value: 0.1\n",
            "Low-N, LazBF-task, LazDEF-ESM-Embeddings <class 'sklearn.linear_model._logistic.LogisticRegression'>\n"
          ]
        },
        {
          "output_type": "stream",
          "name": "stderr",
          "text": [
            "100%|██████████| 4/4 [00:01<00:00,  2.38it/s]\n"
          ]
        },
        {
          "output_type": "stream",
          "name": "stdout",
          "text": [
            "Accuracy: 0.9110000000000001, +/- 0.007314369419163908\n",
            "F1: 0.9141093343844922, +/- 0.00656979181704988\n",
            "Precision: 0.8972180860075598, +/- 0.008781913854283644\n",
            "Recall: 0.9359999999999999, +/- 0.005999999999999999\n",
            "Auroc: 0.9110000000000001, +/- 0.007314369419163908\n",
            "top_value: 0.01\n",
            "Low-N, LazBF-task, LazBCDEF-ESM-Embeddings <class 'sklearn.linear_model._logistic.LogisticRegression'>\n"
          ]
        },
        {
          "output_type": "stream",
          "name": "stderr",
          "text": [
            "100%|██████████| 4/4 [00:01<00:00,  2.16it/s]\n"
          ]
        },
        {
          "output_type": "stream",
          "name": "stdout",
          "text": [
            "Accuracy: 0.8880000000000001, +/- 0.010559356040971447\n",
            "F1: 0.8888389592714159, +/- 0.010469412981457813\n",
            "Precision: 0.8807473142672227, +/- 0.010279360508321638\n",
            "Recall: 0.906, +/- 0.012489995996796783\n",
            "Auroc: 0.8879999999999999, +/- 0.010559356040971421\n",
            "top_value: 0.01\n",
            "Low-N, LazBF-task, Vanilla-ESM-Embeddings <class 'sklearn.ensemble._forest.RandomForestClassifier'>\n"
          ]
        },
        {
          "output_type": "stream",
          "name": "stderr",
          "text": [
            "100%|██████████| 4/4 [00:05<00:00,  1.30s/it]\n"
          ]
        },
        {
          "output_type": "stream",
          "name": "stdout",
          "text": [
            "Accuracy: 0.8380000000000001, +/- 0.0090277350426339\n",
            "F1: 0.8376978077064932, +/- 0.009128033630793205\n",
            "Precision: 0.8377137606863008, +/- 0.0090549334521281\n",
            "Recall: 0.844, +/- 0.01363818169698587\n",
            "Auroc: 0.8380000000000001, +/- 0.0090277350426339\n",
            "top_value: 50\n",
            "Low-N, LazBF-task, Peptide-ESM-Embeddings <class 'sklearn.ensemble._forest.RandomForestClassifier'>\n"
          ]
        },
        {
          "output_type": "stream",
          "name": "stderr",
          "text": [
            "100%|██████████| 4/4 [00:04<00:00,  1.03s/it]\n"
          ]
        },
        {
          "output_type": "stream",
          "name": "stdout",
          "text": [
            "Accuracy: 0.898, +/- 0.002549509756796386\n",
            "F1: 0.9017580826044866, +/- 0.0021699608826791774\n",
            "Precision: 0.8801386172942237, +/- 0.005162689356926266\n",
            "Recall: 0.9279999999999999, +/- 0.0020000000000000183\n",
            "Auroc: 0.898, +/- 0.002549509756796386\n",
            "top_value: 100\n",
            "Low-N, LazBF-task, LazBF-ESM-Embeddings <class 'sklearn.ensemble._forest.RandomForestClassifier'>\n"
          ]
        },
        {
          "output_type": "stream",
          "name": "stderr",
          "text": [
            "100%|██████████| 4/4 [00:04<00:00,  1.11s/it]\n"
          ]
        },
        {
          "output_type": "stream",
          "name": "stdout",
          "text": [
            "Accuracy: 0.9800000000000001, +/- 0.002236067977499804\n",
            "F1: 0.979619598664528, +/- 0.0023945596061138584\n",
            "Precision: 0.9864761904761906, +/- 0.002355097717881563\n",
            "Recall: 0.974, +/- 0.004000000000000028\n",
            "Auroc: 0.9800000000000001, +/- 0.002236067977499804\n",
            "top_value: 50\n",
            "Low-N, LazBF-task, LazDEF-ESM-Embeddings <class 'sklearn.ensemble._forest.RandomForestClassifier'>\n"
          ]
        },
        {
          "output_type": "stream",
          "name": "stderr",
          "text": [
            "100%|██████████| 4/4 [00:04<00:00,  1.24s/it]\n"
          ]
        },
        {
          "output_type": "stream",
          "name": "stdout",
          "text": [
            "Accuracy: 0.8800000000000001, +/- 0.007905694150420965\n",
            "F1: 0.8850541683009068, +/- 0.008547545720657414\n",
            "Precision: 0.8518456378099397, +/- 0.003936112537348574\n",
            "Recall: 0.9259999999999999, +/- 0.012083045973594579\n",
            "Auroc: 0.8800000000000001, +/- 0.007905694150420944\n",
            "top_value: 50\n",
            "Low-N, LazBF-task, LazBCDEF-ESM-Embeddings <class 'sklearn.ensemble._forest.RandomForestClassifier'>\n"
          ]
        },
        {
          "output_type": "stream",
          "name": "stderr",
          "text": [
            "100%|██████████| 4/4 [00:05<00:00,  1.37s/it]\n"
          ]
        },
        {
          "output_type": "stream",
          "name": "stdout",
          "text": [
            "Accuracy: 0.852, +/- 0.006244997998398396\n",
            "F1: 0.84471014867934, +/- 0.005771750339906213\n",
            "Precision: 0.8861669369502186, +/- 0.011028848657791376\n",
            "Recall: 0.8099999999999999, +/- 0.0031622776601683646\n",
            "Auroc: 0.852, +/- 0.006244997998398389\n",
            "top_value: 100\n",
            "Low-N, LazBF-task, Vanilla-ESM-Embeddings <class 'sklearn.ensemble._weight_boosting.AdaBoostClassifier'>\n"
          ]
        },
        {
          "output_type": "stream",
          "name": "stderr",
          "text": [
            "100%|██████████| 4/4 [00:06<00:00,  1.52s/it]\n"
          ]
        },
        {
          "output_type": "stream",
          "name": "stdout",
          "text": [
            "Accuracy: 0.834, +/- 0.010049875621120889\n",
            "F1: 0.8359246160283039, +/- 0.010484206678392432\n",
            "Precision: 0.826802842435081, +/- 0.010160255317194982\n",
            "Recall: 0.8539999999999999, +/- 0.011224972160321832\n",
            "Auroc: 0.834, +/- 0.010049875621120908\n",
            "top_value: 100\n",
            "Low-N, LazBF-task, Peptide-ESM-Embeddings <class 'sklearn.ensemble._weight_boosting.AdaBoostClassifier'>\n"
          ]
        },
        {
          "output_type": "stream",
          "name": "stderr",
          "text": [
            "100%|██████████| 4/4 [00:06<00:00,  1.68s/it]\n"
          ]
        },
        {
          "output_type": "stream",
          "name": "stdout",
          "text": [
            "Accuracy: 0.8639999999999999, +/- 0.002915475947422645\n",
            "F1: 0.8706624151997897, +/- 0.0030554376035916934\n",
            "Precision: 0.8371579811582504, +/- 0.0022479028837225174\n",
            "Recall: 0.9120000000000001, +/- 0.0048989794855663635\n",
            "Auroc: 0.8639999999999999, +/- 0.002915475947422645\n",
            "top_value: 25\n",
            "Low-N, LazBF-task, LazBF-ESM-Embeddings <class 'sklearn.ensemble._weight_boosting.AdaBoostClassifier'>\n"
          ]
        },
        {
          "output_type": "stream",
          "name": "stderr",
          "text": [
            "100%|██████████| 4/4 [00:05<00:00,  1.33s/it]\n"
          ]
        },
        {
          "output_type": "stream",
          "name": "stdout",
          "text": [
            "Accuracy: 0.9690000000000001, +/- 0.002915475947422662\n",
            "F1: 0.9684557542395558, +/- 0.0032023675511491058\n",
            "Precision: 0.9813049752180187, +/- 0.0026730389429245557\n",
            "Recall: 0.958, +/- 0.00734846922834955\n",
            "Auroc: 0.9690000000000001, +/- 0.002915475947422662\n",
            "top_value: 5\n",
            "Low-N, LazBF-task, LazDEF-ESM-Embeddings <class 'sklearn.ensemble._weight_boosting.AdaBoostClassifier'>\n"
          ]
        },
        {
          "output_type": "stream",
          "name": "stderr",
          "text": [
            "100%|██████████| 4/4 [00:05<00:00,  1.30s/it]\n"
          ]
        },
        {
          "output_type": "stream",
          "name": "stdout",
          "text": [
            "Accuracy: 0.876, +/- 0.005787918451395109\n",
            "F1: 0.879019337448749, +/- 0.0062303637428715395\n",
            "Precision: 0.8658119715704048, +/- 0.004930531806662625\n",
            "Recall: 0.8979999999999999, +/- 0.013190905958272941\n",
            "Auroc: 0.876, +/- 0.005787918451395109\n",
            "top_value: 50\n",
            "Low-N, LazBF-task, LazBCDEF-ESM-Embeddings <class 'sklearn.ensemble._weight_boosting.AdaBoostClassifier'>\n"
          ]
        },
        {
          "output_type": "stream",
          "name": "stderr",
          "text": [
            "100%|██████████| 4/4 [00:05<00:00,  1.49s/it]\n"
          ]
        },
        {
          "output_type": "stream",
          "name": "stdout",
          "text": [
            "Accuracy: 0.865, +/- 0.005477225575051651\n",
            "F1: 0.8649951177043753, +/- 0.006057187318782943\n",
            "Precision: 0.8648094695391505, +/- 0.005341608202855882\n",
            "Recall: 0.8720000000000001, +/- 0.0073484692283495405\n",
            "Auroc: 0.865, +/- 0.005477225575051651\n",
            "top_value: 100\n",
            "Low-N, LazBF-task, Vanilla-ESM-Embeddings <class 'sklearn.svm._classes.SVC'>\n"
          ]
        },
        {
          "output_type": "stream",
          "name": "stderr",
          "text": [
            "100%|██████████| 4/4 [00:02<00:00,  1.66it/s]\n"
          ]
        },
        {
          "output_type": "stream",
          "name": "stdout",
          "text": [
            "Accuracy: 0.866, +/- 0.005567764362830031\n",
            "F1: 0.8690578539618155, +/- 0.0049494715354859815\n",
            "Precision: 0.8564739755301606, +/- 0.005944192543309613\n",
            "Recall: 0.8880000000000001, +/- 0.0048989794855663765\n",
            "Auroc: 0.866, +/- 0.005567764362830031\n",
            "top_value: 1\n",
            "Low-N, LazBF-task, Peptide-ESM-Embeddings <class 'sklearn.svm._classes.SVC'>\n"
          ]
        },
        {
          "output_type": "stream",
          "name": "stderr",
          "text": [
            "100%|██████████| 4/4 [00:01<00:00,  3.03it/s]\n"
          ]
        },
        {
          "output_type": "stream",
          "name": "stdout",
          "text": [
            "Accuracy: 0.9040000000000001, +/- 0.007648529270389173\n",
            "F1: 0.9056746964081352, +/- 0.007843393264955981\n",
            "Precision: 0.8975008866038616, +/- 0.006234290983292537\n",
            "Recall: 0.9179999999999999, +/- 0.009695359714832668\n",
            "Auroc: 0.9040000000000001, +/- 0.007648529270389154\n",
            "top_value: 1\n",
            "Low-N, LazBF-task, LazBF-ESM-Embeddings <class 'sklearn.svm._classes.SVC'>\n"
          ]
        },
        {
          "output_type": "stream",
          "name": "stderr",
          "text": [
            "100%|██████████| 4/4 [00:01<00:00,  2.58it/s]\n"
          ]
        },
        {
          "output_type": "stream",
          "name": "stdout",
          "text": [
            "Accuracy: 0.9630000000000001, +/- 0.0033911649915626175\n",
            "F1: 0.9626226880013785, +/- 0.003513410670837859\n",
            "Precision: 0.9629611908559277, +/- 0.004061160247651695\n",
            "Recall: 0.9640000000000001, +/- 0.004000000000000026\n",
            "Auroc: 0.9630000000000001, +/- 0.0033911649915626175\n",
            "top_value: 5\n",
            "Low-N, LazBF-task, LazDEF-ESM-Embeddings <class 'sklearn.svm._classes.SVC'>\n"
          ]
        },
        {
          "output_type": "stream",
          "name": "stderr",
          "text": [
            "100%|██████████| 4/4 [00:01<00:00,  2.60it/s]\n"
          ]
        },
        {
          "output_type": "stream",
          "name": "stdout",
          "text": [
            "Accuracy: 0.921, +/- 0.009273618495495727\n",
            "F1: 0.9224958930770797, +/- 0.009333006270271125\n",
            "Precision: 0.9039165964978322, +/- 0.009420938672226768\n",
            "Recall: 0.944, +/- 0.012083045973594572\n",
            "Auroc: 0.921, +/- 0.009273618495495722\n",
            "top_value: 1\n",
            "Low-N, LazBF-task, LazBCDEF-ESM-Embeddings <class 'sklearn.svm._classes.SVC'>\n"
          ]
        },
        {
          "output_type": "stream",
          "name": "stderr",
          "text": [
            "100%|██████████| 4/4 [00:02<00:00,  1.52it/s]\n"
          ]
        },
        {
          "output_type": "stream",
          "name": "stdout",
          "text": [
            "Accuracy: 0.892, +/- 0.0071763500472036374\n",
            "F1: 0.8924283320558575, +/- 0.007016188704275597\n",
            "Precision: 0.8877846027456338, +/- 0.009139232405730516\n",
            "Recall: 0.906, +/- 0.008717797887081312\n",
            "Auroc: 0.892, +/- 0.007176350047203639\n",
            "top_value: 1\n",
            "Low-N, LazBF-task, Vanilla-ESM-Embeddings <class 'sklearn.neural_network._multilayer_perceptron.MLPClassifier'>\n"
          ]
        },
        {
          "output_type": "stream",
          "name": "stderr",
          "text": [
            "100%|██████████| 4/4 [00:07<00:00,  1.97s/it]\n"
          ]
        },
        {
          "output_type": "stream",
          "name": "stdout",
          "text": [
            "Accuracy: 0.859, +/- 0.006000000000000024\n",
            "F1: 0.8607325890086136, +/- 0.005792915934238346\n",
            "Precision: 0.8504569869997788, +/- 0.007096176464746478\n",
            "Recall: 0.8780000000000001, +/- 0.007348469228349534\n",
            "Auroc: 0.859, +/- 0.006000000000000011\n",
            "top_value: 100\n",
            "Low-N, LazBF-task, Peptide-ESM-Embeddings <class 'sklearn.neural_network._multilayer_perceptron.MLPClassifier'>\n"
          ]
        },
        {
          "output_type": "stream",
          "name": "stderr",
          "text": [
            "100%|██████████| 4/4 [00:09<00:00,  2.45s/it]\n"
          ]
        },
        {
          "output_type": "stream",
          "name": "stdout",
          "text": [
            "Accuracy: 0.858, +/- 0.004898979485566354\n",
            "F1: 0.858391364817015, +/- 0.005864757659881678\n",
            "Precision: 0.8556519522863579, +/- 0.008460924736385175\n",
            "Recall: 0.868, +/- 0.014282856857085705\n",
            "Auroc: 0.858, +/- 0.004898979485566354\n",
            "top_value: 100\n",
            "Low-N, LazBF-task, LazBF-ESM-Embeddings <class 'sklearn.neural_network._multilayer_perceptron.MLPClassifier'>\n"
          ]
        },
        {
          "output_type": "stream",
          "name": "stderr",
          "text": [
            "100%|██████████| 4/4 [00:11<00:00,  2.76s/it]\n"
          ]
        },
        {
          "output_type": "stream",
          "name": "stdout",
          "text": [
            "Accuracy: 0.969, +/- 0.005787918451395114\n",
            "F1: 0.9685549521082255, +/- 0.005899447232791721\n",
            "Precision: 0.9801804511278196, +/- 0.00553092232947518\n",
            "Recall: 0.958, +/- 0.006633249580710839\n",
            "Auroc: 0.969, +/- 0.005787918451395114\n",
            "top_value: 200\n",
            "Low-N, LazBF-task, LazDEF-ESM-Embeddings <class 'sklearn.neural_network._multilayer_perceptron.MLPClassifier'>\n"
          ]
        },
        {
          "output_type": "stream",
          "name": "stderr",
          "text": [
            "100%|██████████| 4/4 [00:08<00:00,  2.18s/it]\n"
          ]
        },
        {
          "output_type": "stream",
          "name": "stdout",
          "text": [
            "Accuracy: 0.861, +/- 0.009669539802906895\n",
            "F1: 0.8631975649467727, +/- 0.009378931281250572\n",
            "Precision: 0.8512529037197231, +/- 0.010723084279995895\n",
            "Recall: 0.8800000000000001, +/- 0.010000000000000031\n",
            "Auroc: 0.861, +/- 0.009669539802906895\n",
            "top_value: 500\n",
            "Low-N, LazBF-task, LazBCDEF-ESM-Embeddings <class 'sklearn.neural_network._multilayer_perceptron.MLPClassifier'>\n"
          ]
        },
        {
          "output_type": "stream",
          "name": "stderr",
          "text": [
            "100%|██████████| 4/4 [00:10<00:00,  2.67s/it]\n"
          ]
        },
        {
          "output_type": "stream",
          "name": "stdout",
          "text": [
            "Accuracy: 0.8699999999999999, +/- 0.0031622776601684085\n",
            "F1: 0.8745671409180666, +/- 0.0036724927042470655\n",
            "Precision: 0.8540864611032466, +/- 0.003632626567489437\n",
            "Recall: 0.9019999999999999, +/- 0.005830951894845296\n",
            "Auroc: 0.8699999999999999, +/- 0.0031622776601684085\n",
            "top_value: 500\n",
            "[[0.8700000000000001, 0.8380000000000001, 0.834, 0.866, 0.859], [0.89, 0.898, 0.8639999999999999, 0.9040000000000001, 0.858], [0.9730000000000001, 0.9800000000000001, 0.9690000000000001, 0.9630000000000001, 0.969], [0.9110000000000001, 0.8800000000000001, 0.876, 0.921, 0.861], [0.8880000000000001, 0.852, 0.865, 0.892, 0.8699999999999999]]\n",
            "[[0.009354143466934847, 0.0090277350426339, 0.010049875621120889, 0.005567764362830031, 0.006000000000000024], [0.0068920243760451005, 0.002549509756796386, 0.002915475947422645, 0.007648529270389173, 0.004898979485566354], [0.003741657386773921, 0.002236067977499804, 0.002915475947422662, 0.0033911649915626175, 0.005787918451395114], [0.007314369419163908, 0.007905694150420965, 0.005787918451395109, 0.009273618495495727, 0.009669539802906895], [0.010559356040971447, 0.006244997998398396, 0.005477225575051651, 0.0071763500472036374, 0.0031622776601684085]]\n"
          ]
        }
      ]
    },
    {
      "cell_type": "markdown",
      "source": [
        "---"
      ],
      "metadata": {
        "id": "voczSvjPgP8R"
      }
    },
    {
      "cell_type": "code",
      "source": [
        "#@title LazDEF LowN\n",
        "idxs = balanced_sample_np(lazbf_mlm_none, LazBF_sample_labels, 200, 5)\n",
        "\n",
        "y_values = [\n",
        "    [0, 0, 0, 0, 0], # vanilla-esm\n",
        "    [0, 0, 0, 0, 0], # peptide-esm\n",
        "    [0, 0, 0, 0, 0], # LazBF-esm\n",
        "    [0, 0, 0, 0, 0], # LazDEF-esm\n",
        "    [0, 0, 0, 0, 0], # LazBCDEF-esm\n",
        "]\n",
        "y_errors = [\n",
        "    [0, 0, 0, 0, 0], # vanilla-esm\n",
        "    [0, 0, 0, 0, 0], # peptide-esm\n",
        "    [0, 0, 0, 0, 0], # LazBF-esm\n",
        "    [0, 0, 0, 0, 0], # LazDEF-esm\n",
        "    [0, 0, 0, 0, 0], # LazBCDEF-esm\n",
        "]\n",
        "\n",
        "i = 0\n",
        "for model, param, grid in zip(model_list, param_list, value_list):\n",
        "\n",
        "  # Lazbf prediction\n",
        "  print(f\"Low-N, LazDEF-task, Vanilla-ESM-Embeddings {model}\")\n",
        "  m, e = optimize(lazdef_mlm_none[idxs], LazDEF_sample_labels[idxs], model, param, grid)\n",
        "  y_values[0][i] = m\n",
        "  y_errors[0][i] = e\n",
        "\n",
        "  print(f\"Low-N, LazDEF-task, Peptide-ESM-Embeddings {model}\")\n",
        "  m, e = optimize(lazdef_mlm_pa[idxs], LazDEF_sample_labels[idxs], model, param, grid)\n",
        "  y_values[1][i] = m\n",
        "  y_errors[1][i] = e\n",
        "\n",
        "  print(f\"Low-N, LazDEF-task, LazBF-ESM-Embeddings {model}\")\n",
        "  m, e = optimize(lazdef_mlm_lazbf[idxs], LazDEF_sample_labels[idxs], model, param, grid)\n",
        "  y_values[2][i] = m\n",
        "  y_errors[2][i] = e\n",
        "\n",
        "  print(f\"Low-N, LazDEF-task, LazDEF-ESM-Embeddings {model}\")\n",
        "  m, e = optimize(lazdef_mlm_lazdef[idxs], LazDEF_sample_labels[idxs], model, param, grid)\n",
        "  y_values[3][i] = m\n",
        "  y_errors[3][i] = e\n",
        "\n",
        "  print(f\"Low-N, LazDEF-task, LazBCDEF-ESM-Embeddings {model}\")\n",
        "  m, e = optimize(lazdef_mlm_lazbcdef[idxs], LazDEF_sample_labels[idxs], model, param, grid)\n",
        "  y_values[4][i] = m\n",
        "  y_errors[4][i] = e\n",
        "\n",
        "  i += 1\n",
        "print(y_values)\n",
        "print(y_errors)\n",
        "# for model, param, grid in zip(model_list, param_list, value_list):\n",
        "\n",
        "#   # Lazdef prediction\n",
        "#   print(f\"Low-N, LazDEF-task, Vanilla-ESM-Embeddings {model}\")\n",
        "#   optimize(lazdef_mlm_none[idxs], LazDEF_sample_labels[idxs], model, param, grid)\n",
        "\n",
        "#   print(f\"Low-N, LazDEF-task, Peptide-ESM-Embeddings {model}\")\n",
        "#   optimize(lazdef_mlm_pa[idxs], LazDEF_sample_labels[idxs], model, param, grid)\n",
        "\n",
        "#   print(f\"Low-N, LazDEF-task, LazBF-ESM-Embeddings {model}\")\n",
        "#   optimize(lazdef_mlm_lazbf[idxs], LazDEF_sample_labels[idxs], model, param, grid)\n",
        "\n",
        "#   print(f\"Low-N, LazDEF-task, LazDEF-ESM-Embeddings {model}\")\n",
        "#   optimize(lazdef_mlm_lazdef[idxs], LazDEF_sample_labels[idxs], model, param, grid)"
      ],
      "metadata": {
        "colab": {
          "base_uri": "https://localhost:8080/"
        },
        "id": "CyPM8W7igQZn",
        "outputId": "73fd3b4a-c037-4e1d-b76d-3973e5afd878",
        "cellView": "form"
      },
      "execution_count": 23,
      "outputs": [
        {
          "output_type": "stream",
          "name": "stdout",
          "text": [
            "Low-N, LazDEF-task, Vanilla-ESM-Embeddings <class 'sklearn.linear_model._logistic.LogisticRegression'>\n"
          ]
        },
        {
          "output_type": "stream",
          "name": "stderr",
          "text": [
            "100%|██████████| 4/4 [00:03<00:00,  1.12it/s]\n"
          ]
        },
        {
          "output_type": "stream",
          "name": "stdout",
          "text": [
            "Accuracy: 0.767, +/- 0.006633249580710823\n",
            "F1: 0.7710076583314395, +/- 0.006257862992320949\n",
            "Precision: 0.7611296091533539, +/- 0.009555103638299763\n",
            "Recall: 0.7879999999999999, +/- 0.01157583690279022\n",
            "Auroc: 0.767, +/- 0.006633249580710803\n",
            "top_value: 1\n",
            "Low-N, LazDEF-task, Peptide-ESM-Embeddings <class 'sklearn.linear_model._logistic.LogisticRegression'>\n"
          ]
        },
        {
          "output_type": "stream",
          "name": "stderr",
          "text": [
            "100%|██████████| 4/4 [00:02<00:00,  1.87it/s]\n"
          ]
        },
        {
          "output_type": "stream",
          "name": "stdout",
          "text": [
            "Accuracy: 0.779, +/- 0.006595452979136473\n",
            "F1: 0.7812015240222528, +/- 0.008836712740705417\n",
            "Precision: 0.7742616338254109, +/- 0.003563318980619485\n",
            "Recall: 0.798, +/- 0.01593737745050924\n",
            "Auroc: 0.779, +/- 0.006595452979136465\n",
            "top_value: 0.1\n",
            "Low-N, LazDEF-task, LazBF-ESM-Embeddings <class 'sklearn.linear_model._logistic.LogisticRegression'>\n"
          ]
        },
        {
          "output_type": "stream",
          "name": "stderr",
          "text": [
            "100%|██████████| 4/4 [00:02<00:00,  1.41it/s]\n"
          ]
        },
        {
          "output_type": "stream",
          "name": "stdout",
          "text": [
            "Accuracy: 0.8280000000000001, +/- 0.006442049363362577\n",
            "F1: 0.825672156071974, +/- 0.005776949530736092\n",
            "Precision: 0.8344598388778628, +/- 0.00898627535855867\n",
            "Recall: 0.8240000000000001, +/- 0.007483314773547891\n",
            "Auroc: 0.8280000000000001, +/- 0.006442049363362577\n",
            "top_value: 0.01\n",
            "Low-N, LazDEF-task, LazDEF-ESM-Embeddings <class 'sklearn.linear_model._logistic.LogisticRegression'>\n"
          ]
        },
        {
          "output_type": "stream",
          "name": "stderr",
          "text": [
            "100%|██████████| 4/4 [00:03<00:00,  1.13it/s]\n"
          ]
        },
        {
          "output_type": "stream",
          "name": "stdout",
          "text": [
            "Accuracy: 0.9710000000000001, +/- 0.0009999999999999898\n",
            "F1: 0.9701349527665318, +/- 0.0009248056198065844\n",
            "Precision: 0.99, +/- 0.0031622776601683646\n",
            "Recall: 0.952, +/- 0.0020000000000000018\n",
            "Auroc: 0.9710000000000001, +/- 0.0009999999999999898\n",
            "top_value: 0.1\n",
            "Low-N, LazDEF-task, LazBCDEF-ESM-Embeddings <class 'sklearn.linear_model._logistic.LogisticRegression'>\n"
          ]
        },
        {
          "output_type": "stream",
          "name": "stderr",
          "text": [
            "100%|██████████| 4/4 [00:01<00:00,  2.79it/s]\n"
          ]
        },
        {
          "output_type": "stream",
          "name": "stdout",
          "text": [
            "Accuracy: 0.8170000000000002, +/- 0.009027735042633914\n",
            "F1: 0.8179161319888039, +/- 0.009072787947792472\n",
            "Precision: 0.8126145424198628, +/- 0.007486334183633206\n",
            "Recall: 0.8299999999999998, +/- 0.009486832980505122\n",
            "Auroc: 0.8170000000000002, +/- 0.009027735042633876\n",
            "top_value: 0.01\n",
            "Low-N, LazDEF-task, Vanilla-ESM-Embeddings <class 'sklearn.ensemble._forest.RandomForestClassifier'>\n"
          ]
        },
        {
          "output_type": "stream",
          "name": "stderr",
          "text": [
            "100%|██████████| 4/4 [00:04<00:00,  1.02s/it]\n"
          ]
        },
        {
          "output_type": "stream",
          "name": "stdout",
          "text": [
            "Accuracy: 0.681, +/- 0.010653637876331263\n",
            "F1: 0.6898655895755688, +/- 0.010811732489624947\n",
            "Precision: 0.6714466251655644, +/- 0.014245875137255747\n",
            "Recall: 0.716, +/- 0.014696938456699058\n",
            "Auroc: 0.681, +/- 0.010653637876331263\n",
            "top_value: 25\n",
            "Low-N, LazDEF-task, Peptide-ESM-Embeddings <class 'sklearn.ensemble._forest.RandomForestClassifier'>\n"
          ]
        },
        {
          "output_type": "stream",
          "name": "stderr",
          "text": [
            "100%|██████████| 4/4 [00:04<00:00,  1.16s/it]\n"
          ]
        },
        {
          "output_type": "stream",
          "name": "stdout",
          "text": [
            "Accuracy: 0.7470000000000001, +/- 0.011895377253370297\n",
            "F1: 0.741899557550392, +/- 0.013009241253768355\n",
            "Precision: 0.7571880092387833, +/- 0.011195384380124428\n",
            "Recall: 0.732, +/- 0.017720045146669368\n",
            "Auroc: 0.7470000000000001, +/- 0.011895377253370297\n",
            "top_value: 100\n",
            "Low-N, LazDEF-task, LazBF-ESM-Embeddings <class 'sklearn.ensemble._forest.RandomForestClassifier'>\n"
          ]
        },
        {
          "output_type": "stream",
          "name": "stderr",
          "text": [
            "100%|██████████| 4/4 [00:04<00:00,  1.24s/it]\n"
          ]
        },
        {
          "output_type": "stream",
          "name": "stdout",
          "text": [
            "Accuracy: 0.744, +/- 0.023473389188610996\n",
            "F1: 0.7394693315068275, +/- 0.02326060683145888\n",
            "Precision: 0.7555842421289991, +/- 0.025893174628821573\n",
            "Recall: 0.73, +/- 0.0244948974278318\n",
            "Auroc: 0.744, +/- 0.023473389188610996\n",
            "top_value: 50\n",
            "Low-N, LazDEF-task, LazDEF-ESM-Embeddings <class 'sklearn.ensemble._forest.RandomForestClassifier'>\n"
          ]
        },
        {
          "output_type": "stream",
          "name": "stderr",
          "text": [
            "100%|██████████| 4/4 [00:05<00:00,  1.30s/it]\n"
          ]
        },
        {
          "output_type": "stream",
          "name": "stdout",
          "text": [
            "Accuracy: 0.951, +/- 0.0033166247903553743\n",
            "F1: 0.9500761451826921, +/- 0.0032847475956509914\n",
            "Precision: 0.9651747550694919, +/- 0.005685759036845261\n",
            "Recall: 0.938, +/- 0.003741657386773932\n",
            "Auroc: 0.951, +/- 0.0033166247903553743\n",
            "top_value: 25\n",
            "Low-N, LazDEF-task, LazBCDEF-ESM-Embeddings <class 'sklearn.ensemble._forest.RandomForestClassifier'>\n"
          ]
        },
        {
          "output_type": "stream",
          "name": "stderr",
          "text": [
            "100%|██████████| 4/4 [00:04<00:00,  1.16s/it]\n"
          ]
        },
        {
          "output_type": "stream",
          "name": "stdout",
          "text": [
            "Accuracy: 0.7219999999999999, +/- 0.01488287606613722\n",
            "F1: 0.710230799241873, +/- 0.016575841608298256\n",
            "Precision: 0.7407629532639628, +/- 0.02086413504032581\n",
            "Recall: 0.6899999999999998, +/- 0.023021728866442687\n",
            "Auroc: 0.7219999999999999, +/- 0.01488287606613722\n",
            "top_value: 50\n",
            "Low-N, LazDEF-task, Vanilla-ESM-Embeddings <class 'sklearn.ensemble._weight_boosting.AdaBoostClassifier'>\n"
          ]
        },
        {
          "output_type": "stream",
          "name": "stderr",
          "text": [
            "100%|██████████| 4/4 [00:05<00:00,  1.28s/it]\n"
          ]
        },
        {
          "output_type": "stream",
          "name": "stdout",
          "text": [
            "Accuracy: 0.7130000000000001, +/- 0.015459624833740295\n",
            "F1: 0.7125109274009201, +/- 0.013438814999327454\n",
            "Precision: 0.7187298727760029, +/- 0.019608776925416658\n",
            "Recall: 0.7139999999999999, +/- 0.014696938456699062\n",
            "Auroc: 0.7130000000000001, +/- 0.015459624833740308\n",
            "top_value: 50\n",
            "Low-N, LazDEF-task, Peptide-ESM-Embeddings <class 'sklearn.ensemble._weight_boosting.AdaBoostClassifier'>\n"
          ]
        },
        {
          "output_type": "stream",
          "name": "stderr",
          "text": [
            "100%|██████████| 4/4 [00:06<00:00,  1.57s/it]\n"
          ]
        },
        {
          "output_type": "stream",
          "name": "stdout",
          "text": [
            "Accuracy: 0.6979999999999998, +/- 0.008000000000000007\n",
            "F1: 0.7000462263103865, +/- 0.008559776193719127\n",
            "Precision: 0.7003797112862491, +/- 0.010582815454618826\n",
            "Recall: 0.706, +/- 0.01691153452528778\n",
            "Auroc: 0.6979999999999998, +/- 0.008000000000000007\n",
            "top_value: 50\n",
            "Low-N, LazDEF-task, LazBF-ESM-Embeddings <class 'sklearn.ensemble._weight_boosting.AdaBoostClassifier'>\n"
          ]
        },
        {
          "output_type": "stream",
          "name": "stderr",
          "text": [
            "100%|██████████| 4/4 [00:06<00:00,  1.61s/it]\n"
          ]
        },
        {
          "output_type": "stream",
          "name": "stdout",
          "text": [
            "Accuracy: 0.7310000000000001, +/- 0.008717797887081357\n",
            "F1: 0.7268841637778557, +/- 0.012271820222331843\n",
            "Precision: 0.7407530410735822, +/- 0.005884393530181435\n",
            "Recall: 0.72, +/- 0.020248456731316596\n",
            "Auroc: 0.7310000000000001, +/- 0.008717797887081345\n",
            "top_value: 25\n",
            "Low-N, LazDEF-task, LazDEF-ESM-Embeddings <class 'sklearn.ensemble._weight_boosting.AdaBoostClassifier'>\n"
          ]
        },
        {
          "output_type": "stream",
          "name": "stderr",
          "text": [
            "100%|██████████| 4/4 [00:04<00:00,  1.24s/it]\n"
          ]
        },
        {
          "output_type": "stream",
          "name": "stdout",
          "text": [
            "Accuracy: 0.958, +/- 0.00406201920231799\n",
            "F1: 0.9563981359514093, +/- 0.003825863995149525\n",
            "Precision: 0.9762166021113389, +/- 0.006150706583037851\n",
            "Recall: 0.9400000000000001, +/- 0.0031622776601683646\n",
            "Auroc: 0.958, +/- 0.00406201920231799\n",
            "top_value: 25\n",
            "Low-N, LazDEF-task, LazBCDEF-ESM-Embeddings <class 'sklearn.ensemble._weight_boosting.AdaBoostClassifier'>\n"
          ]
        },
        {
          "output_type": "stream",
          "name": "stderr",
          "text": [
            "100%|██████████| 4/4 [00:05<00:00,  1.37s/it]\n"
          ]
        },
        {
          "output_type": "stream",
          "name": "stdout",
          "text": [
            "Accuracy: 0.7500000000000001, +/- 0.013416407864998718\n",
            "F1: 0.7506015368460364, +/- 0.012874785130960386\n",
            "Precision: 0.7480536777695614, +/- 0.016567275211644885\n",
            "Recall: 0.758, +/- 0.01392838827718412\n",
            "Auroc: 0.7500000000000001, +/- 0.013416407864998717\n",
            "top_value: 100\n",
            "Low-N, LazDEF-task, Vanilla-ESM-Embeddings <class 'sklearn.svm._classes.SVC'>\n"
          ]
        },
        {
          "output_type": "stream",
          "name": "stderr",
          "text": [
            "100%|██████████| 4/4 [00:01<00:00,  2.21it/s]\n"
          ]
        },
        {
          "output_type": "stream",
          "name": "stdout",
          "text": [
            "Accuracy: 0.7529999999999999, +/- 0.008000000000000009\n",
            "F1: 0.7320538216351427, +/- 0.010963841664939621\n",
            "Precision: 0.8027252235208892, +/- 0.006176624745075194\n",
            "Recall: 0.6839999999999999, +/- 0.020149441679609886\n",
            "Auroc: 0.7529999999999999, +/- 0.008000000000000009\n",
            "top_value: 0.01\n",
            "Low-N, LazDEF-task, Peptide-ESM-Embeddings <class 'sklearn.svm._classes.SVC'>\n"
          ]
        },
        {
          "output_type": "stream",
          "name": "stderr",
          "text": [
            "100%|██████████| 4/4 [00:01<00:00,  2.41it/s]\n"
          ]
        },
        {
          "output_type": "stream",
          "name": "stdout",
          "text": [
            "Accuracy: 0.7779999999999999, +/- 0.011135528725660069\n",
            "F1: 0.7696571584683041, +/- 0.013554169020662773\n",
            "Precision: 0.8022300404789569, +/- 0.012069251040041792\n",
            "Recall: 0.746, +/- 0.02039607805437113\n",
            "Auroc: 0.7780000000000001, +/- 0.011135528725660034\n",
            "top_value: 5\n",
            "Low-N, LazDEF-task, LazBF-ESM-Embeddings <class 'sklearn.svm._classes.SVC'>\n"
          ]
        },
        {
          "output_type": "stream",
          "name": "stderr",
          "text": [
            "100%|██████████| 4/4 [00:01<00:00,  2.51it/s]\n"
          ]
        },
        {
          "output_type": "stream",
          "name": "stdout",
          "text": [
            "Accuracy: 0.8140000000000001, +/- 0.007648529270389165\n",
            "F1: 0.8138480141410105, +/- 0.006549840481048612\n",
            "Precision: 0.8110249956247669, +/- 0.011867490666876377\n",
            "Recall: 0.826, +/- 0.008124038404635948\n",
            "Auroc: 0.8140000000000001, +/- 0.00764852927038916\n",
            "top_value: 1\n",
            "Low-N, LazDEF-task, LazDEF-ESM-Embeddings <class 'sklearn.svm._classes.SVC'>\n"
          ]
        },
        {
          "output_type": "stream",
          "name": "stderr",
          "text": [
            "100%|██████████| 4/4 [00:02<00:00,  1.64it/s]\n"
          ]
        },
        {
          "output_type": "stream",
          "name": "stdout",
          "text": [
            "Accuracy: 0.9489999999999998, +/- 0.0018708286933869424\n",
            "F1: 0.9483533749438756, +/- 0.001963956833394818\n",
            "Precision: 0.9589411407306143, +/- 0.0015591685042518142\n",
            "Recall: 0.9400000000000001, +/- 0.0031622776601683646\n",
            "Auroc: 0.9489999999999998, +/- 0.0018708286933869546\n",
            "top_value: 5\n",
            "Low-N, LazDEF-task, LazBCDEF-ESM-Embeddings <class 'sklearn.svm._classes.SVC'>\n"
          ]
        },
        {
          "output_type": "stream",
          "name": "stderr",
          "text": [
            "100%|██████████| 4/4 [00:01<00:00,  2.45it/s]\n"
          ]
        },
        {
          "output_type": "stream",
          "name": "stdout",
          "text": [
            "Accuracy: 0.8009999999999999, +/- 0.0018708286933869693\n",
            "F1: 0.7758847272680118, +/- 0.003611539007418303\n",
            "Precision: 0.8793613739201975, +/- 0.008978695447158179\n",
            "Recall: 0.7, +/- 0.010954451150103347\n",
            "Auroc: 0.8009999999999999, +/- 0.0018708286933869635\n",
            "top_value: 0.01\n",
            "Low-N, LazDEF-task, Vanilla-ESM-Embeddings <class 'sklearn.neural_network._multilayer_perceptron.MLPClassifier'>\n"
          ]
        },
        {
          "output_type": "stream",
          "name": "stderr",
          "text": [
            "100%|██████████| 4/4 [00:11<00:00,  2.87s/it]\n"
          ]
        },
        {
          "output_type": "stream",
          "name": "stdout",
          "text": [
            "Accuracy: 0.7779999999999999, +/- 0.0033911649915626388\n",
            "F1: 0.783369435009761, +/- 0.0037722434206348895\n",
            "Precision: 0.7697459278087491, +/- 0.0022303221515658474\n",
            "Recall: 0.8039999999999999, +/- 0.007483314773547864\n",
            "Auroc: 0.7779999999999999, +/- 0.003391164991562617\n",
            "top_value: 500\n",
            "Low-N, LazDEF-task, Peptide-ESM-Embeddings <class 'sklearn.neural_network._multilayer_perceptron.MLPClassifier'>\n"
          ]
        },
        {
          "output_type": "stream",
          "name": "stderr",
          "text": [
            "100%|██████████| 4/4 [00:11<00:00,  2.84s/it]\n"
          ]
        },
        {
          "output_type": "stream",
          "name": "stdout",
          "text": [
            "Accuracy: 0.7700000000000001, +/- 0.0070710678118654805\n",
            "F1: 0.7728100845741596, +/- 0.00726046356181786\n",
            "Precision: 0.7659552915967238, +/- 0.008590603104684683\n",
            "Recall: 0.7859999999999999, +/- 0.011661903789690595\n",
            "Auroc: 0.7700000000000001, +/- 0.0070710678118654805\n",
            "top_value: 200\n",
            "Low-N, LazDEF-task, LazBF-ESM-Embeddings <class 'sklearn.neural_network._multilayer_perceptron.MLPClassifier'>\n"
          ]
        },
        {
          "output_type": "stream",
          "name": "stderr",
          "text": [
            "100%|██████████| 4/4 [00:13<00:00,  3.35s/it]\n"
          ]
        },
        {
          "output_type": "stream",
          "name": "stdout",
          "text": [
            "Accuracy: 0.7929999999999999, +/- 0.004636809247747867\n",
            "F1: 0.7925999251695081, +/- 0.007436808601572019\n",
            "Precision: 0.7961736361881738, +/- 0.008800917393502458\n",
            "Recall: 0.796, +/- 0.01964688270438852\n",
            "Auroc: 0.7929999999999999, +/- 0.004636809247747867\n",
            "top_value: 200\n",
            "Low-N, LazDEF-task, LazDEF-ESM-Embeddings <class 'sklearn.neural_network._multilayer_perceptron.MLPClassifier'>\n"
          ]
        },
        {
          "output_type": "stream",
          "name": "stderr",
          "text": [
            "100%|██████████| 4/4 [00:10<00:00,  2.61s/it]\n"
          ]
        },
        {
          "output_type": "stream",
          "name": "stdout",
          "text": [
            "Accuracy: 0.953, +/- 0.002000000000000035\n",
            "F1: 0.951203806512282, +/- 0.0021345450768818375\n",
            "Precision: 0.9753653435301033, +/- 0.007842520138292763\n",
            "Recall: 0.932, +/- 0.008000000000000004\n",
            "Auroc: 0.953, +/- 0.002000000000000035\n",
            "top_value: 500\n",
            "Low-N, LazDEF-task, LazBCDEF-ESM-Embeddings <class 'sklearn.neural_network._multilayer_perceptron.MLPClassifier'>\n"
          ]
        },
        {
          "output_type": "stream",
          "name": "stderr",
          "text": [
            "100%|██████████| 4/4 [00:09<00:00,  2.37s/it]\n"
          ]
        },
        {
          "output_type": "stream",
          "name": "stdout",
          "text": [
            "Accuracy: 0.825, +/- 0.0031622776601683555\n",
            "F1: 0.8259528333088639, +/- 0.003685554815380428\n",
            "Precision: 0.8252195343699988, +/- 0.005255851708816717\n",
            "Recall: 0.8320000000000001, +/- 0.007348469228349525\n",
            "Auroc: 0.825, +/- 0.0031622776601683555\n",
            "top_value: 500\n",
            "[[0.767, 0.681, 0.7130000000000001, 0.7529999999999999, 0.7779999999999999], [0.779, 0.7470000000000001, 0.6979999999999998, 0.7779999999999999, 0.7700000000000001], [0.8280000000000001, 0.744, 0.7310000000000001, 0.8140000000000001, 0.7929999999999999], [0.9710000000000001, 0.951, 0.958, 0.9489999999999998, 0.953], [0.8170000000000002, 0.7219999999999999, 0.7500000000000001, 0.8009999999999999, 0.825]]\n",
            "[[0.006633249580710823, 0.010653637876331263, 0.015459624833740295, 0.008000000000000009, 0.0033911649915626388], [0.006595452979136473, 0.011895377253370297, 0.008000000000000007, 0.011135528725660069, 0.0070710678118654805], [0.006442049363362577, 0.023473389188610996, 0.008717797887081357, 0.007648529270389165, 0.004636809247747867], [0.0009999999999999898, 0.0033166247903553743, 0.00406201920231799, 0.0018708286933869424, 0.002000000000000035], [0.009027735042633914, 0.01488287606613722, 0.013416407864998718, 0.0018708286933869693, 0.0031622776601683555]]\n"
          ]
        }
      ]
    },
    {
      "cell_type": "code",
      "source": [
        "#@title LazDEF MedN\n",
        "idxs = balanced_sample_np(lazbf_mlm_none, LazBF_sample_labels, 500, 1)\n",
        "\n",
        "y_values = [\n",
        "    [0, 0, 0, 0, 0], # vanilla-esm\n",
        "    [0, 0, 0, 0, 0], # peptide-esm\n",
        "    [0, 0, 0, 0, 0], # LazBF-esm\n",
        "    [0, 0, 0, 0, 0], # LazDEF-esm\n",
        "    [0, 0, 0, 0, 0], # LazBCDEF-esm\n",
        "]\n",
        "y_errors = [\n",
        "    [0, 0, 0, 0, 0], # vanilla-esm\n",
        "    [0, 0, 0, 0, 0], # peptide-esm\n",
        "    [0, 0, 0, 0, 0], # LazBF-esm\n",
        "    [0, 0, 0, 0, 0], # LazDEF-esm\n",
        "    [0, 0, 0, 0, 0], # LazBCDEF-esm\n",
        "]\n",
        "\n",
        "i = 0\n",
        "for model, param, grid in zip(model_list, param_list, value_list):\n",
        "\n",
        "  # Lazbf prediction\n",
        "  print(f\"Low-N, LazDEF-task, Vanilla-ESM-Embeddings {model}\")\n",
        "  m, e = optimize(lazdef_mlm_none[idxs], LazDEF_sample_labels[idxs], model, param, grid)\n",
        "  y_values[0][i] = m\n",
        "  y_errors[0][i] = e\n",
        "\n",
        "  print(f\"Low-N, LazDEF-task, Peptide-ESM-Embeddings {model}\")\n",
        "  m, e = optimize(lazdef_mlm_pa[idxs], LazDEF_sample_labels[idxs], model, param, grid)\n",
        "  y_values[1][i] = m\n",
        "  y_errors[1][i] = e\n",
        "\n",
        "  print(f\"Low-N, LazDEF-task, LazBF-ESM-Embeddings {model}\")\n",
        "  m, e = optimize(lazdef_mlm_lazbf[idxs], LazDEF_sample_labels[idxs], model, param, grid)\n",
        "  y_values[2][i] = m\n",
        "  y_errors[2][i] = e\n",
        "\n",
        "  print(f\"Low-N, LazDEF-task, LazDEF-ESM-Embeddings {model}\")\n",
        "  m, e = optimize(lazdef_mlm_lazdef[idxs], LazDEF_sample_labels[idxs], model, param, grid)\n",
        "  y_values[3][i] = m\n",
        "  y_errors[3][i] = e\n",
        "\n",
        "  print(f\"Low-N, LazDEF-task, LazBCDEF-ESM-Embeddings {model}\")\n",
        "  m, e = optimize(lazdef_mlm_lazbcdef[idxs], LazDEF_sample_labels[idxs], model, param, grid)\n",
        "  y_values[4][i] = m\n",
        "  y_errors[4][i] = e\n",
        "\n",
        "  i += 1\n",
        "print(y_values)\n",
        "print(y_errors)"
      ],
      "metadata": {
        "colab": {
          "base_uri": "https://localhost:8080/"
        },
        "id": "vpRXgzWggaUh",
        "outputId": "ef564a05-e60b-4c69-d68b-69b136a1229b",
        "cellView": "form"
      },
      "execution_count": 18,
      "outputs": [
        {
          "output_type": "stream",
          "name": "stdout",
          "text": [
            "Low-N, LazDEF-task, Vanilla-ESM-Embeddings <class 'sklearn.linear_model._logistic.LogisticRegression'>\n"
          ]
        },
        {
          "output_type": "stream",
          "name": "stderr",
          "text": [
            "100%|██████████| 4/4 [00:02<00:00,  1.50it/s]\n"
          ]
        },
        {
          "output_type": "stream",
          "name": "stdout",
          "text": [
            "Accuracy: 0.8084000000000001, +/- 0.0022271057451320173\n",
            "F1: 0.8106541607600484, +/- 0.0026564954409745906\n",
            "Precision: 0.8025775640187744, +/- 0.00219796256519915\n",
            "Recall: 0.8208, +/- 0.005425863986500221\n",
            "Auroc: 0.8084000000000001, +/- 0.0022271057451320173\n",
            "top_value: 0.01\n",
            "Low-N, LazDEF-task, Peptide-ESM-Embeddings <class 'sklearn.linear_model._logistic.LogisticRegression'>\n"
          ]
        },
        {
          "output_type": "stream",
          "name": "stderr",
          "text": [
            "100%|██████████| 4/4 [00:02<00:00,  1.65it/s]\n"
          ]
        },
        {
          "output_type": "stream",
          "name": "stdout",
          "text": [
            "Accuracy: 0.8256, +/- 0.0036551333764993986\n",
            "F1: 0.8298321502739443, +/- 0.0030618013936664175\n",
            "Precision: 0.812936728292956, +/- 0.004714192507868749\n",
            "Recall: 0.8503999999999999, +/- 0.0029933259094191526\n",
            "Auroc: 0.8256, +/- 0.0036551333764993986\n",
            "top_value: 0.1\n",
            "Low-N, LazDEF-task, LazBF-ESM-Embeddings <class 'sklearn.linear_model._logistic.LogisticRegression'>\n"
          ]
        },
        {
          "output_type": "stream",
          "name": "stderr",
          "text": [
            "100%|██████████| 4/4 [00:02<00:00,  1.39it/s]\n"
          ]
        },
        {
          "output_type": "stream",
          "name": "stdout",
          "text": [
            "Accuracy: 0.8428000000000001, +/- 0.006019966777316978\n",
            "F1: 0.8427485240696531, +/- 0.006054782479910954\n",
            "Precision: 0.8433032013809569, +/- 0.0058559873873022675\n",
            "Recall: 0.8440000000000001, +/- 0.007155417527999314\n",
            "Auroc: 0.8427999999999999, +/- 0.006019966777316948\n",
            "top_value: 0.1\n",
            "Low-N, LazDEF-task, LazDEF-ESM-Embeddings <class 'sklearn.linear_model._logistic.LogisticRegression'>\n"
          ]
        },
        {
          "output_type": "stream",
          "name": "stderr",
          "text": [
            "100%|██████████| 4/4 [00:02<00:00,  1.87it/s]\n"
          ]
        },
        {
          "output_type": "stream",
          "name": "stdout",
          "text": [
            "Accuracy: 0.976, +/- 0.0010954451150103736\n",
            "F1: 0.9759112660488247, +/- 0.0011197471140261324\n",
            "Precision: 0.9788155442147831, +/- 0.0010416752591003993\n",
            "Recall: 0.9736, +/- 0.0024000000000000167\n",
            "Auroc: 0.976, +/- 0.0010954451150103736\n",
            "top_value: 0.01\n",
            "Low-N, LazDEF-task, LazBCDEF-ESM-Embeddings <class 'sklearn.linear_model._logistic.LogisticRegression'>\n"
          ]
        },
        {
          "output_type": "stream",
          "name": "stderr",
          "text": [
            "100%|██████████| 4/4 [00:01<00:00,  2.21it/s]\n"
          ]
        },
        {
          "output_type": "stream",
          "name": "stdout",
          "text": [
            "Accuracy: 0.8392000000000002, +/- 0.0036110940170535344\n",
            "F1: 0.8390462496611578, +/- 0.003551776743547237\n",
            "Precision: 0.8392828418123583, +/- 0.005321871021973519\n",
            "Recall: 0.8423999999999999, +/- 0.007756287771866144\n",
            "Auroc: 0.8392, +/- 0.0036110940170535747\n",
            "top_value: 1\n",
            "Low-N, LazDEF-task, Vanilla-ESM-Embeddings <class 'sklearn.ensemble._forest.RandomForestClassifier'>\n"
          ]
        },
        {
          "output_type": "stream",
          "name": "stderr",
          "text": [
            "100%|██████████| 4/4 [00:07<00:00,  1.93s/it]\n"
          ]
        },
        {
          "output_type": "stream",
          "name": "stdout",
          "text": [
            "Accuracy: 0.7652, +/- 0.007337574531137656\n",
            "F1: 0.7663068715662176, +/- 0.00803608837095016\n",
            "Precision: 0.7655427834546632, +/- 0.006103311047274312\n",
            "Recall: 0.7704, +/- 0.010628264204469133\n",
            "Auroc: 0.7652, +/- 0.007337574531137642\n",
            "top_value: 100\n",
            "Low-N, LazDEF-task, Peptide-ESM-Embeddings <class 'sklearn.ensemble._forest.RandomForestClassifier'>\n"
          ]
        },
        {
          "output_type": "stream",
          "name": "stderr",
          "text": [
            "100%|██████████| 4/4 [00:06<00:00,  1.66s/it]\n"
          ]
        },
        {
          "output_type": "stream",
          "name": "stdout",
          "text": [
            "Accuracy: 0.778, +/- 0.00419523539268062\n",
            "F1: 0.7787805780301976, +/- 0.004227289046167459\n",
            "Precision: 0.7777464474187658, +/- 0.0030974386891240205\n",
            "Recall: 0.7840000000000001, +/- 0.005366563145999487\n",
            "Auroc: 0.778, +/- 0.00419523539268061\n",
            "top_value: 100\n",
            "Low-N, LazDEF-task, LazBF-ESM-Embeddings <class 'sklearn.ensemble._forest.RandomForestClassifier'>\n"
          ]
        },
        {
          "output_type": "stream",
          "name": "stderr",
          "text": [
            "100%|██████████| 4/4 [00:05<00:00,  1.43s/it]\n"
          ]
        },
        {
          "output_type": "stream",
          "name": "stdout",
          "text": [
            "Accuracy: 0.7904000000000001, +/- 0.007110555533852492\n",
            "F1: 0.7931560651606677, +/- 0.007689228916738918\n",
            "Precision: 0.784229852834738, +/- 0.006934514117098924\n",
            "Recall: 0.8048, +/- 0.010229369482035521\n",
            "Auroc: 0.7904, +/- 0.0071105555338524615\n",
            "top_value: 100\n",
            "Low-N, LazDEF-task, LazDEF-ESM-Embeddings <class 'sklearn.ensemble._forest.RandomForestClassifier'>\n"
          ]
        },
        {
          "output_type": "stream",
          "name": "stderr",
          "text": [
            "100%|██████████| 4/4 [00:07<00:00,  1.77s/it]\n"
          ]
        },
        {
          "output_type": "stream",
          "name": "stdout",
          "text": [
            "Accuracy: 0.976, +/- 0.001264911064067388\n",
            "F1: 0.9760496965894421, +/- 0.001271592370976085\n",
            "Precision: 0.9757344546526884, +/- 0.0015104781334794475\n",
            "Recall: 0.9768000000000001, +/- 0.0014966629547096195\n",
            "Auroc: 0.976, +/- 0.001264911064067388\n",
            "top_value: 50\n",
            "Low-N, LazDEF-task, LazBCDEF-ESM-Embeddings <class 'sklearn.ensemble._forest.RandomForestClassifier'>\n"
          ]
        },
        {
          "output_type": "stream",
          "name": "stderr",
          "text": [
            "100%|██████████| 4/4 [00:06<00:00,  1.65s/it]\n"
          ]
        },
        {
          "output_type": "stream",
          "name": "stdout",
          "text": [
            "Accuracy: 0.7735999999999998, +/- 0.006675327707311456\n",
            "F1: 0.7705648363882085, +/- 0.006802939294950921\n",
            "Precision: 0.7819205551441779, +/- 0.0077808233390668086\n",
            "Recall: 0.7624000000000001, +/- 0.008352245207128432\n",
            "Auroc: 0.7735999999999998, +/- 0.006675327707311443\n",
            "top_value: 100\n",
            "Low-N, LazDEF-task, Vanilla-ESM-Embeddings <class 'sklearn.ensemble._weight_boosting.AdaBoostClassifier'>\n"
          ]
        },
        {
          "output_type": "stream",
          "name": "stderr",
          "text": [
            "100%|██████████| 4/4 [00:08<00:00,  2.09s/it]\n"
          ]
        },
        {
          "output_type": "stream",
          "name": "stdout",
          "text": [
            "Accuracy: 0.7556, +/- 0.007756287771866114\n",
            "F1: 0.756128995263894, +/- 0.008453740844964525\n",
            "Precision: 0.7526353841459634, +/- 0.008327115929460461\n",
            "Recall: 0.7615999999999999, +/- 0.011356055653262703\n",
            "Auroc: 0.7556, +/- 0.007756287771866102\n",
            "top_value: 100\n",
            "Low-N, LazDEF-task, Peptide-ESM-Embeddings <class 'sklearn.ensemble._weight_boosting.AdaBoostClassifier'>\n"
          ]
        },
        {
          "output_type": "stream",
          "name": "stderr",
          "text": [
            "100%|██████████| 4/4 [00:07<00:00,  1.97s/it]\n"
          ]
        },
        {
          "output_type": "stream",
          "name": "stdout",
          "text": [
            "Accuracy: 0.7487999999999999, +/- 0.002799999999999984\n",
            "F1: 0.7509465988150337, +/- 0.0043952194320758965\n",
            "Precision: 0.7440952881230282, +/- 0.0041350169556476565\n",
            "Recall: 0.7608, +/- 0.012092973166264778\n",
            "Auroc: 0.7487999999999999, +/- 0.002799999999999984\n",
            "top_value: 50\n",
            "Low-N, LazDEF-task, LazBF-ESM-Embeddings <class 'sklearn.ensemble._weight_boosting.AdaBoostClassifier'>\n"
          ]
        },
        {
          "output_type": "stream",
          "name": "stderr",
          "text": [
            "100%|██████████| 4/4 [00:08<00:00,  2.10s/it]\n"
          ]
        },
        {
          "output_type": "stream",
          "name": "stdout",
          "text": [
            "Accuracy: 0.7836000000000001, +/- 0.004707440918375938\n",
            "F1: 0.7853523729572286, +/- 0.004390701919443982\n",
            "Precision: 0.7798766276113461, +/- 0.006472546905975871\n",
            "Recall: 0.7935999999999999, +/- 0.003919183588453067\n",
            "Auroc: 0.7836000000000001, +/- 0.00470744091837596\n",
            "top_value: 100\n",
            "Low-N, LazDEF-task, LazDEF-ESM-Embeddings <class 'sklearn.ensemble._weight_boosting.AdaBoostClassifier'>\n"
          ]
        },
        {
          "output_type": "stream",
          "name": "stderr",
          "text": [
            "100%|██████████| 4/4 [00:06<00:00,  1.74s/it]\n"
          ]
        },
        {
          "output_type": "stream",
          "name": "stdout",
          "text": [
            "Accuracy: 0.9616, +/- 0.0025612496949731422\n",
            "F1: 0.9608763656383108, +/- 0.0026516518653806782\n",
            "Precision: 0.9726703630922995, +/- 0.0034869285228275658\n",
            "Recall: 0.9503999999999999, +/- 0.004118252056394808\n",
            "Auroc: 0.9616, +/- 0.0025612496949731422\n",
            "top_value: 5\n",
            "Low-N, LazDEF-task, LazBCDEF-ESM-Embeddings <class 'sklearn.ensemble._weight_boosting.AdaBoostClassifier'>\n"
          ]
        },
        {
          "output_type": "stream",
          "name": "stderr",
          "text": [
            "100%|██████████| 4/4 [00:07<00:00,  1.90s/it]\n"
          ]
        },
        {
          "output_type": "stream",
          "name": "stdout",
          "text": [
            "Accuracy: 0.766, +/- 0.00807465169527452\n",
            "F1: 0.7667609326907996, +/- 0.008421090377401106\n",
            "Precision: 0.7644905996653778, +/- 0.006710753520965178\n",
            "Recall: 0.7712, +/- 0.012547509713086508\n",
            "Auroc: 0.766, +/- 0.00807465169527452\n",
            "top_value: 100\n",
            "Low-N, LazDEF-task, Vanilla-ESM-Embeddings <class 'sklearn.svm._classes.SVC'>\n"
          ]
        },
        {
          "output_type": "stream",
          "name": "stderr",
          "text": [
            "100%|██████████| 4/4 [00:02<00:00,  1.77it/s]\n"
          ]
        },
        {
          "output_type": "stream",
          "name": "stdout",
          "text": [
            "Accuracy: 0.7936, +/- 0.006462197768561403\n",
            "F1: 0.7962743520208251, +/- 0.005270878201348073\n",
            "Precision: 0.7886504730397761, +/- 0.010141208691752114\n",
            "Recall: 0.8064, +/- 0.0037094473981983\n",
            "Auroc: 0.7936, +/- 0.006462197768561403\n",
            "top_value: 5\n",
            "Low-N, LazDEF-task, Peptide-ESM-Embeddings <class 'sklearn.svm._classes.SVC'>\n"
          ]
        },
        {
          "output_type": "stream",
          "name": "stderr",
          "text": [
            "100%|██████████| 4/4 [00:02<00:00,  1.43it/s]\n"
          ]
        },
        {
          "output_type": "stream",
          "name": "stdout",
          "text": [
            "Accuracy: 0.8208, +/- 0.005535341001239229\n",
            "F1: 0.8239172697423957, +/- 0.005805919688057859\n",
            "Precision: 0.8102325945911947, +/- 0.004595358260222631\n",
            "Recall: 0.8400000000000001, +/- 0.0074833147735478694\n",
            "Auroc: 0.8208, +/- 0.005535341001239212\n",
            "top_value: 5\n",
            "Low-N, LazDEF-task, LazBF-ESM-Embeddings <class 'sklearn.svm._classes.SVC'>\n"
          ]
        },
        {
          "output_type": "stream",
          "name": "stderr",
          "text": [
            "100%|██████████| 4/4 [00:02<00:00,  1.67it/s]\n"
          ]
        },
        {
          "output_type": "stream",
          "name": "stdout",
          "text": [
            "Accuracy: 0.8400000000000001, +/- 0.007402702209328691\n",
            "F1: 0.8446723462436811, +/- 0.00713674645371096\n",
            "Precision: 0.8232434868925784, +/- 0.008036486190973875\n",
            "Recall: 0.8696000000000002, +/- 0.007652450587883606\n",
            "Auroc: 0.8400000000000001, +/- 0.0074027022093286834\n",
            "top_value: 1\n",
            "Low-N, LazDEF-task, LazDEF-ESM-Embeddings <class 'sklearn.svm._classes.SVC'>\n"
          ]
        },
        {
          "output_type": "stream",
          "name": "stderr",
          "text": [
            "100%|██████████| 4/4 [00:04<00:00,  1.11s/it]\n"
          ]
        },
        {
          "output_type": "stream",
          "name": "stdout",
          "text": [
            "Accuracy: 0.9756, +/- 0.0013266499161421945\n",
            "F1: 0.9756849871045891, +/- 0.001395943478600382\n",
            "Precision: 0.9733742994440157, +/- 0.0008846940860221113\n",
            "Recall: 0.9783999999999999, +/- 0.0020396078054371416\n",
            "Auroc: 0.9756, +/- 0.0013266499161421945\n",
            "top_value: 5\n",
            "Low-N, LazDEF-task, LazBCDEF-ESM-Embeddings <class 'sklearn.svm._classes.SVC'>\n"
          ]
        },
        {
          "output_type": "stream",
          "name": "stderr",
          "text": [
            "100%|██████████| 4/4 [00:02<00:00,  1.62it/s]\n"
          ]
        },
        {
          "output_type": "stream",
          "name": "stdout",
          "text": [
            "Accuracy: 0.8448, +/- 0.004127953488110054\n",
            "F1: 0.8471251451728085, +/- 0.0038145199529509076\n",
            "Precision: 0.8392220342381906, +/- 0.005556593223065233\n",
            "Recall: 0.8584000000000002, +/- 0.004995998398718712\n",
            "Auroc: 0.8448, +/- 0.004127953488110068\n",
            "top_value: 5\n",
            "Low-N, LazDEF-task, Vanilla-ESM-Embeddings <class 'sklearn.neural_network._multilayer_perceptron.MLPClassifier'>\n"
          ]
        },
        {
          "output_type": "stream",
          "name": "stderr",
          "text": [
            "100%|██████████| 4/4 [00:23<00:00,  5.87s/it]\n"
          ]
        },
        {
          "output_type": "stream",
          "name": "stdout",
          "text": [
            "Accuracy: 0.806, +/- 0.005513619500836073\n",
            "F1: 0.80617245005384, +/- 0.005032633311566367\n",
            "Precision: 0.8067571095674675, +/- 0.008018857198525176\n",
            "Recall: 0.8088000000000001, +/- 0.0049638694583963305\n",
            "Auroc: 0.806, +/- 0.005513619500836093\n",
            "top_value: 50\n",
            "Low-N, LazDEF-task, Peptide-ESM-Embeddings <class 'sklearn.neural_network._multilayer_perceptron.MLPClassifier'>\n"
          ]
        },
        {
          "output_type": "stream",
          "name": "stderr",
          "text": [
            "100%|██████████| 4/4 [00:21<00:00,  5.35s/it]\n"
          ]
        },
        {
          "output_type": "stream",
          "name": "stdout",
          "text": [
            "Accuracy: 0.8276, +/- 0.0044452221541785904\n",
            "F1: 0.8302562784517539, +/- 0.004528077486775041\n",
            "Precision: 0.8209053336533018, +/- 0.004286297726793895\n",
            "Recall: 0.8424000000000001, +/- 0.0060133185513491574\n",
            "Auroc: 0.8276, +/- 0.0044452221541785904\n",
            "top_value: 500\n",
            "Low-N, LazDEF-task, LazBF-ESM-Embeddings <class 'sklearn.neural_network._multilayer_perceptron.MLPClassifier'>\n"
          ]
        },
        {
          "output_type": "stream",
          "name": "stderr",
          "text": [
            "100%|██████████| 4/4 [00:23<00:00,  5.87s/it]\n"
          ]
        },
        {
          "output_type": "stream",
          "name": "stdout",
          "text": [
            "Accuracy: 0.8343999999999999, +/- 0.0057061370470748605\n",
            "F1: 0.8357262143663935, +/- 0.005618605522575245\n",
            "Precision: 0.830691284307683, +/- 0.006362752364077714\n",
            "Recall: 0.8432000000000001, +/- 0.005571355310873643\n",
            "Auroc: 0.8343999999999999, +/- 0.0057061370470748544\n",
            "top_value: 500\n",
            "Low-N, LazDEF-task, LazDEF-ESM-Embeddings <class 'sklearn.neural_network._multilayer_perceptron.MLPClassifier'>\n"
          ]
        },
        {
          "output_type": "stream",
          "name": "stderr",
          "text": [
            "100%|██████████| 4/4 [00:18<00:00,  4.57s/it]\n"
          ]
        },
        {
          "output_type": "stream",
          "name": "stdout",
          "text": [
            "Accuracy: 0.9704, +/- 0.001720465053408532\n",
            "F1: 0.9700284450515543, +/- 0.0017701317331647952\n",
            "Precision: 0.9786423168025818, +/- 0.001547947650362011\n",
            "Recall: 0.9624, +/- 0.003249615361854376\n",
            "Auroc: 0.9704, +/- 0.001720465053408532\n",
            "top_value: 100\n",
            "Low-N, LazDEF-task, LazBCDEF-ESM-Embeddings <class 'sklearn.neural_network._multilayer_perceptron.MLPClassifier'>\n"
          ]
        },
        {
          "output_type": "stream",
          "name": "stderr",
          "text": [
            "100%|██████████| 4/4 [00:22<00:00,  5.64s/it]\n"
          ]
        },
        {
          "output_type": "stream",
          "name": "stdout",
          "text": [
            "Accuracy: 0.8383999999999998, +/- 0.005306599664568684\n",
            "F1: 0.8394006235575672, +/- 0.005668985954637245\n",
            "Precision: 0.836310261607012, +/- 0.0050920431669243486\n",
            "Recall: 0.8448, +/- 0.007939773296511674\n",
            "Auroc: 0.8383999999999998, +/- 0.0053065996645686505\n",
            "top_value: 50\n",
            "[[0.8084000000000001, 0.7652, 0.7556, 0.7936, 0.806], [0.8256, 0.778, 0.7487999999999999, 0.8208, 0.8276], [0.8428000000000001, 0.7904000000000001, 0.7836000000000001, 0.8400000000000001, 0.8343999999999999], [0.976, 0.976, 0.9616, 0.9756, 0.9704], [0.8392000000000002, 0.7735999999999998, 0.766, 0.8448, 0.8383999999999998]]\n",
            "[[0.0022271057451320173, 0.007337574531137656, 0.007756287771866114, 0.006462197768561403, 0.005513619500836073], [0.0036551333764993986, 0.00419523539268062, 0.002799999999999984, 0.005535341001239229, 0.0044452221541785904], [0.006019966777316978, 0.007110555533852492, 0.004707440918375938, 0.007402702209328691, 0.0057061370470748605], [0.0010954451150103736, 0.001264911064067388, 0.0025612496949731422, 0.0013266499161421945, 0.001720465053408532], [0.0036110940170535344, 0.006675327707311456, 0.00807465169527452, 0.004127953488110054, 0.005306599664568684]]\n"
          ]
        }
      ]
    },
    {
      "cell_type": "code",
      "source": [
        "#@title LazDEF HighN\n",
        "idxs = balanced_sample_np(lazbf_mlm_none, LazBF_sample_labels, 1000, 1)\n",
        "\n",
        "y_values = [\n",
        "    [0, 0, 0, 0, 0], # vanilla-esm\n",
        "    [0, 0, 0, 0, 0], # peptide-esm\n",
        "    [0, 0, 0, 0, 0], # LazBF-esm\n",
        "    [0, 0, 0, 0, 0], # LazDEF-esm\n",
        "    [0, 0, 0, 0, 0], # LazBCDEF-esm\n",
        "]\n",
        "y_errors = [\n",
        "    [0, 0, 0, 0, 0], # vanilla-esm\n",
        "    [0, 0, 0, 0, 0], # peptide-esm\n",
        "    [0, 0, 0, 0, 0], # LazBF-esm\n",
        "    [0, 0, 0, 0, 0], # LazDEF-esm\n",
        "    [0, 0, 0, 0, 0], # LazBCDEF-esm\n",
        "]\n",
        "\n",
        "i = 0\n",
        "for model, param, grid in zip(model_list, param_list, value_list):\n",
        "\n",
        "  # Lazbf prediction\n",
        "  print(f\"Low-N, LazDEF-task, Vanilla-ESM-Embeddings {model}\")\n",
        "  m, e = optimize(lazdef_mlm_none[idxs], LazDEF_sample_labels[idxs], model, param, grid)\n",
        "  y_values[0][i] = m\n",
        "  y_errors[0][i] = e\n",
        "\n",
        "  print(f\"Low-N, LazDEF-task, Peptide-ESM-Embeddings {model}\")\n",
        "  m, e = optimize(lazdef_mlm_pa[idxs], LazDEF_sample_labels[idxs], model, param, grid)\n",
        "  y_values[1][i] = m\n",
        "  y_errors[1][i] = e\n",
        "\n",
        "  print(f\"Low-N, LazDEF-task, LazBF-ESM-Embeddings {model}\")\n",
        "  m, e = optimize(lazdef_mlm_lazbf[idxs], LazDEF_sample_labels[idxs], model, param, grid)\n",
        "  y_values[2][i] = m\n",
        "  y_errors[2][i] = e\n",
        "\n",
        "  print(f\"Low-N, LazDEF-task, LazDEF-ESM-Embeddings {model}\")\n",
        "  m, e = optimize(lazdef_mlm_lazdef[idxs], LazDEF_sample_labels[idxs], model, param, grid)\n",
        "  y_values[3][i] = m\n",
        "  y_errors[3][i] = e\n",
        "\n",
        "  print(f\"Low-N, LazDEF-task, LazBCDEF-ESM-Embeddings {model}\")\n",
        "  m, e = optimize(lazdef_mlm_lazbcdef[idxs], LazDEF_sample_labels[idxs], model, param, grid)\n",
        "  y_values[4][i] = m\n",
        "  y_errors[4][i] = e\n",
        "\n",
        "  i += 1\n",
        "print(y_values)\n",
        "print(y_errors)"
      ],
      "metadata": {
        "colab": {
          "base_uri": "https://localhost:8080/"
        },
        "id": "fjk7mfPKgc7g",
        "outputId": "95ba8996-bfa7-41f0-ee71-5e255c96eee3",
        "cellView": "form"
      },
      "execution_count": 19,
      "outputs": [
        {
          "output_type": "stream",
          "name": "stdout",
          "text": [
            "Low-N, LazDEF-task, Vanilla-ESM-Embeddings <class 'sklearn.linear_model._logistic.LogisticRegression'>\n"
          ]
        },
        {
          "output_type": "stream",
          "name": "stderr",
          "text": [
            "100%|██████████| 4/4 [00:03<00:00,  1.03it/s]\n"
          ]
        },
        {
          "output_type": "stream",
          "name": "stdout",
          "text": [
            "Accuracy: 0.8026, +/- 0.001503329637837292\n",
            "F1: 0.8041688854963777, +/- 0.0011139568430028198\n",
            "Precision: 0.8000366633920054, +/- 0.00214785640005595\n",
            "Recall: 0.8099999999999999, +/- 0.0008944271909998918\n",
            "Auroc: 0.8026, +/- 0.0015033296378372898\n",
            "top_value: 0.1\n",
            "Low-N, LazDEF-task, Peptide-ESM-Embeddings <class 'sklearn.linear_model._logistic.LogisticRegression'>\n"
          ]
        },
        {
          "output_type": "stream",
          "name": "stderr",
          "text": [
            "100%|██████████| 4/4 [00:05<00:00,  1.45s/it]\n"
          ]
        },
        {
          "output_type": "stream",
          "name": "stdout",
          "text": [
            "Accuracy: 0.8106, +/- 0.003108054053583994\n",
            "F1: 0.811123943122737, +/- 0.0031752698120635576\n",
            "Precision: 0.8100937753628727, +/- 0.003201394101653392\n",
            "Recall: 0.8135999999999999, +/- 0.003969886648255866\n",
            "Auroc: 0.8106, +/- 0.003108054053584024\n",
            "top_value: 5\n",
            "Low-N, LazDEF-task, LazBF-ESM-Embeddings <class 'sklearn.linear_model._logistic.LogisticRegression'>\n"
          ]
        },
        {
          "output_type": "stream",
          "name": "stderr",
          "text": [
            "100%|██████████| 4/4 [00:03<00:00,  1.07it/s]\n"
          ]
        },
        {
          "output_type": "stream",
          "name": "stdout",
          "text": [
            "Accuracy: 0.8311999999999999, +/- 0.0020346989949375635\n",
            "F1: 0.8318771977559024, +/- 0.0021212875656153977\n",
            "Precision: 0.8294625126923562, +/- 0.0018465290862842321\n",
            "Recall: 0.8348000000000001, +/- 0.0025768197453449894\n",
            "Auroc: 0.8311999999999999, +/- 0.0020346989949375626\n",
            "top_value: 0.01\n",
            "Low-N, LazDEF-task, LazDEF-ESM-Embeddings <class 'sklearn.linear_model._logistic.LogisticRegression'>\n"
          ]
        },
        {
          "output_type": "stream",
          "name": "stderr",
          "text": [
            "100%|██████████| 4/4 [00:03<00:00,  1.03it/s]\n"
          ]
        },
        {
          "output_type": "stream",
          "name": "stdout",
          "text": [
            "Accuracy: 0.9639999999999999, +/- 0.001788854381999855\n",
            "F1: 0.9635632666269881, +/- 0.0017874723922371295\n",
            "Precision: 0.9730555137050005, +/- 0.001832040987159815\n",
            "Recall: 0.9548, +/- 0.0019595917942265314\n",
            "Auroc: 0.9639999999999999, +/- 0.0017888543819998364\n",
            "top_value: 0.01\n",
            "Low-N, LazDEF-task, LazBCDEF-ESM-Embeddings <class 'sklearn.linear_model._logistic.LogisticRegression'>\n"
          ]
        },
        {
          "output_type": "stream",
          "name": "stderr",
          "text": [
            "100%|██████████| 4/4 [00:06<00:00,  1.55s/it]\n"
          ]
        },
        {
          "output_type": "stream",
          "name": "stdout",
          "text": [
            "Accuracy: 0.8234, +/- 0.00256124969497318\n",
            "F1: 0.8240367200464934, +/- 0.002497276741487905\n",
            "Precision: 0.8207002389363705, +/- 0.003389315203205123\n",
            "Recall: 0.8292000000000002, +/- 0.0028705400188814515\n",
            "Auroc: 0.8234, +/- 0.002561249694973143\n",
            "top_value: 5\n",
            "Low-N, LazDEF-task, Vanilla-ESM-Embeddings <class 'sklearn.ensemble._forest.RandomForestClassifier'>\n"
          ]
        },
        {
          "output_type": "stream",
          "name": "stderr",
          "text": [
            "100%|██████████| 4/4 [00:11<00:00,  2.84s/it]\n"
          ]
        },
        {
          "output_type": "stream",
          "name": "stdout",
          "text": [
            "Accuracy: 0.7605999999999999, +/- 0.003414674215792751\n",
            "F1: 0.7623492144814887, +/- 0.003648583474478859\n",
            "Precision: 0.7580452917142514, +/- 0.002721757106588655\n",
            "Recall: 0.7687999999999999, +/- 0.004923413450036472\n",
            "Auroc: 0.7605999999999999, +/- 0.003414674215792768\n",
            "top_value: 100\n",
            "Low-N, LazDEF-task, Peptide-ESM-Embeddings <class 'sklearn.ensemble._forest.RandomForestClassifier'>\n"
          ]
        },
        {
          "output_type": "stream",
          "name": "stderr",
          "text": [
            "100%|██████████| 4/4 [00:11<00:00,  2.81s/it]\n"
          ]
        },
        {
          "output_type": "stream",
          "name": "stdout",
          "text": [
            "Accuracy: 0.7614000000000001, +/- 0.0049658836071740575\n",
            "F1: 0.7582665424169549, +/- 0.0061122944765716145\n",
            "Precision: 0.7700475398499854, +/- 0.003916868101400566\n",
            "Recall: 0.7487999999999999, +/- 0.009645724441430003\n",
            "Auroc: 0.7614000000000001, +/- 0.004965883607174039\n",
            "top_value: 100\n",
            "Low-N, LazDEF-task, LazBF-ESM-Embeddings <class 'sklearn.ensemble._forest.RandomForestClassifier'>\n"
          ]
        },
        {
          "output_type": "stream",
          "name": "stderr",
          "text": [
            "100%|██████████| 4/4 [00:11<00:00,  2.85s/it]\n"
          ]
        },
        {
          "output_type": "stream",
          "name": "stdout",
          "text": [
            "Accuracy: 0.7912, +/- 0.003929376540877685\n",
            "F1: 0.7935295426227137, +/- 0.003199364807419359\n",
            "Precision: 0.7848559876602651, +/- 0.005488388956921185\n",
            "Recall: 0.8036000000000001, +/- 0.0021354156504062465\n",
            "Auroc: 0.7912000000000001, +/- 0.0039293765408776994\n",
            "top_value: 100\n",
            "Low-N, LazDEF-task, LazDEF-ESM-Embeddings <class 'sklearn.ensemble._forest.RandomForestClassifier'>\n"
          ]
        },
        {
          "output_type": "stream",
          "name": "stderr",
          "text": [
            "100%|██████████| 4/4 [00:10<00:00,  2.67s/it]\n"
          ]
        },
        {
          "output_type": "stream",
          "name": "stdout",
          "text": [
            "Accuracy: 0.9650000000000001, +/- 0.0008944271909998918\n",
            "F1: 0.9649320996398162, +/- 0.000989592815723742\n",
            "Precision: 0.9647676894758627, +/- 0.001578775215620227\n",
            "Recall: 0.9655999999999999, +/- 0.0026381811916545354\n",
            "Auroc: 0.9650000000000001, +/- 0.0008944271909999104\n",
            "top_value: 25\n",
            "Low-N, LazDEF-task, LazBCDEF-ESM-Embeddings <class 'sklearn.ensemble._forest.RandomForestClassifier'>\n"
          ]
        },
        {
          "output_type": "stream",
          "name": "stderr",
          "text": [
            "100%|██████████| 4/4 [00:10<00:00,  2.60s/it]\n"
          ]
        },
        {
          "output_type": "stream",
          "name": "stdout",
          "text": [
            "Accuracy: 0.7592000000000001, +/- 0.0024166091947188935\n",
            "F1: 0.7553310668566944, +/- 0.002898040385384188\n",
            "Precision: 0.7687997074739704, +/- 0.00196267070599759\n",
            "Recall: 0.744, +/- 0.004427188724235735\n",
            "Auroc: 0.7592000000000001, +/- 0.0024166091947189047\n",
            "top_value: 100\n",
            "Low-N, LazDEF-task, Vanilla-ESM-Embeddings <class 'sklearn.ensemble._weight_boosting.AdaBoostClassifier'>\n"
          ]
        },
        {
          "output_type": "stream",
          "name": "stderr",
          "text": [
            "100%|██████████| 4/4 [00:13<00:00,  3.27s/it]\n"
          ]
        },
        {
          "output_type": "stream",
          "name": "stdout",
          "text": [
            "Accuracy: 0.7454, +/- 0.0032031234756093804\n",
            "F1: 0.7463406344249218, +/- 0.0030036826885463485\n",
            "Precision: 0.7451979624450059, +/- 0.003156757689097665\n",
            "Recall: 0.75, +/- 0.00456070170039655\n",
            "Auroc: 0.7453999999999998, +/- 0.003203123475609374\n",
            "top_value: 100\n",
            "Low-N, LazDEF-task, Peptide-ESM-Embeddings <class 'sklearn.ensemble._weight_boosting.AdaBoostClassifier'>\n"
          ]
        },
        {
          "output_type": "stream",
          "name": "stderr",
          "text": [
            "100%|██████████| 4/4 [00:12<00:00,  3.10s/it]\n"
          ]
        },
        {
          "output_type": "stream",
          "name": "stdout",
          "text": [
            "Accuracy: 0.7576, +/- 0.006087692502089765\n",
            "F1: 0.7586251135790729, +/- 0.005449319428976082\n",
            "Precision: 0.7562676986525924, +/- 0.0072357843106312094\n",
            "Recall: 0.7619999999999999, +/- 0.004147288270665548\n",
            "Auroc: 0.7576, +/- 0.006087692502089765\n",
            "top_value: 100\n",
            "Low-N, LazDEF-task, LazBF-ESM-Embeddings <class 'sklearn.ensemble._weight_boosting.AdaBoostClassifier'>\n"
          ]
        },
        {
          "output_type": "stream",
          "name": "stderr",
          "text": [
            "100%|██████████| 4/4 [00:13<00:00,  3.32s/it]\n"
          ]
        },
        {
          "output_type": "stream",
          "name": "stdout",
          "text": [
            "Accuracy: 0.7737999999999999, +/- 0.004152107898405342\n",
            "F1: 0.7727128547024504, +/- 0.0037000909952055244\n",
            "Precision: 0.7770270694365721, +/- 0.005934974381376685\n",
            "Recall: 0.7712000000000001, +/- 0.0044988887516808004\n",
            "Auroc: 0.7737999999999999, +/- 0.004152107898405339\n",
            "top_value: 100\n",
            "Low-N, LazDEF-task, LazDEF-ESM-Embeddings <class 'sklearn.ensemble._weight_boosting.AdaBoostClassifier'>\n"
          ]
        },
        {
          "output_type": "stream",
          "name": "stderr",
          "text": [
            "100%|██████████| 4/4 [00:13<00:00,  3.33s/it]\n"
          ]
        },
        {
          "output_type": "stream",
          "name": "stdout",
          "text": [
            "Accuracy: 0.9596, +/- 0.002111871208194265\n",
            "F1: 0.9592591550122478, +/- 0.0022053955178830097\n",
            "Precision: 0.9649527254867891, +/- 0.002106340767845896\n",
            "Recall: 0.954, +/- 0.003999999999999967\n",
            "Auroc: 0.9596, +/- 0.002111871208194265\n",
            "top_value: 5\n",
            "Low-N, LazDEF-task, LazBCDEF-ESM-Embeddings <class 'sklearn.ensemble._weight_boosting.AdaBoostClassifier'>\n"
          ]
        },
        {
          "output_type": "stream",
          "name": "stderr",
          "text": [
            "100%|██████████| 4/4 [00:13<00:00,  3.32s/it]\n"
          ]
        },
        {
          "output_type": "stream",
          "name": "stdout",
          "text": [
            "Accuracy: 0.7572, +/- 0.003484250278036872\n",
            "F1: 0.75628856582398, +/- 0.003196102804169619\n",
            "Precision: 0.761178935389853, +/- 0.00436960714679284\n",
            "Recall: 0.7532, +/- 0.0024166091947188965\n",
            "Auroc: 0.7572, +/- 0.0034842502780368712\n",
            "top_value: 100\n",
            "Low-N, LazDEF-task, Vanilla-ESM-Embeddings <class 'sklearn.svm._classes.SVC'>\n"
          ]
        },
        {
          "output_type": "stream",
          "name": "stderr",
          "text": [
            "100%|██████████| 4/4 [00:06<00:00,  1.70s/it]\n"
          ]
        },
        {
          "output_type": "stream",
          "name": "stdout",
          "text": [
            "Accuracy: 0.7895999999999999, +/- 0.00305941170815566\n",
            "F1: 0.7914552912437471, +/- 0.0028046436666241997\n",
            "Precision: 0.7846362112180623, +/- 0.0038857794667436856\n",
            "Recall: 0.7996000000000001, +/- 0.002638181191654581\n",
            "Auroc: 0.7895999999999999, +/- 0.00305941170815566\n",
            "top_value: 1\n",
            "Low-N, LazDEF-task, Peptide-ESM-Embeddings <class 'sklearn.svm._classes.SVC'>\n"
          ]
        },
        {
          "output_type": "stream",
          "name": "stderr",
          "text": [
            "100%|██████████| 4/4 [00:05<00:00,  1.42s/it]\n"
          ]
        },
        {
          "output_type": "stream",
          "name": "stdout",
          "text": [
            "Accuracy: 0.8068, +/- 0.002653299832284285\n",
            "F1: 0.8080303869124773, +/- 0.002803460887917699\n",
            "Precision: 0.802883228226921, +/- 0.003097969828509205\n",
            "Recall: 0.8144, +/- 0.0035999999999999795\n",
            "Auroc: 0.8068, +/- 0.002653299832284285\n",
            "top_value: 1\n",
            "Low-N, LazDEF-task, LazBF-ESM-Embeddings <class 'sklearn.svm._classes.SVC'>\n"
          ]
        },
        {
          "output_type": "stream",
          "name": "stderr",
          "text": [
            "100%|██████████| 4/4 [00:05<00:00,  1.38s/it]\n"
          ]
        },
        {
          "output_type": "stream",
          "name": "stdout",
          "text": [
            "Accuracy: 0.837, +/- 0.001549193338482925\n",
            "F1: 0.8395407757153389, +/- 0.0015012856336884966\n",
            "Precision: 0.8273510971289154, +/- 0.001950205938655182\n",
            "Recall: 0.8535999999999999, +/- 0.0019390719429665398\n",
            "Auroc: 0.8370000000000001, +/- 0.0015491933384829321\n",
            "top_value: 1\n",
            "Low-N, LazDEF-task, LazDEF-ESM-Embeddings <class 'sklearn.svm._classes.SVC'>\n"
          ]
        },
        {
          "output_type": "stream",
          "name": "stderr",
          "text": [
            "100%|██████████| 4/4 [00:05<00:00,  1.33s/it]\n"
          ]
        },
        {
          "output_type": "stream",
          "name": "stdout",
          "text": [
            "Accuracy: 0.9654, +/- 0.0014352700094407429\n",
            "F1: 0.965214070543787, +/- 0.0014862670075661696\n",
            "Precision: 0.9699902316616951, +/- 0.0009231498887758393\n",
            "Recall: 0.9607999999999999, +/- 0.002154065922853812\n",
            "Auroc: 0.9654, +/- 0.0014352700094407429\n",
            "top_value: 1\n",
            "Low-N, LazDEF-task, LazBCDEF-ESM-Embeddings <class 'sklearn.svm._classes.SVC'>\n"
          ]
        },
        {
          "output_type": "stream",
          "name": "stderr",
          "text": [
            "100%|██████████| 4/4 [00:05<00:00,  1.38s/it]\n"
          ]
        },
        {
          "output_type": "stream",
          "name": "stdout",
          "text": [
            "Accuracy: 0.8018000000000001, +/- 0.002477902338672788\n",
            "F1: 0.7956800961554462, +/- 0.0029962053228522914\n",
            "Precision: 0.8200056452112344, +/- 0.003942301259038273\n",
            "Recall: 0.776, +/- 0.005513619500836093\n",
            "Auroc: 0.8017999999999998, +/- 0.002477902338672765\n",
            "top_value: 0.01\n",
            "Low-N, LazDEF-task, Vanilla-ESM-Embeddings <class 'sklearn.neural_network._multilayer_perceptron.MLPClassifier'>\n"
          ]
        },
        {
          "output_type": "stream",
          "name": "stderr",
          "text": [
            "100%|██████████| 4/4 [00:41<00:00, 10.39s/it]\n"
          ]
        },
        {
          "output_type": "stream",
          "name": "stdout",
          "text": [
            "Accuracy: 0.7874000000000001, +/- 0.0031717503054307056\n",
            "F1: 0.7892442819136771, +/- 0.003553551231795305\n",
            "Precision: 0.7830848970998588, +/- 0.002765029439127988\n",
            "Recall: 0.7968, +/- 0.005276362383309153\n",
            "Auroc: 0.7874, +/- 0.003171750305430732\n",
            "top_value: 200\n",
            "Low-N, LazDEF-task, Peptide-ESM-Embeddings <class 'sklearn.neural_network._multilayer_perceptron.MLPClassifier'>\n"
          ]
        },
        {
          "output_type": "stream",
          "name": "stderr",
          "text": [
            "100%|██████████| 4/4 [00:40<00:00, 10.12s/it]\n"
          ]
        },
        {
          "output_type": "stream",
          "name": "stdout",
          "text": [
            "Accuracy: 0.7948000000000001, +/- 0.0027820855486486986\n",
            "F1: 0.7957524114200083, +/- 0.003082110978820135\n",
            "Precision: 0.7920288093327843, +/- 0.002361831926007821\n",
            "Recall: 0.8012, +/- 0.003720215047547632\n",
            "Auroc: 0.7948000000000002, +/- 0.002782085548648741\n",
            "top_value: 500\n",
            "Low-N, LazDEF-task, LazBF-ESM-Embeddings <class 'sklearn.neural_network._multilayer_perceptron.MLPClassifier'>\n"
          ]
        },
        {
          "output_type": "stream",
          "name": "stderr",
          "text": [
            "100%|██████████| 4/4 [00:42<00:00, 10.52s/it]\n"
          ]
        },
        {
          "output_type": "stream",
          "name": "stdout",
          "text": [
            "Accuracy: 0.8277999999999999, +/- 0.0019849433241279375\n",
            "F1: 0.8289993268428468, +/- 0.0024721232847361636\n",
            "Precision: 0.8244714908502144, +/- 0.0016947976999039998\n",
            "Recall: 0.8348000000000001, +/- 0.005161395160225574\n",
            "Auroc: 0.8278000000000001, +/- 0.001984943324127919\n",
            "top_value: 500\n",
            "Low-N, LazDEF-task, LazDEF-ESM-Embeddings <class 'sklearn.neural_network._multilayer_perceptron.MLPClassifier'>\n"
          ]
        },
        {
          "output_type": "stream",
          "name": "stderr",
          "text": [
            "100%|██████████| 4/4 [00:31<00:00,  7.87s/it]\n"
          ]
        },
        {
          "output_type": "stream",
          "name": "stdout",
          "text": [
            "Accuracy: 0.9654, +/- 0.0016000000000000061\n",
            "F1: 0.9650510193511854, +/- 0.0015572874820099422\n",
            "Precision: 0.9749216610979866, +/- 0.0029671733606685116\n",
            "Recall: 0.9555999999999999, +/- 0.0009797958971132607\n",
            "Auroc: 0.9654, +/- 0.0016000000000000187\n",
            "top_value: 100\n",
            "Low-N, LazDEF-task, LazBCDEF-ESM-Embeddings <class 'sklearn.neural_network._multilayer_perceptron.MLPClassifier'>\n"
          ]
        },
        {
          "output_type": "stream",
          "name": "stderr",
          "text": [
            "100%|██████████| 4/4 [00:41<00:00, 10.47s/it]\n"
          ]
        },
        {
          "output_type": "stream",
          "name": "stdout",
          "text": [
            "Accuracy: 0.807, +/- 0.0029832867780352546\n",
            "F1: 0.8084860513313525, +/- 0.002840785496555139\n",
            "Precision: 0.8030939033690256, +/- 0.003654775923320908\n",
            "Recall: 0.8148000000000002, +/- 0.0037202150475476336\n",
            "Auroc: 0.807, +/- 0.0029832867780352546\n",
            "top_value: 200\n",
            "[[0.8026, 0.7605999999999999, 0.7454, 0.7895999999999999, 0.7874000000000001], [0.8106, 0.7614000000000001, 0.7576, 0.8068, 0.7948000000000001], [0.8311999999999999, 0.7912, 0.7737999999999999, 0.837, 0.8277999999999999], [0.9639999999999999, 0.9650000000000001, 0.9596, 0.9654, 0.9654], [0.8234, 0.7592000000000001, 0.7572, 0.8018000000000001, 0.807]]\n",
            "[[0.001503329637837292, 0.003414674215792751, 0.0032031234756093804, 0.00305941170815566, 0.0031717503054307056], [0.003108054053583994, 0.0049658836071740575, 0.006087692502089765, 0.002653299832284285, 0.0027820855486486986], [0.0020346989949375635, 0.003929376540877685, 0.004152107898405342, 0.001549193338482925, 0.0019849433241279375], [0.001788854381999855, 0.0008944271909998918, 0.002111871208194265, 0.0014352700094407429, 0.0016000000000000061], [0.00256124969497318, 0.0024166091947188935, 0.003484250278036872, 0.002477902338672788, 0.0029832867780352546]]\n"
          ]
        }
      ]
    }
  ]
}